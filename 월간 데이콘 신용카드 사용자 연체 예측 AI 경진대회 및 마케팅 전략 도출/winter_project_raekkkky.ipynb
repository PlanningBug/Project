{
 "cells": [
  {
   "cell_type": "markdown",
   "id": "408b1385-78d7-435d-9d6c-689f0c39f4ff",
   "metadata": {},
   "source": [
    "# 신용카드 사용자 연체 예측 AI 경진대회\n",
    "###### https://dacon.io/competitions/official/235713/overview/description"
   ]
  },
  {
   "cell_type": "markdown",
   "id": "1197e1ae-ea89-48a3-95c9-c4caa11f173e",
   "metadata": {},
   "source": [
    "![nn](https://blog.kakaocdn.net/dn/bGTk4O/btq2hCRcXWS/xqJrY5x2FxEJ4lFId0ZFak/img.png)"
   ]
  },
  {
   "cell_type": "markdown",
   "id": "b7f2af21-fed3-4288-aec2-2e065286f38c",
   "metadata": {},
   "source": [
    "# 최종 결과 : public 19등, private 1등\n",
    "###### 결측NaN, 이상치O(이상치 1행삭제 미실시), 구간화X, 파생13, Ordinal, 변수선택[VIF]6, log1p, 표준화, 군집화변수, 불균형X, 차원X, (Catboost + S_K-fold)"
   ]
  },
  {
   "cell_type": "markdown",
   "id": "6fe50c43-7c23-4d35-a5fb-88b8773a3cc0",
   "metadata": {
    "jp-MarkdownHeadingCollapsed": true
   },
   "source": [
    "# <span style=\"color:red\">⭐️라이브러리 및 데이터 가져오기 + 데이터 탐색⭐️</span> "
   ]
  },
  {
   "cell_type": "code",
   "execution_count": 1,
   "id": "e6a35466-eac9-43bd-8ea6-7c673ce77c0d",
   "metadata": {},
   "outputs": [],
   "source": [
    "# 필요한 라이브러리 임포트\n",
    "import pandas as pd\n",
    "import numpy as np\n",
    "pd.set_option('display.max_columns', None) # 모든 열을 출력한다.\n",
    "\n",
    "# 기본 시각화 라이브러리 임포트\n",
    "import matplotlib.pyplot as plt\n",
    "import matplotlib as mpl\n",
    "%matplotlib inline\n",
    "\n",
    "import seaborn as sns \n",
    "from matplotlib import rc\n",
    "\n",
    "# 기본 한글 폰트로 설정\n",
    "rc(\"font\", family=\"AppleGothic\")  # 맥의 경우\n",
    "# rc(\"font\", family=\"Malgun Gothic\")  # 윈도우의 경우\n",
    "\n",
    "# 음수 부호까지 제대로 표시되도록 설정 추가\n",
    "plt.rcParams['axes.unicode_minus'] = False\n",
    "\n",
    "# 경고 메시지 무시\n",
    "import random, warnings\n",
    "warnings.filterwarnings(\"ignore\")\n",
    "\n",
    "# plolty 시각화 라이브러리\n",
    "import plotly.express as px\n",
    "import plotly.io as pio\n",
    "pio.renderers.default = \"iframe\"\n",
    "\n",
    "# 스케일링, 평가지표 .. 등\n",
    "from sklearn.metrics import log_loss\n",
    "from sklearn.preprocessing import StandardScaler\n",
    "from category_encoders.ordinal import OrdinalEncoder\n",
    "from sklearn.model_selection import StratifiedKFold\n",
    "\n",
    "from sklearn.cluster import KMeans\n",
    "from catboost import CatBoostClassifier, Pool"
   ]
  },
  {
   "cell_type": "code",
   "execution_count": 2,
   "id": "8efd76b4-2fed-4c9b-9233-c98c99f41d5f",
   "metadata": {},
   "outputs": [],
   "source": [
    "train_df = pd.read_csv('/Users/raekkkky/Desktop/DNA/winter 24/project7/train.csv')\n",
    "test_df = pd.read_csv('/Users/raekkkky/Desktop/DNA/winter 24/project7/test.csv')\n",
    "sample_submission_df = pd.read_csv('/Users/raekkkky/Desktop/DNA/winter 24/project7/sample_submission.csv')"
   ]
  },
  {
   "cell_type": "code",
   "execution_count": 3,
   "id": "db997705-78de-4e91-b1b5-2d428c5e97db",
   "metadata": {},
   "outputs": [
    {
     "name": "stdout",
     "output_type": "stream",
     "text": [
      "(26457, 20) (10000, 19) (10000, 4)\n"
     ]
    }
   ],
   "source": [
    "print(train_df.shape, test_df.shape, sample_submission_df.shape)"
   ]
  },
  {
   "cell_type": "markdown",
   "id": "32741221-57f7-4fd1-ad41-f0a32cf2afcf",
   "metadata": {
    "jp-MarkdownHeadingCollapsed": true
   },
   "source": [
    "# <span style=\"color:orange\">⭐️EDA - 비시각화⭐️</span> "
   ]
  },
  {
   "cell_type": "code",
   "execution_count": null,
   "id": "25d8c006-8cbd-4fc8-9425-7b290fb92dfa",
   "metadata": {},
   "outputs": [],
   "source": [
    "train_df.info()"
   ]
  },
  {
   "cell_type": "code",
   "execution_count": null,
   "id": "f9cf11a5-f1f6-423c-bf42-1bd722c349c6",
   "metadata": {},
   "outputs": [],
   "source": [
    "test_df.info()"
   ]
  },
  {
   "cell_type": "code",
   "execution_count": null,
   "id": "93d86418-1d14-4ab0-a2e2-a24af485ba7a",
   "metadata": {},
   "outputs": [],
   "source": [
    "train_df.isnull().sum()"
   ]
  },
  {
   "cell_type": "code",
   "execution_count": null,
   "id": "dd7dba46-483e-4ce4-b947-3546136de48e",
   "metadata": {},
   "outputs": [],
   "source": [
    "test_df.isnull().sum()"
   ]
  },
  {
   "cell_type": "code",
   "execution_count": null,
   "id": "7ceda975-e53c-4736-b3cd-eb89c05b3d7f",
   "metadata": {},
   "outputs": [],
   "source": [
    "train_df.head()"
   ]
  },
  {
   "cell_type": "code",
   "execution_count": null,
   "id": "60b276af-054a-43ff-a8a2-1fe1df7ace80",
   "metadata": {},
   "outputs": [],
   "source": [
    "test_df.head()"
   ]
  },
  {
   "cell_type": "code",
   "execution_count": null,
   "id": "4c976d63-d9c0-4db8-beb6-ae5f05cf347a",
   "metadata": {},
   "outputs": [],
   "source": [
    "train_df.describe()"
   ]
  },
  {
   "cell_type": "code",
   "execution_count": null,
   "id": "993a7e01-d18c-4216-96fc-cffa2ec4d276",
   "metadata": {},
   "outputs": [],
   "source": [
    "test_df.describe()"
   ]
  },
  {
   "cell_type": "code",
   "execution_count": null,
   "id": "2ac6c865-ec80-447d-93f0-44d9686f1b24",
   "metadata": {},
   "outputs": [],
   "source": [
    "train_df[\"index\"].value_counts()"
   ]
  },
  {
   "cell_type": "code",
   "execution_count": null,
   "id": "09e21a51-31d0-46a9-a00b-b644a0e4cb64",
   "metadata": {},
   "outputs": [],
   "source": [
    "train_df[\"gender\"].value_counts()"
   ]
  },
  {
   "cell_type": "code",
   "execution_count": null,
   "id": "cbfb94ca-6772-40c6-8464-2382caeb34a2",
   "metadata": {},
   "outputs": [],
   "source": [
    "train_df[\"car\"].value_counts()"
   ]
  },
  {
   "cell_type": "code",
   "execution_count": null,
   "id": "cc2d3e08-3169-41ca-b17c-81c517520287",
   "metadata": {},
   "outputs": [],
   "source": [
    "train_df[\"reality\"].value_counts()"
   ]
  },
  {
   "cell_type": "code",
   "execution_count": null,
   "id": "565f8c2a-9d20-4adb-97b5-dd812472b0a2",
   "metadata": {},
   "outputs": [],
   "source": [
    "train_df[\"child_num\"].value_counts()"
   ]
  },
  {
   "cell_type": "code",
   "execution_count": null,
   "id": "8487615a-9bc6-45e8-abc0-f69beff4a09c",
   "metadata": {},
   "outputs": [],
   "source": [
    "train_df[\"income_total\"].value_counts()"
   ]
  },
  {
   "cell_type": "code",
   "execution_count": null,
   "id": "43e1e4fd-b985-4910-933b-75487672f82e",
   "metadata": {},
   "outputs": [],
   "source": [
    "train_df[\"income_type\"].value_counts()"
   ]
  },
  {
   "cell_type": "code",
   "execution_count": null,
   "id": "d164fe05-b9fa-4920-a45a-9c8d270f2e54",
   "metadata": {},
   "outputs": [],
   "source": [
    "train_df[\"edu_type\"].value_counts()"
   ]
  },
  {
   "cell_type": "code",
   "execution_count": null,
   "id": "3c144d6a-36c5-4f06-9be2-f39cdbd201eb",
   "metadata": {},
   "outputs": [],
   "source": [
    "train_df[\"family_type\"].value_counts()"
   ]
  },
  {
   "cell_type": "code",
   "execution_count": null,
   "id": "cef03af4-2b52-4989-b4d6-52045bdbd990",
   "metadata": {},
   "outputs": [],
   "source": [
    "train_df[\"house_type\"].value_counts()"
   ]
  },
  {
   "cell_type": "code",
   "execution_count": null,
   "id": "fb5da30e-e12e-402d-b74d-5998f21d23f5",
   "metadata": {},
   "outputs": [],
   "source": [
    "train_df[\"DAYS_BIRTH\"].value_counts()"
   ]
  },
  {
   "cell_type": "code",
   "execution_count": null,
   "id": "94076918-f615-4bbb-9e4e-2d6130314a12",
   "metadata": {},
   "outputs": [],
   "source": [
    "train_df[\"DAYS_EMPLOYED\"].value_counts()"
   ]
  },
  {
   "cell_type": "code",
   "execution_count": null,
   "id": "40e01404-c86e-4c22-af27-d53437b289fe",
   "metadata": {},
   "outputs": [],
   "source": [
    "train_df[\"FLAG_MOBIL\"].value_counts()"
   ]
  },
  {
   "cell_type": "code",
   "execution_count": null,
   "id": "d84bb0bb-cfda-4b80-96c4-c94f8b8f23a6",
   "metadata": {},
   "outputs": [],
   "source": [
    "train_df[\"work_phone\"].value_counts()"
   ]
  },
  {
   "cell_type": "code",
   "execution_count": null,
   "id": "55ebd0f8-f1ae-4e44-a2ee-5b7d3db69561",
   "metadata": {},
   "outputs": [],
   "source": [
    "train_df[\"phone\"].value_counts()"
   ]
  },
  {
   "cell_type": "code",
   "execution_count": null,
   "id": "190a71f0-ba01-43fe-84a0-49538b531f51",
   "metadata": {},
   "outputs": [],
   "source": [
    "train_df[\"email\"].value_counts()"
   ]
  },
  {
   "cell_type": "code",
   "execution_count": null,
   "id": "10b5819e-0eaa-46c3-a705-6680fce7e930",
   "metadata": {},
   "outputs": [],
   "source": [
    "train_df[\"occyp_type\"].value_counts()"
   ]
  },
  {
   "cell_type": "code",
   "execution_count": null,
   "id": "93c252d0-b8f2-407f-80a0-86d76a06076f",
   "metadata": {},
   "outputs": [],
   "source": [
    "train_df[\"family_size\"].value_counts()"
   ]
  },
  {
   "cell_type": "code",
   "execution_count": null,
   "id": "aab481d7-63ae-4d59-9d7c-a6bed4ba3ed8",
   "metadata": {},
   "outputs": [],
   "source": [
    "train_df[\"begin_month\"].value_counts()"
   ]
  },
  {
   "cell_type": "code",
   "execution_count": null,
   "id": "1144495a-dcd5-437d-9a82-59340724bc38",
   "metadata": {},
   "outputs": [],
   "source": [
    "train_df[\"credit\"].value_counts()"
   ]
  },
  {
   "cell_type": "code",
   "execution_count": null,
   "id": "90a54650-f4c1-41eb-9a28-07e6b8a21043",
   "metadata": {},
   "outputs": [],
   "source": [
    "p_train_df = train_df[train_df[\"DAYS_BIRTH\"] > 0]\n",
    "p_train_df[\"DAYS_BIRTH\"].value_counts()"
   ]
  },
  {
   "cell_type": "code",
   "execution_count": null,
   "id": "5c2a0636-a2f0-4716-8191-9c8e5cff1252",
   "metadata": {},
   "outputs": [],
   "source": [
    "p_train_df = train_df[train_df[\"DAYS_EMPLOYED\"] > 0]\n",
    "p_train_df[\"DAYS_EMPLOYED\"].value_counts()"
   ]
  },
  {
   "cell_type": "code",
   "execution_count": null,
   "id": "38e66443-8c98-444d-9b14-73d8463194f2",
   "metadata": {},
   "outputs": [],
   "source": [
    "p_train_df = train_df[train_df[\"begin_month\"] > 0]\n",
    "p_train_df[\"begin_month\"].value_counts()"
   ]
  },
  {
   "cell_type": "markdown",
   "id": "569c9bb6-7de0-4f45-b722-f7117ea112cb",
   "metadata": {
    "jp-MarkdownHeadingCollapsed": true
   },
   "source": [
    "# <span style=\"color:orange\">⭐️EDA - 시각화⭐️</span> "
   ]
  },
  {
   "cell_type": "markdown",
   "id": "5bbfc2d9-da84-41a9-b9d5-3fc4720e8c31",
   "metadata": {},
   "source": [
    "##### 다음 시각화부터는 \"plotly\"를 활용해서 시각화하기!!"
   ]
  },
  {
   "cell_type": "code",
   "execution_count": null,
   "id": "30911517-b9f8-4888-8331-478dbe0a4f58",
   "metadata": {},
   "outputs": [],
   "source": [
    "# 새로운 시각화 기법 사용해봄! 그냥 결측값 있는지 없는지만 파악 할 수 있을 듯\n",
    "# import missingno as msno\n",
    "# msno.bar(df=train_df.iloc[:, :], color=(0.1, 0.6, 0.8))"
   ]
  },
  {
   "cell_type": "code",
   "execution_count": null,
   "id": "38b000c5-7f98-40a8-a7ae-1a9e548ad8f4",
   "metadata": {},
   "outputs": [],
   "source": [
    "# 파스텔로 이쁘게 시각화\n",
    "df2 = pd.DataFrame(train_df.gender.value_counts().sort_index(ascending=True))\n",
    "\n",
    "# 시각화\n",
    "plt.style.use(\"seaborn-pastel\")\n",
    "df2.plot(kind=\"pie\", figsize=(5,5), autopct=\"%.2f%%\", startangle = 90, subplots=True)\n",
    "plt.title(\"성 비율\", size=20)\n",
    "plt.show()"
   ]
  },
  {
   "cell_type": "code",
   "execution_count": null,
   "id": "8ad6aeab-7202-499e-a4c3-363c9046f7c8",
   "metadata": {},
   "outputs": [],
   "source": [
    "# plt.pie(train_df['credit'].value_counts(), labels = train_df['credit'].value_counts().index, \n",
    "#         autopct=\"%.2f%%\", shadow = True, startangle = 90)\n",
    "\n",
    "# 파스텔로 이쁘게 시각화\n",
    "df2 = pd.DataFrame(train_df.credit.value_counts().sort_index(ascending=True))\n",
    "\n",
    "# 시각화\n",
    "plt.style.use(\"seaborn-pastel\")\n",
    "df2.plot(kind=\"pie\", figsize=(5,5), autopct=\"%.2f%%\", startangle = 90, subplots=True)\n",
    "plt.title(\"신용 등급 분포(비율)\", size=20)\n",
    "plt.show()"
   ]
  },
  {
   "cell_type": "code",
   "execution_count": null,
   "id": "b4dad1b0-74dc-4e55-aee0-ebdadd9c0147",
   "metadata": {},
   "outputs": [],
   "source": [
    "# 신용 등급별 범주형 독립변수의 차이 시각화 함수 만들기! - 래경 제작\n",
    "\n",
    "def c_credit_plot(column) :\n",
    "    \n",
    "    plt.figure(figsize=(26, 4))\n",
    "\n",
    "    plt.subplot(1,4,1)\n",
    "    sns.countplot(x=column, data=train_df, order=train_df[column].value_counts().index)\n",
    "    plt.title(\"총합\")\n",
    "\n",
    "    plt.subplot(1,4,2)\n",
    "    sns.countplot(x=column, data=train_df[train_df[\"credit\"] == 0], order=train_df[column].value_counts().index)\n",
    "    plt.title(\"credit 0\")\n",
    "\n",
    "    plt.subplot(1,4,3)\n",
    "    sns.countplot(x=column, data=train_df[train_df[\"credit\"] == 1], order=train_df[column].value_counts().index)\n",
    "    plt.title(\"credit 1\")\n",
    "\n",
    "    plt.subplot(1,4,4)\n",
    "    sns.countplot(x=column, data=train_df[train_df[\"credit\"] == 2], order=train_df[column].value_counts().index)\n",
    "    plt.title(\"credit 2\")\n",
    "\n",
    "    plt.show()"
   ]
  },
  {
   "cell_type": "code",
   "execution_count": null,
   "id": "1e527361-a6b7-413f-8de4-32753e583ad4",
   "metadata": {},
   "outputs": [],
   "source": [
    "# 신용 등급별 연속형 독립변수의 차이 시각화 함수 만들기! - 래경 제작\n",
    "\n",
    "def i_credit_plot(column):\n",
    "    plt.figure(figsize=(26, 4))\n",
    "\n",
    "    plt.subplot(1, 4, 1)\n",
    "    sns.boxplot(data=train_df, y=column, width=0.3, color=\"tab:red\")\n",
    "    plt.title(\"총합\")\n",
    "\n",
    "    plt.subplot(1, 4, 2)\n",
    "    sns.boxplot(data=train_df[train_df[\"credit\"] == 0], y=column, width=0.3, color=\"tab:orange\")\n",
    "    plt.title(\"credit 0\")\n",
    "\n",
    "    plt.subplot(1, 4, 3)\n",
    "    sns.boxplot(data=train_df[train_df[\"credit\"] == 1], y=column, width=0.3, color=\"tab:purple\")\n",
    "    plt.title(\"credit 1\")\n",
    "\n",
    "    plt.subplot(1, 4, 4)\n",
    "    sns.boxplot(data=train_df[train_df[\"credit\"] == 2], y=column, width=0.3, color=\"tab:green\")\n",
    "    plt.title(\"credit 2\")\n",
    "\n",
    "    plt.show()"
   ]
  },
  {
   "cell_type": "code",
   "execution_count": null,
   "id": "2f0b5ca5-c5f9-4938-ae28-d013800aba77",
   "metadata": {},
   "outputs": [],
   "source": [
    "# 범주형\n",
    "train_df_c = \"gender\", \"car\", \"reality\", \"income_type\", \"edu_type\", \"family_type\", \"house_type\", \"occyp_type\", \"FLAG_MOBIL\", \"work_phone\", \"phone\", \"email\", \"credit\"\n",
    "# 수치형\n",
    "train_df_i = \"income_total\", \"child_num\", \"family_size\", \"DAYS_BIRTH\", \"DAYS_EMPLOYED\", \"begin_month\", \"index\"\n",
    "\n",
    "# index와 credit(종속)는 제외함.\n",
    "for column_c in train_df_c:\n",
    "    if column_c != 'credit':\n",
    "        c_credit_plot(column_c)\n",
    "        plt.show()\n",
    "\n",
    "for column_i in train_df_i:\n",
    "    if column_i != 'index':\n",
    "        i_credit_plot(column_i)\n",
    "        plt.show()"
   ]
  },
  {
   "cell_type": "code",
   "execution_count": null,
   "id": "cc22dd44-86b8-43cb-8b02-493b428fe618",
   "metadata": {},
   "outputs": [],
   "source": [
    "# 직업 유형에 결측값이 있어서 이것만 시각화 해봐야 할 듯\n",
    "\n",
    "# 우선 결측값은 \"나도몰루?\"으로 처리부터 하자\n",
    "train_df = train_df.fillna({\"occyp_type\":\"나도몰루?\"})\n",
    "\n",
    "# 시각화 시작\n",
    "plt.figure(figsize=(26, 6))\n",
    "\n",
    "plt.subplot(1,3,1)\n",
    "sns.countplot(y=\"occyp_type\", data=train_df[train_df[\"credit\"] == 0], order=train_df[\"occyp_type\"].value_counts().index)\n",
    "plt.title(\"credit 0\")\n",
    "\n",
    "plt.subplot(1,3,2)\n",
    "sns.countplot(y=\"occyp_type\", data=train_df[train_df[\"credit\"] == 1], order=train_df[\"occyp_type\"].value_counts().index)\n",
    "plt.title(\"credit 1\")\n",
    "\n",
    "plt.subplot(1,3,3)\n",
    "sns.countplot(y=\"occyp_type\", data=train_df[train_df[\"credit\"] == 2], order=train_df[\"occyp_type\"].value_counts().index)\n",
    "plt.title(\"credit 2\")"
   ]
  },
  {
   "cell_type": "code",
   "execution_count": null,
   "id": "e7d066a3-91df-4290-99d3-21ff31e401e4",
   "metadata": {},
   "outputs": [],
   "source": [
    "# 날짜 변수 시각화\n",
    "plt.figure(figsize=(26, 6))\n",
    "\n",
    "plt.subplot(1,3,1)\n",
    "sns.violinplot(train_df['DAYS_BIRTH'])\n",
    "plt.title(\"DAYS_BIRTH\")\n",
    "plt.subplot(1,3,2)\n",
    "sns.violinplot(train_df['DAYS_EMPLOYED'])\n",
    "plt.title(\"DAYS_EMPLOYED\")\n",
    "plt.subplot(1,3,3)\n",
    "sns.violinplot(train_df['begin_month'])\n",
    "plt.title(\"begin_month\")"
   ]
  },
  {
   "cell_type": "code",
   "execution_count": null,
   "id": "27fc7a62-e700-4de9-807c-aa1b3cf1a82a",
   "metadata": {},
   "outputs": [],
   "source": [
    "# 그래프의 크기를 조절할 수 있습니다.\n",
    "plt.figure(figsize=(15, 5))\n",
    "\n",
    "# 첫 번째 서브플랏\n",
    "plt.subplot(1, 3, 1)\n",
    "sns.scatterplot(data=train_df, x='DAYS_BIRTH', y='income_total')\n",
    "plt.title('DAYS_BIRTH')\n",
    "\n",
    "# 두 번째 서브플랏\n",
    "plt.subplot(1, 3, 2)\n",
    "sns.scatterplot(data=train_df, x='DAYS_EMPLOYED', y='income_total')\n",
    "plt.title('DAYS_EMPLOYED')\n",
    "\n",
    "# 세 번째 서브플랏\n",
    "plt.subplot(1, 3, 3)\n",
    "sns.scatterplot(data=train_df, x='begin_month', y='income_total')\n",
    "plt.title('begin_month')\n",
    "\n",
    "# 서브플랏 간의 간격을 조절할 수 있습니다.\n",
    "plt.tight_layout()\n",
    "\n",
    "# 그래프를 표시합니다.\n",
    "plt.show()\n"
   ]
  },
  {
   "cell_type": "code",
   "execution_count": null,
   "id": "fe02d8ef-7833-4c72-b812-57dffa1f5d5e",
   "metadata": {},
   "outputs": [],
   "source": [
    "# 'DAYS_EMPLOYED'가 양수인 경우를 0으로 바꾸는 전처리\n",
    "train_df['DAYS_EMPLOYED_new'] = train_df['DAYS_EMPLOYED'].apply(lambda x: 0 if x > 0 else x)\n",
    "\n",
    "plt.figure(figsize=(8, 6))\n",
    "sns.scatterplot(data=train_df, x='DAYS_EMPLOYED_new', y='income_total')\n",
    "plt.title('DAYS_EMPLOYED')\n",
    "plt.show()\n",
    "\n",
    "# 다시 삭제\n",
    "train_df.drop(['DAYS_EMPLOYED_new'], axis=1, inplace=True)"
   ]
  },
  {
   "cell_type": "markdown",
   "id": "6a2770ad-9ef6-407e-ba9a-4ed21cd661aa",
   "metadata": {
    "jp-MarkdownHeadingCollapsed": true
   },
   "source": [
    "# <span style=\"color:yellow\">⭐️Preprocessing⭐️</span> "
   ]
  },
  {
   "cell_type": "code",
   "execution_count": 4,
   "id": "63f86dd1-b90d-4399-9052-85c5349ba261",
   "metadata": {},
   "outputs": [],
   "source": [
    "# 의미없는 변수 제거 [index, FLAG_MOBIL]\n",
    "train_df.drop(['index', 'FLAG_MOBIL'], axis=1, inplace=True)\n",
    "test_df.drop(['index', 'FLAG_MOBIL'], axis=1, inplace=True)"
   ]
  },
  {
   "cell_type": "code",
   "execution_count": 5,
   "id": "bbdbf007-cba1-458f-8b04-6f997ac6d2e0",
   "metadata": {
    "scrolled": true
   },
   "outputs": [
    {
     "name": "stdout",
     "output_type": "stream",
     "text": [
      "0\n",
      "0\n"
     ]
    }
   ],
   "source": [
    "# 결측치 처리 [1번째 방법]\n",
    "train_df.fillna('NaN', inplace=True)\n",
    "test_df.fillna('NaN', inplace=True)\n",
    "\n",
    "###########################################################################################\n",
    "\n",
    "# 결측치 처리 [2번째 방법 - 래경]\n",
    "# \"occyp_type\" 열의 값에 대한 비율 계산\n",
    "\n",
    "# train_ratios = train_df[\"occyp_type\"].value_counts(normalize=True)\n",
    "# test_ratios = test_df[\"occyp_type\"].value_counts(normalize=True)\n",
    "\n",
    "# def fill_missing_occyp_type(df, occyp_type_ratios):\n",
    "    \n",
    "#     # 결측값을 채우는 함수\n",
    "#     def fill_missing_occyp_type_row(row):\n",
    "#         if pd.isnull(row['occyp_type']):\n",
    "#             return occyp_type_ratios.sample(1, weights=occyp_type_ratios).index[0]\n",
    "#         else:\n",
    "#             return row['occyp_type']\n",
    "\n",
    "#     # 'occyp_type' 열에 적용\n",
    "#     df['occyp_type'] = df.apply(fill_missing_occyp_type_row, axis=1)\n",
    "    \n",
    "#     return df\n",
    "\n",
    "# # train_df에 적용\n",
    "# train_df = fill_missing_occyp_type(train_df, train_ratios)\n",
    "# # test_df에 적용\n",
    "# test_df = fill_missing_occyp_type(test_df, test_ratios)\n",
    "\n",
    "###########################################################################################\n",
    "\n",
    "# 결측치 처리 [3번째 방법 - 연우]\n",
    "# \"occyp_type\"에 \"No job\"이라는 속성(피처) 생성한 후 일을 하지 않는 연금 수급자의 경우 No job에 넣음\n",
    "# 그리고 남은 값들을 최근접 이웃법(KNN)을 통해 집어 넣음.\n",
    "\n",
    "# from fancyimpute import KNN\n",
    "# from sklearn.preprocessing import OrdinalEncoder\n",
    "\n",
    "# # 'income_type'이 'Pensioner'이고 'DAYS_EMPLOYED'가 0 이상인 행에 대해 'occyp_type'을 \"No job\"으로 설정\n",
    "# train_df.loc[(train_df['income_type']=='Pensioner')&(train_df['DAYS_EMPLOYED']>=0), 'occyp_type'] = \"No job\"\n",
    "# test_df.loc[(test_df['income_type']=='Pensioner')&(test_df['DAYS_EMPLOYED']>=0), 'occyp_type'] = \"No job\"\n",
    "\n",
    "# # OrdinalEncoder 및 KNN imputer를 초기화\n",
    "# encoder = OrdinalEncoder()\n",
    "# imputer = KNN()\n",
    "\n",
    "# # 인코딩할 범주형 열을 지정 [결측값을 가장 잘 설명할 수 있는 범주형 변수라고 생각]\n",
    "# cat_cols = ['occyp_type','edu_type', 'income_type']\n",
    "\n",
    "# # 범주형 데이터를 인코딩하는 함수를 정의\n",
    "# def encode(data):\n",
    "#     # 누락된 값을 제외하고 유지\n",
    "#     nonulls = np.array(data.dropna())\n",
    "#     # 인코딩을 위해 데이터를 다시 구성\n",
    "#     impute_reshape = nonulls.reshape(-1,1)\n",
    "#     # OrdinalEncoder를 사용하여 데이터를 인코딩\n",
    "#     impute_ordinal = encoder.fit_transform(impute_reshape)\n",
    "#     # 원본 데이터에서 누락된 값에 다시 인코딩된 값을 할당\n",
    "#     data.loc[data.notnull()] = np.squeeze(impute_ordinal)\n",
    "\n",
    "#     return data\n",
    "\n",
    "# # 훈련 및 테스트 데이터의 범주형 열에 인코딩을 적용\n",
    "# for columns in cat_cols:\n",
    "#     train_df[columns] = encode(train_df[columns])\n",
    "#     test_df[columns] = encode(test_df[columns])\n",
    "\n",
    "# # 훈련 및 테스트 데이터의 선택된 열에 대해 누락된 값을 채우기 위해 KNN imputation을 적용\n",
    "# impute_train = train_df[['edu_type','income_type','income_total','occyp_type']]\n",
    "# impute_test = test_df[['edu_type','income_type','income_total','occyp_type']]\n",
    "\n",
    "# # KNN imputation을 적용하여 선택된 열의 누락된 값을 채움\n",
    "# encode_train_data = pd.DataFrame(np.round(imputer.fit_transform(impute_train)),columns=['edu_type','income_type','income_total','occyp_type'])\n",
    "# encode_test_data = pd.DataFrame(np.round(imputer.fit_transform(impute_test)),columns=['edu_type','income_type','income_total','occyp_type'])\n",
    "\n",
    "# # 원래 'occyp_type' 열을 대체된 값으로 교체\n",
    "# train_df['occyp_type'] = encode_train_data['occyp_type']\n",
    "# test_df['occyp_type'] = encode_test_data['occyp_type']\n",
    "\n",
    "###########################################################################################\n",
    "\n",
    "# 결측치 처리 [4번째 방법 - 래경]\n",
    "# KNNImputer 이 방법을 사용해도 됨 \n",
    "# 1. fancyimpute 보다는 오류/문제가 적음\n",
    "# 2. 또한 계산 속도도 훨씬 빠름\n",
    "\n",
    "# from sklearn.impute import KNNImputer\n",
    "# from sklearn.preprocessing import OrdinalEncoder\n",
    "\n",
    "# # 'income_type'이 'Pensioner'이고 'DAYS_EMPLOYED'가 0 이상인 행에 대해 'occyp_type'을 \"No job\"으로 설정\n",
    "# train_df.loc[(train_df['income_type']=='Pensioner')&(train_df['DAYS_EMPLOYED']>=0), 'occyp_type'] = \"No job\"\n",
    "# test_df.loc[(test_df['income_type']=='Pensioner')&(test_df['DAYS_EMPLOYED']>=0), 'occyp_type'] = \"No job\"\n",
    "\n",
    "# # OrdinalEncoder 및 KNN imputer를 초기화\n",
    "# encoder = OrdinalEncoder()\n",
    "# imputer = KNNImputer()\n",
    "\n",
    "# # 범주형 열을 인코딩하는 함수 정의\n",
    "# def encode(data):\n",
    "#     nonulls = np.array(data.dropna()).reshape(-1, 1)\n",
    "#     impute_ordinal = encoder.fit_transform(nonulls)\n",
    "#     data.loc[data.notnull()] = np.squeeze(impute_ordinal)\n",
    "#     return data\n",
    "\n",
    "# # 훈련 및 테스트 데이터의 범주형 열에 인코딩 적용\n",
    "# cat_cols = ['occyp_type', 'edu_type', 'income_type']\n",
    "# for column in cat_cols:\n",
    "#     train_df[column] = encode(train_df[column])\n",
    "#     test_df[column] = encode(test_df[column])\n",
    "\n",
    "# # 선택된 열에 대해 KNN imputation 적용하고 정수로 반올림\n",
    "# impute_cols = ['edu_type', 'income_type', 'income_total', 'occyp_type']\n",
    "# train_df[impute_cols] = np.round(imputer.fit_transform(train_df[impute_cols]))\n",
    "# test_df[impute_cols] = np.round(imputer.transform(test_df[impute_cols]))\n",
    "\n",
    "# 'occyp_type' 열에 남아있는 누락된 값의 개수 출력\n",
    "print(train_df['occyp_type'].isnull().sum())\n",
    "print(test_df['occyp_type'].isnull().sum())"
   ]
  },
  {
   "cell_type": "code",
   "execution_count": 6,
   "id": "ed57ddd4-94f6-4edc-a903-ddc9babd7fb1",
   "metadata": {},
   "outputs": [],
   "source": [
    "def process_outliers(df):\n",
    "    # 이상치 처리 [train은 6행 삭제, test는 삭제 없음.]\n",
    "    df = df[(df['family_size'] <= 7)]  # 가족 수가 7 초과인 것들 삭제\n",
    "    df = df[(df['child_num'] <= 5)]  # 자녀 수가 5 초과인 것들 삭제\n",
    "    df = df.reset_index(drop=True)  # 새롭게 초기화 배열\n",
    "\n",
    "    return df\n",
    "\n",
    "# train_df에 적용\n",
    "train_df = process_outliers(train_df)\n",
    "\n",
    "# test_df에 적용\n",
    "test_df = process_outliers(test_df)\n",
    "\n",
    "# 자식 수 > 가족 수인 경우 [train, test 둘 다 1행씩 존재] [근데, Dacon 대회에서 test 데이터는 행을 줄이면 안됨!!]\n",
    "# train_df = train_df.drop(train_df[train_df['child_num'] > train_df['family_size']].index)"
   ]
  },
  {
   "cell_type": "code",
   "execution_count": 7,
   "id": "185d868d-16b9-4f5a-a4a8-e063bad0aaff",
   "metadata": {},
   "outputs": [],
   "source": [
    "def transform_outliers(df):\n",
    "    # 이상치 변환 [양수는 0으로 바꿔 고용되지 않은 상태로 변환]\n",
    "    df['DAYS_EMPLOYED'] = df['DAYS_EMPLOYED'].map(lambda x: 0 if x > 0 else x)\n",
    "\n",
    "    # 변수 변환 [음수값 -> 양수 변환]\n",
    "    # 날짜 변수: DAYS_BIRTH, begin_month, DAYS_EMPLOYED\n",
    "    dates = ['DAYS_BIRTH', 'begin_month', 'DAYS_EMPLOYED']\n",
    "    for date in dates:\n",
    "        df[date] = np.abs(df[date])\n",
    "\n",
    "    return df\n",
    "\n",
    "# train_df에 적용\n",
    "train_df = transform_outliers(train_df)\n",
    "\n",
    "# test_df에 적용\n",
    "test_df = transform_outliers(test_df)"
   ]
  },
  {
   "cell_type": "code",
   "execution_count": 8,
   "id": "4da88ba5-293d-4e73-baf4-7a4048dd9725",
   "metadata": {},
   "outputs": [],
   "source": [
    "# # 구간화 함수 제작\n",
    "# def make_bin(df, variable, n):\n",
    "    \n",
    "#     data = df\n",
    "#     count, bin_dividers = np.histogram(data[variable], bins=n)\n",
    "#     bin_names=[str(i) for i in range(n)]\n",
    "#     data['%s_bin' % variable] = pd.cut(x=data[variable], bins=bin_dividers, labels=bin_names, include_lowest=True)\n",
    "#     data['%s_bin' % variable] = pd.factorize(data['%s_bin' % variable])[0]\n",
    "    \n",
    "#     return data\n",
    "\n",
    "# # DAYS_BIRTH\n",
    "# train_df = make_bin(train_df, 'DAYS_BIRTH', n=10)\n",
    "# test_df = make_bin(test_df, 'DAYS_BIRTH', n=10)\n",
    "\n",
    "# # begin_month\n",
    "# train_df = make_bin(train_df, 'begin_month', n=10)\n",
    "# test_df = make_bin(test_df, 'begin_month', n=10)\n",
    "\n",
    "# # DAYS_EMPLOYED\n",
    "# train_df = make_bin(train_df, 'DAYS_EMPLOYED', n=10)\n",
    "# test_df = make_bin(test_df, 'DAYS_EMPLOYED', n=10)"
   ]
  },
  {
   "cell_type": "code",
   "execution_count": 9,
   "id": "9e0bc773-bb92-4e16-9f9b-5bb1a925c535",
   "metadata": {},
   "outputs": [],
   "source": [
    "# 파생변수 [함수화]\n",
    "\n",
    "for df in [train_df, test_df] :\n",
    "    \n",
    "    # [1] before_EMPLOYED : 고용되기 전까지의 일수 (고용비율)\n",
    "    df['before_EMPLOYED'] = df['DAYS_BIRTH'] - df['DAYS_EMPLOYED']\n",
    "    \n",
    "    # [2] income_total_befofeEMP_ratio : 연간 소득 중 고용되기 전까지의 비율\n",
    "    df['income_total_befofeEMP_ratio'] = df['income_total'] / df['before_EMPLOYED']\n",
    "\n",
    "    # [X] before_EMPLOYED_year : 고용되지 전까지의 년\n",
    "    # df['before_EMPLOYED_year'] = df['before_EMPLOYED'] // 365\n",
    "\n",
    "    # [3] before_EMPLOYED_month : 고용된 몇 월\n",
    "    df['before_EMPLOYED_month'] = np.floor(df['before_EMPLOYED'] / 30) - ((np.floor(df['before_EMPLOYED'] / 30) / 12).astype(int) * 12)\n",
    "\n",
    "    # [4] before_EMPLOYED_week : 고용된 몇째 주\n",
    "    df['before_EMPLOYED_week'] = np.floor(df['before_EMPLOYED'] / 7) - ((np.floor(df['before_EMPLOYED'] / 7) / 4).astype(int) * 4)\n",
    "    \n",
    "    # [5] Age : 나이\n",
    "    df['Age'] = df['DAYS_BIRTH'] // 365\n",
    "    \n",
    "    # [6] DAYS_BIRTH_month : 태어난 월 (출생연도의 n월)\n",
    "    df['DAYS_BIRTH_month'] = np.floor(df['DAYS_BIRTH'] / 30) - ((np.floor(df['DAYS_BIRTH'] / 30) / 12).astype(int) * 12)\n",
    "    \n",
    "    # [7] DAYS_BIRTH_week : 태어난 주 (출생연도의 n주차)\n",
    "    df['DAYS_BIRTH_week'] = np.floor(df['DAYS_BIRTH'] / 7) - ((np.floor(df['DAYS_BIRTH'] / 7) / 4).astype(int) * 4)\n",
    "\n",
    "    # [8] EMPLOYED : 근속연수\n",
    "    df['EMPLOYED'] = df['DAYS_EMPLOYED'] // 365\n",
    "    \n",
    "    # [9] DAYS_EMPLOYED_month : 고용된 달 (고용연도의 n월)\n",
    "    df['DAYS_EMPLOYED_month'] = np.floor(df['DAYS_EMPLOYED'] / 30) - ((np.floor(df['DAYS_EMPLOYED'] / 30) / 12).astype(int) * 12)\n",
    "\n",
    "    # [10] DAYS_EMPLOYED_week : 고용된 주 (고용연도의 n주차)\n",
    "    df['DAYS_EMPLOYED_week'] = np.floor(df['DAYS_EMPLOYED'] / 7) - ((np.floor(df['DAYS_EMPLOYED'] / 7) / 4).astype(int) * 4)\n",
    "\n",
    "    # [11] ability: 소득/(살아온 일수+ 근무일수)\n",
    "    df['ability'] = df['income_total'] / (df['DAYS_BIRTH'] + df['DAYS_EMPLOYED'])\n",
    "    \n",
    "    # [12] income_mean : 소득 / 가족 수 (인당 평균 부양비)\n",
    "    df['income_mean'] = df['income_total'] / df['family_size']\n",
    "\n",
    "    # [X] : raito_EMPLOYED (인생의 일한 비율)\n",
    "    # df['raito_EMPLOYED'] = df['DAYS_EMPLOYED'] / df['DAYS_BIRTH']\n",
    "\n",
    "    # [X] : begin_year (신용카드 발급 년도)\n",
    "    # df['begin_year'] = df['begin_month'] // 12\n",
    "\n",
    "    # [13] ID 생성 {2번째 방법} [train_df['ID'].value_counts()]\n",
    "    df['ID'] = \\\n",
    "    df['child_num'].astype(str) + '_' + df['income_total'].astype(str) + '_' +\\\n",
    "    df['DAYS_BIRTH'].astype(str) + '_' + df['DAYS_EMPLOYED'].astype(str) + '_' +\\\n",
    "    df['work_phone'].astype(str) + '_' + df['phone'].astype(str) + '_' +\\\n",
    "    df['email'].astype(str) + '_' + df['family_size'].astype(str) + '_' +\\\n",
    "    df['gender'].astype(str) + '_' + df['car'].astype(str) + '_' +\\\n",
    "    df['reality'].astype(str) + '_' + df['income_type'].astype(str) + '_' +\\\n",
    "    df['edu_type'].astype(str) + '_' + df['family_type'].astype(str) + '_' +\\\n",
    "    df['house_type'].astype(str) + '_' + df['occyp_type'].astype(str)"
   ]
  },
  {
   "cell_type": "code",
   "execution_count": 10,
   "id": "1b4fec5a-b81b-470e-ae06-87f79babb2f1",
   "metadata": {},
   "outputs": [
    {
     "name": "stdout",
     "output_type": "stream",
     "text": [
      "(26451, 31)\n",
      "(10000, 30)\n"
     ]
    }
   ],
   "source": [
    "print(train_df.shape)\n",
    "print(test_df.shape)"
   ]
  },
  {
   "cell_type": "code",
   "execution_count": 11,
   "id": "a65542ea-2da7-451a-b064-1ee9251d9e77",
   "metadata": {},
   "outputs": [
    {
     "data": {
      "text/html": [
       "<div>\n",
       "<style scoped>\n",
       "    .dataframe tbody tr th:only-of-type {\n",
       "        vertical-align: middle;\n",
       "    }\n",
       "\n",
       "    .dataframe tbody tr th {\n",
       "        vertical-align: top;\n",
       "    }\n",
       "\n",
       "    .dataframe thead th {\n",
       "        text-align: right;\n",
       "    }\n",
       "</style>\n",
       "<table border=\"1\" class=\"dataframe\">\n",
       "  <thead>\n",
       "    <tr style=\"text-align: right;\">\n",
       "      <th></th>\n",
       "      <th>gender</th>\n",
       "      <th>car</th>\n",
       "      <th>reality</th>\n",
       "      <th>child_num</th>\n",
       "      <th>income_total</th>\n",
       "      <th>income_type</th>\n",
       "      <th>edu_type</th>\n",
       "      <th>family_type</th>\n",
       "      <th>house_type</th>\n",
       "      <th>DAYS_BIRTH</th>\n",
       "      <th>DAYS_EMPLOYED</th>\n",
       "      <th>work_phone</th>\n",
       "      <th>phone</th>\n",
       "      <th>email</th>\n",
       "      <th>occyp_type</th>\n",
       "      <th>family_size</th>\n",
       "      <th>begin_month</th>\n",
       "      <th>credit</th>\n",
       "      <th>before_EMPLOYED</th>\n",
       "      <th>income_total_befofeEMP_ratio</th>\n",
       "      <th>before_EMPLOYED_month</th>\n",
       "      <th>before_EMPLOYED_week</th>\n",
       "      <th>Age</th>\n",
       "      <th>DAYS_BIRTH_month</th>\n",
       "      <th>DAYS_BIRTH_week</th>\n",
       "      <th>EMPLOYED</th>\n",
       "      <th>DAYS_EMPLOYED_month</th>\n",
       "      <th>DAYS_EMPLOYED_week</th>\n",
       "      <th>ability</th>\n",
       "      <th>income_mean</th>\n",
       "      <th>ID</th>\n",
       "    </tr>\n",
       "  </thead>\n",
       "  <tbody>\n",
       "    <tr>\n",
       "      <th>0</th>\n",
       "      <td>F</td>\n",
       "      <td>N</td>\n",
       "      <td>N</td>\n",
       "      <td>0</td>\n",
       "      <td>202500.0</td>\n",
       "      <td>Commercial associate</td>\n",
       "      <td>Higher education</td>\n",
       "      <td>Married</td>\n",
       "      <td>Municipal apartment</td>\n",
       "      <td>13899</td>\n",
       "      <td>4709</td>\n",
       "      <td>0</td>\n",
       "      <td>0</td>\n",
       "      <td>0</td>\n",
       "      <td>NaN</td>\n",
       "      <td>2.0</td>\n",
       "      <td>6.0</td>\n",
       "      <td>1.0</td>\n",
       "      <td>9190</td>\n",
       "      <td>22.034820</td>\n",
       "      <td>6.0</td>\n",
       "      <td>0.0</td>\n",
       "      <td>38</td>\n",
       "      <td>7.0</td>\n",
       "      <td>1.0</td>\n",
       "      <td>12</td>\n",
       "      <td>0.0</td>\n",
       "      <td>0.0</td>\n",
       "      <td>10.882416</td>\n",
       "      <td>101250.0</td>\n",
       "      <td>0_202500.0_13899_4709_0_0_0_2.0_F_N_N_Commerci...</td>\n",
       "    </tr>\n",
       "    <tr>\n",
       "      <th>1</th>\n",
       "      <td>F</td>\n",
       "      <td>N</td>\n",
       "      <td>Y</td>\n",
       "      <td>1</td>\n",
       "      <td>247500.0</td>\n",
       "      <td>Commercial associate</td>\n",
       "      <td>Secondary / secondary special</td>\n",
       "      <td>Civil marriage</td>\n",
       "      <td>House / apartment</td>\n",
       "      <td>11380</td>\n",
       "      <td>1540</td>\n",
       "      <td>0</td>\n",
       "      <td>0</td>\n",
       "      <td>1</td>\n",
       "      <td>Laborers</td>\n",
       "      <td>3.0</td>\n",
       "      <td>5.0</td>\n",
       "      <td>1.0</td>\n",
       "      <td>9840</td>\n",
       "      <td>25.152439</td>\n",
       "      <td>4.0</td>\n",
       "      <td>1.0</td>\n",
       "      <td>31</td>\n",
       "      <td>7.0</td>\n",
       "      <td>1.0</td>\n",
       "      <td>4</td>\n",
       "      <td>3.0</td>\n",
       "      <td>0.0</td>\n",
       "      <td>19.156347</td>\n",
       "      <td>82500.0</td>\n",
       "      <td>1_247500.0_11380_1540_0_0_1_3.0_F_N_Y_Commerci...</td>\n",
       "    </tr>\n",
       "    <tr>\n",
       "      <th>2</th>\n",
       "      <td>M</td>\n",
       "      <td>Y</td>\n",
       "      <td>Y</td>\n",
       "      <td>0</td>\n",
       "      <td>450000.0</td>\n",
       "      <td>Working</td>\n",
       "      <td>Higher education</td>\n",
       "      <td>Married</td>\n",
       "      <td>House / apartment</td>\n",
       "      <td>19087</td>\n",
       "      <td>4434</td>\n",
       "      <td>0</td>\n",
       "      <td>1</td>\n",
       "      <td>0</td>\n",
       "      <td>Managers</td>\n",
       "      <td>2.0</td>\n",
       "      <td>22.0</td>\n",
       "      <td>2.0</td>\n",
       "      <td>14653</td>\n",
       "      <td>30.710435</td>\n",
       "      <td>8.0</td>\n",
       "      <td>1.0</td>\n",
       "      <td>52</td>\n",
       "      <td>0.0</td>\n",
       "      <td>2.0</td>\n",
       "      <td>12</td>\n",
       "      <td>3.0</td>\n",
       "      <td>1.0</td>\n",
       "      <td>19.131840</td>\n",
       "      <td>225000.0</td>\n",
       "      <td>0_450000.0_19087_4434_0_1_0_2.0_M_Y_Y_Working_...</td>\n",
       "    </tr>\n",
       "    <tr>\n",
       "      <th>3</th>\n",
       "      <td>F</td>\n",
       "      <td>N</td>\n",
       "      <td>Y</td>\n",
       "      <td>0</td>\n",
       "      <td>202500.0</td>\n",
       "      <td>Commercial associate</td>\n",
       "      <td>Secondary / secondary special</td>\n",
       "      <td>Married</td>\n",
       "      <td>House / apartment</td>\n",
       "      <td>15088</td>\n",
       "      <td>2092</td>\n",
       "      <td>0</td>\n",
       "      <td>1</td>\n",
       "      <td>0</td>\n",
       "      <td>Sales staff</td>\n",
       "      <td>2.0</td>\n",
       "      <td>37.0</td>\n",
       "      <td>0.0</td>\n",
       "      <td>12996</td>\n",
       "      <td>15.581717</td>\n",
       "      <td>1.0</td>\n",
       "      <td>0.0</td>\n",
       "      <td>41</td>\n",
       "      <td>10.0</td>\n",
       "      <td>3.0</td>\n",
       "      <td>5</td>\n",
       "      <td>9.0</td>\n",
       "      <td>2.0</td>\n",
       "      <td>11.786962</td>\n",
       "      <td>101250.0</td>\n",
       "      <td>0_202500.0_15088_2092_0_1_0_2.0_F_N_Y_Commerci...</td>\n",
       "    </tr>\n",
       "    <tr>\n",
       "      <th>4</th>\n",
       "      <td>F</td>\n",
       "      <td>Y</td>\n",
       "      <td>Y</td>\n",
       "      <td>0</td>\n",
       "      <td>157500.0</td>\n",
       "      <td>State servant</td>\n",
       "      <td>Higher education</td>\n",
       "      <td>Married</td>\n",
       "      <td>House / apartment</td>\n",
       "      <td>15037</td>\n",
       "      <td>2105</td>\n",
       "      <td>0</td>\n",
       "      <td>0</td>\n",
       "      <td>0</td>\n",
       "      <td>Managers</td>\n",
       "      <td>2.0</td>\n",
       "      <td>26.0</td>\n",
       "      <td>2.0</td>\n",
       "      <td>12932</td>\n",
       "      <td>12.179091</td>\n",
       "      <td>11.0</td>\n",
       "      <td>3.0</td>\n",
       "      <td>41</td>\n",
       "      <td>9.0</td>\n",
       "      <td>0.0</td>\n",
       "      <td>5</td>\n",
       "      <td>10.0</td>\n",
       "      <td>0.0</td>\n",
       "      <td>9.187959</td>\n",
       "      <td>78750.0</td>\n",
       "      <td>0_157500.0_15037_2105_0_0_0_2.0_F_Y_Y_State se...</td>\n",
       "    </tr>\n",
       "  </tbody>\n",
       "</table>\n",
       "</div>"
      ],
      "text/plain": [
       "  gender car reality  child_num  income_total           income_type  \\\n",
       "0      F   N       N          0      202500.0  Commercial associate   \n",
       "1      F   N       Y          1      247500.0  Commercial associate   \n",
       "2      M   Y       Y          0      450000.0               Working   \n",
       "3      F   N       Y          0      202500.0  Commercial associate   \n",
       "4      F   Y       Y          0      157500.0         State servant   \n",
       "\n",
       "                        edu_type     family_type           house_type  \\\n",
       "0               Higher education         Married  Municipal apartment   \n",
       "1  Secondary / secondary special  Civil marriage    House / apartment   \n",
       "2               Higher education         Married    House / apartment   \n",
       "3  Secondary / secondary special         Married    House / apartment   \n",
       "4               Higher education         Married    House / apartment   \n",
       "\n",
       "   DAYS_BIRTH  DAYS_EMPLOYED  work_phone  phone  email   occyp_type  \\\n",
       "0       13899           4709           0      0      0          NaN   \n",
       "1       11380           1540           0      0      1     Laborers   \n",
       "2       19087           4434           0      1      0     Managers   \n",
       "3       15088           2092           0      1      0  Sales staff   \n",
       "4       15037           2105           0      0      0     Managers   \n",
       "\n",
       "   family_size  begin_month  credit  before_EMPLOYED  \\\n",
       "0          2.0          6.0     1.0             9190   \n",
       "1          3.0          5.0     1.0             9840   \n",
       "2          2.0         22.0     2.0            14653   \n",
       "3          2.0         37.0     0.0            12996   \n",
       "4          2.0         26.0     2.0            12932   \n",
       "\n",
       "   income_total_befofeEMP_ratio  before_EMPLOYED_month  before_EMPLOYED_week  \\\n",
       "0                     22.034820                    6.0                   0.0   \n",
       "1                     25.152439                    4.0                   1.0   \n",
       "2                     30.710435                    8.0                   1.0   \n",
       "3                     15.581717                    1.0                   0.0   \n",
       "4                     12.179091                   11.0                   3.0   \n",
       "\n",
       "   Age  DAYS_BIRTH_month  DAYS_BIRTH_week  EMPLOYED  DAYS_EMPLOYED_month  \\\n",
       "0   38               7.0              1.0        12                  0.0   \n",
       "1   31               7.0              1.0         4                  3.0   \n",
       "2   52               0.0              2.0        12                  3.0   \n",
       "3   41              10.0              3.0         5                  9.0   \n",
       "4   41               9.0              0.0         5                 10.0   \n",
       "\n",
       "   DAYS_EMPLOYED_week    ability  income_mean  \\\n",
       "0                 0.0  10.882416     101250.0   \n",
       "1                 0.0  19.156347      82500.0   \n",
       "2                 1.0  19.131840     225000.0   \n",
       "3                 2.0  11.786962     101250.0   \n",
       "4                 0.0   9.187959      78750.0   \n",
       "\n",
       "                                                  ID  \n",
       "0  0_202500.0_13899_4709_0_0_0_2.0_F_N_N_Commerci...  \n",
       "1  1_247500.0_11380_1540_0_0_1_3.0_F_N_Y_Commerci...  \n",
       "2  0_450000.0_19087_4434_0_1_0_2.0_M_Y_Y_Working_...  \n",
       "3  0_202500.0_15088_2092_0_1_0_2.0_F_N_Y_Commerci...  \n",
       "4  0_157500.0_15037_2105_0_0_0_2.0_F_Y_Y_State se...  "
      ]
     },
     "execution_count": 11,
     "metadata": {},
     "output_type": "execute_result"
    }
   ],
   "source": [
    "train_df.head()"
   ]
  },
  {
   "cell_type": "code",
   "execution_count": 12,
   "id": "1d6b48c4-aafe-477f-8601-0de9d566a105",
   "metadata": {},
   "outputs": [
    {
     "data": {
      "text/html": [
       "<div>\n",
       "<style scoped>\n",
       "    .dataframe tbody tr th:only-of-type {\n",
       "        vertical-align: middle;\n",
       "    }\n",
       "\n",
       "    .dataframe tbody tr th {\n",
       "        vertical-align: top;\n",
       "    }\n",
       "\n",
       "    .dataframe thead th {\n",
       "        text-align: right;\n",
       "    }\n",
       "</style>\n",
       "<table border=\"1\" class=\"dataframe\">\n",
       "  <thead>\n",
       "    <tr style=\"text-align: right;\">\n",
       "      <th></th>\n",
       "      <th>gender</th>\n",
       "      <th>car</th>\n",
       "      <th>reality</th>\n",
       "      <th>child_num</th>\n",
       "      <th>income_total</th>\n",
       "      <th>income_type</th>\n",
       "      <th>edu_type</th>\n",
       "      <th>family_type</th>\n",
       "      <th>house_type</th>\n",
       "      <th>DAYS_BIRTH</th>\n",
       "      <th>DAYS_EMPLOYED</th>\n",
       "      <th>work_phone</th>\n",
       "      <th>phone</th>\n",
       "      <th>email</th>\n",
       "      <th>occyp_type</th>\n",
       "      <th>family_size</th>\n",
       "      <th>begin_month</th>\n",
       "      <th>before_EMPLOYED</th>\n",
       "      <th>income_total_befofeEMP_ratio</th>\n",
       "      <th>before_EMPLOYED_month</th>\n",
       "      <th>before_EMPLOYED_week</th>\n",
       "      <th>Age</th>\n",
       "      <th>DAYS_BIRTH_month</th>\n",
       "      <th>DAYS_BIRTH_week</th>\n",
       "      <th>EMPLOYED</th>\n",
       "      <th>DAYS_EMPLOYED_month</th>\n",
       "      <th>DAYS_EMPLOYED_week</th>\n",
       "      <th>ability</th>\n",
       "      <th>income_mean</th>\n",
       "      <th>ID</th>\n",
       "    </tr>\n",
       "  </thead>\n",
       "  <tbody>\n",
       "    <tr>\n",
       "      <th>0</th>\n",
       "      <td>M</td>\n",
       "      <td>Y</td>\n",
       "      <td>N</td>\n",
       "      <td>0</td>\n",
       "      <td>112500.0</td>\n",
       "      <td>Pensioner</td>\n",
       "      <td>Secondary / secondary special</td>\n",
       "      <td>Civil marriage</td>\n",
       "      <td>House / apartment</td>\n",
       "      <td>21990</td>\n",
       "      <td>0</td>\n",
       "      <td>0</td>\n",
       "      <td>1</td>\n",
       "      <td>0</td>\n",
       "      <td>NaN</td>\n",
       "      <td>2.0</td>\n",
       "      <td>60.0</td>\n",
       "      <td>21990</td>\n",
       "      <td>5.115962</td>\n",
       "      <td>1.0</td>\n",
       "      <td>1.0</td>\n",
       "      <td>60</td>\n",
       "      <td>1.0</td>\n",
       "      <td>1.0</td>\n",
       "      <td>0</td>\n",
       "      <td>0.0</td>\n",
       "      <td>0.0</td>\n",
       "      <td>5.115962</td>\n",
       "      <td>56250.0</td>\n",
       "      <td>0_112500.0_21990_0_0_1_0_2.0_M_Y_N_Pensioner_S...</td>\n",
       "    </tr>\n",
       "    <tr>\n",
       "      <th>1</th>\n",
       "      <td>F</td>\n",
       "      <td>N</td>\n",
       "      <td>Y</td>\n",
       "      <td>0</td>\n",
       "      <td>135000.0</td>\n",
       "      <td>State servant</td>\n",
       "      <td>Higher education</td>\n",
       "      <td>Married</td>\n",
       "      <td>House / apartment</td>\n",
       "      <td>18964</td>\n",
       "      <td>8671</td>\n",
       "      <td>0</td>\n",
       "      <td>1</td>\n",
       "      <td>0</td>\n",
       "      <td>Core staff</td>\n",
       "      <td>2.0</td>\n",
       "      <td>36.0</td>\n",
       "      <td>10293</td>\n",
       "      <td>13.115710</td>\n",
       "      <td>7.0</td>\n",
       "      <td>2.0</td>\n",
       "      <td>51</td>\n",
       "      <td>8.0</td>\n",
       "      <td>1.0</td>\n",
       "      <td>23</td>\n",
       "      <td>1.0</td>\n",
       "      <td>2.0</td>\n",
       "      <td>4.885109</td>\n",
       "      <td>67500.0</td>\n",
       "      <td>0_135000.0_18964_8671_0_1_0_2.0_F_N_Y_State se...</td>\n",
       "    </tr>\n",
       "    <tr>\n",
       "      <th>2</th>\n",
       "      <td>F</td>\n",
       "      <td>N</td>\n",
       "      <td>Y</td>\n",
       "      <td>0</td>\n",
       "      <td>69372.0</td>\n",
       "      <td>Working</td>\n",
       "      <td>Secondary / secondary special</td>\n",
       "      <td>Married</td>\n",
       "      <td>House / apartment</td>\n",
       "      <td>15887</td>\n",
       "      <td>217</td>\n",
       "      <td>1</td>\n",
       "      <td>1</td>\n",
       "      <td>0</td>\n",
       "      <td>Laborers</td>\n",
       "      <td>2.0</td>\n",
       "      <td>40.0</td>\n",
       "      <td>15670</td>\n",
       "      <td>4.427058</td>\n",
       "      <td>6.0</td>\n",
       "      <td>2.0</td>\n",
       "      <td>43</td>\n",
       "      <td>1.0</td>\n",
       "      <td>1.0</td>\n",
       "      <td>0</td>\n",
       "      <td>7.0</td>\n",
       "      <td>3.0</td>\n",
       "      <td>4.307750</td>\n",
       "      <td>34686.0</td>\n",
       "      <td>0_69372.0_15887_217_1_1_0_2.0_F_N_Y_Working_Se...</td>\n",
       "    </tr>\n",
       "    <tr>\n",
       "      <th>3</th>\n",
       "      <td>M</td>\n",
       "      <td>Y</td>\n",
       "      <td>N</td>\n",
       "      <td>0</td>\n",
       "      <td>112500.0</td>\n",
       "      <td>Commercial associate</td>\n",
       "      <td>Secondary / secondary special</td>\n",
       "      <td>Married</td>\n",
       "      <td>House / apartment</td>\n",
       "      <td>19270</td>\n",
       "      <td>2531</td>\n",
       "      <td>1</td>\n",
       "      <td>0</td>\n",
       "      <td>0</td>\n",
       "      <td>Drivers</td>\n",
       "      <td>2.0</td>\n",
       "      <td>41.0</td>\n",
       "      <td>16739</td>\n",
       "      <td>6.720832</td>\n",
       "      <td>5.0</td>\n",
       "      <td>3.0</td>\n",
       "      <td>52</td>\n",
       "      <td>6.0</td>\n",
       "      <td>0.0</td>\n",
       "      <td>6</td>\n",
       "      <td>0.0</td>\n",
       "      <td>1.0</td>\n",
       "      <td>5.160314</td>\n",
       "      <td>56250.0</td>\n",
       "      <td>0_112500.0_19270_2531_1_0_0_2.0_M_Y_N_Commerci...</td>\n",
       "    </tr>\n",
       "    <tr>\n",
       "      <th>4</th>\n",
       "      <td>F</td>\n",
       "      <td>Y</td>\n",
       "      <td>Y</td>\n",
       "      <td>0</td>\n",
       "      <td>225000.0</td>\n",
       "      <td>State servant</td>\n",
       "      <td>Higher education</td>\n",
       "      <td>Married</td>\n",
       "      <td>House / apartment</td>\n",
       "      <td>17822</td>\n",
       "      <td>9385</td>\n",
       "      <td>1</td>\n",
       "      <td>0</td>\n",
       "      <td>0</td>\n",
       "      <td>Managers</td>\n",
       "      <td>2.0</td>\n",
       "      <td>8.0</td>\n",
       "      <td>8437</td>\n",
       "      <td>26.668247</td>\n",
       "      <td>5.0</td>\n",
       "      <td>1.0</td>\n",
       "      <td>48</td>\n",
       "      <td>6.0</td>\n",
       "      <td>2.0</td>\n",
       "      <td>25</td>\n",
       "      <td>0.0</td>\n",
       "      <td>0.0</td>\n",
       "      <td>8.269931</td>\n",
       "      <td>112500.0</td>\n",
       "      <td>0_225000.0_17822_9385_1_0_0_2.0_F_Y_Y_State se...</td>\n",
       "    </tr>\n",
       "  </tbody>\n",
       "</table>\n",
       "</div>"
      ],
      "text/plain": [
       "  gender car reality  child_num  income_total           income_type  \\\n",
       "0      M   Y       N          0      112500.0             Pensioner   \n",
       "1      F   N       Y          0      135000.0         State servant   \n",
       "2      F   N       Y          0       69372.0               Working   \n",
       "3      M   Y       N          0      112500.0  Commercial associate   \n",
       "4      F   Y       Y          0      225000.0         State servant   \n",
       "\n",
       "                        edu_type     family_type         house_type  \\\n",
       "0  Secondary / secondary special  Civil marriage  House / apartment   \n",
       "1               Higher education         Married  House / apartment   \n",
       "2  Secondary / secondary special         Married  House / apartment   \n",
       "3  Secondary / secondary special         Married  House / apartment   \n",
       "4               Higher education         Married  House / apartment   \n",
       "\n",
       "   DAYS_BIRTH  DAYS_EMPLOYED  work_phone  phone  email  occyp_type  \\\n",
       "0       21990              0           0      1      0         NaN   \n",
       "1       18964           8671           0      1      0  Core staff   \n",
       "2       15887            217           1      1      0    Laborers   \n",
       "3       19270           2531           1      0      0     Drivers   \n",
       "4       17822           9385           1      0      0    Managers   \n",
       "\n",
       "   family_size  begin_month  before_EMPLOYED  income_total_befofeEMP_ratio  \\\n",
       "0          2.0         60.0            21990                      5.115962   \n",
       "1          2.0         36.0            10293                     13.115710   \n",
       "2          2.0         40.0            15670                      4.427058   \n",
       "3          2.0         41.0            16739                      6.720832   \n",
       "4          2.0          8.0             8437                     26.668247   \n",
       "\n",
       "   before_EMPLOYED_month  before_EMPLOYED_week  Age  DAYS_BIRTH_month  \\\n",
       "0                    1.0                   1.0   60               1.0   \n",
       "1                    7.0                   2.0   51               8.0   \n",
       "2                    6.0                   2.0   43               1.0   \n",
       "3                    5.0                   3.0   52               6.0   \n",
       "4                    5.0                   1.0   48               6.0   \n",
       "\n",
       "   DAYS_BIRTH_week  EMPLOYED  DAYS_EMPLOYED_month  DAYS_EMPLOYED_week  \\\n",
       "0              1.0         0                  0.0                 0.0   \n",
       "1              1.0        23                  1.0                 2.0   \n",
       "2              1.0         0                  7.0                 3.0   \n",
       "3              0.0         6                  0.0                 1.0   \n",
       "4              2.0        25                  0.0                 0.0   \n",
       "\n",
       "    ability  income_mean                                                 ID  \n",
       "0  5.115962      56250.0  0_112500.0_21990_0_0_1_0_2.0_M_Y_N_Pensioner_S...  \n",
       "1  4.885109      67500.0  0_135000.0_18964_8671_0_1_0_2.0_F_N_Y_State se...  \n",
       "2  4.307750      34686.0  0_69372.0_15887_217_1_1_0_2.0_F_N_Y_Working_Se...  \n",
       "3  5.160314      56250.0  0_112500.0_19270_2531_1_0_0_2.0_M_Y_N_Commerci...  \n",
       "4  8.269931     112500.0  0_225000.0_17822_9385_1_0_0_2.0_F_Y_Y_State se...  "
      ]
     },
     "execution_count": 12,
     "metadata": {},
     "output_type": "execute_result"
    }
   ],
   "source": [
    "test_df.head()"
   ]
  },
  {
   "cell_type": "markdown",
   "id": "f9d9aa5e-61e1-41a7-8429-53dc8d4e21a3",
   "metadata": {
    "jp-MarkdownHeadingCollapsed": true
   },
   "source": [
    "# <span style=\"color:green\">⭐️Feature Engineering⭐️</span> "
   ]
  },
  {
   "cell_type": "markdown",
   "id": "08c25572-b234-4606-9506-5954a111d51c",
   "metadata": {
    "jp-MarkdownHeadingCollapsed": true
   },
   "source": [
    "## 형 변환 [인코딩]"
   ]
  },
  {
   "cell_type": "code",
   "execution_count": 13,
   "id": "4afb1bcd-2003-4fce-a935-b624af160b36",
   "metadata": {
    "scrolled": true
   },
   "outputs": [
    {
     "name": "stdout",
     "output_type": "stream",
     "text": [
      "<class 'pandas.core.frame.DataFrame'>\n",
      "RangeIndex: 26451 entries, 0 to 26450\n",
      "Data columns (total 31 columns):\n",
      " #   Column                        Non-Null Count  Dtype  \n",
      "---  ------                        --------------  -----  \n",
      " 0   gender                        26451 non-null  object \n",
      " 1   car                           26451 non-null  object \n",
      " 2   reality                       26451 non-null  object \n",
      " 3   child_num                     26451 non-null  int64  \n",
      " 4   income_total                  26451 non-null  float64\n",
      " 5   income_type                   26451 non-null  object \n",
      " 6   edu_type                      26451 non-null  object \n",
      " 7   family_type                   26451 non-null  object \n",
      " 8   house_type                    26451 non-null  object \n",
      " 9   DAYS_BIRTH                    26451 non-null  int64  \n",
      " 10  DAYS_EMPLOYED                 26451 non-null  int64  \n",
      " 11  work_phone                    26451 non-null  int64  \n",
      " 12  phone                         26451 non-null  int64  \n",
      " 13  email                         26451 non-null  int64  \n",
      " 14  occyp_type                    26451 non-null  object \n",
      " 15  family_size                   26451 non-null  float64\n",
      " 16  begin_month                   26451 non-null  float64\n",
      " 17  credit                        26451 non-null  float64\n",
      " 18  before_EMPLOYED               26451 non-null  int64  \n",
      " 19  income_total_befofeEMP_ratio  26451 non-null  float64\n",
      " 20  before_EMPLOYED_month         26451 non-null  float64\n",
      " 21  before_EMPLOYED_week          26451 non-null  float64\n",
      " 22  Age                           26451 non-null  int64  \n",
      " 23  DAYS_BIRTH_month              26451 non-null  float64\n",
      " 24  DAYS_BIRTH_week               26451 non-null  float64\n",
      " 25  EMPLOYED                      26451 non-null  int64  \n",
      " 26  DAYS_EMPLOYED_month           26451 non-null  float64\n",
      " 27  DAYS_EMPLOYED_week            26451 non-null  float64\n",
      " 28  ability                       26451 non-null  float64\n",
      " 29  income_mean                   26451 non-null  float64\n",
      " 30  ID                            26451 non-null  object \n",
      "dtypes: float64(13), int64(9), object(9)\n",
      "memory usage: 6.3+ MB\n"
     ]
    }
   ],
   "source": [
    "# train_df 변수형이 어떻게 되어있는지 파악하기\n",
    "train_df.info()"
   ]
  },
  {
   "cell_type": "code",
   "execution_count": 14,
   "id": "2467a52a-dfa4-4c58-8b86-05ea066afbcb",
   "metadata": {
    "scrolled": true
   },
   "outputs": [
    {
     "name": "stdout",
     "output_type": "stream",
     "text": [
      "<class 'pandas.core.frame.DataFrame'>\n",
      "RangeIndex: 10000 entries, 0 to 9999\n",
      "Data columns (total 30 columns):\n",
      " #   Column                        Non-Null Count  Dtype  \n",
      "---  ------                        --------------  -----  \n",
      " 0   gender                        10000 non-null  object \n",
      " 1   car                           10000 non-null  object \n",
      " 2   reality                       10000 non-null  object \n",
      " 3   child_num                     10000 non-null  int64  \n",
      " 4   income_total                  10000 non-null  float64\n",
      " 5   income_type                   10000 non-null  object \n",
      " 6   edu_type                      10000 non-null  object \n",
      " 7   family_type                   10000 non-null  object \n",
      " 8   house_type                    10000 non-null  object \n",
      " 9   DAYS_BIRTH                    10000 non-null  int64  \n",
      " 10  DAYS_EMPLOYED                 10000 non-null  int64  \n",
      " 11  work_phone                    10000 non-null  int64  \n",
      " 12  phone                         10000 non-null  int64  \n",
      " 13  email                         10000 non-null  int64  \n",
      " 14  occyp_type                    10000 non-null  object \n",
      " 15  family_size                   10000 non-null  float64\n",
      " 16  begin_month                   10000 non-null  float64\n",
      " 17  before_EMPLOYED               10000 non-null  int64  \n",
      " 18  income_total_befofeEMP_ratio  10000 non-null  float64\n",
      " 19  before_EMPLOYED_month         10000 non-null  float64\n",
      " 20  before_EMPLOYED_week          10000 non-null  float64\n",
      " 21  Age                           10000 non-null  int64  \n",
      " 22  DAYS_BIRTH_month              10000 non-null  float64\n",
      " 23  DAYS_BIRTH_week               10000 non-null  float64\n",
      " 24  EMPLOYED                      10000 non-null  int64  \n",
      " 25  DAYS_EMPLOYED_month           10000 non-null  float64\n",
      " 26  DAYS_EMPLOYED_week            10000 non-null  float64\n",
      " 27  ability                       10000 non-null  float64\n",
      " 28  income_mean                   10000 non-null  float64\n",
      " 29  ID                            10000 non-null  object \n",
      "dtypes: float64(12), int64(9), object(9)\n",
      "memory usage: 2.3+ MB\n"
     ]
    }
   ],
   "source": [
    "# test_df 변수형이 어떻게 되어있는지 파악하기\n",
    "test_df.info()"
   ]
  },
  {
   "cell_type": "code",
   "execution_count": 15,
   "id": "072c4b9c-dbf5-4a5d-88ee-47f658f281a0",
   "metadata": {},
   "outputs": [
    {
     "name": "stdout",
     "output_type": "stream",
     "text": [
      "Number of Numerical features:  21\n",
      "Number of Categorical features:  9\n"
     ]
    }
   ],
   "source": [
    "# Numeric, Category 컬럼 분류 (train_df)\n",
    "\n",
    "train_numerical_feats = train_df.dtypes[train_df.dtypes != \"object\"].index.tolist()\n",
    "train_numerical_feats.remove('credit') # train에는 \"목적변수\"가 있으므로 제외!\n",
    "print(\"Number of Numerical features: \", len(train_numerical_feats))\n",
    "\n",
    "train_categorical_feats = train_df.dtypes[train_df.dtypes == \"object\"].index.tolist()\n",
    "print(\"Number of Categorical features: \", len(train_categorical_feats))"
   ]
  },
  {
   "cell_type": "code",
   "execution_count": 16,
   "id": "39f04278-f5f4-4ba9-92a5-c9d03fed052b",
   "metadata": {},
   "outputs": [
    {
     "name": "stdout",
     "output_type": "stream",
     "text": [
      "Number of Numerical features:  21\n",
      "Number of Categorical features:  9\n"
     ]
    }
   ],
   "source": [
    "# Numeric, Category 컬럼 분류 (test_df)\n",
    "\n",
    "test_numerical_feats = test_df.dtypes[test_df.dtypes != \"object\"].index.tolist()\n",
    "print(\"Number of Numerical features: \", len(test_numerical_feats))\n",
    "\n",
    "test_categorical_feats = test_df.dtypes[test_df.dtypes == \"object\"].index.tolist()\n",
    "print(\"Number of Categorical features: \", len(test_categorical_feats))"
   ]
  },
  {
   "cell_type": "code",
   "execution_count": 17,
   "id": "0b87ff10-38c2-4a1e-8e84-55dfa2c572c8",
   "metadata": {},
   "outputs": [],
   "source": [
    "# 각각 어떤 것들이 있는지 확인하려면 따로 입력해보기!\n",
    "\n",
    "## train_numerical_feats\n",
    "## test_numerical_feats\n",
    "## train_categorical_feats\n",
    "## test_categorical_feats"
   ]
  },
  {
   "cell_type": "code",
   "execution_count": 18,
   "id": "98442586-df71-4b43-9f1f-d7008e2ba6bd",
   "metadata": {},
   "outputs": [],
   "source": [
    "# from sklearn.preprocessing import OrdinalEncoder [이 라이브러리 안쓸거임]\n",
    "\n",
    "# 카테고리형 데이터 9개 [따로 지정 안해도 되는데, 확인차 혹시 모르니 다시 지정하기!]\n",
    "categorical_feats = ['gender', 'car', 'reality', 'income_type', 'edu_type', 'family_type', 'house_type', 'occyp_type', 'ID']\n",
    "\n",
    "# OrdinalEncoder 가져오고\n",
    "encoder = OrdinalEncoder(categorical_feats)\n",
    "\n",
    "# train 데이터 인코딩 적용\n",
    "train_df[categorical_feats] = encoder.fit_transform(train_df[categorical_feats], train_df['credit'])\n",
    "\n",
    "# test 데이터 인코딩 적용\n",
    "test_df[categorical_feats] = encoder.transform(test_df[categorical_feats])"
   ]
  },
  {
   "cell_type": "code",
   "execution_count": 19,
   "id": "3b1ddafe-82d2-4684-9be7-4ac46e016944",
   "metadata": {},
   "outputs": [],
   "source": [
    "# 형 변환 (범주형 열을 정수로 변환) [범주형은 int형으로 바꿔야지 안그럼 오류생김]\n",
    "\n",
    "# 각각 적용\n",
    "train_df[categorical_feats] = train_df[categorical_feats].astype('int64') # 그냥 astype(int)라 해도 됨.\n",
    "test_df[categorical_feats] = test_df[categorical_feats].astype('int64')"
   ]
  },
  {
   "cell_type": "code",
   "execution_count": 20,
   "id": "e6e12619-758f-4d91-992f-94b287359f18",
   "metadata": {},
   "outputs": [
    {
     "name": "stdout",
     "output_type": "stream",
     "text": [
      "<class 'pandas.core.frame.DataFrame'>\n",
      "RangeIndex: 26451 entries, 0 to 26450\n",
      "Data columns (total 31 columns):\n",
      " #   Column                        Non-Null Count  Dtype  \n",
      "---  ------                        --------------  -----  \n",
      " 0   gender                        26451 non-null  int64  \n",
      " 1   car                           26451 non-null  int64  \n",
      " 2   reality                       26451 non-null  int64  \n",
      " 3   child_num                     26451 non-null  int64  \n",
      " 4   income_total                  26451 non-null  float64\n",
      " 5   income_type                   26451 non-null  int64  \n",
      " 6   edu_type                      26451 non-null  int64  \n",
      " 7   family_type                   26451 non-null  int64  \n",
      " 8   house_type                    26451 non-null  int64  \n",
      " 9   DAYS_BIRTH                    26451 non-null  int64  \n",
      " 10  DAYS_EMPLOYED                 26451 non-null  int64  \n",
      " 11  work_phone                    26451 non-null  int64  \n",
      " 12  phone                         26451 non-null  int64  \n",
      " 13  email                         26451 non-null  int64  \n",
      " 14  occyp_type                    26451 non-null  int64  \n",
      " 15  family_size                   26451 non-null  float64\n",
      " 16  begin_month                   26451 non-null  float64\n",
      " 17  credit                        26451 non-null  float64\n",
      " 18  before_EMPLOYED               26451 non-null  int64  \n",
      " 19  income_total_befofeEMP_ratio  26451 non-null  float64\n",
      " 20  before_EMPLOYED_month         26451 non-null  float64\n",
      " 21  before_EMPLOYED_week          26451 non-null  float64\n",
      " 22  Age                           26451 non-null  int64  \n",
      " 23  DAYS_BIRTH_month              26451 non-null  float64\n",
      " 24  DAYS_BIRTH_week               26451 non-null  float64\n",
      " 25  EMPLOYED                      26451 non-null  int64  \n",
      " 26  DAYS_EMPLOYED_month           26451 non-null  float64\n",
      " 27  DAYS_EMPLOYED_week            26451 non-null  float64\n",
      " 28  ability                       26451 non-null  float64\n",
      " 29  income_mean                   26451 non-null  float64\n",
      " 30  ID                            26451 non-null  int64  \n",
      "dtypes: float64(13), int64(18)\n",
      "memory usage: 6.3 MB\n"
     ]
    }
   ],
   "source": [
    "train_df.info()"
   ]
  },
  {
   "cell_type": "code",
   "execution_count": 21,
   "id": "6436919e-c6bb-4774-bbd4-979bb932cc1f",
   "metadata": {},
   "outputs": [
    {
     "name": "stdout",
     "output_type": "stream",
     "text": [
      "<class 'pandas.core.frame.DataFrame'>\n",
      "RangeIndex: 10000 entries, 0 to 9999\n",
      "Data columns (total 30 columns):\n",
      " #   Column                        Non-Null Count  Dtype  \n",
      "---  ------                        --------------  -----  \n",
      " 0   gender                        10000 non-null  int64  \n",
      " 1   car                           10000 non-null  int64  \n",
      " 2   reality                       10000 non-null  int64  \n",
      " 3   child_num                     10000 non-null  int64  \n",
      " 4   income_total                  10000 non-null  float64\n",
      " 5   income_type                   10000 non-null  int64  \n",
      " 6   edu_type                      10000 non-null  int64  \n",
      " 7   family_type                   10000 non-null  int64  \n",
      " 8   house_type                    10000 non-null  int64  \n",
      " 9   DAYS_BIRTH                    10000 non-null  int64  \n",
      " 10  DAYS_EMPLOYED                 10000 non-null  int64  \n",
      " 11  work_phone                    10000 non-null  int64  \n",
      " 12  phone                         10000 non-null  int64  \n",
      " 13  email                         10000 non-null  int64  \n",
      " 14  occyp_type                    10000 non-null  int64  \n",
      " 15  family_size                   10000 non-null  float64\n",
      " 16  begin_month                   10000 non-null  float64\n",
      " 17  before_EMPLOYED               10000 non-null  int64  \n",
      " 18  income_total_befofeEMP_ratio  10000 non-null  float64\n",
      " 19  before_EMPLOYED_month         10000 non-null  float64\n",
      " 20  before_EMPLOYED_week          10000 non-null  float64\n",
      " 21  Age                           10000 non-null  int64  \n",
      " 22  DAYS_BIRTH_month              10000 non-null  float64\n",
      " 23  DAYS_BIRTH_week               10000 non-null  float64\n",
      " 24  EMPLOYED                      10000 non-null  int64  \n",
      " 25  DAYS_EMPLOYED_month           10000 non-null  float64\n",
      " 26  DAYS_EMPLOYED_week            10000 non-null  float64\n",
      " 27  ability                       10000 non-null  float64\n",
      " 28  income_mean                   10000 non-null  float64\n",
      " 29  ID                            10000 non-null  int64  \n",
      "dtypes: float64(12), int64(18)\n",
      "memory usage: 2.3 MB\n"
     ]
    }
   ],
   "source": [
    "test_df.info()"
   ]
  },
  {
   "cell_type": "markdown",
   "id": "54af4623-3955-4dba-8da7-58405d515209",
   "metadata": {
    "jp-MarkdownHeadingCollapsed": true
   },
   "source": [
    "## 변수 선택 (다중공선성 처리, 성능 향상, 스터디 등) [4가지]"
   ]
  },
  {
   "cell_type": "code",
   "execution_count": 22,
   "id": "f7f1c7c8-9d79-4ab6-ba90-3f739064e831",
   "metadata": {},
   "outputs": [],
   "source": [
    "# 변수 선택은 보통 모델링까지 마무리 후 성능 향상 혹은 공모전과 같은 대회에서 변수에 대한 중요도 및 설명을 위해 사용함.\n",
    "# 즉, 스터디 목적으로 진행할 것이기에 따로 변수에 저장해놓자\n",
    "# 적용할 때는 다시 거꾸로 넣어주면 됨!!!\n",
    "train = train_df\n",
    "test = test_df"
   ]
  },
  {
   "cell_type": "markdown",
   "id": "3b232068-58ce-422b-a400-c132f1abbc82",
   "metadata": {
    "jp-MarkdownHeadingCollapsed": true
   },
   "source": [
    "### <span style=\"color:orange\">[1] 상관관계 활용</span> "
   ]
  },
  {
   "cell_type": "code",
   "execution_count": null,
   "id": "4c8bd4fe-f056-490f-a174-86ccb7e307c9",
   "metadata": {
    "scrolled": true
   },
   "outputs": [],
   "source": [
    "# 목적변수와 다른 변수들 간의 상관관계 파악\n",
    "train.corr()['credit'].sort_values(ascending=False)\n",
    "# 딱히 상관관계가 높아보이는 것은 없음."
   ]
  },
  {
   "cell_type": "code",
   "execution_count": null,
   "id": "802a93c7-8da0-467a-82f6-2030ba379718",
   "metadata": {},
   "outputs": [],
   "source": [
    "# 그렇다면 파생변수와 기존 변수간의 상관관계는 어떠할까? [기존변수 혹은 파생변수 삭제 판단을 위해서!]\n",
    "# 하지만, (독립변수들끼리 영향이 큰게 있음) 기존 변수끼리의 상관관계에 문제가 있을 수 있으니 다 보기로 함 [수정]\n",
    "\n",
    "# 기존 데이터 변수 목록 [18개]\n",
    "basic_variables = ['gender', 'car', 'reality', 'child_num', 'income_total', 'income_type', 'edu_type',\n",
    "                   'family_type', 'house_type', 'DAYS_BIRTH', 'DAYS_EMPLOYED', 'work_phone', 'phone',\n",
    "                   'email', 'occyp_type', 'family_size', 'begin_month', 'credit']\n",
    "\n",
    "# 새롭게 만든 데이터 변수 목록 [18개] -> [13개] {ability 추가함}\n",
    "new_variables = ['before_EMPLOYED', 'income_total_befofeEMP_ratio',\n",
    "                 'before_EMPLOYED_month', 'before_EMPLOYED_week', 'Age', 'DAYS_BIRTH_month',\n",
    "                 'DAYS_BIRTH_week', 'EMPLOYED', 'DAYS_EMPLOYED_month', 'DAYS_EMPLOYED_week',\n",
    "                 'income_mean', 'ability', 'ID']\n",
    "# 'before_EMPLOYED_year', 'DAYS_BIRTH_bin', 'begin_month_bin', 'DAYS_EMPLOYED_bin', 'raito_EMPLOYED', 'begin_year'\n",
    "\n",
    "# 기존 변수와 새로운 변수를 합친 모든 변수 목록\n",
    "all_variables = basic_variables + new_variables\n",
    "\n",
    "# 모든 변수의 상관관계 계산\n",
    "# correlation_matrix = train[all_variables].corr()\n",
    "# [새로운 변수와의 상관관계만 확인] correlation_with_new_variables = correlation_matrix[new_variables]\n",
    "correlation_matrix_all = train.corr()\n",
    "\n",
    "# 상관관계가 0.7 이상인 경우만 출력\n",
    "high_correlation_all = {}\n",
    "\n",
    "for column in correlation_matrix_all.columns:\n",
    "    high_correlation = correlation_matrix_all[column][(correlation_matrix_all[column] >= 0.9) & (correlation_matrix_all[column].index != column)]\n",
    "    if not high_correlation.empty:\n",
    "        high_correlation_all[column] = high_correlation\n",
    "\n",
    "# 출력\n",
    "for column, high_correlation in high_correlation_all.items():\n",
    "    print(f'\\nHigh Correlation with {column}:\\n{high_correlation}\\n')"
   ]
  },
  {
   "cell_type": "code",
   "execution_count": null,
   "id": "bdd30113-9750-46be-940f-34674b114d52",
   "metadata": {},
   "outputs": [],
   "source": [
    "# 그림으로 파악하기에는 너무 많아서 비시각화로 파악하기로 해봄. [최종 결과에서는 시각화로 볼 예정]\n",
    "# 보통 상관관계가 0.7 이상인 것을 다중공선성으로 의심함. 어떤 곳은 0.9 이상인 것만을 판단하는 경우도 있음. [너무 많아서 우리는 0.9 이상으로만 보기로 함.]\n",
    "# 'Age', 'EMPLOYED', 'DAYS_BIRTH', 'DAYS_EMPLOYED' 총 4개의 변수가 다중공선성을 보이는 것으로 예상됨."
   ]
  },
  {
   "cell_type": "code",
   "execution_count": null,
   "id": "2a3fddaf-d36d-4ab7-ad0b-e0581aac413c",
   "metadata": {},
   "outputs": [],
   "source": [
    "# 제외할 변수 목록\n",
    "exclude_variables = ['Age', 'EMPLOYED', 'DAYS_BIRTH', 'DAYS_EMPLOYED']\n",
    "\n",
    "# 선택된 변수들을 제외한 나머지 변수들을 가진 데이터프레임 생성\n",
    "train = train.drop(exclude_variables, axis=1)"
   ]
  },
  {
   "cell_type": "code",
   "execution_count": null,
   "id": "407270f8-abd3-4937-ac5d-e130d199d97b",
   "metadata": {},
   "outputs": [],
   "source": [
    "train.shape"
   ]
  },
  {
   "cell_type": "code",
   "execution_count": null,
   "id": "1c994615-4730-4643-8249-ef4ac8b51af0",
   "metadata": {},
   "outputs": [],
   "source": [
    "# 최종 결과 시각화 [train_df]\n",
    "import seaborn as sns\n",
    "import matplotlib.pyplot as plt\n",
    "\n",
    "# train_df 데이터프레임의 상관계수 행렬\n",
    "correlation_matrix = train.corr()\n",
    "\n",
    "# 시각화 설정\n",
    "plt.figure(figsize=(12, 10))\n",
    "sns.heatmap(correlation_matrix, annot=True, cmap='coolwarm', fmt=\".2f\", linewidths=.5)\n",
    "plt.title('Correlation Matrix')\n",
    "plt.show()"
   ]
  },
  {
   "cell_type": "markdown",
   "id": "24ba6975-cf75-4b63-b47c-d974ab474048",
   "metadata": {
    "jp-MarkdownHeadingCollapsed": true
   },
   "source": [
    "### <span style=\"color:orange\">[2] 다중공선성 처리 [VIF 활용]</span>"
   ]
  },
  {
   "cell_type": "code",
   "execution_count": 23,
   "id": "a906ea83-8653-40da-96a4-a29d6b41c702",
   "metadata": {},
   "outputs": [],
   "source": [
    "# 분산팽창계수(VIF) 확인해보기!\n",
    "\n",
    "# VIF가 10보다 큰 변수는 다중공선성이 존재할 가능성이 높으며, 해당 변수를 조정하거나 제거하여 모델을 향상시킬 수 있음\n",
    "# inf부터 하나씩 삭제 -> 가장 큰 값 순으로 하나씩 삭제 (무조건은 아님. 내 생각에 중요하다 싶으면 삭제 안해도 됨)\n",
    "# inf가 발생한 이유는 \"변수 중에 0을 포함한 변수가 있는데 VIF(상관관계 식) 계산시 분모에 0이 들어갈 경우\" 때문임.\n",
    "# 상수항은 마지막에 삭제할거임.\n",
    "\n",
    "# [0차] ---\n",
    "# [1차] 'DAYS_BIRTH' 변수 삭제\n",
    "# [2차] 'before_EMPLOYED' 변수 삭제\n",
    "# [3차] 'DAYS_EMPLOYED' 변수 삭제\n",
    "# [4차] 'child_num' 변수 삭제 ('family_size'가 더 컸지만, 더 중요해 보여서 child_num을 삭제함.)\n",
    "# [5차] 'ability' 변수 삭제\n",
    "# [6차] 'income_total_befofeEMP_ratio' 변수 삭제 ('income_total'는 중요해서 삭제 안함)"
   ]
  },
  {
   "cell_type": "code",
   "execution_count": 24,
   "id": "2ed0bac9-625e-475e-9b79-3ef7a8a64ec7",
   "metadata": {},
   "outputs": [
    {
     "name": "stdout",
     "output_type": "stream",
     "text": [
      "                        Variable          VIF\n",
      "0                         gender     1.244516\n",
      "1                            car     1.220452\n",
      "2                        reality     1.070629\n",
      "3                      child_num    28.939375\n",
      "4                   income_total    19.730465\n",
      "5                    income_type     2.128459\n",
      "6                       edu_type     1.055302\n",
      "7                    family_type     8.937982\n",
      "8                     house_type     1.028121\n",
      "9                     DAYS_BIRTH          inf\n",
      "10                 DAYS_EMPLOYED          inf\n",
      "11                    work_phone     1.228470\n",
      "12                         phone     1.124486\n",
      "13                         email     1.035726\n",
      "14                    occyp_type     1.134241\n",
      "15                   family_size    47.359386\n",
      "16                   begin_month     1.037880\n",
      "17                        credit     1.025917\n",
      "18               before_EMPLOYED          inf\n",
      "19  income_total_befofeEMP_ratio    14.307963\n",
      "20         before_EMPLOYED_month     1.036099\n",
      "21          before_EMPLOYED_week     1.032911\n",
      "22                           Age  1786.103325\n",
      "23              DAYS_BIRTH_month     1.127478\n",
      "24               DAYS_BIRTH_week     1.036530\n",
      "25                      EMPLOYED   810.355509\n",
      "26           DAYS_EMPLOYED_month     1.904317\n",
      "27            DAYS_EMPLOYED_week     1.246950\n",
      "28                       ability    19.948737\n",
      "29                   income_mean     7.752379\n",
      "30                            ID     1.010598\n",
      "31                     Intercept   477.712130\n"
     ]
    }
   ],
   "source": [
    "from statsmodels.stats.outliers_influence import variance_inflation_factor\n",
    "\n",
    "train['Intercept'] = 1\n",
    "# 상수항을 추가함으로써 모델이 항상 절편을 고려하게 되어, 각 독립 변수가 선형 종속이더라도 공분산 행렬이 올바르게 형성되어 다중공선성을 평가할 수 있게 됨.\n",
    "\n",
    "# VIF 계산\n",
    "vif_data = pd.DataFrame()\n",
    "vif_data[\"Variable\"] = train.columns\n",
    "vif_data[\"VIF\"] = [variance_inflation_factor(train.values, i) for i in range(train.shape[1])]\n",
    "\n",
    "# 결과 출력\n",
    "print(vif_data)"
   ]
  },
  {
   "cell_type": "code",
   "execution_count": 25,
   "id": "f06e09c9-c434-4f76-adc4-6a39f1595ad3",
   "metadata": {},
   "outputs": [
    {
     "name": "stdout",
     "output_type": "stream",
     "text": [
      "                        Variable          VIF\n",
      "0                         gender     1.244516\n",
      "1                            car     1.220452\n",
      "2                        reality     1.070629\n",
      "3                      child_num    28.939375\n",
      "4                   income_total    19.730465\n",
      "5                    income_type     2.128459\n",
      "6                       edu_type     1.055302\n",
      "7                    family_type     8.937982\n",
      "8                     house_type     1.028121\n",
      "9                  DAYS_EMPLOYED  1407.238105\n",
      "10                    work_phone     1.228470\n",
      "11                         phone     1.124486\n",
      "12                         email     1.035726\n",
      "13                    occyp_type     1.134241\n",
      "14                   family_size    47.359386\n",
      "15                   begin_month     1.037880\n",
      "16                        credit     1.025917\n",
      "17               before_EMPLOYED  2403.681526\n",
      "18  income_total_befofeEMP_ratio    14.307963\n",
      "19         before_EMPLOYED_month     1.036099\n",
      "20          before_EMPLOYED_week     1.032911\n",
      "21                           Age  1786.103325\n",
      "22              DAYS_BIRTH_month     1.127478\n",
      "23               DAYS_BIRTH_week     1.036530\n",
      "24                      EMPLOYED   810.355509\n",
      "25           DAYS_EMPLOYED_month     1.904317\n",
      "26            DAYS_EMPLOYED_week     1.246950\n",
      "27                       ability    19.948737\n",
      "28                   income_mean     7.752379\n",
      "29                            ID     1.010598\n",
      "30                     Intercept   477.712130\n"
     ]
    }
   ],
   "source": [
    "# 'DAYS_BIRTH' 변수 삭제 후 다시 적용\n",
    "\n",
    "# 제외할 변수 목록\n",
    "exclude_v = ['DAYS_BIRTH']\n",
    "\n",
    "# 선택된 변수들을 제외한 나머지 변수들을 가진 데이터프레임 생성\n",
    "train = train.drop(exclude_v, axis=1)\n",
    "\n",
    "# VIF 계산\n",
    "vif_data = pd.DataFrame()\n",
    "vif_data[\"Variable\"] = train.columns\n",
    "vif_data[\"VIF\"] = [variance_inflation_factor(train.values, i) for i in range(train.shape[1])]\n",
    "\n",
    "# 결과 출력\n",
    "print(vif_data)"
   ]
  },
  {
   "cell_type": "code",
   "execution_count": 26,
   "id": "8c12e0cd-e751-4c16-9a8a-500fc085851f",
   "metadata": {},
   "outputs": [
    {
     "name": "stdout",
     "output_type": "stream",
     "text": [
      "                        Variable         VIF\n",
      "0                         gender    1.244367\n",
      "1                            car    1.219887\n",
      "2                        reality    1.070298\n",
      "3                      child_num   28.936025\n",
      "4                   income_total   19.677115\n",
      "5                    income_type    2.127692\n",
      "6                       edu_type    1.054551\n",
      "7                    family_type    8.934519\n",
      "8                     house_type    1.028041\n",
      "9                  DAYS_EMPLOYED  824.320153\n",
      "10                    work_phone    1.228072\n",
      "11                         phone    1.124434\n",
      "12                         email    1.035688\n",
      "13                    occyp_type    1.134025\n",
      "14                   family_size   47.357087\n",
      "15                   begin_month    1.037875\n",
      "16                        credit    1.025863\n",
      "17  income_total_befofeEMP_ratio   14.302062\n",
      "18         before_EMPLOYED_month    1.029734\n",
      "19          before_EMPLOYED_week    1.032701\n",
      "20                           Age    5.250890\n",
      "21              DAYS_BIRTH_month    1.029950\n",
      "22               DAYS_BIRTH_week    1.036382\n",
      "23                      EMPLOYED  810.280762\n",
      "24           DAYS_EMPLOYED_month    1.904220\n",
      "25            DAYS_EMPLOYED_week    1.246530\n",
      "26                       ability   19.920823\n",
      "27                   income_mean    7.750531\n",
      "28                            ID    1.010550\n",
      "29                     Intercept  470.518129\n"
     ]
    }
   ],
   "source": [
    "# 'before_EMPLOYED' 변수 삭제 후 다시 적용\n",
    "\n",
    "# 제외할 변수 목록\n",
    "exclude_v = ['before_EMPLOYED']\n",
    "\n",
    "# 선택된 변수들을 제외한 나머지 변수들을 가진 데이터프레임 생성\n",
    "train = train.drop(exclude_v, axis=1)\n",
    "\n",
    "# VIF 계산\n",
    "vif_data = pd.DataFrame()\n",
    "vif_data[\"Variable\"] = train.columns\n",
    "vif_data[\"VIF\"] = [variance_inflation_factor(train.values, i) for i in range(train.shape[1])]\n",
    "\n",
    "# 결과 출력\n",
    "print(vif_data)"
   ]
  },
  {
   "cell_type": "code",
   "execution_count": 27,
   "id": "5a3ae600-aad8-4def-85d1-d7a8a7cc50ce",
   "metadata": {},
   "outputs": [
    {
     "name": "stdout",
     "output_type": "stream",
     "text": [
      "                        Variable         VIF\n",
      "0                         gender    1.244264\n",
      "1                            car    1.219656\n",
      "2                        reality    1.070150\n",
      "3                      child_num   28.936025\n",
      "4                   income_total   19.648832\n",
      "5                    income_type    2.065766\n",
      "6                       edu_type    1.054224\n",
      "7                    family_type    8.934420\n",
      "8                     house_type    1.027753\n",
      "9                     work_phone    1.227752\n",
      "10                         phone    1.124045\n",
      "11                         email    1.035627\n",
      "12                    occyp_type    1.130551\n",
      "13                   family_size   47.357078\n",
      "14                   begin_month    1.037861\n",
      "15                        credit    1.025689\n",
      "16  income_total_befofeEMP_ratio   14.295344\n",
      "17         before_EMPLOYED_month    1.029567\n",
      "18          before_EMPLOYED_week    1.032268\n",
      "19                           Age    5.240043\n",
      "20              DAYS_BIRTH_month    1.029768\n",
      "21               DAYS_BIRTH_week    1.036324\n",
      "22                      EMPLOYED    3.660461\n",
      "23           DAYS_EMPLOYED_month    1.323610\n",
      "24            DAYS_EMPLOYED_week    1.242680\n",
      "25                       ability   19.882869\n",
      "26                   income_mean    7.745852\n",
      "27                            ID    1.010411\n",
      "28                     Intercept  468.085016\n"
     ]
    }
   ],
   "source": [
    "# 'DAYS_EMPLOYED' 변수 삭제 후 다시 적용\n",
    "\n",
    "# 제외할 변수 목록\n",
    "exclude_v = ['DAYS_EMPLOYED']\n",
    "\n",
    "# 선택된 변수들을 제외한 나머지 변수들을 가진 데이터프레임 생성\n",
    "train = train.drop(exclude_v, axis=1)\n",
    "\n",
    "# VIF 계산\n",
    "vif_data = pd.DataFrame()\n",
    "vif_data[\"Variable\"] = train.columns\n",
    "vif_data[\"VIF\"] = [variance_inflation_factor(train.values, i) for i in range(train.shape[1])]\n",
    "\n",
    "# 결과 출력\n",
    "print(vif_data)"
   ]
  },
  {
   "cell_type": "code",
   "execution_count": 28,
   "id": "2f7d4ef4-fdfa-43ae-865c-06599b7c9e35",
   "metadata": {},
   "outputs": [
    {
     "name": "stdout",
     "output_type": "stream",
     "text": [
      "                        Variable         VIF\n",
      "0                         gender    1.243670\n",
      "1                            car    1.219305\n",
      "2                        reality    1.070129\n",
      "3                   income_total   19.419780\n",
      "4                    income_type    2.065454\n",
      "5                       edu_type    1.052575\n",
      "6                    family_type    2.131473\n",
      "7                     house_type    1.027708\n",
      "8                     work_phone    1.226403\n",
      "9                          phone    1.123604\n",
      "10                         email    1.034858\n",
      "11                    occyp_type    1.130140\n",
      "12                   family_size    2.886276\n",
      "13                   begin_month    1.037762\n",
      "14                        credit    1.025637\n",
      "15  income_total_befofeEMP_ratio   14.289383\n",
      "16         before_EMPLOYED_month    1.029553\n",
      "17          before_EMPLOYED_week    1.032268\n",
      "18                           Age    5.232102\n",
      "19              DAYS_BIRTH_month    1.029666\n",
      "20               DAYS_BIRTH_week    1.036290\n",
      "21                      EMPLOYED    3.660456\n",
      "22           DAYS_EMPLOYED_month    1.323575\n",
      "23            DAYS_EMPLOYED_week    1.240951\n",
      "24                       ability   19.873521\n",
      "25                   income_mean    7.232459\n",
      "26                            ID    1.010327\n",
      "27                     Intercept  198.595874\n"
     ]
    }
   ],
   "source": [
    "# 'child_num' 변수 삭제 후 다시 적용\n",
    "# family_size가 더 중요할거 같다는 생각임.\n",
    "\n",
    "# 제외할 변수 목록\n",
    "exclude_v = ['child_num']\n",
    "\n",
    "# 선택된 변수들을 제외한 나머지 변수들을 가진 데이터프레임 생성\n",
    "train = train.drop(exclude_v, axis=1)\n",
    "\n",
    "# VIF 계산\n",
    "vif_data = pd.DataFrame()\n",
    "vif_data[\"Variable\"] = train.columns\n",
    "vif_data[\"VIF\"] = [variance_inflation_factor(train.values, i) for i in range(train.shape[1])]\n",
    "\n",
    "# 결과 출력\n",
    "print(vif_data)"
   ]
  },
  {
   "cell_type": "code",
   "execution_count": 29,
   "id": "74939720-7640-465a-a732-3878f82d094b",
   "metadata": {},
   "outputs": [
    {
     "name": "stdout",
     "output_type": "stream",
     "text": [
      "                        Variable         VIF\n",
      "0                         gender    1.240241\n",
      "1                            car    1.219187\n",
      "2                        reality    1.069963\n",
      "3                   income_total   13.625450\n",
      "4                    income_type    2.061686\n",
      "5                       edu_type    1.052019\n",
      "6                    family_type    2.130814\n",
      "7                     house_type    1.027694\n",
      "8                     work_phone    1.226403\n",
      "9                          phone    1.123604\n",
      "10                         email    1.034833\n",
      "11                    occyp_type    1.130134\n",
      "12                   family_size    2.866531\n",
      "13                   begin_month    1.036683\n",
      "14                        credit    1.025522\n",
      "15  income_total_befofeEMP_ratio   11.122135\n",
      "16         before_EMPLOYED_month    1.029276\n",
      "17          before_EMPLOYED_week    1.032266\n",
      "18                           Age    4.154805\n",
      "19              DAYS_BIRTH_month    1.029562\n",
      "20               DAYS_BIRTH_week    1.035890\n",
      "21                      EMPLOYED    2.024609\n",
      "22           DAYS_EMPLOYED_month    1.322756\n",
      "23            DAYS_EMPLOYED_week    1.240948\n",
      "24                   income_mean    7.231916\n",
      "25                            ID    1.009483\n",
      "26                     Intercept  166.324255\n"
     ]
    }
   ],
   "source": [
    "# 'ability' 변수 삭제 후 다시 적용\n",
    "\n",
    "# 제외할 변수 목록\n",
    "exclude_v = ['ability']\n",
    "\n",
    "# 선택된 변수들을 제외한 나머지 변수들을 가진 데이터프레임 생성\n",
    "train = train.drop(exclude_v, axis=1)\n",
    "\n",
    "# VIF 계산\n",
    "vif_data = pd.DataFrame()\n",
    "vif_data[\"Variable\"] = train.columns\n",
    "vif_data[\"VIF\"] = [variance_inflation_factor(train.values, i) for i in range(train.shape[1])]\n",
    "\n",
    "# 결과 출력\n",
    "print(vif_data)"
   ]
  },
  {
   "cell_type": "code",
   "execution_count": 30,
   "id": "66520fb1-12ea-4cf7-8858-46a948a1b2d8",
   "metadata": {},
   "outputs": [
    {
     "name": "stdout",
     "output_type": "stream",
     "text": [
      "                 Variable         VIF\n",
      "0                  gender    1.237169\n",
      "1                     car    1.218409\n",
      "2                 reality    1.069942\n",
      "3            income_total    4.892519\n",
      "4             income_type    1.921139\n",
      "5                edu_type    1.050367\n",
      "6             family_type    2.116545\n",
      "7              house_type    1.027633\n",
      "8              work_phone    1.223709\n",
      "9                   phone    1.123589\n",
      "10                  email    1.034728\n",
      "11             occyp_type    1.126542\n",
      "12            family_size    2.824987\n",
      "13            begin_month    1.036654\n",
      "14                 credit    1.025426\n",
      "15  before_EMPLOYED_month    1.029159\n",
      "16   before_EMPLOYED_week    1.032171\n",
      "17                    Age    1.746361\n",
      "18       DAYS_BIRTH_month    1.029560\n",
      "19        DAYS_BIRTH_week    1.035655\n",
      "20               EMPLOYED    1.152877\n",
      "21    DAYS_EMPLOYED_month    1.318471\n",
      "22     DAYS_EMPLOYED_week    1.238215\n",
      "23            income_mean    7.088723\n",
      "24                     ID    1.008950\n",
      "25              Intercept  144.241038\n"
     ]
    }
   ],
   "source": [
    "# 'income_total_befofeEMP_ratio' 변수 삭제 후 다시 적용\n",
    "\n",
    "# 제외할 변수 목록\n",
    "exclude_v = ['income_total_befofeEMP_ratio']\n",
    "\n",
    "# 선택된 변수들을 제외한 나머지 변수들을 가진 데이터프레임 생성\n",
    "train = train.drop(exclude_v, axis=1)\n",
    "\n",
    "# VIF 계산\n",
    "vif_data = pd.DataFrame()\n",
    "vif_data[\"Variable\"] = train.columns\n",
    "vif_data[\"VIF\"] = [variance_inflation_factor(train.values, i) for i in range(train.shape[1])]\n",
    "\n",
    "# 결과 출력\n",
    "print(vif_data)"
   ]
  },
  {
   "cell_type": "code",
   "execution_count": 31,
   "id": "2f99f318-36fc-438e-95af-e151e0abd4d7",
   "metadata": {},
   "outputs": [],
   "source": [
    "# 불필요한 'Intercept' 삭제\n",
    "train = train.drop('Intercept', axis=1)"
   ]
  },
  {
   "cell_type": "code",
   "execution_count": 32,
   "id": "94566856-0056-431c-8a41-500d178da3fc",
   "metadata": {},
   "outputs": [
    {
     "data": {
      "text/plain": [
       "(26451, 25)"
      ]
     },
     "execution_count": 32,
     "metadata": {},
     "output_type": "execute_result"
    }
   ],
   "source": [
    "# 최종 완성!\n",
    "train.shape"
   ]
  },
  {
   "cell_type": "code",
   "execution_count": 33,
   "id": "fc32a4b8-8374-4476-acce-ba754795db17",
   "metadata": {},
   "outputs": [],
   "source": [
    "# [적용할 경우] train은 train_df(원본 데이터)에 넣어주고 + test는 동일한 값 삭제 해주기\n",
    "train_df = train\n",
    "\n",
    "ex_data = ['DAYS_BIRTH', 'before_EMPLOYED', 'DAYS_EMPLOYED', 'child_num', 'ability', 'income_total_befofeEMP_ratio']\n",
    "test_df = test_df.drop(ex_data, axis=1, )"
   ]
  },
  {
   "cell_type": "code",
   "execution_count": 34,
   "id": "2e10fbf3-c315-4409-b250-a3ebc691104c",
   "metadata": {},
   "outputs": [
    {
     "data": {
      "text/plain": [
       "(26451, 25)"
      ]
     },
     "execution_count": 34,
     "metadata": {},
     "output_type": "execute_result"
    }
   ],
   "source": [
    "train_df.shape"
   ]
  },
  {
   "cell_type": "code",
   "execution_count": 35,
   "id": "e9993181-2cb0-4617-b7ef-e9af507992fb",
   "metadata": {},
   "outputs": [
    {
     "data": {
      "text/plain": [
       "(10000, 24)"
      ]
     },
     "execution_count": 35,
     "metadata": {},
     "output_type": "execute_result"
    }
   ],
   "source": [
    "test_df.shape"
   ]
  },
  {
   "cell_type": "markdown",
   "id": "36dd940a-95ae-42c7-ba65-e9f282bd91a5",
   "metadata": {
    "jp-MarkdownHeadingCollapsed": true
   },
   "source": [
    "### <span style=\"color:orange\">[3] 변수선택 방법 [전진선택법/후진소거법/단계적선택법]</span>"
   ]
  },
  {
   "cell_type": "code",
   "execution_count": null,
   "id": "5bb16f4f-6f78-4c81-83f4-ac24e46f9796",
   "metadata": {},
   "outputs": [],
   "source": [
    "# 모델링 부분에서 진행함. [모델 결과를 비교하면서 알아서 선택해주기 때문.]\n",
    "# 원래는 중요도를 보면서 하나씩 직접 삭제해가면서 성능 확인하는 방법이 제일 좋은 방법이긴 함."
   ]
  },
  {
   "cell_type": "code",
   "execution_count": null,
   "id": "dc9d7da4-379c-463d-80e9-2bd4624f76d4",
   "metadata": {},
   "outputs": [],
   "source": [
    "# [선 작업] 데이터 분할, \"회귀 모델 초기화\"\n",
    "\n",
    "# forward, floating 속성만 조절하면 됨\n",
    "# [1] 전진선택법 : True, False\n",
    "# [2] 후진소거법 : False, False\n",
    "# [3] 단계적 선택법 : True, True\n",
    "sfs_forward = SFS(logistic_model,\n",
    "                  k_features=(1, len(X_train.columns)),\n",
    "                  forward=True,\n",
    "                  floating=False,\n",
    "                  verbose=2,\n",
    "                  scoring='accuracy',\n",
    "                  cv=5,\n",
    "                  n_jobs=-1)\n",
    "\n",
    "sfs_forward = sfs_forward.fit(X_train_split, y_train_split)\n",
    "\n",
    "# 선택된 변수로 모델 훈련 + 평가 + test 데이터에 적용 + 결과 출력 (로그 손실 값 계산)\n",
    "# [적용 결과] : 3분류 대회다 보니 다중회귀분석을 적용해봤는데, 성능이 좋아짐. 후진소거법에서 가장 점수가 좋았음.\n",
    "# 하지만, 우리는 catboost 사용할 것이니 PASS, 그리고 후진소거법의 경우 너무 오래걸림. 데스크탑으로 돌리는 것을 추천함."
   ]
  },
  {
   "cell_type": "code",
   "execution_count": null,
   "id": "2f60640d-261a-4952-8150-7388239c1ed6",
   "metadata": {},
   "outputs": [],
   "source": []
  },
  {
   "cell_type": "code",
   "execution_count": null,
   "id": "4cee631a-97b4-4c25-9d01-2b1c5c0583b2",
   "metadata": {},
   "outputs": [],
   "source": []
  },
  {
   "cell_type": "code",
   "execution_count": null,
   "id": "4310a80b-a723-460c-95c3-8757a86c1049",
   "metadata": {},
   "outputs": [],
   "source": []
  },
  {
   "cell_type": "code",
   "execution_count": null,
   "id": "440b4aa6-3803-4f20-9793-5fe276de2789",
   "metadata": {},
   "outputs": [],
   "source": []
  },
  {
   "cell_type": "code",
   "execution_count": null,
   "id": "2613c701-1ea0-43d5-b2a1-83545cf42294",
   "metadata": {},
   "outputs": [],
   "source": []
  },
  {
   "cell_type": "code",
   "execution_count": null,
   "id": "d8a89ba3-6262-488a-a5c4-2d39a00c76b5",
   "metadata": {},
   "outputs": [],
   "source": []
  },
  {
   "cell_type": "markdown",
   "id": "23ab4725-cb48-4b6a-8782-8e28535cd5b6",
   "metadata": {
    "jp-MarkdownHeadingCollapsed": true
   },
   "source": [
    "### <span style=\"color:orange\">[4] 변수의 유의성 검정</span>"
   ]
  },
  {
   "cell_type": "code",
   "execution_count": null,
   "id": "feb56639-23f2-4142-ad9e-002eb7b02eb9",
   "metadata": {},
   "outputs": [],
   "source": [
    "# 변수가 2개 이상일 때 사용 -> 변수 간의 독립성/관련성 검정\n",
    "# H0(귀무가설)은 \"두 변수의 연관성이 없다. 즉 독립이다.\"\n",
    "# H1(대립가설)은 \"연관성이 존재한다. 즉, 독립이 아니다.\"\n",
    "# p-value<0.05 : 신뢰수준 하에서 유의한 관계로, 대립가설 채택\n",
    "# p-value>0.05 : 신뢰수준 하에서 무의미한 관계로, 귀무가설 채택\n",
    "\n",
    "# 1. 카이제곱검정 - 독립성 검정\n",
    "# -> 카이제곱 독립성 검정은 두 범주형 변수 간의 관계가 독립적인지 여부를 검정하는 통계적 방법 중 하나\n",
    "\n",
    "# 2. 다중 로지스틱 검정 [그러므로 이건 밑에서 따로 진행]\n",
    "# -> 내가 알기론 밑에서 회귀분석할때 같이 통계표 보면서 p값이 0.05보다 작냐 안작냐 보면서 삭제하는 거 같음."
   ]
  },
  {
   "cell_type": "code",
   "execution_count": null,
   "id": "254bd346-1c42-4a76-8121-a38f74a9e591",
   "metadata": {},
   "outputs": [],
   "source": [
    "# 카이제곱 독립성 검정 [독립변수와 종속변수 간의 검정] [변수선택]\n",
    "\n",
    "import pandas as pd\n",
    "from scipy.stats import chi2_contingency\n",
    "\n",
    "# 데이터프레임을 불러오기\n",
    "data = train\n",
    "\n",
    "# 종속 변수와 독립 변수를 선택\n",
    "dependent_variable = 'credit'\n",
    "independent_variables = data.columns.difference([dependent_variable])\n",
    "\n",
    "# 결과를 저장할 빈 데이터프레임을 생성\n",
    "chi_square_results = pd.DataFrame(columns=['Variable', 'Chi2', 'P-value', 'Conclusion'])\n",
    "\n",
    "# 각 독립 변수에 대해 카이제곱 독립성 검정을 수행\n",
    "for variable in independent_variables:\n",
    "    contingency_table = pd.crosstab(data[dependent_variable], data[variable])\n",
    "    chi2, p, _, _ = chi2_contingency(contingency_table)\n",
    "    \n",
    "    # 결과를 데이터프레임에 추가\n",
    "    conclusion = \"Reject H0\" if p < 0.05 else \"Fail to reject H0\"\n",
    "    chi_square_results = chi_square_results.append({\n",
    "        'Variable': variable,\n",
    "        'Chi2': chi2,\n",
    "        'P-value': p,\n",
    "        'Conclusion': conclusion\n",
    "    }, ignore_index=True)\n",
    "\n",
    "# 결과를 출력\n",
    "chi_square_results"
   ]
  },
  {
   "cell_type": "markdown",
   "id": "9014fbbe-d06a-4e42-95fd-cb23399b6c1e",
   "metadata": {
    "jp-MarkdownHeadingCollapsed": true
   },
   "source": [
    "### <span style=\"color:orange\">[*] train, test 변수선택 적용 [변수 3개 삭제]</span>"
   ]
  },
  {
   "cell_type": "code",
   "execution_count": null,
   "id": "fe87da96-7199-49e2-b2fc-e66c8ca43c84",
   "metadata": {},
   "outputs": [],
   "source": [
    "# train에서 삭제한 변수 그대로 test_df에서도 삭제!\n",
    "exclude_test_v = ['child_num', 'DAYS_BIRTH', 'DAYS_EMPLOYED']\n",
    "\n",
    "train_df = train_df.drop(exclude_test_v, axis=1)\n",
    "test_df = test_df.drop(exclude_test_v, axis=1)"
   ]
  },
  {
   "cell_type": "code",
   "execution_count": null,
   "id": "2418a998-b328-4d59-8d8e-662b8c32cc55",
   "metadata": {},
   "outputs": [],
   "source": [
    "train_df.shape"
   ]
  },
  {
   "cell_type": "code",
   "execution_count": null,
   "id": "0abaaf83-a5de-4586-bc03-08b33cb21729",
   "metadata": {},
   "outputs": [],
   "source": [
    "test_df.shape"
   ]
  },
  {
   "cell_type": "code",
   "execution_count": null,
   "id": "8eed5955-6c0d-4f2f-b6bd-d9e65ecd7101",
   "metadata": {},
   "outputs": [],
   "source": [
    "# 최종 결과 시각화 [train_df]\n",
    "import seaborn as sns\n",
    "import matplotlib.pyplot as plt\n",
    "\n",
    "# train_df 데이터프레임의 상관계수 행렬\n",
    "correlation_matrix = train_df.corr()\n",
    "\n",
    "# 시각화 설정\n",
    "plt.figure(figsize=(12, 10))\n",
    "sns.heatmap(correlation_matrix, annot=True, cmap='coolwarm', fmt=\".2f\", linewidths=.5)\n",
    "plt.title('Correlation Matrix')\n",
    "plt.show()"
   ]
  },
  {
   "cell_type": "code",
   "execution_count": null,
   "id": "f090b33a-3ceb-47d6-bf69-5c3a4cbae169",
   "metadata": {},
   "outputs": [],
   "source": [
    "# 최종 결과 시각화 [test_df]\n",
    "import seaborn as sns\n",
    "import matplotlib.pyplot as plt\n",
    "\n",
    "# train_df 데이터프레임의 상관계수 행렬\n",
    "correlation_matrix = test_df.corr()\n",
    "\n",
    "# 시각화 설정\n",
    "plt.figure(figsize=(12, 10))\n",
    "sns.heatmap(correlation_matrix, annot=True, cmap='coolwarm', fmt=\".2f\", linewidths=.5)\n",
    "plt.title('Correlation Matrix')\n",
    "plt.show()"
   ]
  },
  {
   "cell_type": "markdown",
   "id": "621546cc-87d1-4c12-8fb0-598abca56eb8",
   "metadata": {
    "jp-MarkdownHeadingCollapsed": true
   },
   "source": [
    "## 로그변환 (왜도 파악)"
   ]
  },
  {
   "cell_type": "code",
   "execution_count": 36,
   "id": "fba68bef-3432-4385-a351-0d6a4561b6c1",
   "metadata": {},
   "outputs": [
    {
     "data": {
      "image/png": "[encoded data removed]",
      "text/plain": [
       "<Figure size 1500x500 with 2 Axes>"
      ]
     },
     "metadata": {},
     "output_type": "display_data"
    },
    {
     "data": {
      "image/png": "[encoded data removed]",
      "text/plain": [
       "<Figure size 1500x500 with 2 Axes>"
      ]
     },
     "metadata": {},
     "output_type": "display_data"
    }
   ],
   "source": [
    "def log_transform_column(df, column):\n",
    "    \n",
    "    # 로그 변환을 새로운 열로 추가\n",
    "    new_column_name = f'{column}_log'\n",
    "    df[new_column_name] = np.log1p(1+df[column])\n",
    "    \n",
    "    # 시각화를 위한 그래프 설정\n",
    "    fig, axes = plt.subplots(1, 2, figsize=(15, 5))\n",
    "\n",
    "    # 원래 변수에 대한 히스토그램 그리기\n",
    "    sns.histplot(df[column], kde=True, color='thistle', ax=axes[0])\n",
    "    axes[0].set_title(f'Original Distribution of {column}')\n",
    "    axes[0].set_xlabel(column)\n",
    "    axes[0].set_ylabel('Frequency')\n",
    "\n",
    "    # 로그 변환 변수에 대한 히스토그램 그리기\n",
    "    sns.histplot(df[new_column_name], kde=True, color='lightblue', ax=axes[1])\n",
    "    axes[1].set_title(f'Log Transformed Distribution of {column}')\n",
    "    axes[1].set_xlabel(new_column_name)\n",
    "    axes[1].set_ylabel('Frequency')\n",
    "\n",
    "    plt.tight_layout()\n",
    "    plt.show()\n",
    "    \n",
    "    return df\n",
    "\n",
    "# 각각 적용\n",
    "train_df = log_transform_column(train_df, 'income_total')\n",
    "test_df = log_transform_column(test_df, 'income_total')\n",
    "\n",
    "# 기존 칼럼 삭제\n",
    "train_df = train_df.drop(['income_total_log'], axis=1)\n",
    "test_df = test_df.drop(['income_total_log'], axis=1)"
   ]
  },
  {
   "cell_type": "markdown",
   "id": "e9ae6057-1251-4dfc-9ee2-213f4756ce9c",
   "metadata": {
    "jp-MarkdownHeadingCollapsed": true
   },
   "source": [
    "## 표준화(StandardScale)"
   ]
  },
  {
   "cell_type": "code",
   "execution_count": 37,
   "id": "f512c3fa-2b55-446c-85a2-f91990e3b910",
   "metadata": {},
   "outputs": [],
   "source": [
    "numerical_feats = ['work_phone', 'phone', 'email', 'family_size', 'begin_month', 'before_EMPLOYED_month', 'before_EMPLOYED_week', 'Age', \n",
    "                   'DAYS_BIRTH_month', 'DAYS_BIRTH_week', 'EMPLOYED', 'DAYS_EMPLOYED_month', 'DAYS_EMPLOYED_week', 'income_mean']\n",
    "\n",
    "# 'income_total'를 수치형 변수 목록에서 제거 [이미 로그변환 했으니 제외]\n",
    "# 변수 선택에서 삭제된 3개 : 'child_num', 'DAYS_BIRTH', 'DAYS_EMPLOYED'\n",
    "# 로그변환한 'income_total'은 제외\n",
    "# 구간화 변수 넣게 되면 : 'DAYS_BIRTH_bin', 'begin_month_bin', 'DAYS_EMPLOYED_bin' 추가하면 됨\n",
    "# 변수선택(vif)일 경우 삭제되는 변수 : 'DAYS_BIRTH', 'before_EMPLOYED', 'DAYS_EMPLOYED', 'child_num', 'ability', 'income_total_befofeEMP_ratio'\n",
    "                                # 즉, 추가로 'before_EMPLOYED', 'ability', 'income_total_befofeEMP_ratio' 삭제하면 됨.\n",
    "\n",
    "# [원본] : 혹시 모르니 따로 만들어두기\n",
    "# numerical_feats = ['work_phone', 'phone', 'email', 'family_size', 'begin_month', 'before_EMPLOYED', 'income_total_befofeEMP_ratio', 'before_EMPLOYED_month', 'before_EMPLOYED_week', 'Age', \n",
    "#                    'DAYS_BIRTH_month', 'DAYS_BIRTH_week', 'EMPLOYED', 'DAYS_EMPLOYED_month', 'DAYS_EMPLOYED_week', 'ability', 'income_mean']\n",
    "\n",
    "\n",
    "# StandardScaler 객체를 생성 및 초기화!\n",
    "scaler = StandardScaler()\n",
    "\n",
    "# 학습 데이터의 수치형 변수에 대해 scaler를 학습 데이터에 맞게 fitting하고 변수를 변환\n",
    "train_df[numerical_feats] = scaler.fit_transform(train_df[numerical_feats])\n",
    "\n",
    "# 테스트 데이터의 변수를 변환할 때에는 fitting한 scaler를 이용하여 표준화\n",
    "test_df[numerical_feats] = scaler.transform(test_df[numerical_feats])"
   ]
  },
  {
   "cell_type": "code",
   "execution_count": 38,
   "id": "f4f35317-8e29-40c8-87d2-4a2908647124",
   "metadata": {},
   "outputs": [
    {
     "data": {
      "text/html": [
       "<div>\n",
       "<style scoped>\n",
       "    .dataframe tbody tr th:only-of-type {\n",
       "        vertical-align: middle;\n",
       "    }\n",
       "\n",
       "    .dataframe tbody tr th {\n",
       "        vertical-align: top;\n",
       "    }\n",
       "\n",
       "    .dataframe thead th {\n",
       "        text-align: right;\n",
       "    }\n",
       "</style>\n",
       "<table border=\"1\" class=\"dataframe\">\n",
       "  <thead>\n",
       "    <tr style=\"text-align: right;\">\n",
       "      <th></th>\n",
       "      <th>gender</th>\n",
       "      <th>car</th>\n",
       "      <th>reality</th>\n",
       "      <th>income_total</th>\n",
       "      <th>income_type</th>\n",
       "      <th>edu_type</th>\n",
       "      <th>family_type</th>\n",
       "      <th>house_type</th>\n",
       "      <th>work_phone</th>\n",
       "      <th>phone</th>\n",
       "      <th>email</th>\n",
       "      <th>occyp_type</th>\n",
       "      <th>family_size</th>\n",
       "      <th>begin_month</th>\n",
       "      <th>credit</th>\n",
       "      <th>before_EMPLOYED_month</th>\n",
       "      <th>before_EMPLOYED_week</th>\n",
       "      <th>Age</th>\n",
       "      <th>DAYS_BIRTH_month</th>\n",
       "      <th>DAYS_BIRTH_week</th>\n",
       "      <th>EMPLOYED</th>\n",
       "      <th>DAYS_EMPLOYED_month</th>\n",
       "      <th>DAYS_EMPLOYED_week</th>\n",
       "      <th>income_mean</th>\n",
       "      <th>ID</th>\n",
       "    </tr>\n",
       "  </thead>\n",
       "  <tbody>\n",
       "    <tr>\n",
       "      <th>0</th>\n",
       "      <td>1</td>\n",
       "      <td>1</td>\n",
       "      <td>1</td>\n",
       "      <td>202500.0</td>\n",
       "      <td>1</td>\n",
       "      <td>1</td>\n",
       "      <td>1</td>\n",
       "      <td>1</td>\n",
       "      <td>-0.538321</td>\n",
       "      <td>-0.645632</td>\n",
       "      <td>-0.316977</td>\n",
       "      <td>1</td>\n",
       "      <td>-0.216262</td>\n",
       "      <td>-1.215242</td>\n",
       "      <td>1.0</td>\n",
       "      <td>0.166791</td>\n",
       "      <td>-1.348417</td>\n",
       "      <td>-0.452826</td>\n",
       "      <td>0.442795</td>\n",
       "      <td>-0.443485</td>\n",
       "      <td>0.994253</td>\n",
       "      <td>-1.230046</td>\n",
       "      <td>-1.077087</td>\n",
       "      <td>0.002062</td>\n",
       "      <td>1</td>\n",
       "    </tr>\n",
       "    <tr>\n",
       "      <th>1</th>\n",
       "      <td>1</td>\n",
       "      <td>1</td>\n",
       "      <td>2</td>\n",
       "      <td>247500.0</td>\n",
       "      <td>1</td>\n",
       "      <td>2</td>\n",
       "      <td>2</td>\n",
       "      <td>2</td>\n",
       "      <td>-0.538321</td>\n",
       "      <td>-0.645632</td>\n",
       "      <td>3.154805</td>\n",
       "      <td>2</td>\n",
       "      <td>0.897294</td>\n",
       "      <td>-1.275633</td>\n",
       "      <td>1.0</td>\n",
       "      <td>-0.418442</td>\n",
       "      <td>-0.458877</td>\n",
       "      <td>-1.060773</td>\n",
       "      <td>0.442795</td>\n",
       "      <td>-0.443485</td>\n",
       "      <td>-0.250471</td>\n",
       "      <td>-0.424295</td>\n",
       "      <td>-1.077087</td>\n",
       "      <td>-0.254157</td>\n",
       "      <td>2</td>\n",
       "    </tr>\n",
       "    <tr>\n",
       "      <th>2</th>\n",
       "      <td>2</td>\n",
       "      <td>2</td>\n",
       "      <td>2</td>\n",
       "      <td>450000.0</td>\n",
       "      <td>2</td>\n",
       "      <td>1</td>\n",
       "      <td>1</td>\n",
       "      <td>2</td>\n",
       "      <td>-0.538321</td>\n",
       "      <td>1.548870</td>\n",
       "      <td>-0.316977</td>\n",
       "      <td>3</td>\n",
       "      <td>-0.216262</td>\n",
       "      <td>-0.248981</td>\n",
       "      <td>2.0</td>\n",
       "      <td>0.752023</td>\n",
       "      <td>-0.458877</td>\n",
       "      <td>0.763069</td>\n",
       "      <td>-1.582567</td>\n",
       "      <td>0.451504</td>\n",
       "      <td>0.994253</td>\n",
       "      <td>-0.424295</td>\n",
       "      <td>-0.223607</td>\n",
       "      <td>1.693108</td>\n",
       "      <td>3</td>\n",
       "    </tr>\n",
       "    <tr>\n",
       "      <th>3</th>\n",
       "      <td>1</td>\n",
       "      <td>1</td>\n",
       "      <td>2</td>\n",
       "      <td>202500.0</td>\n",
       "      <td>1</td>\n",
       "      <td>2</td>\n",
       "      <td>1</td>\n",
       "      <td>2</td>\n",
       "      <td>-0.538321</td>\n",
       "      <td>1.548870</td>\n",
       "      <td>-0.316977</td>\n",
       "      <td>4</td>\n",
       "      <td>-0.216262</td>\n",
       "      <td>0.656889</td>\n",
       "      <td>0.0</td>\n",
       "      <td>-1.296291</td>\n",
       "      <td>-1.348417</td>\n",
       "      <td>-0.192277</td>\n",
       "      <td>1.310808</td>\n",
       "      <td>1.346494</td>\n",
       "      <td>-0.094880</td>\n",
       "      <td>1.187206</td>\n",
       "      <td>0.629874</td>\n",
       "      <td>0.002062</td>\n",
       "      <td>4</td>\n",
       "    </tr>\n",
       "    <tr>\n",
       "      <th>4</th>\n",
       "      <td>1</td>\n",
       "      <td>2</td>\n",
       "      <td>2</td>\n",
       "      <td>157500.0</td>\n",
       "      <td>3</td>\n",
       "      <td>1</td>\n",
       "      <td>1</td>\n",
       "      <td>2</td>\n",
       "      <td>-0.538321</td>\n",
       "      <td>-0.645632</td>\n",
       "      <td>-0.316977</td>\n",
       "      <td>3</td>\n",
       "      <td>-0.216262</td>\n",
       "      <td>-0.007416</td>\n",
       "      <td>2.0</td>\n",
       "      <td>1.629872</td>\n",
       "      <td>1.320202</td>\n",
       "      <td>-0.192277</td>\n",
       "      <td>1.021471</td>\n",
       "      <td>-1.338475</td>\n",
       "      <td>-0.094880</td>\n",
       "      <td>1.455790</td>\n",
       "      <td>-1.077087</td>\n",
       "      <td>-0.305401</td>\n",
       "      <td>5</td>\n",
       "    </tr>\n",
       "  </tbody>\n",
       "</table>\n",
       "</div>"
      ],
      "text/plain": [
       "   gender  car  reality  income_total  income_type  edu_type  family_type  \\\n",
       "0       1    1        1      202500.0            1         1            1   \n",
       "1       1    1        2      247500.0            1         2            2   \n",
       "2       2    2        2      450000.0            2         1            1   \n",
       "3       1    1        2      202500.0            1         2            1   \n",
       "4       1    2        2      157500.0            3         1            1   \n",
       "\n",
       "   house_type  work_phone     phone     email  occyp_type  family_size  \\\n",
       "0           1   -0.538321 -0.645632 -0.316977           1    -0.216262   \n",
       "1           2   -0.538321 -0.645632  3.154805           2     0.897294   \n",
       "2           2   -0.538321  1.548870 -0.316977           3    -0.216262   \n",
       "3           2   -0.538321  1.548870 -0.316977           4    -0.216262   \n",
       "4           2   -0.538321 -0.645632 -0.316977           3    -0.216262   \n",
       "\n",
       "   begin_month  credit  before_EMPLOYED_month  before_EMPLOYED_week       Age  \\\n",
       "0    -1.215242     1.0               0.166791             -1.348417 -0.452826   \n",
       "1    -1.275633     1.0              -0.418442             -0.458877 -1.060773   \n",
       "2    -0.248981     2.0               0.752023             -0.458877  0.763069   \n",
       "3     0.656889     0.0              -1.296291             -1.348417 -0.192277   \n",
       "4    -0.007416     2.0               1.629872              1.320202 -0.192277   \n",
       "\n",
       "   DAYS_BIRTH_month  DAYS_BIRTH_week  EMPLOYED  DAYS_EMPLOYED_month  \\\n",
       "0          0.442795        -0.443485  0.994253            -1.230046   \n",
       "1          0.442795        -0.443485 -0.250471            -0.424295   \n",
       "2         -1.582567         0.451504  0.994253            -0.424295   \n",
       "3          1.310808         1.346494 -0.094880             1.187206   \n",
       "4          1.021471        -1.338475 -0.094880             1.455790   \n",
       "\n",
       "   DAYS_EMPLOYED_week  income_mean  ID  \n",
       "0           -1.077087     0.002062   1  \n",
       "1           -1.077087    -0.254157   2  \n",
       "2           -0.223607     1.693108   3  \n",
       "3            0.629874     0.002062   4  \n",
       "4           -1.077087    -0.305401   5  "
      ]
     },
     "execution_count": 38,
     "metadata": {},
     "output_type": "execute_result"
    }
   ],
   "source": [
    "train_df.head()"
   ]
  },
  {
   "cell_type": "code",
   "execution_count": 39,
   "id": "73d18738-44eb-4f4c-bb5a-0ac696093cd5",
   "metadata": {},
   "outputs": [
    {
     "data": {
      "text/html": [
       "<div>\n",
       "<style scoped>\n",
       "    .dataframe tbody tr th:only-of-type {\n",
       "        vertical-align: middle;\n",
       "    }\n",
       "\n",
       "    .dataframe tbody tr th {\n",
       "        vertical-align: top;\n",
       "    }\n",
       "\n",
       "    .dataframe thead th {\n",
       "        text-align: right;\n",
       "    }\n",
       "</style>\n",
       "<table border=\"1\" class=\"dataframe\">\n",
       "  <thead>\n",
       "    <tr style=\"text-align: right;\">\n",
       "      <th></th>\n",
       "      <th>gender</th>\n",
       "      <th>car</th>\n",
       "      <th>reality</th>\n",
       "      <th>income_total</th>\n",
       "      <th>income_type</th>\n",
       "      <th>edu_type</th>\n",
       "      <th>family_type</th>\n",
       "      <th>house_type</th>\n",
       "      <th>work_phone</th>\n",
       "      <th>phone</th>\n",
       "      <th>email</th>\n",
       "      <th>occyp_type</th>\n",
       "      <th>family_size</th>\n",
       "      <th>begin_month</th>\n",
       "      <th>before_EMPLOYED_month</th>\n",
       "      <th>before_EMPLOYED_week</th>\n",
       "      <th>Age</th>\n",
       "      <th>DAYS_BIRTH_month</th>\n",
       "      <th>DAYS_BIRTH_week</th>\n",
       "      <th>EMPLOYED</th>\n",
       "      <th>DAYS_EMPLOYED_month</th>\n",
       "      <th>DAYS_EMPLOYED_week</th>\n",
       "      <th>income_mean</th>\n",
       "      <th>ID</th>\n",
       "    </tr>\n",
       "  </thead>\n",
       "  <tbody>\n",
       "    <tr>\n",
       "      <th>0</th>\n",
       "      <td>2</td>\n",
       "      <td>2</td>\n",
       "      <td>1</td>\n",
       "      <td>112500.0</td>\n",
       "      <td>4</td>\n",
       "      <td>2</td>\n",
       "      <td>2</td>\n",
       "      <td>2</td>\n",
       "      <td>-0.538321</td>\n",
       "      <td>1.548870</td>\n",
       "      <td>-0.316977</td>\n",
       "      <td>1</td>\n",
       "      <td>-0.216262</td>\n",
       "      <td>2.045889</td>\n",
       "      <td>-1.296291</td>\n",
       "      <td>-0.458877</td>\n",
       "      <td>1.457866</td>\n",
       "      <td>-1.293230</td>\n",
       "      <td>-0.443485</td>\n",
       "      <td>-0.872832</td>\n",
       "      <td>-1.230046</td>\n",
       "      <td>-1.077087</td>\n",
       "      <td>-0.612864</td>\n",
       "      <td>1402</td>\n",
       "    </tr>\n",
       "    <tr>\n",
       "      <th>1</th>\n",
       "      <td>1</td>\n",
       "      <td>1</td>\n",
       "      <td>2</td>\n",
       "      <td>135000.0</td>\n",
       "      <td>3</td>\n",
       "      <td>1</td>\n",
       "      <td>1</td>\n",
       "      <td>2</td>\n",
       "      <td>-0.538321</td>\n",
       "      <td>1.548870</td>\n",
       "      <td>-0.316977</td>\n",
       "      <td>6</td>\n",
       "      <td>-0.216262</td>\n",
       "      <td>0.596497</td>\n",
       "      <td>0.459407</td>\n",
       "      <td>0.430662</td>\n",
       "      <td>0.676220</td>\n",
       "      <td>0.732133</td>\n",
       "      <td>-0.443485</td>\n",
       "      <td>2.705748</td>\n",
       "      <td>-0.961462</td>\n",
       "      <td>0.629874</td>\n",
       "      <td>-0.459133</td>\n",
       "      <td>312</td>\n",
       "    </tr>\n",
       "    <tr>\n",
       "      <th>2</th>\n",
       "      <td>1</td>\n",
       "      <td>1</td>\n",
       "      <td>2</td>\n",
       "      <td>69372.0</td>\n",
       "      <td>2</td>\n",
       "      <td>2</td>\n",
       "      <td>1</td>\n",
       "      <td>2</td>\n",
       "      <td>1.857628</td>\n",
       "      <td>1.548870</td>\n",
       "      <td>-0.316977</td>\n",
       "      <td>2</td>\n",
       "      <td>-0.216262</td>\n",
       "      <td>0.838063</td>\n",
       "      <td>0.166791</td>\n",
       "      <td>0.430662</td>\n",
       "      <td>-0.018578</td>\n",
       "      <td>-1.293230</td>\n",
       "      <td>-0.443485</td>\n",
       "      <td>-0.872832</td>\n",
       "      <td>0.650039</td>\n",
       "      <td>1.483355</td>\n",
       "      <td>-0.907537</td>\n",
       "      <td>2737</td>\n",
       "    </tr>\n",
       "    <tr>\n",
       "      <th>3</th>\n",
       "      <td>2</td>\n",
       "      <td>2</td>\n",
       "      <td>1</td>\n",
       "      <td>112500.0</td>\n",
       "      <td>1</td>\n",
       "      <td>2</td>\n",
       "      <td>1</td>\n",
       "      <td>2</td>\n",
       "      <td>1.857628</td>\n",
       "      <td>-0.645632</td>\n",
       "      <td>-0.316977</td>\n",
       "      <td>7</td>\n",
       "      <td>-0.216262</td>\n",
       "      <td>0.898454</td>\n",
       "      <td>-0.125826</td>\n",
       "      <td>1.320202</td>\n",
       "      <td>0.763069</td>\n",
       "      <td>0.153458</td>\n",
       "      <td>-1.338475</td>\n",
       "      <td>0.060710</td>\n",
       "      <td>-1.230046</td>\n",
       "      <td>-0.223607</td>\n",
       "      <td>-0.612864</td>\n",
       "      <td>8084</td>\n",
       "    </tr>\n",
       "    <tr>\n",
       "      <th>4</th>\n",
       "      <td>1</td>\n",
       "      <td>2</td>\n",
       "      <td>2</td>\n",
       "      <td>225000.0</td>\n",
       "      <td>3</td>\n",
       "      <td>1</td>\n",
       "      <td>1</td>\n",
       "      <td>2</td>\n",
       "      <td>1.857628</td>\n",
       "      <td>-0.645632</td>\n",
       "      <td>-0.316977</td>\n",
       "      <td>3</td>\n",
       "      <td>-0.216262</td>\n",
       "      <td>-1.094459</td>\n",
       "      <td>-0.125826</td>\n",
       "      <td>-0.458877</td>\n",
       "      <td>0.415671</td>\n",
       "      <td>0.153458</td>\n",
       "      <td>0.451504</td>\n",
       "      <td>3.016929</td>\n",
       "      <td>-1.230046</td>\n",
       "      <td>-1.077087</td>\n",
       "      <td>0.155793</td>\n",
       "      <td>5263</td>\n",
       "    </tr>\n",
       "  </tbody>\n",
       "</table>\n",
       "</div>"
      ],
      "text/plain": [
       "   gender  car  reality  income_total  income_type  edu_type  family_type  \\\n",
       "0       2    2        1      112500.0            4         2            2   \n",
       "1       1    1        2      135000.0            3         1            1   \n",
       "2       1    1        2       69372.0            2         2            1   \n",
       "3       2    2        1      112500.0            1         2            1   \n",
       "4       1    2        2      225000.0            3         1            1   \n",
       "\n",
       "   house_type  work_phone     phone     email  occyp_type  family_size  \\\n",
       "0           2   -0.538321  1.548870 -0.316977           1    -0.216262   \n",
       "1           2   -0.538321  1.548870 -0.316977           6    -0.216262   \n",
       "2           2    1.857628  1.548870 -0.316977           2    -0.216262   \n",
       "3           2    1.857628 -0.645632 -0.316977           7    -0.216262   \n",
       "4           2    1.857628 -0.645632 -0.316977           3    -0.216262   \n",
       "\n",
       "   begin_month  before_EMPLOYED_month  before_EMPLOYED_week       Age  \\\n",
       "0     2.045889              -1.296291             -0.458877  1.457866   \n",
       "1     0.596497               0.459407              0.430662  0.676220   \n",
       "2     0.838063               0.166791              0.430662 -0.018578   \n",
       "3     0.898454              -0.125826              1.320202  0.763069   \n",
       "4    -1.094459              -0.125826             -0.458877  0.415671   \n",
       "\n",
       "   DAYS_BIRTH_month  DAYS_BIRTH_week  EMPLOYED  DAYS_EMPLOYED_month  \\\n",
       "0         -1.293230        -0.443485 -0.872832            -1.230046   \n",
       "1          0.732133        -0.443485  2.705748            -0.961462   \n",
       "2         -1.293230        -0.443485 -0.872832             0.650039   \n",
       "3          0.153458        -1.338475  0.060710            -1.230046   \n",
       "4          0.153458         0.451504  3.016929            -1.230046   \n",
       "\n",
       "   DAYS_EMPLOYED_week  income_mean    ID  \n",
       "0           -1.077087    -0.612864  1402  \n",
       "1            0.629874    -0.459133   312  \n",
       "2            1.483355    -0.907537  2737  \n",
       "3           -0.223607    -0.612864  8084  \n",
       "4           -1.077087     0.155793  5263  "
      ]
     },
     "execution_count": 39,
     "metadata": {},
     "output_type": "execute_result"
    }
   ],
   "source": [
    "test_df.head()"
   ]
  },
  {
   "cell_type": "code",
   "execution_count": 40,
   "id": "e80e1b5f-5b35-4522-9fc6-2b97146c9374",
   "metadata": {},
   "outputs": [],
   "source": [
    "# train 데이터 행 몇개 삭제해서 오류남.. index 초기화 해줘야 함.\n",
    "train_df.reset_index(drop=True, inplace=True)\n",
    "test_df.reset_index(drop=True, inplace=True)"
   ]
  },
  {
   "cell_type": "markdown",
   "id": "44eadfe2-c2a6-4b24-bd9b-aa14f9afb0ea",
   "metadata": {
    "jp-MarkdownHeadingCollapsed": true
   },
   "source": [
    "## 군집화 변수 생성"
   ]
  },
  {
   "cell_type": "code",
   "execution_count": 41,
   "id": "0ad5274f-f68b-450b-95a3-485eecd6be69",
   "metadata": {},
   "outputs": [
    {
     "data": {
      "image/png": "[encoded data removed]",
      "text/plain": [
       "<Figure size 640x480 with 1 Axes>"
      ]
     },
     "metadata": {},
     "output_type": "display_data"
    }
   ],
   "source": [
    "# elbow point로 K를 구해봄 [범위를 (1,40)으로 두고 해도 결과는 똑같이 K=4일 때 급격하게 감소가 끝나는 구간이었음]\n",
    "from sklearn.cluster import KMeans\n",
    "import matplotlib.pyplot as plt\n",
    "\n",
    "kmeans_train = train_df.drop(['credit'], axis=1)\n",
    "\n",
    "# SSE 계산을 위한 리스트\n",
    "sse = []\n",
    "\n",
    "for k in range(1, 11):\n",
    "    kmeans = KMeans(n_clusters=k, random_state=42)\n",
    "    kmeans.fit(kmeans_train)\n",
    "    sse.append(kmeans.inertia_)\n",
    "\n",
    "# 엘보우 메서드 그래프\n",
    "plt.plot(range(1, 11), sse, marker='o')\n",
    "plt.xlabel('Number of Clusters')\n",
    "plt.ylabel('SSE')\n",
    "plt.show()"
   ]
  },
  {
   "cell_type": "code",
   "execution_count": 42,
   "id": "f32aa39e-d025-4b82-9628-081cfa4e93e3",
   "metadata": {},
   "outputs": [
    {
     "data": {
      "image/png": "[encoded data removed]",
      "text/plain": [
       "<Figure size 640x480 with 1 Axes>"
      ]
     },
     "metadata": {},
     "output_type": "display_data"
    }
   ],
   "source": [
    "from sklearn.metrics import silhouette_score\n",
    "\n",
    "sil_scores = []\n",
    "\n",
    "for k in range(2, 11):\n",
    "    kmeans = KMeans(n_clusters=k, random_state=42)\n",
    "    kmeans.fit(kmeans_train)\n",
    "    sil_score = silhouette_score(kmeans_train, kmeans.labels_)\n",
    "    sil_scores.append(sil_score)\n",
    "\n",
    "# 실루엣 분석 그래프\n",
    "plt.plot(range(2, 11), sil_scores, marker='o')\n",
    "plt.xlabel('Number of Clusters')\n",
    "plt.ylabel('Silhouette Score')\n",
    "plt.show()"
   ]
  },
  {
   "cell_type": "code",
   "execution_count": 41,
   "id": "72535312-17b7-4dd4-a9c1-6ca3bf9cecf9",
   "metadata": {},
   "outputs": [],
   "source": [
    "# 클러스터링 구성 변수 생성!!\n",
    "from sklearn.cluster import KMeans\n",
    "\n",
    "kmeans_train = train_df.drop(['credit'], axis=1)\n",
    "kmeans = KMeans(n_clusters=36, random_state=42).fit(kmeans_train)\n",
    "train_df['cluster'] = kmeans.predict(kmeans_train)\n",
    "test_df['cluster'] = kmeans.predict(test_df)"
   ]
  },
  {
   "cell_type": "markdown",
   "id": "9df1bcc5-7d7d-4e11-bc93-49b5ea675152",
   "metadata": {
    "jp-MarkdownHeadingCollapsed": true
   },
   "source": [
    "## 데이터 불균형 해결 "
   ]
  },
  {
   "cell_type": "code",
   "execution_count": 43,
   "id": "a422b14c-5015-46ff-9475-231ce68439d3",
   "metadata": {},
   "outputs": [],
   "source": [
    "from imblearn.under_sampling import RandomUnderSampler\n",
    "from imblearn.under_sampling import TomekLinks\n",
    "from imblearn.under_sampling import CondensedNearestNeighbour\n",
    "from imblearn.over_sampling import RandomOverSampler\n",
    "from imblearn.over_sampling import SMOTE, BorderlineSMOTE, ADASYN"
   ]
  },
  {
   "cell_type": "code",
   "execution_count": 53,
   "id": "11415b05-a8d6-46d2-a4bb-4e92d5566359",
   "metadata": {},
   "outputs": [
    {
     "data": {
      "text/html": [
       "<iframe\n",
       "    scrolling=\"no\"\n",
       "    width=\"100%\"\n",
       "    height=\"545px\"\n",
       "    src=\"iframe_figures/figure_53.html\"\n",
       "    frameborder=\"0\"\n",
       "    allowfullscreen\n",
       "></iframe>\n"
      ]
     },
     "metadata": {},
     "output_type": "display_data"
    }
   ],
   "source": [
    "# Credit 분포 시각화\n",
    "fig = px.pie(train, names='credit', title='Original Credit Distribution')\n",
    "fig.show()\n",
    "\n",
    "# 데이터 저장\n",
    "original_counts = train['credit'].value_counts()"
   ]
  },
  {
   "cell_type": "code",
   "execution_count": 46,
   "id": "b728e540-4dab-4fce-a2ec-cdbff8797d0a",
   "metadata": {},
   "outputs": [
    {
     "data": {
      "text/html": [
       "<iframe\n",
       "    scrolling=\"no\"\n",
       "    width=\"100%\"\n",
       "    height=\"545px\"\n",
       "    src=\"iframe_figures/figure_46.html\"\n",
       "    frameborder=\"0\"\n",
       "    allowfullscreen\n",
       "></iframe>\n"
      ]
     },
     "metadata": {},
     "output_type": "display_data"
    }
   ],
   "source": [
    "# 방법 1: Under Random Sampling\n",
    "rus = RandomUnderSampler(random_state=42)\n",
    "X_resampled, y_resampled = rus.fit_resample(train.drop('credit', axis=1), train['credit'])\n",
    "\n",
    "# Credit 분포 시각화\n",
    "fig = px.pie(pd.DataFrame(y_resampled, columns=['credit']), names='credit', title='Under Random Sampling')\n",
    "fig.show()\n",
    "\n",
    "# 데이터 저장\n",
    "under_random_counts = pd.Series(y_resampled).value_counts()"
   ]
  },
  {
   "cell_type": "code",
   "execution_count": 47,
   "id": "60c48dfd-7e94-49b2-9e36-6ac569da1ca9",
   "metadata": {},
   "outputs": [
    {
     "data": {
      "text/html": [
       "<iframe\n",
       "    scrolling=\"no\"\n",
       "    width=\"100%\"\n",
       "    height=\"545px\"\n",
       "    src=\"iframe_figures/figure_47.html\"\n",
       "    frameborder=\"0\"\n",
       "    allowfullscreen\n",
       "></iframe>\n"
      ]
     },
     "metadata": {},
     "output_type": "display_data"
    }
   ],
   "source": [
    "# 방법 2: Tomek Links\n",
    "tl = TomekLinks()\n",
    "X_resampled, y_resampled = tl.fit_resample(train.drop('credit', axis=1), train['credit'])\n",
    "\n",
    "# Credit 분포 시각화\n",
    "fig = px.pie(pd.DataFrame(y_resampled, columns=['credit']), names='credit', title='Tomek Links')\n",
    "fig.show()\n",
    "\n",
    "# 데이터 저장\n",
    "tomek_links_counts = pd.Series(y_resampled).value_counts()"
   ]
  },
  {
   "cell_type": "code",
   "execution_count": 48,
   "id": "bfc1670e-de32-419c-a401-a2be3f29da5a",
   "metadata": {
    "scrolled": true
   },
   "outputs": [
    {
     "ename": "KeyboardInterrupt",
     "evalue": "",
     "output_type": "error",
     "traceback": [
      "\u001b[0;31m---------------------------------------------------------------------------\u001b[0m",
      "\u001b[0;31mKeyboardInterrupt\u001b[0m                         Traceback (most recent call last)",
      "Cell \u001b[0;32mIn[48], line 5\u001b[0m\n\u001b[1;32m      1\u001b[0m \u001b[38;5;66;03m# 데스크탑으로 돌려봐야 하나? 왤케 맥북 시간 오래 걸리는 것을 떠나서 왤케 소리를 내지..?\u001b[39;00m\n\u001b[1;32m      2\u001b[0m \n\u001b[1;32m      3\u001b[0m \u001b[38;5;66;03m# 방법 3: CNN Rule\u001b[39;00m\n\u001b[1;32m      4\u001b[0m cnn \u001b[38;5;241m=\u001b[39m CondensedNearestNeighbour()\n\u001b[0;32m----> 5\u001b[0m X_resampled, y_resampled \u001b[38;5;241m=\u001b[39m \u001b[43mcnn\u001b[49m\u001b[38;5;241;43m.\u001b[39;49m\u001b[43mfit_resample\u001b[49m\u001b[43m(\u001b[49m\u001b[43mtrain\u001b[49m\u001b[38;5;241;43m.\u001b[39;49m\u001b[43mdrop\u001b[49m\u001b[43m(\u001b[49m\u001b[38;5;124;43m'\u001b[39;49m\u001b[38;5;124;43mcredit\u001b[39;49m\u001b[38;5;124;43m'\u001b[39;49m\u001b[43m,\u001b[49m\u001b[43m \u001b[49m\u001b[43maxis\u001b[49m\u001b[38;5;241;43m=\u001b[39;49m\u001b[38;5;241;43m1\u001b[39;49m\u001b[43m)\u001b[49m\u001b[43m,\u001b[49m\u001b[43m \u001b[49m\u001b[43mtrain\u001b[49m\u001b[43m[\u001b[49m\u001b[38;5;124;43m'\u001b[39;49m\u001b[38;5;124;43mcredit\u001b[39;49m\u001b[38;5;124;43m'\u001b[39;49m\u001b[43m]\u001b[49m\u001b[43m)\u001b[49m\n\u001b[1;32m      7\u001b[0m \u001b[38;5;66;03m# Credit 분포 시각화\u001b[39;00m\n\u001b[1;32m      8\u001b[0m fig \u001b[38;5;241m=\u001b[39m px\u001b[38;5;241m.\u001b[39mpie(pd\u001b[38;5;241m.\u001b[39mDataFrame(y_resampled, columns\u001b[38;5;241m=\u001b[39m[\u001b[38;5;124m'\u001b[39m\u001b[38;5;124mcredit\u001b[39m\u001b[38;5;124m'\u001b[39m]), names\u001b[38;5;241m=\u001b[39m\u001b[38;5;124m'\u001b[39m\u001b[38;5;124mcredit\u001b[39m\u001b[38;5;124m'\u001b[39m, title\u001b[38;5;241m=\u001b[39m\u001b[38;5;124m'\u001b[39m\u001b[38;5;124mCNN Rule\u001b[39m\u001b[38;5;124m'\u001b[39m)\n",
      "File \u001b[0;32m/opt/homebrew/lib/python3.11/site-packages/imblearn/base.py:208\u001b[0m, in \u001b[0;36mBaseSampler.fit_resample\u001b[0;34m(self, X, y)\u001b[0m\n\u001b[1;32m    187\u001b[0m \u001b[38;5;250m\u001b[39m\u001b[38;5;124;03m\"\"\"Resample the dataset.\u001b[39;00m\n\u001b[1;32m    188\u001b[0m \n\u001b[1;32m    189\u001b[0m \u001b[38;5;124;03mParameters\u001b[39;00m\n\u001b[0;32m   (...)\u001b[0m\n\u001b[1;32m    205\u001b[0m \u001b[38;5;124;03m    The corresponding label of `X_resampled`.\u001b[39;00m\n\u001b[1;32m    206\u001b[0m \u001b[38;5;124;03m\"\"\"\u001b[39;00m\n\u001b[1;32m    207\u001b[0m \u001b[38;5;28mself\u001b[39m\u001b[38;5;241m.\u001b[39m_validate_params()\n\u001b[0;32m--> 208\u001b[0m \u001b[38;5;28;01mreturn\u001b[39;00m \u001b[38;5;28;43msuper\u001b[39;49m\u001b[43m(\u001b[49m\u001b[43m)\u001b[49m\u001b[38;5;241;43m.\u001b[39;49m\u001b[43mfit_resample\u001b[49m\u001b[43m(\u001b[49m\u001b[43mX\u001b[49m\u001b[43m,\u001b[49m\u001b[43m \u001b[49m\u001b[43my\u001b[49m\u001b[43m)\u001b[49m\n",
      "File \u001b[0;32m/opt/homebrew/lib/python3.11/site-packages/imblearn/base.py:112\u001b[0m, in \u001b[0;36mSamplerMixin.fit_resample\u001b[0;34m(self, X, y)\u001b[0m\n\u001b[1;32m    106\u001b[0m X, y, binarize_y \u001b[38;5;241m=\u001b[39m \u001b[38;5;28mself\u001b[39m\u001b[38;5;241m.\u001b[39m_check_X_y(X, y)\n\u001b[1;32m    108\u001b[0m \u001b[38;5;28mself\u001b[39m\u001b[38;5;241m.\u001b[39msampling_strategy_ \u001b[38;5;241m=\u001b[39m check_sampling_strategy(\n\u001b[1;32m    109\u001b[0m     \u001b[38;5;28mself\u001b[39m\u001b[38;5;241m.\u001b[39msampling_strategy, y, \u001b[38;5;28mself\u001b[39m\u001b[38;5;241m.\u001b[39m_sampling_type\n\u001b[1;32m    110\u001b[0m )\n\u001b[0;32m--> 112\u001b[0m output \u001b[38;5;241m=\u001b[39m \u001b[38;5;28;43mself\u001b[39;49m\u001b[38;5;241;43m.\u001b[39;49m\u001b[43m_fit_resample\u001b[49m\u001b[43m(\u001b[49m\u001b[43mX\u001b[49m\u001b[43m,\u001b[49m\u001b[43m \u001b[49m\u001b[43my\u001b[49m\u001b[43m)\u001b[49m\n\u001b[1;32m    114\u001b[0m y_ \u001b[38;5;241m=\u001b[39m (\n\u001b[1;32m    115\u001b[0m     label_binarize(output[\u001b[38;5;241m1\u001b[39m], classes\u001b[38;5;241m=\u001b[39mnp\u001b[38;5;241m.\u001b[39munique(y)) \u001b[38;5;28;01mif\u001b[39;00m binarize_y \u001b[38;5;28;01melse\u001b[39;00m output[\u001b[38;5;241m1\u001b[39m]\n\u001b[1;32m    116\u001b[0m )\n\u001b[1;32m    118\u001b[0m X_, y_ \u001b[38;5;241m=\u001b[39m arrays_transformer\u001b[38;5;241m.\u001b[39mtransform(output[\u001b[38;5;241m0\u001b[39m], y_)\n",
      "File \u001b[0;32m/opt/homebrew/lib/python3.11/site-packages/imblearn/under_sampling/_prototype_selection/_condensed_nearest_neighbour.py:218\u001b[0m, in \u001b[0;36mCondensedNearestNeighbour._fit_resample\u001b[0;34m(self, X, y)\u001b[0m\n\u001b[1;32m    213\u001b[0m         \u001b[38;5;28mself\u001b[39m\u001b[38;5;241m.\u001b[39mestimator_\u001b[38;5;241m.\u001b[39mfit(C_x, C_y)\n\u001b[1;32m    215\u001b[0m         \u001b[38;5;66;03m# This experimental to speed up the search\u001b[39;00m\n\u001b[1;32m    216\u001b[0m         \u001b[38;5;66;03m# Classify all the element in S and avoid to test the\u001b[39;00m\n\u001b[1;32m    217\u001b[0m         \u001b[38;5;66;03m# well classified elements\u001b[39;00m\n\u001b[0;32m--> 218\u001b[0m         pred_S_y \u001b[38;5;241m=\u001b[39m \u001b[38;5;28;43mself\u001b[39;49m\u001b[38;5;241;43m.\u001b[39;49m\u001b[43mestimator_\u001b[49m\u001b[38;5;241;43m.\u001b[39;49m\u001b[43mpredict\u001b[49m\u001b[43m(\u001b[49m\u001b[43mS_x\u001b[49m\u001b[43m)\u001b[49m\n\u001b[1;32m    219\u001b[0m         good_classif_label \u001b[38;5;241m=\u001b[39m np\u001b[38;5;241m.\u001b[39munique(\n\u001b[1;32m    220\u001b[0m             np\u001b[38;5;241m.\u001b[39mappend(idx_maj_sample, np\u001b[38;5;241m.\u001b[39mflatnonzero(pred_S_y \u001b[38;5;241m==\u001b[39m S_y))\n\u001b[1;32m    221\u001b[0m         )\n\u001b[1;32m    223\u001b[0m idx_under \u001b[38;5;241m=\u001b[39m np\u001b[38;5;241m.\u001b[39mconcatenate((idx_under, idx_maj_sample), axis\u001b[38;5;241m=\u001b[39m\u001b[38;5;241m0\u001b[39m)\n",
      "File \u001b[0;32m/opt/homebrew/lib/python3.11/site-packages/sklearn/neighbors/_classification.py:234\u001b[0m, in \u001b[0;36mKNeighborsClassifier.predict\u001b[0;34m(self, X)\u001b[0m\n\u001b[1;32m    218\u001b[0m \u001b[38;5;250m\u001b[39m\u001b[38;5;124;03m\"\"\"Predict the class labels for the provided data.\u001b[39;00m\n\u001b[1;32m    219\u001b[0m \n\u001b[1;32m    220\u001b[0m \u001b[38;5;124;03mParameters\u001b[39;00m\n\u001b[0;32m   (...)\u001b[0m\n\u001b[1;32m    229\u001b[0m \u001b[38;5;124;03m    Class labels for each data sample.\u001b[39;00m\n\u001b[1;32m    230\u001b[0m \u001b[38;5;124;03m\"\"\"\u001b[39;00m\n\u001b[1;32m    231\u001b[0m \u001b[38;5;28;01mif\u001b[39;00m \u001b[38;5;28mself\u001b[39m\u001b[38;5;241m.\u001b[39mweights \u001b[38;5;241m==\u001b[39m \u001b[38;5;124m\"\u001b[39m\u001b[38;5;124muniform\u001b[39m\u001b[38;5;124m\"\u001b[39m:\n\u001b[1;32m    232\u001b[0m     \u001b[38;5;66;03m# In that case, we do not need the distances to perform\u001b[39;00m\n\u001b[1;32m    233\u001b[0m     \u001b[38;5;66;03m# the weighting so we do not compute them.\u001b[39;00m\n\u001b[0;32m--> 234\u001b[0m     neigh_ind \u001b[38;5;241m=\u001b[39m \u001b[38;5;28;43mself\u001b[39;49m\u001b[38;5;241;43m.\u001b[39;49m\u001b[43mkneighbors\u001b[49m\u001b[43m(\u001b[49m\u001b[43mX\u001b[49m\u001b[43m,\u001b[49m\u001b[43m \u001b[49m\u001b[43mreturn_distance\u001b[49m\u001b[38;5;241;43m=\u001b[39;49m\u001b[38;5;28;43;01mFalse\u001b[39;49;00m\u001b[43m)\u001b[49m\n\u001b[1;32m    235\u001b[0m     neigh_dist \u001b[38;5;241m=\u001b[39m \u001b[38;5;28;01mNone\u001b[39;00m\n\u001b[1;32m    236\u001b[0m \u001b[38;5;28;01melse\u001b[39;00m:\n",
      "File \u001b[0;32m/opt/homebrew/lib/python3.11/site-packages/sklearn/neighbors/_base.py:824\u001b[0m, in \u001b[0;36mKNeighborsMixin.kneighbors\u001b[0;34m(self, X, n_neighbors, return_distance)\u001b[0m\n\u001b[1;32m    817\u001b[0m use_pairwise_distances_reductions \u001b[38;5;241m=\u001b[39m (\n\u001b[1;32m    818\u001b[0m     \u001b[38;5;28mself\u001b[39m\u001b[38;5;241m.\u001b[39m_fit_method \u001b[38;5;241m==\u001b[39m \u001b[38;5;124m\"\u001b[39m\u001b[38;5;124mbrute\u001b[39m\u001b[38;5;124m\"\u001b[39m\n\u001b[1;32m    819\u001b[0m     \u001b[38;5;129;01mand\u001b[39;00m ArgKmin\u001b[38;5;241m.\u001b[39mis_usable_for(\n\u001b[1;32m    820\u001b[0m         X \u001b[38;5;28;01mif\u001b[39;00m X \u001b[38;5;129;01mis\u001b[39;00m \u001b[38;5;129;01mnot\u001b[39;00m \u001b[38;5;28;01mNone\u001b[39;00m \u001b[38;5;28;01melse\u001b[39;00m \u001b[38;5;28mself\u001b[39m\u001b[38;5;241m.\u001b[39m_fit_X, \u001b[38;5;28mself\u001b[39m\u001b[38;5;241m.\u001b[39m_fit_X, \u001b[38;5;28mself\u001b[39m\u001b[38;5;241m.\u001b[39meffective_metric_\n\u001b[1;32m    821\u001b[0m     )\n\u001b[1;32m    822\u001b[0m )\n\u001b[1;32m    823\u001b[0m \u001b[38;5;28;01mif\u001b[39;00m use_pairwise_distances_reductions:\n\u001b[0;32m--> 824\u001b[0m     results \u001b[38;5;241m=\u001b[39m \u001b[43mArgKmin\u001b[49m\u001b[38;5;241;43m.\u001b[39;49m\u001b[43mcompute\u001b[49m\u001b[43m(\u001b[49m\n\u001b[1;32m    825\u001b[0m \u001b[43m        \u001b[49m\u001b[43mX\u001b[49m\u001b[38;5;241;43m=\u001b[39;49m\u001b[43mX\u001b[49m\u001b[43m,\u001b[49m\n\u001b[1;32m    826\u001b[0m \u001b[43m        \u001b[49m\u001b[43mY\u001b[49m\u001b[38;5;241;43m=\u001b[39;49m\u001b[38;5;28;43mself\u001b[39;49m\u001b[38;5;241;43m.\u001b[39;49m\u001b[43m_fit_X\u001b[49m\u001b[43m,\u001b[49m\n\u001b[1;32m    827\u001b[0m \u001b[43m        \u001b[49m\u001b[43mk\u001b[49m\u001b[38;5;241;43m=\u001b[39;49m\u001b[43mn_neighbors\u001b[49m\u001b[43m,\u001b[49m\n\u001b[1;32m    828\u001b[0m \u001b[43m        \u001b[49m\u001b[43mmetric\u001b[49m\u001b[38;5;241;43m=\u001b[39;49m\u001b[38;5;28;43mself\u001b[39;49m\u001b[38;5;241;43m.\u001b[39;49m\u001b[43meffective_metric_\u001b[49m\u001b[43m,\u001b[49m\n\u001b[1;32m    829\u001b[0m \u001b[43m        \u001b[49m\u001b[43mmetric_kwargs\u001b[49m\u001b[38;5;241;43m=\u001b[39;49m\u001b[38;5;28;43mself\u001b[39;49m\u001b[38;5;241;43m.\u001b[39;49m\u001b[43meffective_metric_params_\u001b[49m\u001b[43m,\u001b[49m\n\u001b[1;32m    830\u001b[0m \u001b[43m        \u001b[49m\u001b[43mstrategy\u001b[49m\u001b[38;5;241;43m=\u001b[39;49m\u001b[38;5;124;43m\"\u001b[39;49m\u001b[38;5;124;43mauto\u001b[39;49m\u001b[38;5;124;43m\"\u001b[39;49m\u001b[43m,\u001b[49m\n\u001b[1;32m    831\u001b[0m \u001b[43m        \u001b[49m\u001b[43mreturn_distance\u001b[49m\u001b[38;5;241;43m=\u001b[39;49m\u001b[43mreturn_distance\u001b[49m\u001b[43m,\u001b[49m\n\u001b[1;32m    832\u001b[0m \u001b[43m    \u001b[49m\u001b[43m)\u001b[49m\n\u001b[1;32m    834\u001b[0m \u001b[38;5;28;01melif\u001b[39;00m (\n\u001b[1;32m    835\u001b[0m     \u001b[38;5;28mself\u001b[39m\u001b[38;5;241m.\u001b[39m_fit_method \u001b[38;5;241m==\u001b[39m \u001b[38;5;124m\"\u001b[39m\u001b[38;5;124mbrute\u001b[39m\u001b[38;5;124m\"\u001b[39m \u001b[38;5;129;01mand\u001b[39;00m \u001b[38;5;28mself\u001b[39m\u001b[38;5;241m.\u001b[39mmetric \u001b[38;5;241m==\u001b[39m \u001b[38;5;124m\"\u001b[39m\u001b[38;5;124mprecomputed\u001b[39m\u001b[38;5;124m\"\u001b[39m \u001b[38;5;129;01mand\u001b[39;00m issparse(X)\n\u001b[1;32m    836\u001b[0m ):\n\u001b[1;32m    837\u001b[0m     results \u001b[38;5;241m=\u001b[39m _kneighbors_from_graph(\n\u001b[1;32m    838\u001b[0m         X, n_neighbors\u001b[38;5;241m=\u001b[39mn_neighbors, return_distance\u001b[38;5;241m=\u001b[39mreturn_distance\n\u001b[1;32m    839\u001b[0m     )\n",
      "File \u001b[0;32m/opt/homebrew/lib/python3.11/site-packages/sklearn/metrics/_pairwise_distances_reduction/_dispatcher.py:277\u001b[0m, in \u001b[0;36mArgKmin.compute\u001b[0;34m(cls, X, Y, k, metric, chunk_size, metric_kwargs, strategy, return_distance)\u001b[0m\n\u001b[1;32m    196\u001b[0m \u001b[38;5;250m\u001b[39m\u001b[38;5;124;03m\"\"\"Compute the argkmin reduction.\u001b[39;00m\n\u001b[1;32m    197\u001b[0m \n\u001b[1;32m    198\u001b[0m \u001b[38;5;124;03mParameters\u001b[39;00m\n\u001b[0;32m   (...)\u001b[0m\n\u001b[1;32m    274\u001b[0m \u001b[38;5;124;03mreturns.\u001b[39;00m\n\u001b[1;32m    275\u001b[0m \u001b[38;5;124;03m\"\"\"\u001b[39;00m\n\u001b[1;32m    276\u001b[0m \u001b[38;5;28;01mif\u001b[39;00m X\u001b[38;5;241m.\u001b[39mdtype \u001b[38;5;241m==\u001b[39m Y\u001b[38;5;241m.\u001b[39mdtype \u001b[38;5;241m==\u001b[39m np\u001b[38;5;241m.\u001b[39mfloat64:\n\u001b[0;32m--> 277\u001b[0m     \u001b[38;5;28;01mreturn\u001b[39;00m \u001b[43mArgKmin64\u001b[49m\u001b[38;5;241;43m.\u001b[39;49m\u001b[43mcompute\u001b[49m\u001b[43m(\u001b[49m\n\u001b[1;32m    278\u001b[0m \u001b[43m        \u001b[49m\u001b[43mX\u001b[49m\u001b[38;5;241;43m=\u001b[39;49m\u001b[43mX\u001b[49m\u001b[43m,\u001b[49m\n\u001b[1;32m    279\u001b[0m \u001b[43m        \u001b[49m\u001b[43mY\u001b[49m\u001b[38;5;241;43m=\u001b[39;49m\u001b[43mY\u001b[49m\u001b[43m,\u001b[49m\n\u001b[1;32m    280\u001b[0m \u001b[43m        \u001b[49m\u001b[43mk\u001b[49m\u001b[38;5;241;43m=\u001b[39;49m\u001b[43mk\u001b[49m\u001b[43m,\u001b[49m\n\u001b[1;32m    281\u001b[0m \u001b[43m        \u001b[49m\u001b[43mmetric\u001b[49m\u001b[38;5;241;43m=\u001b[39;49m\u001b[43mmetric\u001b[49m\u001b[43m,\u001b[49m\n\u001b[1;32m    282\u001b[0m \u001b[43m        \u001b[49m\u001b[43mchunk_size\u001b[49m\u001b[38;5;241;43m=\u001b[39;49m\u001b[43mchunk_size\u001b[49m\u001b[43m,\u001b[49m\n\u001b[1;32m    283\u001b[0m \u001b[43m        \u001b[49m\u001b[43mmetric_kwargs\u001b[49m\u001b[38;5;241;43m=\u001b[39;49m\u001b[43mmetric_kwargs\u001b[49m\u001b[43m,\u001b[49m\n\u001b[1;32m    284\u001b[0m \u001b[43m        \u001b[49m\u001b[43mstrategy\u001b[49m\u001b[38;5;241;43m=\u001b[39;49m\u001b[43mstrategy\u001b[49m\u001b[43m,\u001b[49m\n\u001b[1;32m    285\u001b[0m \u001b[43m        \u001b[49m\u001b[43mreturn_distance\u001b[49m\u001b[38;5;241;43m=\u001b[39;49m\u001b[43mreturn_distance\u001b[49m\u001b[43m,\u001b[49m\n\u001b[1;32m    286\u001b[0m \u001b[43m    \u001b[49m\u001b[43m)\u001b[49m\n\u001b[1;32m    288\u001b[0m \u001b[38;5;28;01mif\u001b[39;00m X\u001b[38;5;241m.\u001b[39mdtype \u001b[38;5;241m==\u001b[39m Y\u001b[38;5;241m.\u001b[39mdtype \u001b[38;5;241m==\u001b[39m np\u001b[38;5;241m.\u001b[39mfloat32:\n\u001b[1;32m    289\u001b[0m     \u001b[38;5;28;01mreturn\u001b[39;00m ArgKmin32\u001b[38;5;241m.\u001b[39mcompute(\n\u001b[1;32m    290\u001b[0m         X\u001b[38;5;241m=\u001b[39mX,\n\u001b[1;32m    291\u001b[0m         Y\u001b[38;5;241m=\u001b[39mY,\n\u001b[0;32m   (...)\u001b[0m\n\u001b[1;32m    297\u001b[0m         return_distance\u001b[38;5;241m=\u001b[39mreturn_distance,\n\u001b[1;32m    298\u001b[0m     )\n",
      "File \u001b[0;32msklearn/metrics/_pairwise_distances_reduction/_argkmin.pyx:95\u001b[0m, in \u001b[0;36msklearn.metrics._pairwise_distances_reduction._argkmin.ArgKmin64.compute\u001b[0;34m()\u001b[0m\n",
      "File \u001b[0;32m/opt/homebrew/lib/python3.11/site-packages/threadpoolctl.py:440\u001b[0m, in \u001b[0;36m_ThreadpoolLimiter.__exit__\u001b[0;34m(self, type, value, traceback)\u001b[0m\n\u001b[1;32m    437\u001b[0m \u001b[38;5;28;01mdef\u001b[39;00m \u001b[38;5;21m__enter__\u001b[39m(\u001b[38;5;28mself\u001b[39m):\n\u001b[1;32m    438\u001b[0m     \u001b[38;5;28;01mreturn\u001b[39;00m \u001b[38;5;28mself\u001b[39m\n\u001b[0;32m--> 440\u001b[0m \u001b[38;5;28;01mdef\u001b[39;00m \u001b[38;5;21m__exit__\u001b[39m(\u001b[38;5;28mself\u001b[39m, \u001b[38;5;28mtype\u001b[39m, value, traceback):\n\u001b[1;32m    441\u001b[0m     \u001b[38;5;28mself\u001b[39m\u001b[38;5;241m.\u001b[39mrestore_original_limits()\n\u001b[1;32m    443\u001b[0m \u001b[38;5;129m@classmethod\u001b[39m\n\u001b[1;32m    444\u001b[0m \u001b[38;5;28;01mdef\u001b[39;00m \u001b[38;5;21mwrap\u001b[39m(\u001b[38;5;28mcls\u001b[39m, controller, \u001b[38;5;241m*\u001b[39m, limits\u001b[38;5;241m=\u001b[39m\u001b[38;5;28;01mNone\u001b[39;00m, user_api\u001b[38;5;241m=\u001b[39m\u001b[38;5;28;01mNone\u001b[39;00m):\n",
      "\u001b[0;31mKeyboardInterrupt\u001b[0m: "
     ]
    }
   ],
   "source": [
    "# 데스크탑으로 돌려봐야 하나? 왤케 맥북 시간 오래 걸리는 것을 떠나서 왤케 소리를 내지..?\n",
    "\n",
    "# 방법 3: CNN Rule\n",
    "cnn = CondensedNearestNeighbour()\n",
    "X_resampled, y_resampled = cnn.fit_resample(train.drop('credit', axis=1), train['credit'])\n",
    "\n",
    "# Credit 분포 시각화\n",
    "fig = px.pie(pd.DataFrame(y_resampled, columns=['credit']), names='credit', title='CNN Rule')\n",
    "fig.show()\n",
    "\n",
    "# 데이터 저장\n",
    "cnn_counts = pd.Series(y_resampled).value_counts()"
   ]
  },
  {
   "cell_type": "code",
   "execution_count": 49,
   "id": "693afcd6-450d-4c4e-af4e-1d57ca57f413",
   "metadata": {},
   "outputs": [
    {
     "data": {
      "text/html": [
       "<iframe\n",
       "    scrolling=\"no\"\n",
       "    width=\"100%\"\n",
       "    height=\"545px\"\n",
       "    src=\"iframe_figures/figure_49.html\"\n",
       "    frameborder=\"0\"\n",
       "    allowfullscreen\n",
       "></iframe>\n"
      ]
     },
     "metadata": {},
     "output_type": "display_data"
    }
   ],
   "source": [
    "# 방법 4: Over Random Sampling\n",
    "ros = RandomOverSampler(random_state=42)\n",
    "X_resampled, y_resampled = ros.fit_resample(train.drop('credit', axis=1), train['credit'])\n",
    "\n",
    "# Credit 분포 시각화\n",
    "fig = px.pie(pd.DataFrame(y_resampled, columns=['credit']), names='credit', title='Over Random Sampling')\n",
    "fig.show()\n",
    "\n",
    "# 데이터 저장\n",
    "over_random_counts = pd.Series(y_resampled).value_counts()"
   ]
  },
  {
   "cell_type": "code",
   "execution_count": 50,
   "id": "dbb951aa-c695-49fe-8c0d-b56a5ec1b739",
   "metadata": {},
   "outputs": [
    {
     "data": {
      "text/html": [
       "<iframe\n",
       "    scrolling=\"no\"\n",
       "    width=\"100%\"\n",
       "    height=\"545px\"\n",
       "    src=\"iframe_figures/figure_50.html\"\n",
       "    frameborder=\"0\"\n",
       "    allowfullscreen\n",
       "></iframe>\n"
      ]
     },
     "metadata": {},
     "output_type": "display_data"
    }
   ],
   "source": [
    "# 방법 5: SMOTE\n",
    "smote = SMOTE(random_state=42)\n",
    "X_resampled, y_resampled = smote.fit_resample(train.drop('credit', axis=1), train['credit'])\n",
    "\n",
    "# Credit 분포 시각화\n",
    "fig = px.pie(pd.DataFrame(y_resampled, columns=['credit']), names='credit', title='SMOTE')\n",
    "fig.show()\n",
    "\n",
    "# 데이터 저장\n",
    "smote_counts = pd.Series(y_resampled).value_counts()"
   ]
  },
  {
   "cell_type": "code",
   "execution_count": 51,
   "id": "e0526f49-c380-450c-bf6a-f6e93a2888a7",
   "metadata": {},
   "outputs": [
    {
     "data": {
      "text/html": [
       "<iframe\n",
       "    scrolling=\"no\"\n",
       "    width=\"100%\"\n",
       "    height=\"545px\"\n",
       "    src=\"iframe_figures/figure_51.html\"\n",
       "    frameborder=\"0\"\n",
       "    allowfullscreen\n",
       "></iframe>\n"
      ]
     },
     "metadata": {},
     "output_type": "display_data"
    }
   ],
   "source": [
    "# 방법 6: Borderline-SMOTE\n",
    "bsmote = BorderlineSMOTE(random_state=42)\n",
    "X_resampled, y_resampled = bsmote.fit_resample(train.drop('credit', axis=1), train['credit'])\n",
    "\n",
    "# Credit 분포 시각화\n",
    "fig = px.pie(pd.DataFrame(y_resampled, columns=['credit']), names='credit', title='Borderline-SMOTE')\n",
    "fig.show()\n",
    "\n",
    "# 데이터 저장\n",
    "bsmote_counts = pd.Series(y_resampled).value_counts()"
   ]
  },
  {
   "cell_type": "code",
   "execution_count": 52,
   "id": "4e6f6e03-311e-4836-ac2d-7177e0828d16",
   "metadata": {},
   "outputs": [
    {
     "data": {
      "text/html": [
       "<iframe\n",
       "    scrolling=\"no\"\n",
       "    width=\"100%\"\n",
       "    height=\"545px\"\n",
       "    src=\"iframe_figures/figure_52.html\"\n",
       "    frameborder=\"0\"\n",
       "    allowfullscreen\n",
       "></iframe>\n"
      ]
     },
     "metadata": {},
     "output_type": "display_data"
    }
   ],
   "source": [
    "# 방법 7: ADASYN\n",
    "adasyn = ADASYN(random_state=42)\n",
    "X_resampled, y_resampled = adasyn.fit_resample(train.drop('credit', axis=1), train['credit'])\n",
    "\n",
    "# Credit 분포 시각화\n",
    "fig = px.pie(pd.DataFrame(y_resampled, columns=['credit']), names='credit', title='ADASYN')\n",
    "fig.show()\n",
    "\n",
    "# 데이터 저장\n",
    "adasyn_counts = pd.Series(y_resampled).value_counts()"
   ]
  },
  {
   "cell_type": "code",
   "execution_count": 55,
   "id": "349fb6c4-5ecf-40e3-b18b-5b1909869fdc",
   "metadata": {},
   "outputs": [
    {
     "data": {
      "text/html": [
       "<iframe\n",
       "    scrolling=\"no\"\n",
       "    width=\"100%\"\n",
       "    height=\"545px\"\n",
       "    src=\"iframe_figures/figure_55.html\"\n",
       "    frameborder=\"0\"\n",
       "    allowfullscreen\n",
       "></iframe>\n"
      ]
     },
     "metadata": {},
     "output_type": "display_data"
    }
   ],
   "source": [
    "import plotly.graph_objects as go\n",
    "\n",
    "# 모든 결과를 하나의 데이터프레임으로 합치기\n",
    "result_df = pd.DataFrame({\n",
    "    'Original': original_counts,\n",
    "    'Under Random Sampling': under_random_counts,\n",
    "    'Tomek Links': tomek_links_counts, # 얜 왜 개수 안맞냐? -> 불균형이 심한 경우 거리에 따라 이럴 수 있음.\n",
    "    'CNN Rule': under_random_counts, # KNN과 비슷한 방식이라 너무 오래 걸림. 안할 것이기에 패스\n",
    "    'Over Random Sampling': over_random_counts,\n",
    "    'SMOTE': smote_counts,\n",
    "    'Borderline-SMOTE': bsmote_counts,\n",
    "    'ADASYN': adasyn_counts\n",
    "})\n",
    "\n",
    "# 막대 그래프 생성\n",
    "fig = go.Figure()\n",
    "\n",
    "for credit_value in result_df.index:\n",
    "    fig.add_trace(go.Bar(x=result_df.columns, y=result_df.loc[credit_value], name=f'Credit {credit_value}'))\n",
    "\n",
    "fig.update_layout(barmode='group', title='Credit Distribution Comparison', xaxis_title='Sampling/Transformation Method', yaxis_title='Count')\n",
    "fig.show()"
   ]
  },
  {
   "cell_type": "code",
   "execution_count": null,
   "id": "1120ba64-8ae1-4721-bc4c-f694d04d3cd9",
   "metadata": {},
   "outputs": [],
   "source": [
    "train_df.info()"
   ]
  },
  {
   "cell_type": "code",
   "execution_count": null,
   "id": "a15ac509-c5da-4c61-ac99-719098e0cab4",
   "metadata": {},
   "outputs": [],
   "source": [
    "from imblearn.over_sampling import RandomOverSampler\n",
    "import pandas as pd\n",
    "\n",
    "# Random Over Sampling\n",
    "ros = RandomOverSampler(random_state=42)\n",
    "X_resampled, y_resampled = ros.fit_resample(train_df.drop('credit', axis=1), train_df['credit'])\n",
    "\n",
    "# 새로운 데이터프레임 생성\n",
    "train_df_resampled = pd.DataFrame(X_resampled, columns=train_df.columns[:-1])  # 목적 변수를 제외한 나머지 특성\n",
    "train_df_resampled['credit'] = y_resampled  # 목적 변수 추가\n",
    "\n",
    "# train_df_resampled를 사용하여 이후 모델 학습 등을 진행"
   ]
  },
  {
   "cell_type": "code",
   "execution_count": null,
   "id": "fd48d2ed-bedf-4127-a34d-fa086b5d8ace",
   "metadata": {},
   "outputs": [],
   "source": [
    "# 🔥 데이터 불균형 처리 자체가 성능을 높여주는 경우가 있긴 한데, 우린 아님. 결과가 좋지 않게 나옴! [미실시 예정]\n",
    "# 🔥 언더 샘플링은 정보의 손실을 불러오면서, 오버 샘플링의 경우 언더 샘플링도 그렇지만, 과/과소 적합이 발생될 때 있음\n",
    "train_df_resampled.info()"
   ]
  },
  {
   "cell_type": "markdown",
   "id": "b9c9decf-4260-4b87-8f56-13e8d96c6a16",
   "metadata": {
    "jp-MarkdownHeadingCollapsed": true
   },
   "source": [
    "## PCA"
   ]
  },
  {
   "cell_type": "code",
   "execution_count": null,
   "id": "f23c4500-108d-42bf-b361-5025aec6f144",
   "metadata": {},
   "outputs": [],
   "source": [
    "from sklearn.decomposition import PCA\n",
    "from sklearn.discriminant_analysis import LinearDiscriminantAnalysis as LDA\n",
    "from sklearn.manifold import TSNE\n",
    "from sklearn.manifold import LocallyLinearEmbedding as LLE\n",
    "from umap import UMAP"
   ]
  },
  {
   "cell_type": "code",
   "execution_count": null,
   "id": "f163b613-c03f-44b6-8729-46b357b85536",
   "metadata": {},
   "outputs": [],
   "source": [
    "# PCA 적용해보기\n",
    "import pandas as pd\n",
    "from sklearn.decomposition import PCA\n",
    "from sklearn.preprocessing import StandardScaler\n",
    "\n",
    "# 숫자형 특성 선택\n",
    "numeric_features = train_df.select_dtypes(include=[np.number])\n",
    "\n",
    "# 데이터 표준화 (Standardization)\n",
    "scaler = StandardScaler()\n",
    "numeric_features_standardized = scaler.fit_transform(numeric_features)\n",
    "\n",
    "# PCA 모델 생성 및 학습\n",
    "n_components = 2\n",
    "pca = PCA(n_components=n_components)\n",
    "train_df_pca = pca.fit_transform(numeric_features_standardized)\n",
    "\n",
    "# PCA 변환된 데이터프레임 출력\n",
    "print(\"Original shape:\", train_df.shape)\n",
    "print(\"Transformed shape:\", train_df_pca.shape)"
   ]
  },
  {
   "cell_type": "code",
   "execution_count": null,
   "id": "56c19f10-5da4-409c-9301-9e287016dba5",
   "metadata": {
    "scrolled": true
   },
   "outputs": [],
   "source": [
    "# 각 차원 축소 기법을 정의\n",
    "\n",
    "# PCA: 주성분 분석\n",
    "pca = PCA(n_components=10)  # 축소할 차원의 수를 설정함. 데이터의 분산을 얼마나 보존할지 결정\n",
    "\n",
    "# LDA: 선형 판별 분석\n",
    "lda = LDA(n_components=2)    # 목표 차원의 수를 설정함. 클래스 간의 차이를 최대화하는 특성 벡터를 찾아 차원을 축소\n",
    "\n",
    "# t-SNE: t-distributed Stochastic Neighbor Embedding\n",
    "tsne = TSNE(n_components=2)  # 축소할 차원의 수를 설정함. 고차원 데이터의 군집 간 구분을 강화하여 시각화에 사용\n",
    "\n",
    "# LLE: Locally Linear Embedding\n",
    "lle = LLE(n_neighbors=10, n_components=2)  # 이웃의 수와 목표 차원의 수를 설정함. 국부적인 연결을 보존하는 방식으로 차원을 축소\n",
    "\n",
    "# UMAP: Uniform Manifold Approximation and Projection\n",
    "umap = UMAP(n_components=2)  # 축소할 차원의 수를 설정함. t-SNE와 유사한 비선형 차원 축소 방법으로 효율적인 결과를 제공\n",
    "\n",
    "# 타겟 변수 : credit\n",
    "train_labels = train['credit']\n",
    "\n",
    "# 차원 축소 적용\n",
    "pca_result = pca.fit_transform(train)\n",
    "lda_result = lda.fit_transform(train, train_labels)  # LDA는 클래스 정보가 필요\n",
    "tsne_result = tsne.fit_transform(train)\n",
    "lle_result = lle.fit_transform(train)\n",
    "umap_result = umap.fit_transform(train)\n",
    "\n",
    "# 결과 확인\n",
    "print(f\"PCA 결과 차원: {pca_result.shape}\")\n",
    "print(f\"LDA 결과 차원: {lda_result.shape}\")\n",
    "print(f\"t-SNE 결과 차원: {tsne_result.shape}\")\n",
    "print(f\"LLE 결과 차원: {lle_result.shape}\")\n",
    "print(f\"UMAP 결과 차원: {umap_result.shape}\")"
   ]
  },
  {
   "cell_type": "markdown",
   "id": "c49a8990-b92f-4615-a764-ae5103f5389f",
   "metadata": {
    "jp-MarkdownHeadingCollapsed": true
   },
   "source": [
    "# <span style=\"color:gray\">⭐️Modeling⭐️</span> "
   ]
  },
  {
   "cell_type": "code",
   "execution_count": 42,
   "id": "9146deec-3746-4e03-b7f7-250699474411",
   "metadata": {},
   "outputs": [],
   "source": [
    "# 우선 데이터 최종 결과 복사 해놓기\n",
    "train = train_df.copy()\n",
    "test = test_df.copy()"
   ]
  },
  {
   "cell_type": "markdown",
   "id": "9da0adcc-b045-43bd-9763-19a6a839cdb6",
   "metadata": {
    "jp-MarkdownHeadingCollapsed": true
   },
   "source": [
    "## <span style=\"color:orange\">[복습 X] 다양하게 적용해보기</span> "
   ]
  },
  {
   "cell_type": "markdown",
   "id": "526ca9e7-6405-4af2-bb90-051d977b2b14",
   "metadata": {
    "jp-MarkdownHeadingCollapsed": true
   },
   "source": [
    "#### [1] kfold 적용하지 않고 단순히 분류 모델 6개 적용해보기"
   ]
  },
  {
   "cell_type": "code",
   "execution_count": null,
   "id": "57ec4ef3-1044-4433-b95b-8b80209064fc",
   "metadata": {},
   "outputs": [],
   "source": [
    "from sklearn.ensemble import RandomForestClassifier, GradientBoostingClassifier\n",
    "from xgboost import XGBClassifier\n",
    "from lightgbm import LGBMClassifier\n",
    "from catboost import CatBoostClassifier\n",
    "from sklearn.linear_model import LogisticRegression\n",
    "\n",
    "# train 데이터셋에서 목적변수와 설명변수 분리\n",
    "X_train = train.drop('credit', axis=1)\n",
    "y_train = train['credit']\n",
    "\n",
    "# test 데이터셋에서 설명변수 분리\n",
    "X_test = test.copy()\n",
    "\n",
    "# [예시] 단순히 각 모델 학습\n",
    "rf_model = RandomForestClassifier(random_state=42)\n",
    "rf_model.fit(X_train, y_train)\n",
    "\n",
    "gb_model = GradientBoostingClassifier(random_state=42)\n",
    "gb_model.fit(X_train, y_train)\n",
    "\n",
    "xgb_model = XGBClassifier(random_state=42)\n",
    "xgb_model.fit(X_train, y_train)\n",
    "\n",
    "lgbm_model = LGBMClassifier(random_state=42)\n",
    "lgbm_model.fit(X_train, y_train)\n",
    "\n",
    "catboost_model = CatBoostClassifier(random_state=42, verbose=0)\n",
    "catboost_model.fit(X_train, y_train)\n",
    "\n",
    "logistic_model = LogisticRegression(max_iter=1000, random_state=42)\n",
    "logistic_model.fit(X_train, y_train)\n",
    "\n",
    "# 각 모델 예측\n",
    "rf_pred = rf_model.predict(X_test)\n",
    "gb_pred = gb_model.predict(X_test)\n",
    "xgb_pred = xgb_model.predict(X_test)\n",
    "lgbm_pred = lgbm_model.predict(X_test)\n",
    "catboost_pred = catboost_model.predict(X_test)\n",
    "logistic_pred = logistic_model.predict(X_test)\n",
    "\n",
    "# 예측 결과 확인\n",
    "print(\"Random Forest 예측 결과:\", rf_pred)\n",
    "print(\"Gradient Boosting 예측 결과:\", gb_pred)\n",
    "print(\"XGBoost 예측 결과:\", xgb_pred)\n",
    "print(\"LightGBM 예측 결과:\", lgbm_pred)\n",
    "print(\"CatBoost 예측 결과:\", catboost_pred)\n",
    "print(\"Logistic Regression 예측 결과:\", logistic_pred)"
   ]
  },
  {
   "cell_type": "markdown",
   "id": "30bebf76-8741-485a-83bf-88e45310c56d",
   "metadata": {
    "jp-MarkdownHeadingCollapsed": true
   },
   "source": [
    "#### [2] catboost S_K-Fold 사용"
   ]
  },
  {
   "cell_type": "code",
   "execution_count": null,
   "id": "c7d456d8-56b3-4d51-b689-a233a5c812bf",
   "metadata": {},
   "outputs": [],
   "source": [
    "# cat boost 사용\n",
    "\n",
    "from sklearn.model_selection import StratifiedKFold\n",
    "from catboost import CatBoostClassifier, Pool\n",
    "from sklearn.metrics import log_loss\n",
    "\n",
    "# 데이터 기본 속성 설정 (우선, 코드공유에 나와있는 임의의 값 적용해봄)\n",
    "n_est = 2000\n",
    "seed = 42\n",
    "n_fold = 15\n",
    "n_class = 3\n",
    "\n",
    "# 타겟 변수 설정\n",
    "target = 'credit'\n",
    "\n",
    "# 훈련 데이터와 테스트 데이터 프레임 설정\n",
    "X = train_df.drop(target, axis=1)\n",
    "y = train_df[target]\n",
    "X_test = test_df\n",
    "\n",
    "# Stratified K-Fold 교차 검증 설정\n",
    "skfold = StratifiedKFold(n_splits=n_fold, shuffle=True, random_state=seed)\n",
    "folds=[]\n",
    "for train_idx, valid_idx in skfold.split(X, y):\n",
    "    folds.append((train_idx, valid_idx))\n",
    "\n",
    "# CatBoost 모델 예측 결과를 저장할 배열 초기화\n",
    "cat_pred = np.zeros((X.shape[0], n_class))\n",
    "cat_pred_test = np.zeros((X_test.shape[0], n_class))\n",
    "\n",
    "# CatBoost에 적용할 카테고리 변수 목록\n",
    "cat_cols = ['income_type', 'edu_type', 'family_type', 'house_type', 'occyp_type', 'ID']\n",
    "\n",
    "# 교차 검증 수행\n",
    "for fold in range(n_fold):\n",
    "    print(f'\\n----------------- Fold {fold} -----------------\\n')\n",
    "    train_idx, valid_idx = folds[fold]\n",
    "    X_train, X_valid, y_train, y_valid = X.iloc[train_idx], X.iloc[valid_idx], y[train_idx], y[valid_idx]\n",
    "    \n",
    "    # CatBoost에서 사용할 데이터 형식으로 변환\n",
    "    train_data = Pool(data=X_train, label=y_train, cat_features=cat_cols)\n",
    "    valid_data = Pool(data=X_valid, label=y_valid, cat_features=cat_cols)\n",
    "\n",
    "    # CatBoost 모델 초기화 및 학습\n",
    "    model_cat = CatBoostClassifier()\n",
    "    model_cat.fit(train_data, eval_set=valid_data, use_best_model=True, early_stopping_rounds=100, verbose=100)\n",
    "  \n",
    "    # 검증 데이터에 대한 예측 결과 저장\n",
    "    cat_pred[valid_idx] = model_cat.predict_proba(X_valid)\n",
    "    \n",
    "    # 테스트 데이터에 대한 예측 결과 누적\n",
    "    cat_pred_test += model_cat.predict_proba(X_test) / n_fold\n",
    "    \n",
    "    # 교차 검증 시의 로그 손실 출력\n",
    "    print(f'CV Log Loss Score: {log_loss(y_valid, cat_pred[valid_idx]):.6f}')\n",
    "\n",
    "# 전체 데이터에 대한 로그 손실 출력\n",
    "print(f'\\tLog Loss: {log_loss(y, cat_pred):.6f}')"
   ]
  },
  {
   "cell_type": "code",
   "execution_count": null,
   "id": "690a5b36-5df6-4f27-8a00-03601ec5a2de",
   "metadata": {},
   "outputs": [],
   "source": [
    "# 피처중요도 시각화 함수\n",
    "\n",
    "def plot_feature_importance(importance,names,model_type):\n",
    "    \n",
    "    feature_importance = np.array(importance)\n",
    "    feature_names = np.array(names)\n",
    "    \n",
    "    data={'feature_names':feature_names,'feature_importance':feature_importance}\n",
    "    fi_df = pd.DataFrame(data)\n",
    "    \n",
    "    fi_df.sort_values(by=['feature_importance'], ascending=False,inplace=True)\n",
    "\n",
    "    plt.figure(figsize=(10,8))\n",
    "\n",
    "    sns.barplot(x=fi_df['feature_importance'], y=fi_df['feature_names'])\n",
    "\n",
    "    plt.title(model_type + ' Feature Importance')\n",
    "    plt.xlabel('Feature Importance')\n",
    "    plt.ylabel('Feature Names')"
   ]
  },
  {
   "cell_type": "code",
   "execution_count": null,
   "id": "4dbd932c-1435-400f-948c-9d09909afb33",
   "metadata": {},
   "outputs": [],
   "source": [
    "plot_feature_importance(model_cat.get_feature_importance(),X_test.columns,'CATBOOST')"
   ]
  },
  {
   "cell_type": "code",
   "execution_count": null,
   "id": "0bd624b4-2a24-41e7-8e4c-a852d8b91dea",
   "metadata": {},
   "outputs": [],
   "source": [
    "cat_pred_test"
   ]
  },
  {
   "cell_type": "code",
   "execution_count": null,
   "id": "4b916243-81c7-42d9-8133-25e69526cda2",
   "metadata": {},
   "outputs": [],
   "source": [
    "# 결과 대입\n",
    "sample_submission_df.iloc[:, 1:] = cat_pred_test"
   ]
  },
  {
   "cell_type": "code",
   "execution_count": null,
   "id": "232af352-7bcb-4016-aaa6-9b48858c5795",
   "metadata": {},
   "outputs": [],
   "source": [
    "sample_submission_df"
   ]
  },
  {
   "cell_type": "code",
   "execution_count": null,
   "id": "93aeb204-85fb-46d9-a953-b25fd556539c",
   "metadata": {},
   "outputs": [],
   "source": [
    "# 결과 저장\n",
    "sample_submission_df.to_csv('/Users/raekkkky/Desktop/DNA/winter 24/project7/submission_Final.csv', index=False)"
   ]
  },
  {
   "cell_type": "markdown",
   "id": "cdc0090f-ba76-4d51-8a54-e5e7d4917538",
   "metadata": {
    "jp-MarkdownHeadingCollapsed": true
   },
   "source": [
    "#### [3] 다중로지스틱회귀 train_test_split 사용"
   ]
  },
  {
   "cell_type": "code",
   "execution_count": null,
   "id": "ae234da8-e7ca-4109-8f5b-be736d1d06ac",
   "metadata": {},
   "outputs": [],
   "source": [
    "# 필요한 라이브러리 import\n",
    "from sklearn.model_selection import train_test_split\n",
    "from sklearn.linear_model import LogisticRegression\n",
    "from sklearn.preprocessing import StandardScaler\n",
    "from sklearn.metrics import log_loss  # 추가된 부분\n",
    "import pandas as pd\n",
    "\n",
    "# 학습 데이터와 테스트 데이터 분리\n",
    "X_train = train_df.drop(['credit'], axis=1)  # 목적 변수인 'credit' 제외한 변수들을 학습 데이터로 사용\n",
    "y_train = train_df['credit']  # 목적 변수인 'credit'\n",
    "X_test = test_df.copy()  # 테스트 데이터\n",
    "\n",
    "# 표준화 (Standardization)\n",
    "scaler = StandardScaler()\n",
    "X_train_scaled = scaler.fit_transform(X_train)\n",
    "X_test_scaled = scaler.transform(X_test)\n",
    "\n",
    "# 다중 로지스틱 회귀 모델 생성 및 학습\n",
    "model = LogisticRegression(multi_class='multinomial', solver='lbfgs', max_iter=1000, random_state=42)\n",
    "model.fit(X_train_scaled, y_train)\n",
    "\n",
    "# 테스트 데이터에 대한 예측\n",
    "logis_pred_test = model.predict_proba(X_test_scaled)\n",
    "\n",
    "# 결과 확인\n",
    "print(logis_pred_test)\n",
    "\n",
    "# 전체 데이터에 대한 로그 손실 계산 및 출력\n",
    "logis_pred = model.predict_proba(X_train_scaled)\n",
    "log_loss_value = log_loss(y_train, logis_pred)\n",
    "print(f'\\tLog Loss: {log_loss_value:.6f}')"
   ]
  },
  {
   "cell_type": "code",
   "execution_count": null,
   "id": "72fe5006-7bca-4ad0-9679-b8b3c3177f07",
   "metadata": {},
   "outputs": [],
   "source": [
    "# 피처중요도 시각화 함수\n",
    "\n",
    "def plot_feature_importance(importance,names,model_type):\n",
    "    \n",
    "    feature_importance = np.array(importance)\n",
    "    feature_names = np.array(names)\n",
    "    \n",
    "    data={'feature_names':feature_names,'feature_importance':feature_importance}\n",
    "    fi_df = pd.DataFrame(data)\n",
    "    \n",
    "    fi_df.sort_values(by=['feature_importance'], ascending=False,inplace=True)\n",
    "\n",
    "    plt.figure(figsize=(10,8))\n",
    "\n",
    "    sns.barplot(x=fi_df['feature_importance'], y=fi_df['feature_names'])\n",
    "\n",
    "    plt.title(model_type + ' Feature Importance')\n",
    "    plt.xlabel('Feature Importance')\n",
    "    plt.ylabel('Feature Names')"
   ]
  },
  {
   "cell_type": "code",
   "execution_count": null,
   "id": "38f41150-574d-434b-b44d-bee76d1ccb6e",
   "metadata": {},
   "outputs": [],
   "source": [
    "plot_feature_importance(model.coef_[0],X_test.columns,'Multiple Logistic Regression')"
   ]
  },
  {
   "cell_type": "code",
   "execution_count": null,
   "id": "7a74f4af-a779-4252-8cf8-73973fbebb1b",
   "metadata": {},
   "outputs": [],
   "source": [
    "# 결과 대입\n",
    "sample_submission_df.iloc[:, 1:] = logis_pred_test"
   ]
  },
  {
   "cell_type": "code",
   "execution_count": null,
   "id": "a964fde0-7604-4cb8-94c8-259e27cc1fe8",
   "metadata": {},
   "outputs": [],
   "source": [
    "sample_submission_df"
   ]
  },
  {
   "cell_type": "code",
   "execution_count": null,
   "id": "24cf64e2-11cc-4f55-9a34-2392779b52ef",
   "metadata": {},
   "outputs": [],
   "source": [
    "# 결과 저장\n",
    "sample_submission_df.to_csv('/Users/raekkkky/Desktop/DNA/winter 24/project7/submission_Final.csv', index=False)"
   ]
  },
  {
   "cell_type": "markdown",
   "id": "0f0bbbf1-5110-4dde-8754-add85b0c77b1",
   "metadata": {
    "jp-MarkdownHeadingCollapsed": true
   },
   "source": [
    "#### [4] 다중로지스틱회귀 S_K-Fold 사용"
   ]
  },
  {
   "cell_type": "code",
   "execution_count": null,
   "id": "e6100db7-cd39-44dc-b09d-f1733ea11608",
   "metadata": {},
   "outputs": [],
   "source": [
    "# 필요한 라이브러리 import\n",
    "from sklearn.model_selection import StratifiedKFold\n",
    "from sklearn.linear_model import LogisticRegression\n",
    "from sklearn.preprocessing import StandardScaler\n",
    "from sklearn.metrics import log_loss\n",
    "import numpy as np\n",
    "\n",
    "# 학습 데이터와 테스트 데이터 분리\n",
    "X_train = train_df.drop(['credit'], axis=1)  # 목적 변수인 'credit' 제외한 변수들을 학습 데이터로 사용\n",
    "y_train = train_df['credit']  # 목적 변수인 'credit'\n",
    "X_test = test_df.copy()  # 테스트 데이터\n",
    "\n",
    "# 다중 로지스틱 회귀 모델 교차 검증\n",
    "def cross_validate_logistic_regression(X, y, X_test, n_fold=15):\n",
    "    skfold = StratifiedKFold(n_splits=n_fold, shuffle=True, random_state=42)\n",
    "    \n",
    "    # 다중 로지스틱 회귀 모델 초기화\n",
    "    model = LogisticRegression(multi_class='multinomial', solver='lbfgs', max_iter=1000, random_state=42)\n",
    "\n",
    "    # 표준화 (Standardization)\n",
    "    scaler = StandardScaler()\n",
    "    X_scaled = scaler.fit_transform(X)\n",
    "    X_test_scaled = scaler.transform(X_test)\n",
    "    \n",
    "    # 예측 결과 저장 배열 초기화\n",
    "    logis_pred = np.zeros((X.shape[0], 3))\n",
    "    logis_pred_test_final = np.zeros((X_test.shape[0], 3))  # 추가된 부분\n",
    "    \n",
    "    for fold, (train_idx, valid_idx) in enumerate(skfold.split(X, y)):\n",
    "        print(f'\\n----------------- Fold {fold} -----------------\\n')\n",
    "        X_train, X_valid, y_train, y_valid = X_scaled[train_idx], X_scaled[valid_idx], y.iloc[train_idx], y.iloc[valid_idx]\n",
    "\n",
    "        # 모델 학습\n",
    "        model.fit(X_train, y_train)\n",
    "        \n",
    "        # 검증 데이터에 대한 예측 결과 저장\n",
    "        logis_pred[valid_idx] = model.predict_proba(X_valid)\n",
    "        logis_pred_test_final += model.predict_proba(X_test_scaled) / n_fold  # 추가된 부분\n",
    "        \n",
    "        # 교차 검증 시의 로그 손실 출력\n",
    "        print(f'CV Log Loss Score: {log_loss(y_valid, logis_pred[valid_idx]):.6f}')\n",
    "\n",
    "    # 전체 데이터에 대한 로그 손실 출력\n",
    "    log_loss_value = log_loss(y, logis_pred)\n",
    "    print(f'\\tLog Loss: {log_loss_value:.6f}')\n",
    "    \n",
    "    return logis_pred, logis_pred_test_final  # 반환값 수정\n",
    "\n",
    "# 교차 검증 수행\n",
    "logis_pred, logis_pred_test_final = cross_validate_logistic_regression(X_train, y_train, X_test)\n",
    "\n",
    "# 테스트 데이터에 대한 예측 결과 출력\n",
    "print(logis_pred_test_final)\n"
   ]
  },
  {
   "cell_type": "code",
   "execution_count": null,
   "id": "20a045ca-9985-4526-b549-110082ba51ab",
   "metadata": {},
   "outputs": [],
   "source": [
    "logis_pred_test_final"
   ]
  },
  {
   "cell_type": "code",
   "execution_count": null,
   "id": "b3668c61-d076-444d-afdd-3995638133a6",
   "metadata": {},
   "outputs": [],
   "source": [
    "# 결과 대입\n",
    "sample_submission_df.iloc[:, 1:] = logis_pred_test_final"
   ]
  },
  {
   "cell_type": "code",
   "execution_count": null,
   "id": "e900bea2-27d0-4f6f-928c-b2e3b6285cdf",
   "metadata": {},
   "outputs": [],
   "source": [
    "sample_submission_df"
   ]
  },
  {
   "cell_type": "code",
   "execution_count": null,
   "id": "7dc0822b-299d-4758-aeac-b2f2230e3706",
   "metadata": {},
   "outputs": [],
   "source": [
    "# 결과 저장\n",
    "sample_submission_df.to_csv('/Users/raekkkky/Desktop/DNA/winter 24/project7/submission_Final.csv', index=False)"
   ]
  },
  {
   "cell_type": "markdown",
   "id": "ab3e33fe-cf55-49e5-8bbe-f8730a2af6a6",
   "metadata": {
    "jp-MarkdownHeadingCollapsed": true
   },
   "source": [
    "#### [5] 모두 적용해봄 [12개 분류기법 적용만함.]"
   ]
  },
  {
   "cell_type": "code",
   "execution_count": null,
   "id": "39bc9750-bb26-42ee-a366-8a27d604833c",
   "metadata": {
    "scrolled": true
   },
   "outputs": [],
   "source": [
    "from sklearn.model_selection import train_test_split\n",
    "from sklearn.ensemble import RandomForestClassifier, AdaBoostClassifier, GradientBoostingClassifier, StackingClassifier\n",
    "from sklearn.linear_model import LogisticRegression, SGDClassifier\n",
    "from sklearn.neighbors import KNeighborsClassifier\n",
    "from sklearn.naive_bayes import GaussianNB\n",
    "from sklearn.neural_network import MLPClassifier\n",
    "from sklearn.svm import SVC\n",
    "from xgboost import XGBClassifier\n",
    "from lightgbm import LGBMClassifier\n",
    "from catboost import CatBoostClassifier\n",
    "\n",
    "# 데이터 불러오기 함수 (load_data)를 가정하고, 훈련 및 테스트 데이터를 불러옵니다.\n",
    "# train_df, test_df = load_data()\n",
    "\n",
    "# 훈련 데이터 분리\n",
    "X = train_df.drop('credit', axis=1)\n",
    "y = train_df['credit']\n",
    "X_train, X_val, y_train, y_val = train_test_split(X, y, test_size=0.2, random_state=42)\n",
    "\n",
    "# 분류 알고리즘 목록\n",
    "classifiers = [\n",
    "    ('랜덤 포레스트', RandomForestClassifier()),\n",
    "    ('에이다부스트', AdaBoostClassifier()),\n",
    "    ('그래디언트 부스팅', GradientBoostingClassifier()),\n",
    "    ('로지스틱 회귀', LogisticRegression()),\n",
    "    ('SGD 분류기', SGDClassifier(loss='log')),\n",
    "    ('K 최근접 이웃', KNeighborsClassifier()),\n",
    "    ('나이브 베이즈', GaussianNB()),\n",
    "    ('신경망', MLPClassifier()),\n",
    "    ('SVM', SVC(probability=True)),\n",
    "    ('XGBoost', XGBClassifier()),\n",
    "    ('LightGBM', LGBMClassifier()),\n",
    "    ('CatBoost', CatBoostClassifier())\n",
    "]\n",
    "\n",
    "# 각 분류기를 훈련하고 평가합니다.\n",
    "results = []\n",
    "for clf_name, clf in classifiers:\n",
    "    clf.fit(X_train, y_train)\n",
    "    y_pred_proba = clf.predict_proba(X_val)\n",
    "    logloss = log_loss(y_val, y_pred_proba)\n",
    "    results.append((clf_name, logloss))\n",
    "    print(f'{clf_name} - Log Loss: {logloss}')\n",
    "\n",
    "# 결과를 정렬하고 최적의 모델을 선택합니다.\n",
    "results.sort(key=lambda x: x[1])\n",
    "best_model_name, best_logloss = results[0]\n",
    "print(f'\\n최적의 모델: {best_model_name} (Log Loss: {best_logloss})')\n",
    "\n",
    "# 최적의 모델을 사용하여 테스트 데이터를 예측합니다.\n",
    "best_model = [clf for clf_name, clf in classifiers if clf_name == best_model_name][0]\n",
    "test_pred_proba = best_model.predict_proba(test_df)"
   ]
  },
  {
   "cell_type": "code",
   "execution_count": null,
   "id": "2c039080-fd32-44f7-853d-48e5fd150b90",
   "metadata": {},
   "outputs": [],
   "source": [
    "# 결과 대입\n",
    "sample_submission_df.iloc[:, 1:] = test_pred_proba"
   ]
  },
  {
   "cell_type": "code",
   "execution_count": null,
   "id": "537b3a3e-c471-4744-b6e6-d8cf5c476ed0",
   "metadata": {},
   "outputs": [],
   "source": [
    "sample_submission_df"
   ]
  },
  {
   "cell_type": "code",
   "execution_count": null,
   "id": "d3749f4a-f177-4904-b353-62dc3e8affb6",
   "metadata": {},
   "outputs": [],
   "source": [
    "# 결과 저장\n",
    "sample_submission_df.to_csv('/Users/raekkkky/Desktop/DNA/winter 24/project7/submission_Final.csv', index=False)"
   ]
  },
  {
   "cell_type": "markdown",
   "id": "5d304ea2-acae-4b24-bd29-cc29f27854bb",
   "metadata": {
    "jp-MarkdownHeadingCollapsed": true
   },
   "source": [
    "#### [6] 군집화 변수 추가 + 칼럼삭제 + catboost + s_f_fold"
   ]
  },
  {
   "cell_type": "code",
   "execution_count": null,
   "id": "68def65e-d2b4-4f7b-84e5-f82b376bdc23",
   "metadata": {},
   "outputs": [],
   "source": [
    "# 파생변수와 다중공선을 보이는 컬럼 삭제\n",
    "cols = ['child_num', 'DAYS_BIRTH', 'DAYS_EMPLOYED']\n",
    "train.drop(cols, axis=1, inplace=True)\n",
    "test.drop(cols, axis=1, inplace=True)"
   ]
  },
  {
   "cell_type": "code",
   "execution_count": null,
   "id": "72672114-c7a4-4e26-8e2d-2e899500691c",
   "metadata": {},
   "outputs": [],
   "source": [
    "from sklearn.model_selection import StratifiedKFold\n",
    "from catboost import CatBoostClassifier, Pool\n",
    "from sklearn.metrics import log_loss\n",
    "\n",
    "n_est = 2000\n",
    "seed = 42\n",
    "n_fold = 15\n",
    "n_class = 3\n",
    "\n",
    "target = 'credit'\n",
    "X = train.drop(target, axis=1)\n",
    "y = train[target]\n",
    "X_test = test\n",
    "\n",
    "skfold = StratifiedKFold(n_splits=n_fold, shuffle=True, random_state=seed)\n",
    "folds=[]\n",
    "for train_idx, valid_idx in skfold.split(X, y):\n",
    "        folds.append((train_idx, valid_idx))\n",
    "\n",
    "cat_pred = np.zeros((X.shape[0], n_class))\n",
    "cat_pred_test = np.zeros((X_test.shape[0], n_class))\n",
    "cat_cols = ['income_type', 'edu_type', 'family_type', 'house_type', 'occyp_type', 'ID']\n",
    "for fold in range(n_fold):\n",
    "  print(f'\\n----------------- Fold {fold} -----------------\\n')\n",
    "  train_idx, valid_idx = folds[fold]\n",
    "  X_train, X_valid, y_train, y_valid = X.iloc[train_idx], X.iloc[valid_idx], y[train_idx], y[valid_idx]\n",
    "  train_data = Pool(data=X_train, label=y_train, cat_features=cat_cols)\n",
    "  valid_data = Pool(data=X_valid, label=y_valid, cat_features=cat_cols)\n",
    "\n",
    "  model_cat = CatBoostClassifier()\n",
    "  model_cat.fit(train_data, eval_set=valid_data, use_best_model=True, early_stopping_rounds=100, verbose=100)\n",
    "  \n",
    "  cat_pred[valid_idx] = model_cat.predict_proba(X_valid)\n",
    "  cat_pred_test += model_cat.predict_proba(X_test) / n_fold\n",
    "  print(f'CV Log Loss Score: {log_loss(y_valid, cat_pred[valid_idx]):.6f}')\n",
    "    \n",
    "print(f'\\tLog Loss: {log_loss(y, cat_pred):.6f}')"
   ]
  },
  {
   "cell_type": "code",
   "execution_count": null,
   "id": "5e0cb3a4-430b-469c-ae01-3427cfef29b7",
   "metadata": {},
   "outputs": [],
   "source": [
    "def plot_feature_importance(importance,names,model_type):\n",
    "    \n",
    "    feature_importance = np.array(importance)\n",
    "    feature_names = np.array(names)\n",
    "    \n",
    "    data={'feature_names':feature_names,'feature_importance':feature_importance}\n",
    "    fi_df = pd.DataFrame(data)\n",
    "    \n",
    "    fi_df.sort_values(by=['feature_importance'], ascending=False,inplace=True)\n",
    "\n",
    "    plt.figure(figsize=(10,8))\n",
    "\n",
    "    sns.barplot(x=fi_df['feature_importance'], y=fi_df['feature_names'])\n",
    "\n",
    "    plt.title(model_type + ' Feature Importance')\n",
    "    plt.xlabel('Feature Importance')\n",
    "    plt.ylabel('Feature Names')"
   ]
  },
  {
   "cell_type": "code",
   "execution_count": null,
   "id": "658d14b8-79cf-457c-974e-8e80ef145b88",
   "metadata": {},
   "outputs": [],
   "source": [
    "plot_feature_importance(model_cat.get_feature_importance(),X_test.columns,'CATBOOST')"
   ]
  },
  {
   "cell_type": "code",
   "execution_count": null,
   "id": "fa14a9fe-d068-4863-b84a-a4dc28f0283c",
   "metadata": {},
   "outputs": [],
   "source": [
    "sample_submission_df.iloc[:, 1:] = cat_pred_test\n",
    "sample_submission_df"
   ]
  },
  {
   "cell_type": "code",
   "execution_count": null,
   "id": "54d62c71-834a-4ae1-9e25-6795865c532c",
   "metadata": {},
   "outputs": [],
   "source": [
    "sample_submission_df.to_csv('/Users/raekkkky/Desktop/DNA/winter 24/project7/submission_Final.csv', index=False)"
   ]
  },
  {
   "cell_type": "markdown",
   "id": "815134a1-3ce5-4c1f-ab2b-017952149d34",
   "metadata": {
    "jp-MarkdownHeadingCollapsed": true
   },
   "source": [
    "#### [7] pca 적용.. 실패"
   ]
  },
  {
   "cell_type": "code",
   "execution_count": null,
   "id": "1ab49ec0-a1ea-4ba0-beae-eea87701d8a9",
   "metadata": {},
   "outputs": [],
   "source": [
    "# 차원축소까지 해본거 [문제는 test 데이터도 차원축소 해야함]\n",
    "# 전체적으로 catboost 코드 다 수정해야 함.. 시간 오래 걸릘 듯.. 나중에 하자!"
   ]
  },
  {
   "cell_type": "code",
   "execution_count": null,
   "id": "d1d520e1-7782-4b95-ab8a-4df0f7a60fba",
   "metadata": {},
   "outputs": [],
   "source": [
    "train_df_pca"
   ]
  },
  {
   "cell_type": "code",
   "execution_count": null,
   "id": "75a3f444-1c6f-4e7a-92f8-c7515e35c21a",
   "metadata": {},
   "outputs": [],
   "source": [
    "from sklearn.model_selection import StratifiedKFold\n",
    "from catboost import CatBoostClassifier, Pool\n",
    "from sklearn.metrics import log_loss\n",
    "\n",
    "n_est = 2000\n",
    "seed = 42\n",
    "n_fold = 15\n",
    "n_class = 3\n",
    "\n",
    "X = train_df_pca # 차원축소는 독립변수만으로 진행된다는점 참고!\n",
    "y = train['credit']\n",
    "X_test = test\n",
    "\n",
    "skfold = StratifiedKFold(n_splits=n_fold, shuffle=True, random_state=seed)\n",
    "folds=[]\n",
    "for train_idx, valid_idx in skfold.split(X, y):\n",
    "        folds.append((train_idx, valid_idx))\n",
    "\n",
    "cat_pred = np.zeros((X.shape[0], n_class))\n",
    "cat_pred_test = np.zeros((X_test.shape[0], n_class))\n",
    "cat_cols = ['income_type', 'edu_type', 'family_type', 'house_type', 'occyp_type', 'ID']\n",
    "for fold in range(n_fold):\n",
    "  print(f'\\n----------------- Fold {fold} -----------------\\n')\n",
    "  train_idx, valid_idx = folds[fold]\n",
    "  X_train, X_valid, y_train, y_valid = X.iloc[train_idx], X.iloc[valid_idx], y[train_idx], y[valid_idx]\n",
    "  train_data = Pool(data=X_train, label=y_train, cat_features=cat_cols)\n",
    "  valid_data = Pool(data=X_valid, label=y_valid, cat_features=cat_cols)\n",
    "\n",
    "  model_cat = CatBoostClassifier()\n",
    "  model_cat.fit(train_data, eval_set=valid_data, use_best_model=True, early_stopping_rounds=100, verbose=100)\n",
    "  \n",
    "  cat_pred[valid_idx] = model_cat.predict_proba(X_valid)\n",
    "  cat_pred_test += model_cat.predict_proba(X_test) / n_fold\n",
    "  print(f'CV Log Loss Score: {log_loss(y_valid, cat_pred[valid_idx]):.6f}')\n",
    "    \n",
    "print(f'\\tLog Loss: {log_loss(y, cat_pred):.6f}')"
   ]
  },
  {
   "cell_type": "markdown",
   "id": "10d1ea3e-1267-4b7c-85ba-b6d55d8d239a",
   "metadata": {
    "jp-MarkdownHeadingCollapsed": true
   },
   "source": [
    "#### [8] 데이터 불균형 적용 + 캣부스트"
   ]
  },
  {
   "cell_type": "code",
   "execution_count": null,
   "id": "756aa26d-8275-49d8-b62e-ac6d4dfcd507",
   "metadata": {},
   "outputs": [],
   "source": [
    "# SMOTE, 오버랜덤샘플링 둘 다 적용해본 결과 [train_df_resampled]\n",
    "# 아쉽게도 둘 다 ID는 포함이 안됨 (이유 :  오직 입력 특성과 대상 변수(목적 변수)에만 적용되기에 식별자는 자동 제거임)"
   ]
  },
  {
   "cell_type": "code",
   "execution_count": null,
   "id": "980afbdc-3326-4b26-8bbb-7d2beba52149",
   "metadata": {},
   "outputs": [],
   "source": [
    "# train 데이터 행 몇개 삭제해서 오류남.. index 초기화 해줘야 함.\n",
    "train_df_resampled.reset_index(drop=True, inplace=True)\n",
    "test_df.reset_index(drop=True, inplace=True)\n",
    "\n",
    "# 우선 데이터 최종 결과 복사 해놓기\n",
    "train = train_df_resampled.copy()\n",
    "test = test_df.copy()"
   ]
  },
  {
   "cell_type": "code",
   "execution_count": null,
   "id": "9498480b-8927-4947-aa7a-34bdf991fdda",
   "metadata": {},
   "outputs": [],
   "source": [
    "from sklearn.model_selection import StratifiedKFold\n",
    "from catboost import CatBoostClassifier, Pool\n",
    "from sklearn.metrics import log_loss\n",
    "\n",
    "n_est = 2000\n",
    "seed = 42\n",
    "n_fold = 15\n",
    "n_class = 3\n",
    "\n",
    "target = 'credit'\n",
    "X = train.drop(target, axis=1)\n",
    "y = train[target]\n",
    "X_test = test\n",
    "\n",
    "skfold = StratifiedKFold(n_splits=n_fold, shuffle=True, random_state=seed)\n",
    "folds=[]\n",
    "for train_idx, valid_idx in skfold.split(X, y):\n",
    "        folds.append((train_idx, valid_idx))\n",
    "\n",
    "cat_pred = np.zeros((X.shape[0], n_class))\n",
    "cat_pred_test = np.zeros((X_test.shape[0], n_class))\n",
    "cat_cols = ['income_type', 'edu_type', 'family_type', 'house_type', 'occyp_type']\n",
    "for fold in range(n_fold):\n",
    "  print(f'\\n----------------- Fold {fold} -----------------\\n')\n",
    "  train_idx, valid_idx = folds[fold]\n",
    "  X_train, X_valid, y_train, y_valid = X.iloc[train_idx], X.iloc[valid_idx], y[train_idx], y[valid_idx]\n",
    "  train_data = Pool(data=X_train, label=y_train, cat_features=cat_cols)\n",
    "  valid_data = Pool(data=X_valid, label=y_valid, cat_features=cat_cols)\n",
    "\n",
    "  model_cat = CatBoostClassifier()\n",
    "  model_cat.fit(train_data, eval_set=valid_data, use_best_model=True, early_stopping_rounds=100, verbose=100)\n",
    "  \n",
    "  cat_pred[valid_idx] = model_cat.predict_proba(X_valid)\n",
    "  cat_pred_test += model_cat.predict_proba(X_test) / n_fold\n",
    "  print(f'CV Log Loss Score: {log_loss(y_valid, cat_pred[valid_idx]):.6f}')\n",
    "    \n",
    "print(f'\\tLog Loss: {log_loss(y, cat_pred):.6f}')"
   ]
  },
  {
   "cell_type": "code",
   "execution_count": null,
   "id": "590176ca-b5fb-4d6e-9618-8bd81b22e733",
   "metadata": {},
   "outputs": [],
   "source": [
    "sample_submission_df.iloc[:, 1:] = cat_pred_test\n",
    "sample_submission_df"
   ]
  },
  {
   "cell_type": "code",
   "execution_count": null,
   "id": "36b457ab-155b-49e5-bcd2-b5a50136dd5f",
   "metadata": {},
   "outputs": [],
   "source": [
    "sample_submission_df.to_csv('/Users/raekkkky/Desktop/DNA/winter 24/project7/submission_Final.csv', index=False)"
   ]
  },
  {
   "cell_type": "markdown",
   "id": "6f3cb717-d80f-4481-a080-7e80bbf2a40f",
   "metadata": {
    "jp-MarkdownHeadingCollapsed": true
   },
   "source": [
    "#### [9] 변수 선택(3개만..?) + SMOTE(X) + catboost"
   ]
  },
  {
   "cell_type": "code",
   "execution_count": null,
   "id": "775a4f64-3755-4c0c-8e85-e1455bddeb76",
   "metadata": {},
   "outputs": [],
   "source": [
    "# 변수선택 까지! SMOTE 안하고 변수선택한 것에 catboost 적용\n",
    "# 근데 변수선택 따로 VIF 하지 말고 코드공유에 나온 것처럼 3개만 삭제"
   ]
  },
  {
   "cell_type": "code",
   "execution_count": null,
   "id": "4d88d553-1835-421d-8a72-e8592d0405a1",
   "metadata": {},
   "outputs": [],
   "source": [
    "# train 데이터 행 몇개 삭제해서 오류남.. index 초기화 해줘야 함.\n",
    "train_df.reset_index(drop=True, inplace=True)\n",
    "test_df.reset_index(drop=True, inplace=True)"
   ]
  },
  {
   "cell_type": "code",
   "execution_count": null,
   "id": "8289f210-ed3c-4d62-be4c-f157113f09e1",
   "metadata": {},
   "outputs": [],
   "source": [
    "# 우선 데이터 최종 결과 복사 해놓기\n",
    "train = train_df.copy()\n",
    "test = test_df.copy()"
   ]
  },
  {
   "cell_type": "code",
   "execution_count": null,
   "id": "5ff7f716-a1e8-49ce-ad53-7e899c662dc7",
   "metadata": {},
   "outputs": [],
   "source": [
    "cols = ['child_num', 'DAYS_BIRTH', 'DAYS_EMPLOYED']\n",
    "train.drop(cols, axis=1, inplace=True)\n",
    "test.drop(cols, axis=1, inplace=True)"
   ]
  },
  {
   "cell_type": "code",
   "execution_count": null,
   "id": "de1f67e2-55f2-4783-bbad-3d5a7308d45d",
   "metadata": {},
   "outputs": [],
   "source": [
    "from sklearn.model_selection import StratifiedKFold\n",
    "from catboost import CatBoostClassifier, Pool\n",
    "from sklearn.metrics import log_loss\n",
    "\n",
    "n_est = 2000\n",
    "seed = 42\n",
    "n_fold = 15\n",
    "n_class = 3\n",
    "\n",
    "target = 'credit'\n",
    "X = train.drop(target, axis=1)\n",
    "y = train[target]\n",
    "X_test = test\n",
    "\n",
    "skfold = StratifiedKFold(n_splits=n_fold, shuffle=True, random_state=seed)\n",
    "folds=[]\n",
    "for train_idx, valid_idx in skfold.split(X, y):\n",
    "        folds.append((train_idx, valid_idx))\n",
    "\n",
    "cat_pred = np.zeros((X.shape[0], n_class))\n",
    "cat_pred_test = np.zeros((X_test.shape[0], n_class))\n",
    "cat_cols = ['income_type', 'edu_type', 'family_type', 'house_type', 'occyp_type', 'ID']\n",
    "for fold in range(n_fold):\n",
    "  print(f'\\n----------------- Fold {fold} -----------------\\n')\n",
    "  train_idx, valid_idx = folds[fold]\n",
    "  X_train, X_valid, y_train, y_valid = X.iloc[train_idx], X.iloc[valid_idx], y[train_idx], y[valid_idx]\n",
    "  train_data = Pool(data=X_train, label=y_train, cat_features=cat_cols)\n",
    "  valid_data = Pool(data=X_valid, label=y_valid, cat_features=cat_cols)\n",
    "\n",
    "  model_cat = CatBoostClassifier()\n",
    "  model_cat.fit(train_data, eval_set=valid_data, use_best_model=True, early_stopping_rounds=100, verbose=100)\n",
    "  \n",
    "  cat_pred[valid_idx] = model_cat.predict_proba(X_valid)\n",
    "  cat_pred_test += model_cat.predict_proba(X_test) / n_fold\n",
    "  print(f'CV Log Loss Score: {log_loss(y_valid, cat_pred[valid_idx]):.6f}')\n",
    "    \n",
    "print(f'\\tLog Loss: {log_loss(y, cat_pred):.6f}')"
   ]
  },
  {
   "cell_type": "code",
   "execution_count": null,
   "id": "4ddffe99-fcf8-41e0-9d58-ed2a4f7fe4b3",
   "metadata": {},
   "outputs": [],
   "source": [
    "sample_submission_df.iloc[:, 1:] = cat_pred_test\n",
    "sample_submission_df"
   ]
  },
  {
   "cell_type": "code",
   "execution_count": null,
   "id": "e5568d9a-c4e8-4a1c-adf5-95f36c5f1d75",
   "metadata": {},
   "outputs": [],
   "source": [
    "sample_submission_df.to_csv('/Users/raekkkky/Desktop/DNA/winter 24/project7/submission_Final.csv', index=False)"
   ]
  },
  {
   "cell_type": "markdown",
   "id": "d35f5668-e3f0-4640-a42c-c1372d05ea8c",
   "metadata": {
    "jp-MarkdownHeadingCollapsed": true
   },
   "source": [
    "## <span style=\"color:orange\">[총 복습 후 재 도전]</span> "
   ]
  },
  {
   "cell_type": "markdown",
   "id": "9dc906bf-994f-414e-bcb7-d7af3cbe20e7",
   "metadata": {
    "jp-MarkdownHeadingCollapsed": true
   },
   "source": [
    "#### Catboost 적용"
   ]
  },
  {
   "cell_type": "code",
   "execution_count": 43,
   "id": "1b192b48-86f9-43cd-9042-5280103e265d",
   "metadata": {},
   "outputs": [],
   "source": [
    "# [1] 결측NaN, 이상치O, 구간화X, 파생13, Ordinal, 변수선택[코드]3, log1p, 표준화, 군집화변수, 불균형X, 차원X, (Catboost + S_K-fold)\n",
    "# [2] 결측NaN, 이상치O, 구간화O, 파생13, Ordinal, 변수선택[코드]3, log1p, 표준화, 군집화변수, 불균형X, 차원X, (Catboost + S_K-fold)\n",
    "# [3] 결측NaN, 이상치O, 구간화X, 파생13, Ordinal, 변수선택[VIF]6, log1p, 표준화, 군집화변수, 불균형X, 차원X, (Catboost + S_K-fold)\n",
    "# [4] 결측NaN, 이상치O(이상치 1행삭제 미실시), 구간화X, 파생13, Ordinal, 변수선택[VIF]6, log1p, 표준화, 군집화변수, 불균형X, 차원X, (Catboost + S_K-fold) 🔥\n",
    "# [5] 결측NaN, 이상치O(이상치 1행삭제 미실시), 구간화O, 파생13, Ordinal, 변수선택[VIF]6, log1p, 표준화, 군집화변수, 불균형X, 차원X, (Catboost + S_K-fold[K=20])\n",
    "# [6] 결측NaN, 이상치O(이상치 1행삭제 미실시), 구간화X, 파생13, Ordinal, 변수선택[VIF]6, log1p, 표준화, 군집화변수[n=4], 불균형X, 차원X, (Catboost + S_K-fold)"
   ]
  },
  {
   "cell_type": "code",
   "execution_count": 44,
   "id": "5bfc872d-c598-4652-b04f-0c446fcfdbd3",
   "metadata": {},
   "outputs": [],
   "source": [
    "n_est = 2000 # 트리의 개수\n",
    "seed = 42\n",
    "n_fold = 15\n",
    "n_class = 3 # 분류를 3개로 나누기 때문에 초기화를 위한 비어있는 3개 분륰 클래스 생성\n",
    "\n",
    "target = 'credit'\n",
    "X = train.drop(target, axis=1)\n",
    "y = train[target]\n",
    "X_test = test"
   ]
  },
  {
   "cell_type": "code",
   "execution_count": 45,
   "id": "87f24758-ee70-4fec-b4b8-2186863d340e",
   "metadata": {},
   "outputs": [
    {
     "name": "stdout",
     "output_type": "stream",
     "text": [
      "\n",
      "----------------- Fold 0 -----------------\n",
      "\n",
      "Learning rate set to 0.115127\n",
      "0:\tlearn: 1.0348531\ttest: 1.0333702\tbest: 1.0333702 (0)\ttotal: 90.8ms\tremaining: 1m 30s\n",
      "100:\tlearn: 0.7053679\ttest: 0.6411563\tbest: 0.6411563 (100)\ttotal: 2.07s\tremaining: 18.4s\n",
      "200:\tlearn: 0.6886603\ttest: 0.6400423\tbest: 0.6394533 (181)\ttotal: 4.16s\tremaining: 16.5s\n",
      "Stopped by overfitting detector  (100 iterations wait)\n",
      "\n",
      "bestTest = 0.639453254\n",
      "bestIteration = 181\n",
      "\n",
      "Shrink model to first 182 iterations.\n",
      "CV Log Loss Score: 0.639453\n",
      "\n",
      "----------------- Fold 1 -----------------\n",
      "\n",
      "Learning rate set to 0.115127\n",
      "0:\tlearn: 1.0347006\ttest: 1.0340077\tbest: 1.0340077 (0)\ttotal: 14.8ms\tremaining: 14.8s\n",
      "100:\tlearn: 0.7067371\ttest: 0.6727429\tbest: 0.6727382 (98)\ttotal: 1.8s\tremaining: 16.1s\n",
      "200:\tlearn: 0.6880882\ttest: 0.6733037\tbest: 0.6722633 (126)\ttotal: 3.89s\tremaining: 15.4s\n",
      "Stopped by overfitting detector  (100 iterations wait)\n",
      "\n",
      "bestTest = 0.6722632563\n",
      "bestIteration = 126\n",
      "\n",
      "Shrink model to first 127 iterations.\n",
      "CV Log Loss Score: 0.672263\n",
      "\n",
      "----------------- Fold 2 -----------------\n",
      "\n",
      "Learning rate set to 0.115127\n",
      "0:\tlearn: 1.0345156\ttest: 1.0352997\tbest: 1.0352997 (0)\ttotal: 15ms\tremaining: 15s\n",
      "100:\tlearn: 0.7042012\ttest: 0.6506729\tbest: 0.6506729 (100)\ttotal: 1.84s\tremaining: 16.4s\n",
      "200:\tlearn: 0.6862756\ttest: 0.6492059\tbest: 0.6489341 (196)\ttotal: 3.92s\tremaining: 15.6s\n",
      "300:\tlearn: 0.6704363\ttest: 0.6479364\tbest: 0.6475559 (284)\ttotal: 6.01s\tremaining: 13.9s\n",
      "Stopped by overfitting detector  (100 iterations wait)\n",
      "\n",
      "bestTest = 0.6475559497\n",
      "bestIteration = 284\n",
      "\n",
      "Shrink model to first 285 iterations.\n",
      "CV Log Loss Score: 0.647556\n",
      "\n",
      "----------------- Fold 3 -----------------\n",
      "\n",
      "Learning rate set to 0.115127\n",
      "0:\tlearn: 1.0345006\ttest: 1.0361141\tbest: 1.0361141 (0)\ttotal: 24.4ms\tremaining: 24.3s\n",
      "100:\tlearn: 0.7047758\ttest: 0.6528142\tbest: 0.6528142 (100)\ttotal: 1.83s\tremaining: 16.3s\n",
      "200:\tlearn: 0.6868100\ttest: 0.6497494\tbest: 0.6496631 (179)\ttotal: 3.9s\tremaining: 15.5s\n",
      "300:\tlearn: 0.6698057\ttest: 0.6475045\tbest: 0.6475045 (300)\ttotal: 5.99s\tremaining: 13.9s\n",
      "400:\tlearn: 0.6521093\ttest: 0.6481902\tbest: 0.6472410 (325)\ttotal: 8.04s\tremaining: 12s\n",
      "Stopped by overfitting detector  (100 iterations wait)\n",
      "\n",
      "bestTest = 0.6472409801\n",
      "bestIteration = 325\n",
      "\n",
      "Shrink model to first 326 iterations.\n",
      "CV Log Loss Score: 0.647241\n",
      "\n",
      "----------------- Fold 4 -----------------\n",
      "\n",
      "Learning rate set to 0.115127\n",
      "0:\tlearn: 1.0346782\ttest: 1.0345862\tbest: 1.0345862 (0)\ttotal: 24.1ms\tremaining: 24.1s\n",
      "100:\tlearn: 0.7048517\ttest: 0.6719402\tbest: 0.6719402 (100)\ttotal: 1.84s\tremaining: 16.4s\n",
      "200:\tlearn: 0.6870139\ttest: 0.6699928\tbest: 0.6697669 (192)\ttotal: 3.89s\tremaining: 15.5s\n",
      "300:\tlearn: 0.6709804\ttest: 0.6690869\tbest: 0.6684195 (280)\ttotal: 5.98s\tremaining: 13.9s\n",
      "Stopped by overfitting detector  (100 iterations wait)\n",
      "\n",
      "bestTest = 0.6684195154\n",
      "bestIteration = 280\n",
      "\n",
      "Shrink model to first 281 iterations.\n",
      "CV Log Loss Score: 0.668420\n",
      "\n",
      "----------------- Fold 5 -----------------\n",
      "\n",
      "Learning rate set to 0.115127\n",
      "0:\tlearn: 1.0347173\ttest: 1.0338167\tbest: 1.0338167 (0)\ttotal: 16.1ms\tremaining: 16s\n",
      "100:\tlearn: 0.7014674\ttest: 0.6756609\tbest: 0.6756609 (100)\ttotal: 1.92s\tremaining: 17.1s\n",
      "200:\tlearn: 0.6826532\ttest: 0.6735246\tbest: 0.6732104 (197)\ttotal: 4.07s\tremaining: 16.2s\n",
      "Stopped by overfitting detector  (100 iterations wait)\n",
      "\n",
      "bestTest = 0.6732104068\n",
      "bestIteration = 197\n",
      "\n",
      "Shrink model to first 198 iterations.\n",
      "CV Log Loss Score: 0.673210\n",
      "\n",
      "----------------- Fold 6 -----------------\n",
      "\n",
      "Learning rate set to 0.115127\n",
      "0:\tlearn: 1.0347971\ttest: 1.0331400\tbest: 1.0331400 (0)\ttotal: 23.1ms\tremaining: 23s\n",
      "100:\tlearn: 0.7038153\ttest: 0.6669537\tbest: 0.6669537 (100)\ttotal: 1.93s\tremaining: 17.1s\n",
      "200:\tlearn: 0.6859259\ttest: 0.6649839\tbest: 0.6646345 (197)\ttotal: 4.05s\tremaining: 16.1s\n",
      "Stopped by overfitting detector  (100 iterations wait)\n",
      "\n",
      "bestTest = 0.6646345021\n",
      "bestIteration = 197\n",
      "\n",
      "Shrink model to first 198 iterations.\n",
      "CV Log Loss Score: 0.664635\n",
      "\n",
      "----------------- Fold 7 -----------------\n",
      "\n",
      "Learning rate set to 0.115127\n",
      "0:\tlearn: 1.0346786\ttest: 1.0352393\tbest: 1.0352393 (0)\ttotal: 22.7ms\tremaining: 22.6s\n",
      "100:\tlearn: 0.7053984\ttest: 0.6787040\tbest: 0.6786466 (97)\ttotal: 1.82s\tremaining: 16.2s\n",
      "200:\tlearn: 0.6871965\ttest: 0.6750623\tbest: 0.6750623 (200)\ttotal: 3.91s\tremaining: 15.5s\n",
      "300:\tlearn: 0.6686041\ttest: 0.6740286\tbest: 0.6735669 (268)\ttotal: 5.96s\tremaining: 13.8s\n",
      "Stopped by overfitting detector  (100 iterations wait)\n",
      "\n",
      "bestTest = 0.6735669366\n",
      "bestIteration = 268\n",
      "\n",
      "Shrink model to first 269 iterations.\n",
      "CV Log Loss Score: 0.673567\n",
      "\n",
      "----------------- Fold 8 -----------------\n",
      "\n",
      "Learning rate set to 0.115127\n",
      "0:\tlearn: 1.0346440\ttest: 1.0356676\tbest: 1.0356676 (0)\ttotal: 23.1ms\tremaining: 23.1s\n",
      "100:\tlearn: 0.7026076\ttest: 0.6794530\tbest: 0.6794116 (98)\ttotal: 1.84s\tremaining: 16.4s\n",
      "200:\tlearn: 0.6844852\ttest: 0.6775517\tbest: 0.6769039 (171)\ttotal: 3.92s\tremaining: 15.6s\n",
      "Stopped by overfitting detector  (100 iterations wait)\n",
      "\n",
      "bestTest = 0.6769039343\n",
      "bestIteration = 171\n",
      "\n",
      "Shrink model to first 172 iterations.\n",
      "CV Log Loss Score: 0.676904\n",
      "\n",
      "----------------- Fold 9 -----------------\n",
      "\n",
      "Learning rate set to 0.115127\n",
      "0:\tlearn: 1.0347054\ttest: 1.0346011\tbest: 1.0346011 (0)\ttotal: 23.2ms\tremaining: 23.2s\n",
      "100:\tlearn: 0.7035803\ttest: 0.6576384\tbest: 0.6576384 (100)\ttotal: 1.86s\tremaining: 16.5s\n",
      "200:\tlearn: 0.6847377\ttest: 0.6548523\tbest: 0.6546646 (194)\ttotal: 3.92s\tremaining: 15.6s\n",
      "300:\tlearn: 0.6666172\ttest: 0.6564838\tbest: 0.6543227 (206)\ttotal: 5.97s\tremaining: 13.9s\n",
      "Stopped by overfitting detector  (100 iterations wait)\n",
      "\n",
      "bestTest = 0.6543226927\n",
      "bestIteration = 206\n",
      "\n",
      "Shrink model to first 207 iterations.\n",
      "CV Log Loss Score: 0.654323\n",
      "\n",
      "----------------- Fold 10 -----------------\n",
      "\n",
      "Learning rate set to 0.115127\n",
      "0:\tlearn: 1.0347568\ttest: 1.0350067\tbest: 1.0350067 (0)\ttotal: 22.8ms\tremaining: 22.7s\n",
      "100:\tlearn: 0.7044879\ttest: 0.6671374\tbest: 0.6669126 (94)\ttotal: 1.87s\tremaining: 16.7s\n",
      "200:\tlearn: 0.6861602\ttest: 0.6655953\tbest: 0.6655633 (180)\ttotal: 3.94s\tremaining: 15.7s\n",
      "300:\tlearn: 0.6711298\ttest: 0.6671060\tbest: 0.6653472 (250)\ttotal: 6.12s\tremaining: 14.2s\n",
      "Stopped by overfitting detector  (100 iterations wait)\n",
      "\n",
      "bestTest = 0.6653471566\n",
      "bestIteration = 250\n",
      "\n",
      "Shrink model to first 251 iterations.\n",
      "CV Log Loss Score: 0.665347\n",
      "\n",
      "----------------- Fold 11 -----------------\n",
      "\n",
      "Learning rate set to 0.115127\n",
      "0:\tlearn: 1.0347470\ttest: 1.0351032\tbest: 1.0351032 (0)\ttotal: 23.3ms\tremaining: 23.3s\n",
      "100:\tlearn: 0.7029281\ttest: 0.6910006\tbest: 0.6908695 (94)\ttotal: 1.87s\tremaining: 16.6s\n",
      "200:\tlearn: 0.6852524\ttest: 0.6901145\tbest: 0.6900256 (196)\ttotal: 3.93s\tremaining: 15.6s\n",
      "300:\tlearn: 0.6686115\ttest: 0.6903812\tbest: 0.6895340 (231)\ttotal: 6s\tremaining: 13.9s\n",
      "Stopped by overfitting detector  (100 iterations wait)\n",
      "\n",
      "bestTest = 0.6895340147\n",
      "bestIteration = 231\n",
      "\n",
      "Shrink model to first 232 iterations.\n",
      "CV Log Loss Score: 0.689534\n",
      "\n",
      "----------------- Fold 12 -----------------\n",
      "\n",
      "Learning rate set to 0.115127\n",
      "0:\tlearn: 1.0346220\ttest: 1.0357202\tbest: 1.0357202 (0)\ttotal: 24ms\tremaining: 23.9s\n",
      "100:\tlearn: 0.7059546\ttest: 0.6609733\tbest: 0.6609733 (100)\ttotal: 1.8s\tremaining: 16s\n",
      "200:\tlearn: 0.6874784\ttest: 0.6616591\tbest: 0.6603222 (131)\ttotal: 3.86s\tremaining: 15.3s\n",
      "Stopped by overfitting detector  (100 iterations wait)\n",
      "\n",
      "bestTest = 0.6603222141\n",
      "bestIteration = 131\n",
      "\n",
      "Shrink model to first 132 iterations.\n",
      "CV Log Loss Score: 0.660322\n",
      "\n",
      "----------------- Fold 13 -----------------\n",
      "\n",
      "Learning rate set to 0.115127\n",
      "0:\tlearn: 1.0350264\ttest: 1.0328948\tbest: 1.0328948 (0)\ttotal: 23.2ms\tremaining: 23.2s\n",
      "100:\tlearn: 0.7037692\ttest: 0.6827627\tbest: 0.6827627 (100)\ttotal: 1.8s\tremaining: 16s\n",
      "200:\tlearn: 0.6838637\ttest: 0.6816935\tbest: 0.6813919 (126)\ttotal: 3.85s\tremaining: 15.3s\n",
      "300:\tlearn: 0.6667023\ttest: 0.6824307\tbest: 0.6809928 (211)\ttotal: 5.91s\tremaining: 13.7s\n",
      "Stopped by overfitting detector  (100 iterations wait)\n",
      "\n",
      "bestTest = 0.6809927547\n",
      "bestIteration = 211\n",
      "\n",
      "Shrink model to first 212 iterations.\n",
      "CV Log Loss Score: 0.680993\n",
      "\n",
      "----------------- Fold 14 -----------------\n",
      "\n",
      "Learning rate set to 0.115127\n",
      "0:\tlearn: 1.0346109\ttest: 1.0340100\tbest: 1.0340100 (0)\ttotal: 7.78ms\tremaining: 7.77s\n",
      "100:\tlearn: 0.7066427\ttest: 0.6709175\tbest: 0.6709175 (100)\ttotal: 1.81s\tremaining: 16.1s\n",
      "200:\tlearn: 0.6894442\ttest: 0.6686970\tbest: 0.6682205 (183)\ttotal: 3.88s\tremaining: 15.4s\n",
      "300:\tlearn: 0.6710059\ttest: 0.6685690\tbest: 0.6674580 (269)\ttotal: 5.91s\tremaining: 13.7s\n",
      "Stopped by overfitting detector  (100 iterations wait)\n",
      "\n",
      "bestTest = 0.6674579826\n",
      "bestIteration = 269\n",
      "\n",
      "Shrink model to first 270 iterations.\n",
      "CV Log Loss Score: 0.667458\n",
      "\tLog Loss: 0.665413\n"
     ]
    }
   ],
   "source": [
    "# Stratified K-Fold 설정\n",
    "skfold = StratifiedKFold(n_splits=n_fold, shuffle=True, random_state=seed)\n",
    "folds=[]\n",
    "for train_idx, valid_idx in skfold.split(X, y):\n",
    "        folds.append((train_idx, valid_idx)) # folds 리스트에는 각 Fold에 대한 훈련(train) 및 검증(valid) 인덱스가 저장\n",
    "\n",
    "# CatBoost 모델 및 예측 초기화\n",
    "cat_pred = np.zeros((X.shape[0], n_class))\n",
    "cat_pred_test = np.zeros((X_test.shape[0], n_class))\n",
    "\n",
    "# [범주형 데이터들 총 6개]\n",
    "# 처음 범주형은 9개였는데 왜 6개만 할까?\n",
    "# -> gender, car, reality는 애초에 카테고리에 없던 phone 처럼 0또는 1의 유무 데이터임. 즉 이진 데이터임\n",
    "# [결론] : 캣 부스트에서는 \"범주가 여러개인 것들을 범주형으로 선정\" 해놓고 진행하는거 같음.\n",
    "cat_cols = ['income_type', 'edu_type', 'family_type', 'house_type', 'occyp_type', 'ID']\n",
    "\n",
    "# 각 Fold에 대해 CatBoost 모델을 초기화하고 훈련\n",
    "for fold in range(n_fold):\n",
    "  print(f'\\n----------------- Fold {fold} -----------------\\n')\n",
    "    \n",
    "  train_idx, valid_idx = folds[fold]\n",
    "  X_train, X_valid, y_train, y_valid = X.iloc[train_idx], X.iloc[valid_idx], y[train_idx], y[valid_idx]\n",
    "\n",
    "  train_data = Pool(data=X_train, label=y_train, cat_features=cat_cols)\n",
    "  valid_data = Pool(data=X_valid, label=y_valid, cat_features=cat_cols)\n",
    "\n",
    "  model_cat = CatBoostClassifier()\n",
    "  model_cat.fit(train_data, eval_set=valid_data, use_best_model=True, early_stopping_rounds=100, verbose=100)\n",
    "  cat_pred[valid_idx] = model_cat.predict_proba(X_valid)\n",
    "\n",
    "    # 15로 나눠서 평균 만들어 결과로 만들어 버리기~!\n",
    "  cat_pred_test += model_cat.predict_proba(X_test) / n_fold\n",
    "\n",
    "  print(f'CV Log Loss Score: {log_loss(y_valid, cat_pred[valid_idx]):.6f}')\n",
    "\n",
    "# 모든 Fold에서의 검증 결과를 종합하여 최종 교차 검증 결과를 출력\n",
    "print(f'\\tLog Loss: {log_loss(y, cat_pred):.6f}')"
   ]
  },
  {
   "cell_type": "code",
   "execution_count": 46,
   "id": "4c58ffdf-b1b4-40a2-b48a-4d0bf30091cb",
   "metadata": {},
   "outputs": [],
   "source": [
    "# 피쳐중요도 시각화 함수 제작!\n",
    "\n",
    "def plot_feature_importance(importance,names,model_type):\n",
    "    \n",
    "    feature_importance = np.array(importance)\n",
    "    feature_names = np.array(names)\n",
    "    \n",
    "    data={'feature_names':feature_names,'feature_importance':feature_importance}\n",
    "    fi_df = pd.DataFrame(data)\n",
    "    \n",
    "    fi_df.sort_values(by=['feature_importance'], ascending=False,inplace=True)\n",
    "\n",
    "    plt.figure(figsize=(10,8))\n",
    "\n",
    "    sns.barplot(x=fi_df['feature_importance'], y=fi_df['feature_names'])\n",
    "\n",
    "    plt.title(model_type + ' Feature Importance')\n",
    "    plt.xlabel('Feature Importance')\n",
    "    plt.ylabel('Feature Names')"
   ]
  },
  {
   "cell_type": "code",
   "execution_count": 47,
   "id": "d1576f03-726a-4435-bf10-c111e9bc4f09",
   "metadata": {},
   "outputs": [
    {
     "data": {
      "image/png": "[encoded data removed]",
      "text/plain": [
       "<Figure size 1000x800 with 1 Axes>"
      ]
     },
     "metadata": {},
     "output_type": "display_data"
    }
   ],
   "source": [
    "# 피쳐중요도 시각화\n",
    "plot_feature_importance(model_cat.get_feature_importance(),X_test.columns,'CATBOOST')\n",
    "# model_cat.get_feature_importance() 속성이 피쳐중요도를 보여줌\n",
    "# X_test.columns 칼럼 이름들을 보여줌"
   ]
  },
  {
   "cell_type": "code",
   "execution_count": 48,
   "id": "0a60632c-f4cd-491e-86d8-ac90675e95dc",
   "metadata": {},
   "outputs": [
    {
     "data": {
      "text/html": [
       "<div>\n",
       "<style scoped>\n",
       "    .dataframe tbody tr th:only-of-type {\n",
       "        vertical-align: middle;\n",
       "    }\n",
       "\n",
       "    .dataframe tbody tr th {\n",
       "        vertical-align: top;\n",
       "    }\n",
       "\n",
       "    .dataframe thead th {\n",
       "        text-align: right;\n",
       "    }\n",
       "</style>\n",
       "<table border=\"1\" class=\"dataframe\">\n",
       "  <thead>\n",
       "    <tr style=\"text-align: right;\">\n",
       "      <th></th>\n",
       "      <th>index</th>\n",
       "      <th>0</th>\n",
       "      <th>1</th>\n",
       "      <th>2</th>\n",
       "    </tr>\n",
       "  </thead>\n",
       "  <tbody>\n",
       "    <tr>\n",
       "      <th>0</th>\n",
       "      <td>26457</td>\n",
       "      <td>0.114418</td>\n",
       "      <td>0.166037</td>\n",
       "      <td>0.719545</td>\n",
       "    </tr>\n",
       "    <tr>\n",
       "      <th>1</th>\n",
       "      <td>26458</td>\n",
       "      <td>0.342588</td>\n",
       "      <td>0.201669</td>\n",
       "      <td>0.455743</td>\n",
       "    </tr>\n",
       "    <tr>\n",
       "      <th>2</th>\n",
       "      <td>26459</td>\n",
       "      <td>0.039816</td>\n",
       "      <td>0.080545</td>\n",
       "      <td>0.879639</td>\n",
       "    </tr>\n",
       "    <tr>\n",
       "      <th>3</th>\n",
       "      <td>26460</td>\n",
       "      <td>0.055150</td>\n",
       "      <td>0.079136</td>\n",
       "      <td>0.865714</td>\n",
       "    </tr>\n",
       "    <tr>\n",
       "      <th>4</th>\n",
       "      <td>26461</td>\n",
       "      <td>0.085233</td>\n",
       "      <td>0.225309</td>\n",
       "      <td>0.689458</td>\n",
       "    </tr>\n",
       "    <tr>\n",
       "      <th>...</th>\n",
       "      <td>...</td>\n",
       "      <td>...</td>\n",
       "      <td>...</td>\n",
       "      <td>...</td>\n",
       "    </tr>\n",
       "    <tr>\n",
       "      <th>9995</th>\n",
       "      <td>36452</td>\n",
       "      <td>0.071628</td>\n",
       "      <td>0.226853</td>\n",
       "      <td>0.701518</td>\n",
       "    </tr>\n",
       "    <tr>\n",
       "      <th>9996</th>\n",
       "      <td>36453</td>\n",
       "      <td>0.310305</td>\n",
       "      <td>0.185141</td>\n",
       "      <td>0.504554</td>\n",
       "    </tr>\n",
       "    <tr>\n",
       "      <th>9997</th>\n",
       "      <td>36454</td>\n",
       "      <td>0.051066</td>\n",
       "      <td>0.118369</td>\n",
       "      <td>0.830565</td>\n",
       "    </tr>\n",
       "    <tr>\n",
       "      <th>9998</th>\n",
       "      <td>36455</td>\n",
       "      <td>0.150250</td>\n",
       "      <td>0.313198</td>\n",
       "      <td>0.536553</td>\n",
       "    </tr>\n",
       "    <tr>\n",
       "      <th>9999</th>\n",
       "      <td>36456</td>\n",
       "      <td>0.068477</td>\n",
       "      <td>0.449615</td>\n",
       "      <td>0.481909</td>\n",
       "    </tr>\n",
       "  </tbody>\n",
       "</table>\n",
       "<p>10000 rows × 4 columns</p>\n",
       "</div>"
      ],
      "text/plain": [
       "      index         0         1         2\n",
       "0     26457  0.114418  0.166037  0.719545\n",
       "1     26458  0.342588  0.201669  0.455743\n",
       "2     26459  0.039816  0.080545  0.879639\n",
       "3     26460  0.055150  0.079136  0.865714\n",
       "4     26461  0.085233  0.225309  0.689458\n",
       "...     ...       ...       ...       ...\n",
       "9995  36452  0.071628  0.226853  0.701518\n",
       "9996  36453  0.310305  0.185141  0.504554\n",
       "9997  36454  0.051066  0.118369  0.830565\n",
       "9998  36455  0.150250  0.313198  0.536553\n",
       "9999  36456  0.068477  0.449615  0.481909\n",
       "\n",
       "[10000 rows x 4 columns]"
      ]
     },
     "execution_count": 48,
     "metadata": {},
     "output_type": "execute_result"
    }
   ],
   "source": [
    "# 모든 행(:)을 포함하되, 두 번째 열부터 마지막 열까지의 모든 열(1:)을 선택\n",
    "sample_submission_df.iloc[:, 1:] = cat_pred_test\n",
    "sample_submission_df"
   ]
  },
  {
   "cell_type": "code",
   "execution_count": 49,
   "id": "51ff4109-c04a-4295-871a-a46ec5255aee",
   "metadata": {},
   "outputs": [],
   "source": [
    "sample_submission_df.to_csv('/Users/raekkkky/Desktop/DNA/winter 24/project7/submission_Final.csv', index=False)"
   ]
  },
  {
   "cell_type": "markdown",
   "id": "d6c5e892-5895-476e-9255-33ff50e8d737",
   "metadata": {
    "jp-MarkdownHeadingCollapsed": true
   },
   "source": [
    "#### 다중회귀분석"
   ]
  },
  {
   "cell_type": "code",
   "execution_count": null,
   "id": "91c6fce9-9555-430f-9cbb-72504faded14",
   "metadata": {},
   "outputs": [],
   "source": [
    "# 위에서 따로 진행했었는데, 좋은 결과가 딱히 없었음."
   ]
  },
  {
   "cell_type": "markdown",
   "id": "d9cba516-a726-4d0b-837f-f392d57c4af9",
   "metadata": {
    "jp-MarkdownHeadingCollapsed": true
   },
   "source": [
    "#### LGBM"
   ]
  },
  {
   "cell_type": "code",
   "execution_count": null,
   "id": "cdbdcda9-af21-43ea-84b2-0ead7f2ad363",
   "metadata": {},
   "outputs": [],
   "source": [
    "# 위에서 따로 진행했었는데, 좋은 결과가 딱히 없었음."
   ]
  },
  {
   "cell_type": "markdown",
   "id": "c98f2597-44bb-484f-953a-9c2950271097",
   "metadata": {
    "jp-MarkdownHeadingCollapsed": true
   },
   "source": [
    "#### XGB"
   ]
  },
  {
   "cell_type": "code",
   "execution_count": null,
   "id": "10e810eb-05ed-4d7a-96c5-be1f3bf4b473",
   "metadata": {},
   "outputs": [],
   "source": [
    "# 위에서 따로 진행했었는데, 좋은 결과가 딱히 없었음."
   ]
  },
  {
   "cell_type": "markdown",
   "id": "67933dd9-f96d-4011-9bc9-0c6822dd6012",
   "metadata": {
    "jp-MarkdownHeadingCollapsed": true
   },
   "source": [
    "#### Random Forest"
   ]
  },
  {
   "cell_type": "code",
   "execution_count": null,
   "id": "42b63484-44ee-48b9-b80f-aaa2008ee175",
   "metadata": {},
   "outputs": [],
   "source": []
  },
  {
   "cell_type": "code",
   "execution_count": null,
   "id": "05320428-14c3-40ae-bdc6-79f76fc30d03",
   "metadata": {},
   "outputs": [],
   "source": [
    "# 위에서 따로 진행했었는데, 좋은 결과가 딱히 없었음."
   ]
  },
  {
   "cell_type": "markdown",
   "id": "066a6878-5000-4fbb-a3e7-6892343fb514",
   "metadata": {
    "jp-MarkdownHeadingCollapsed": true
   },
   "source": [
    "## <span style=\"color:orange\">[연우가 모델링 한 것들]</span> "
   ]
  },
  {
   "cell_type": "code",
   "execution_count": 1,
   "id": "ee2f6fd8-5861-4c02-aa68-9945fa3b3c3e",
   "metadata": {},
   "outputs": [],
   "source": [
    "# 나중에 전체적인 코드 설명 연우한테 부탁해서 들어보자. [너무 복잡하고 뒤죽박죽이라 코드 해석이 너무 어려움]"
   ]
  },
  {
   "cell_type": "markdown",
   "id": "509646c0-c81c-44f5-8a08-fe10aef83e6c",
   "metadata": {},
   "source": [
    "### 모델링"
   ]
  },
  {
   "cell_type": "code",
   "execution_count": null,
   "id": "bfb06f66-3479-4ea5-b085-93a67a3a81ba",
   "metadata": {},
   "outputs": [],
   "source": [
    "from typing import Dict, Tuple, Union, List"
   ]
  },
  {
   "cell_type": "code",
   "execution_count": null,
   "id": "be036633-01cd-4039-a5eb-7bbbdb4410aa",
   "metadata": {},
   "outputs": [],
   "source": [
    "def stratified_kfold_cat(\n",
    "    params: Dict[str, Union[int, float, str, List[str]]],\n",
    "    n_fold,\n",
    "    X,\n",
    "    target,\n",
    "    X_test,\n",
    ") -> Tuple[np.ndarray, np.ndarray]:\n",
    "    folds = StratifiedKFold(n_splits=n_fold, shuffle=True, random_state=42)\n",
    "    splits = folds.split(X, target)\n",
    "    cat_oof = np.zeros((X.shape[0], 3))\n",
    "    cat_preds = np.zeros((X_test.shape[0], 3))\n",
    "    cat_cols = [c for c in X.columns if X[c].dtypes == \"int64\"]\n",
    "\n",
    "    for fold, (train_idx, valid_idx) in enumerate(splits):\n",
    "        print(f\"============ Fold {fold} ============\\n\")\n",
    "        X_train, X_valid = X.iloc[train_idx], X.iloc[valid_idx]\n",
    "        y_train, y_valid = target.iloc[train_idx], target.iloc[valid_idx]\n",
    "        train_data = Pool(data=X_train, label=y_train, cat_features=cat_cols)\n",
    "        valid_data = Pool(data=X_valid, label=y_valid, cat_features=cat_cols)\n",
    "\n",
    "        model = CatBoostClassifier(**params)\n",
    "\n",
    "        model.fit(\n",
    "            train_data,\n",
    "            eval_set=valid_data,\n",
    "            early_stopping_rounds=100,\n",
    "            use_best_model=True,\n",
    "            verbose=100,\n",
    "        )\n",
    "\n",
    "        cat_oof[valid_idx] = model.predict_proba(X_valid)\n",
    "        cat_preds += model.predict_proba(X_test) / n_fold\n",
    "\n",
    "    log_score = log_loss(target, cat_oof)\n",
    "    print(f\"Log Loss Score: {log_score:.5f}\\n\")\n",
    "    return cat_oof, cat_preds"
   ]
  },
  {
   "cell_type": "code",
   "execution_count": null,
   "id": "d3b8d72b-a444-4b31-9f0b-bce50854bb00",
   "metadata": {},
   "outputs": [],
   "source": [
    "# Light GBM\n",
    "def stratified_kfold_lgbm(\n",
    "    params: Dict[str, Union[int, float, str]],\n",
    "    n_fold: int,\n",
    "    X: pd.DataFrame,\n",
    "    y: pd.DataFrame,\n",
    "    X_test: pd.DataFrame,\n",
    ") -> Tuple[np.ndarray, np.ndarray]:\n",
    "    folds = StratifiedKFold(n_splits=n_fold, shuffle=True, random_state=42)\n",
    "    splits = folds.split(X, y)\n",
    "    lgb_oof = np.zeros((X.shape[0], 3))\n",
    "    lgb_preds = np.zeros((X_test.shape[0], 3))\n",
    "\n",
    "    for fold, (train_idx, valid_idx) in enumerate(splits):\n",
    "        print(f\"============ Fold {fold} ============\\n\")\n",
    "        X_train, X_valid = X.iloc[train_idx], X.iloc[valid_idx]\n",
    "        y_train, y_valid = y.iloc[train_idx], y.iloc[valid_idx]\n",
    "        pre_model = LGBMClassifier(**params)\n",
    "\n",
    "        pre_model.fit(\n",
    "            X_train,\n",
    "            y_train,\n",
    "            eval_set=[(X_train, y_train), (X_valid, y_valid)],\n",
    "            eval_metric='multi_logloss',\n",
    "        )\n",
    "        params2 = params.copy()\n",
    "        params2[\"learning_rate\"] = params[\"learning_rate\"] * 0.1\n",
    "\n",
    "        model = LGBMClassifier(**params2)\n",
    "        model.fit(\n",
    "            X_train,\n",
    "            y_train,\n",
    "            eval_set=[(X_train, y_train), (X_valid, y_valid)],\n",
    "            eval_metric='multi_logloss',\n",
    "            init_model=pre_model,\n",
    "        )\n",
    "        lgb_oof[valid_idx] = model.predict_proba(X_valid)\n",
    "        lgb_preds += model.predict_proba(X_test) / n_fold\n",
    "\n",
    "    log_score = log_loss(y, lgb_oof)\n",
    "    print(f\"Log Loss Score: {log_score:.5f}\")\n",
    "\n",
    "    return lgb_oof, lgb_preds"
   ]
  },
  {
   "cell_type": "code",
   "execution_count": null,
   "id": "b6572f03-036e-46dd-8028-d4a5498eba1e",
   "metadata": {},
   "outputs": [],
   "source": [
    "# XGB\n",
    "def stratified_kfold_xgb(\n",
    "    params: Dict[str, Union[int, float, str]],\n",
    "    n_fold,\n",
    "    X,\n",
    "    y,\n",
    "    X_test,\n",
    ") -> Tuple[np.ndarray, np.ndarray]:\n",
    "\n",
    "    folds = StratifiedKFold(n_splits=n_fold, shuffle=True, random_state=42)\n",
    "    splits = folds.split(X, y)\n",
    "    xgb_oof = np.zeros((X.shape[0], 3))\n",
    "    xgb_preds = np.zeros((X_test.shape[0], 3))\n",
    "\n",
    "    for fold, (train_idx, valid_idx) in enumerate(splits):\n",
    "        print(f\"============ Fold {fold} ============\\n\")\n",
    "        X_train, X_valid = X.iloc[train_idx], X.iloc[valid_idx]\n",
    "        y_train, y_valid = y.iloc[train_idx], y.iloc[valid_idx]\n",
    "\n",
    "        model = XGBClassifier(**params)\n",
    "        model.fit(\n",
    "            X_train,\n",
    "            y_train,\n",
    "            eval_set=[(X_train, y_train), (X_valid, y_valid)],\n",
    "            early_stopping_rounds=100,\n",
    "            verbose=100,\n",
    "        )\n",
    "\n",
    "        xgb_oof[valid_idx] = model.predict_proba(X_valid)\n",
    "        xgb_preds += model.predict_proba(X_test) / n_fold\n",
    "\n",
    "    log_score = log_loss(y, xgb_oof)\n",
    "    print(f\"Log Loss Score: {log_score:.5f}\")\n",
    "\n",
    "    return xgb_oof, xgb_preds"
   ]
  },
  {
   "cell_type": "code",
   "execution_count": null,
   "id": "1edad0dd-74f7-4b59-92c6-73df94ba2ed3",
   "metadata": {},
   "outputs": [],
   "source": [
    "# 하이퍼 파라미터 조정\n",
    "\n",
    "cat_params = {\n",
    "    \"random_state\": 42,\n",
    "    \"eval_metric\": \"MultiClass\",\n",
    "    \"loss_function\": \"MultiClass\",\n",
    "    'learning_rate': 0.01443340240633889,\n",
    "    'n_estimators': 6728, 'max_depth': 8,\n",
    "    'random_strength': 51,\n",
    "    \"cat_features\": ['income_type', 'edu_type', 'family_type', 'house_type','occyp_type','DAYS_BIRTH_bin', 'begin_month_bin', 'DAYS_EMPLOYED_bin',\n",
    "       'g_r_c', 'e_p_w','befor_EMPLOYED_year','ID','occyp_is']}\n",
    "cat_oof, cat_preds = stratified_kfold_cat(cat_params, 10, X, target, X_test)\n",
    "\n",
    "xgb_params = {\n",
    "    \"random_state\": 42,\n",
    "    \"n_estimators\": 10000,\n",
    "    \"objective\": \"multi:softmax\",\n",
    "    \"eval_metric\": \"mlogloss\",\n",
    "    'learning_rate': 0.1,\n",
    "    'max_depth': 4,\n",
    "    'num_leaves': 4,\n",
    "    'colsample_bytree': 0.65,\n",
    "    'max_bin': 360}\n",
    "xgb_oof, xgb_preds = stratified_kfold_xgb(xgb_params, 10, X, target, X_test)\n",
    "\n",
    "lgb_params = {\n",
    "    \"objective\": \"multiclass\",\n",
    "    \"metric\": \"multi_logloss\",\n",
    "    \"verbosity\":0,\n",
    "    \"random_state\": 42,\n",
    "    \"boosting_type\": \"gbdt\",\n",
    "    \"learning_rate\": 0.05, 'max_depth': 5, 'num_leaves': 147,}\n",
    "lgbm_oof, lgbm_preds = stratified_kfold_lgbm(lgb_params, 10, X, target, X_test)\n",
    "\n",
    "train_pred = np.concatenate([cat_oof, lgbm_oof, xgb_oof], axis=1)\n",
    "train_pred.shape\n",
    "\n",
    "test_pred = np.concatenate([cat_preds, lgbm_preds, xgb_preds], axis=1)\n",
    "test_pred.shape"
   ]
  },
  {
   "cell_type": "code",
   "execution_count": null,
   "id": "86dea9fe-0c46-4403-b741-7675f53ad638",
   "metadata": {},
   "outputs": [],
   "source": [
    "import torch\n",
    "!pip install pytorch_tabnet\n",
    "device = \"cuda\" if torch.cuda.is_available() else \"cpu\"\n",
    "from pytorch_tabnet.multitask import TabNetMultiTaskClassifier"
   ]
  },
  {
   "cell_type": "code",
   "execution_count": null,
   "id": "3a2f630f-2597-4efd-b77a-4f4a806d0755",
   "metadata": {},
   "outputs": [],
   "source": [
    "n_fold = 10\n",
    "folds = StratifiedKFold(n_splits=n_fold, shuffle=True, random_state=42)\n",
    "splits = folds.split(train_pred, target)\n",
    "net_oof = np.zeros((train_pred.shape[0], 3))\n",
    "net_preds = np.zeros((test_pred.shape[0], 3))\n",
    "for fold, (train_idx, valid_idx) in enumerate(splits):\n",
    "    print(f\"============ Fold {fold} ============\\n\")\n",
    "    X_train, X_valid = train_pred[train_idx], train_pred[valid_idx]\n",
    "    y_train, y_valid = target[train_idx], target[valid_idx]\n",
    "    model = TabNetMultiTaskClassifier(\n",
    "            n_d=64, n_a=64, n_steps=1,\n",
    "            lambda_sparse=1e-4,\n",
    "            optimizer_fn=torch.optim.Adam,\n",
    "            optimizer_params=dict(lr=2e-2),\n",
    "            scheduler_params = {\"gamma\": 0.9, \"step_size\": 50},\n",
    "            scheduler_fn=torch.optim.lr_scheduler.StepLR,\n",
    "            mask_type=\"entmax\",\n",
    "    )\n",
    "\n",
    "    model.fit(\n",
    "        X_train, y_train.reshape(-1,1),\n",
    "        eval_set=[(X_valid, y_valid.reshape(-1,1))],\n",
    "        max_epochs=100,\n",
    "        batch_size=1024,\n",
    "        eval_metric=[\"logloss\"],\n",
    "        virtual_batch_size=128,\n",
    "        num_workers=1,\n",
    "        drop_last=False\n",
    "    )\n",
    "    net_oof[valid_idx] = model.predict_proba(X_valid)\n",
    "    net_preds += model.predict_proba(test_pred)[0] / n_fold\n",
    "log_score = log_loss(train_y, net_oof)\n",
    "print(f\"Log Loss Score: {log_score:.5f}\")"
   ]
  },
  {
   "cell_type": "code",
   "execution_count": null,
   "id": "1089cb73-5b82-4a0d-8b92-ce61cae76aa8",
   "metadata": {},
   "outputs": [],
   "source": [
    "seed=42\n",
    "target = train['credit']\n",
    "X =np.array(train.loc[:, train.columns != 'credit'])\n",
    "\n",
    "# LabelEncoder 객체 생성\n",
    "label_encoder = LabelEncoder()\n",
    "\n",
    "# 라벨을 숫자로 변환\n",
    "target= label_encoder.fit_transform(target)\n",
    "n_iter=0\n",
    "cv_accuracy=[]"
   ]
  },
  {
   "cell_type": "code",
   "execution_count": null,
   "id": "5854a155-f77d-4ff4-93f1-929e4f394ce9",
   "metadata": {},
   "outputs": [],
   "source": [
    "str_kf = StratifiedKFold(n_splits = 5, shuffle = True, random_state = 42)\n",
    "\n",
    "# split 개수 스텝 만큼 train, test 데이터셋을 매번 분할\n",
    "for train_index, test_index in str_kf.split(X, target):\n",
    "    X_train, X_test = X[train_index], X[test_index]\n",
    "    y_train, y_test = target[train_index], target[test_index]\n",
    "\n",
    "    cat.fit(X_train, y_train)\n",
    "\n",
    "    pred = cat.predict(X_test)\n",
    "    n_iter += 1\n",
    "\n",
    "    accuracy = np.round(accuracy_score(y_test, pred), 4)\n",
    "    train_size = X_train.shape[0]\n",
    "    test_size = X_test.shape[0]\n",
    "\n",
    "    print('\\n#{0} 교차 검증 정확도 : {1},  학습 데이터 크기 : {2},  검증 데이터 크기 : {3}'\n",
    "          .format(n_iter, accuracy, train_size, test_size))\n",
    "    print('#{0} 검증 세트 인덱스 : {1}'.format(n_iter,test_index))\n",
    "    cv_accuracy.append(accuracy)\n",
    "\n",
    "print('\\n## 평균 검증 정확도:', np.mean(cv_accuracy))"
   ]
  },
  {
   "cell_type": "code",
   "execution_count": null,
   "id": "a5f9545b-ae6d-46d3-9ac3-bf0c4e464394",
   "metadata": {},
   "outputs": [],
   "source": [
    "str_kf = StratifiedKFold(n_splits = 10, shuffle = True, random_state = 42)\n",
    "\n",
    "# split 개수 스텝 만큼 train, test 데이터셋을 매번 분할\n",
    "for train_index, test_index in str_kf.split(X, target):\n",
    "    X_train, X_test = X[train_index], X[test_index]\n",
    "    y_train, y_test = target[train_index], target[test_index]\n",
    "\n",
    "    xgb.fit(X_train, y_train)\n",
    "\n",
    "    pred = xgb.predict(X_test)\n",
    "    n_iter += 1\n",
    "\n",
    "    accuracy = np.round(accuracy_score(y_test, pred), 4)\n",
    "    train_size = X_train.shape[0]\n",
    "    test_size = X_test.shape[0]\n",
    "\n",
    "    print('\\n#{0} 교차 검증 정확도 : {1},  학습 데이터 크기 : {2},  검증 데이터 크기 : {3}'\n",
    "          .format(n_iter, accuracy, train_size, test_size))\n",
    "    print('#{0} 검증 세트 인덱스 : {1}'.format(n_iter,test_index))\n",
    "    cv_accuracy.append(accuracy)\n",
    "\n",
    "print('\\n## 평균 검증 정확도:', np.mean(cv_accuracy))"
   ]
  },
  {
   "cell_type": "code",
   "execution_count": null,
   "id": "29852512-71af-4005-be78-ebef5cc327ba",
   "metadata": {},
   "outputs": [],
   "source": [
    "str_kf = StratifiedKFold(n_splits = 5, shuffle = True, random_state = 42)\n",
    "\n",
    "# split 개수 스텝 만큼 train, test 데이터셋을 매번 분할\n",
    "for train_index, test_index in str_kf.split(X, target):\n",
    "    X_train, X_test = X[train_index], X[test_index]\n",
    "    y_train, y_test = target[train_index], target[test_index]\n",
    "\n",
    "    lgbm.fit(X_train, y_train)\n",
    "\n",
    "    pred = lgbm.predict(X_test)\n",
    "    n_iter += 1\n",
    "\n",
    "    accuracy = np.round(accuracy_score(y_test, pred), 4)\n",
    "    train_size = X_train.shape[0]\n",
    "    test_size = X_test.shape[0]\n",
    "\n",
    "    print('\\n#{0} 교차 검증 정확도 : {1},  학습 데이터 크기 : {2},  검증 데이터 크기 : {3}'\n",
    "          .format(n_iter, accuracy, train_size, test_size))\n",
    "    print('#{0} 검증 세트 인덱스 : {1}'.format(n_iter,test_index))\n",
    "    cv_accuracy.append(accuracy)\n",
    "\n",
    "print('\\n## 평균 검증 정확도:', np.mean(cv_accuracy))"
   ]
  },
  {
   "cell_type": "code",
   "execution_count": null,
   "id": "096fde50-8445-4320-97f8-0db6f7b703a2",
   "metadata": {},
   "outputs": [],
   "source": [
    "from catboost import CatBoostClassifier\n",
    "\n",
    "cat_model = CatBoostClassifier(random_state=42,\n",
    "                              verbose=0)\n",
    "cat_model.fit(train_X,train_y)\n",
    "\n",
    "val_pred = cat_model.predict(valid_X)\n",
    "print('accuracy_score : ' ,accuracy_score(valid_y,val_pred))\n",
    "\n",
    "val_pred2 = cat_model.predict_proba(valid_X)\n",
    "print('log_loss : ' ,log_loss(valid_y,val_pred2))\n",
    "\n",
    "cat_test_pred_proba = cat_model.predict_proba(X_test)"
   ]
  },
  {
   "cell_type": "code",
   "execution_count": null,
   "id": "398f4c70-69e1-4949-8c0a-1dbed51819d2",
   "metadata": {},
   "outputs": [],
   "source": [
    "xgb_test_pred_proba = xgb.predict_proba(X_test)"
   ]
  },
  {
   "cell_type": "code",
   "execution_count": null,
   "id": "3c882eb8-f1e6-477e-adee-a9c6458452e5",
   "metadata": {},
   "outputs": [],
   "source": [
    "from lightgbm import LGBMClassifier\n",
    "\n",
    "lgbm = LGBMClassifier(verbose=0)\n",
    "lgbm.fit(train_X,train_y)\n",
    "\n",
    "val_pred = lgbm.predict(valid_X)\n",
    "print('accuracy_score : ' ,accuracy_score(valid_y,val_pred))\n",
    "\n",
    "val_pred2 = lgbm.predict_proba(valid_X)\n",
    "print('log_loss : ' ,log_loss(valid_y,val_pred2))\n",
    "\n",
    "lgbm_test_pred_proba = lgbm.predict_proba(X_test)"
   ]
  },
  {
   "cell_type": "code",
   "execution_count": null,
   "id": "e0d69f5e-090b-4523-9a35-1954d68ace00",
   "metadata": {},
   "outputs": [],
   "source": [
    "from xgboost import XGBClassifier\n",
    "\n",
    "xgb = XGBClassifier(random_state=42,\n",
    "                    verbosity=0\n",
    "                    )\n",
    "xgb.fit(train_X,train_y)\n",
    "\n",
    "val_pred = xgb.predict(valid_X)\n",
    "print('accuracy_score : ' ,accuracy_score(valid_y,val_pred))\n",
    "\n",
    "val_pred2 = xgb.predict_proba(valid_X)\n",
    "print('log_loss : ' ,log_loss(valid_y,val_pred2))\n",
    "\n",
    "xgb_test_pred_proba = xgb.predict_proba(X_test)"
   ]
  },
  {
   "cell_type": "markdown",
   "id": "1e630143-d836-4f2a-9445-ad55339cdc97",
   "metadata": {
    "jp-MarkdownHeadingCollapsed": true
   },
   "source": [
    "### 피쳐 중요도"
   ]
  },
  {
   "cell_type": "code",
   "execution_count": null,
   "id": "b2b0b1cd-9ff3-4147-9bde-624a920c868d",
   "metadata": {},
   "outputs": [],
   "source": [
    "!pip install graphviz"
   ]
  },
  {
   "cell_type": "code",
   "execution_count": null,
   "id": "0c54708c-0fd3-45fa-ab3a-e23e9e1a21b4",
   "metadata": {},
   "outputs": [],
   "source": [
    "feature_importance =xgb.feature_importances_\n",
    "sorted_idx = np.argsort(feature_importance)\n",
    "fig = plt.figure(figsize=(12, 6))\n",
    "plt.barh(range(len(sorted_idx)), feature_importance[sorted_idx], align='center')\n",
    "plt.yticks(range(len(sorted_idx)), np.array(X_test.columns)[sorted_idx])\n",
    "plt.title('XGBoost Feature Importance')"
   ]
  },
  {
   "cell_type": "code",
   "execution_count": null,
   "id": "49c5443b-6a86-40f5-a854-b21fc9603404",
   "metadata": {},
   "outputs": [],
   "source": [
    "# 그냥 확인하기에 피쳐종류가 30개나 되어 한눈에 들어오지 않는다.\n",
    "print(lgbm.feature_importances_, '\\n')\n",
    "# 시리즈로 만들어 인덱스를 붙인다\n",
    "ser = pd.Series(lgbm.feature_importances_, index=X_train.columns)\n",
    "\n",
    "# 내림차순 정렬을 이용한다\n",
    "ser.sort_values(ascending=False)\n",
    "\n",
    "top15 = ser.sort_values(ascending=False)[:15]\n",
    "top15 = top15.to_frame()\n",
    "top15.rename(columns={0:'feature_importance'}, inplace=True)\n",
    "top15.head(15)"
   ]
  },
  {
   "cell_type": "code",
   "execution_count": null,
   "id": "adeb1598-9067-48b8-aadb-acb0b7acd01a",
   "metadata": {},
   "outputs": [],
   "source": [
    "!pip install eli5"
   ]
  },
  {
   "cell_type": "code",
   "execution_count": null,
   "id": "d579eba1-74eb-4ca5-b55e-0cf143273c52",
   "metadata": {},
   "outputs": [],
   "source": [
    "import eli5\n",
    "from eli5.sklearn import PermutationImportance\n",
    "perm = PermutationImportance(xgb, random_state=42).fit(valid_X, valid_y)\n",
    "eli5.show_weights(perm, feature_names = valid_X.columns.tolist())"
   ]
  },
  {
   "cell_type": "code",
   "execution_count": null,
   "id": "5cb32a03-fba4-4084-bc5e-fed0d30fb4d7",
   "metadata": {},
   "outputs": [],
   "source": [
    "!pip install shap\n",
    "import shap\n",
    "shap.initjs()"
   ]
  },
  {
   "cell_type": "code",
   "execution_count": null,
   "id": "15a16a38-49f3-471c-96bb-ffe4c72fdd60",
   "metadata": {},
   "outputs": [],
   "source": [
    "explainer = shap.Explainer(cat_model)\n",
    "shap_values = explainer.shap_values(X_train)"
   ]
  },
  {
   "cell_type": "code",
   "execution_count": null,
   "id": "4fec31ca-7e71-4adf-984f-d30f69d1691c",
   "metadata": {},
   "outputs": [],
   "source": [
    "shap.initjs()\n",
    "shap.force_plot(explainer.expected_value[0], shap_values[0], X_train)"
   ]
  },
  {
   "cell_type": "code",
   "execution_count": null,
   "id": "29a08a6b-5a35-4e36-92b8-77d3347875dd",
   "metadata": {},
   "outputs": [],
   "source": [
    "shap.summary_plot(shap_values, X_train)"
   ]
  },
  {
   "cell_type": "markdown",
   "id": "03931596-be2d-4e56-bacb-f1a3694a8c5d",
   "metadata": {
    "jp-MarkdownHeadingCollapsed": true
   },
   "source": [
    "### 하이퍼파라미터 튜닝 [나중에 pycaret으로 하이어파라미터 튜닝 해보자!]"
   ]
  },
  {
   "cell_type": "code",
   "execution_count": null,
   "id": "b2b4d7f3-917b-4dca-b306-4e194a441390",
   "metadata": {},
   "outputs": [],
   "source": [
    "!pip install optuna"
   ]
  },
  {
   "cell_type": "code",
   "execution_count": null,
   "id": "eff7bb6a-eee8-4753-bbe2-057501146bc4",
   "metadata": {},
   "outputs": [],
   "source": [
    "import optuna\n",
    "from optuna import Trial\n",
    "from optuna.samplers import TPESampler\n",
    "from sklearn.metrics import log_loss\n",
    "from sklearn.model_selection import train_test_split\n",
    "from optuna import create_study\n",
    "sampler = optuna.samplers.TPESampler()"
   ]
  },
  {
   "cell_type": "code",
   "execution_count": null,
   "id": "a6c4ac4a-127c-48d6-a397-61abd09403a3",
   "metadata": {},
   "outputs": [],
   "source": [
    "def objective(trial: Trial) -> float:\n",
    "    params_lgb = {\n",
    "        \"random_state\": 42,\n",
    "        \"verbosity\": -1,\n",
    "        \"learning_rate\": trial.suggest_float(\"learning_rate\", 0.05, 0.15),\n",
    "        \"n_estimators\": 10000,\n",
    "        \"objective\": \"multiclass\",\n",
    "        \"max_depth\": trial.suggest_int(\"max_depth\", 1, 20),\n",
    "        \"num_leaves\": trial.suggest_int(\"num_leaves\", 2, 256),\n",
    "        \"colsample_bytree\": trial.suggest_float(\"colsample_bytree\", 0.4, 1.0),\n",
    "        \"min_child_samples\": trial.suggest_int(\"min_child_samples\", 5, 100),\n",
    "    }\n",
    "\n",
    "    X_train, X_valid, y_train, y_valid = train_test_split(X, target, test_size=0.2)\n",
    "\n",
    "    model = LGBMClassifier(**params_lgb,metric='multi_logloss')  # metric 추가\n",
    "    model.fit(X_train, y_train, eval_set=[(X_valid, y_valid)], eval_metric='multi_logloss')\n",
    "\n",
    "# 예측 확률값 얻기\n",
    "    y_pred_proba = model.predict_proba(X_valid)\n",
    "\n",
    "# log_loss 계산\n",
    "    score = log_loss(y_valid, y_pred_proba, labels=np.unique(y_valid))\n",
    "    return score\n",
    "\n",
    "study = optuna.create_study(direction='minimize', sampler=sampler,)\n",
    "study.optimize(objective, n_trials=10)\n",
    "print(\"Best Score:\", study.best_value)\n",
    "print(\"Best trial:\", study.best_trial.params)"
   ]
  },
  {
   "cell_type": "code",
   "execution_count": null,
   "id": "3ec9dfd4-6009-4637-ab3f-68142902d18a",
   "metadata": {},
   "outputs": [],
   "source": [
    "def objective(trial: Trial) -> float:\n",
    "    params_xgb = {\n",
    "        \"random_state\": 42,\n",
    "        \"learning_rate\": trial.suggest_float(\"learning_rate\", 0.05, 0.15),\n",
    "        \"n_estimators\": 1000,\n",
    "        \"max_depth\": trial.suggest_int(\"max_depth\", 1, 10),\n",
    "        \"num_leaves\": trial.suggest_int(\"num_leaves\", 2, 256),\n",
    "        \"colsample_bytree\": trial.suggest_float(\"colsample_bytree\", 0.4, 1.0),\n",
    "        \"max_bin\": trial.suggest_int(\"max_bin\", 200, 500),  # 수정: 허용된 범위 내의 값으로 수정\n",
    "    }\n",
    "\n",
    "    X_train, X_valid, y_train, y_valid = train_test_split(X, target, test_size=0.2)\n",
    "\n",
    "\n",
    "    num_classes = len(np.unique(y_train))\n",
    "    model = XGBClassifier(**params_xgb,verbosity=0, metric='mlogloss', num_class=num_classes)  # 수정: 'multiclass' 대신 'mlogloss' 사용\n",
    "    model.fit(X_train, y_train, eval_set=[(X_valid, y_valid)], eval_metric='mlogloss', verbose=False)  # 수정: 'multiclass' 대신 'mlogloss' 사용\n",
    "\n",
    "    y_pred_proba = model.predict_proba(X_valid)\n",
    "    score = log_loss(y_valid, y_pred_proba, labels=np.unique(y_valid))\n",
    "\n",
    "    return score\n",
    "\n",
    "study = optuna.create_study(direction='minimize', sampler=sampler,)\n",
    "study.optimize(objective, n_trials=10)\n",
    "print(\"Best Score:\", study.best_value)\n",
    "print(\"Best trial:\", study.best_trial.params)\n"
   ]
  },
  {
   "cell_type": "code",
   "execution_count": null,
   "id": "54a7cfab-9438-4998-98f1-fb3c3c29fbc3",
   "metadata": {},
   "outputs": [],
   "source": [
    "def objective(trial):\n",
    "  param = {\n",
    "      \"random_state\":42,\n",
    "      'learning_rate' : trial.suggest_loguniform('learning_rate', 0.01, 0.3),\n",
    "      'bagging_temperature' :trial.suggest_loguniform('bagging_temperature', 0.01, 100.00),\n",
    "      \"n_estimators\":trial.suggest_int(\"n_estimators\", 1000, 10000),\n",
    "      \"max_depth\":trial.suggest_int(\"max_depth\", 4, 16),\n",
    "      'random_strength' :trial.suggest_int('random_strength', 0, 100),\n",
    "      \"colsample_bylevel\":trial.suggest_float(\"colsample_bylevel\", 0.4, 1.0),\n",
    "      \"l2_leaf_reg\":trial.suggest_float(\"l2_leaf_reg\",1e-8,3e-5),\n",
    "      \"min_child_samples\": trial.suggest_int(\"min_child_samples\", 5, 100),\n",
    "      \"max_bin\": trial.suggest_int(\"max_bin\", 200, 500),\n",
    "      'od_type': trial.suggest_categorical('od_type', ['IncToDec', 'Iter']),\n",
    "  }\n",
    "\n",
    "  X_train, X_valid, y_train, y_valid = train_test_split(X,target,test_size=0.2)\n",
    "\n",
    "  cat_features =['income_type', 'edu_type', 'family_type', 'house_type','occyp_type','DAYS_BIRTH_bin', 'begin_month_bin', 'DAYS_EMPLOYED_bin',\n",
    "       'g_r_c', 'e_p_w','befor_EMPLOYED_year','ID']\n",
    "  cat = CatBoostClassifier(**param)\n",
    "  cat.fit(X_train, y_train,\n",
    "          eval_set=[(X_train, y_train), (X_valid,y_valid)],\n",
    "          early_stopping_rounds=35,cat_features=cat_features,\n",
    "          verbose=100)\n",
    "  cat_pred = cat.predict_proba(X_valid)\n",
    "  log_score = log_loss(y_valid, cat_pred)\n",
    "\n",
    "    return score\n",
    "\n",
    "study = optuna.create_study(direction='minimize')\n",
    "study.optimize(objective, n_trials=10)\n",
    "print(\"Best Score:\", study.best_value)\n",
    "print(\"Best trial:\", study.best_trial.params)\n"
   ]
  },
  {
   "cell_type": "code",
   "execution_count": null,
   "id": "f03aa214-eec4-4e42-a8a3-4ecd6778d054",
   "metadata": {},
   "outputs": [],
   "source": [
    "from xgboost import XGBClassifier\n",
    "from sklearn.model_selection import GridSearchCV\n",
    "xgb= XGBClassifier()\n",
    "\n",
    "xgb_param_grid={\n",
    "    'n_estimators' : [100,200,300,400,500],\n",
    "    'learning_rate' : [0.01,0.05,0.1,0.15],\n",
    "    'max_depth' : [3,5,7,10,15]\n",
    "}\n",
    "\n",
    "#score종류는 acc,f1,f1_micro,f1_macro등 원하는걸로 설정)\n",
    "#여기서 설정 파라미터의 갯수(총 4000개의 조합이므로 4000번의 학습이 돌아감)\n",
    "xgb_grid = GridSearchCV(xgb, param_grid=xgb_param_grid, scoring=\"neg_log_loss\", n_jobs=-1, verbose=2)\n",
    "\n",
    "# 그리드 서치 수행 (학습 데이터에 대해)\n",
    "xgb_grid.fit(X_train, y_train)\n",
    "\n",
    "# 최적의 f1_macro 수치와 해당 파라미터 출력\n",
    "print(\"최적의 log_loss : {0: .4f}\".format(-xgb_grid.best_score_))\n",
    "print(\"최적의 파라미터 : \", xgb_grid.best_params_)"
   ]
  },
  {
   "cell_type": "code",
   "execution_count": null,
   "id": "5a02e9c7-5457-429a-822e-834e8e18f872",
   "metadata": {},
   "outputs": [],
   "source": [
    "import scipy"
   ]
  },
  {
   "cell_type": "code",
   "execution_count": null,
   "id": "f9f3ae4d-ee6d-40b2-b239-ed287145422a",
   "metadata": {},
   "outputs": [],
   "source": [
    "import numpy as np\n",
    "\n",
    "param_grid = {'n_estimators': [200, 300, 400],\n",
    "              'depth': [4, 6, 8],\n",
    "              'learning_rate': [0.01, 0.05, 0.1]}\n",
    "\n",
    "cat = CatBoostClassifier(verbose=0)\n",
    "\n",
    "cat.randomized_search(param_grid,\n",
    "                      train_X, train_y,\n",
    "                      cv=3, n_iter=10)"
   ]
  },
  {
   "cell_type": "code",
   "execution_count": null,
   "id": "43061f2a-b51d-465e-8a1e-05248e765b3b",
   "metadata": {},
   "outputs": [],
   "source": [
    "from catboost import CatBoostClassifier\n",
    "from sklearn.model_selection import GridSearchCV\n",
    "from sklearn.metrics import make_scorer, log_loss\n",
    "import numpy as np\n",
    "\n",
    "# CatBoost 모델 초기화\n",
    "cat = CatBoostClassifier(verbose=0)\n",
    "\n",
    "# 그리드 서치를 위한 파라미터 그리드 설정\n",
    "params = {\n",
    "    'n_estimators': [200, 300, 400],\n",
    "    'learning_rate': [0.01, 0.05, 0.1],\n",
    "    'max_depth': [3, 5, 7, 10]\n",
    "}\n",
    "\n",
    "scorer = make_scorer(log_loss, greater_is_better=False, needs_proba=False)  # needs_proba를 False로 변경\n",
    "\n",
    "clf_grid = GridSearchCV(estimator=cat, param_grid=params, scoring=scorer, cv=5)\n",
    "\n",
    "# 그리드 서치 수행\n",
    "clf_grid.fit(X_train, y_train)\n",
    "best_param = clf_grid.best_params_\n",
    "best_log_loss = -clf_grid.best_score_\n",
    "print(\"최적의 파라미터:\", best_param)\n",
    "print(\"최적의 로그 손실:\", best_log_loss)"
   ]
  },
  {
   "cell_type": "code",
   "execution_count": null,
   "id": "8a86543b-33dc-43a0-9e03-b2e33be07c23",
   "metadata": {},
   "outputs": [],
   "source": [
    "lgbm = LGBMClassifier(verbose=2)\n",
    "\n",
    "# 그리드 서치를 위한 파라미터 그리드 설정\n",
    "params = {\n",
    "    'n_estimators': [100, 200, 300, 400, 500],\n",
    "    'learning_rate': [0.01, 0.05, 0.1, 0.15],\n",
    "    'max_depth': [3, 5, 7, 10, 15]\n",
    "}\n",
    "\n",
    "scorer = make_scorer(log_loss, greater_is_better=False, needs_proba=False)  # needs_proba를 False로 변경\n",
    "\n",
    "lgbm_grid = GridSearchCV(estimator=lgbm, param_grid=params, scoring=scorer, cv=5)\n",
    "\n",
    "# 그리드 서치 수행\n",
    "lgbm_grid.fit(X_train, y_train)\n",
    "best_param = lgbm_grid.best_params_\n",
    "best_log_loss = -lgbm_grid.best_score_\n",
    "print(\"최적의 파라미터:\", best_param)\n",
    "print(\"최적의 로그 손실:\", best_log_loss)"
   ]
  }
 ],
 "metadata": {
  "kernelspec": {
   "display_name": "Python 3 (ipykernel)",
   "language": "python",
   "name": "python3"
  },
  "language_info": {
   "codemirror_mode": {
    "name": "ipython",
    "version": 3
   },
   "file_extension": ".py",
   "mimetype": "text/x-python",
   "name": "python",
   "nbconvert_exporter": "python",
   "pygments_lexer": "ipython3",
   "version": "3.11.6"
  }
 },
 "nbformat": 4,
 "nbformat_minor": 5
}
