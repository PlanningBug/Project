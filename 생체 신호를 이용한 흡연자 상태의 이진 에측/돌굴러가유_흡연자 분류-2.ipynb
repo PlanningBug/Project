{
 "cells": [
  {
   "cell_type": "code",
   "execution_count": 1,
   "metadata": {
    "executionInfo": {
     "elapsed": 4044,
     "status": "ok",
     "timestamp": 1700557904303,
     "user": {
      "displayName": "이태승",
      "userId": "18309131439061054888"
     },
     "user_tz": -540
    },
    "id": "be10cEE8Kkw5"
   },
   "outputs": [],
   "source": [
    "import numpy as np\n",
    "import pandas as pd\n",
    "import matplotlib.pyplot as plt\n",
    "import seaborn as sns\n",
    "from pycaret.classification import *"
   ]
  },
  {
   "cell_type": "code",
   "execution_count": 2,
   "metadata": {
    "executionInfo": {
     "elapsed": 1592,
     "status": "ok",
     "timestamp": 1700483506841,
     "user": {
      "displayName": "이태승",
      "userId": "18309131439061054888"
     },
     "user_tz": -540
    },
    "id": "WzNJm2PhLV2X"
   },
   "outputs": [],
   "source": [
    "train = pd.read_csv(\"/Users/raekkkky/Desktop/DNA/Semester_2023_2/5주차/train.csv\")\n",
    "test = pd.read_csv(\"/Users/raekkkky/Desktop/DNA/Semester_2023_2/5주차/test.csv\")\n",
    "sub = pd.read_csv(\"/Users/raekkkky/Desktop/DNA/Semester_2023_2/5주차/sample_submission.csv\")"
   ]
  },
  {
   "cell_type": "code",
   "execution_count": null,
   "metadata": {
    "colab": {
     "base_uri": "https://localhost:8080/"
    },
    "executionInfo": {
     "elapsed": 307,
     "status": "ok",
     "timestamp": 1700564244482,
     "user": {
      "displayName": "이태승",
      "userId": "18309131439061054888"
     },
     "user_tz": -540
    },
    "id": "fKTAt1_rLmE1",
    "outputId": "8f346cd5-76f3-44e2-f11f-df3a001c5b92"
   },
   "outputs": [],
   "source": [
    "train.info()"
   ]
  },
  {
   "cell_type": "code",
   "execution_count": null,
   "metadata": {
    "id": "rPjr1j6ZLnrA"
   },
   "outputs": [],
   "source": [
    "test.info()"
   ]
  },
  {
   "cell_type": "code",
   "execution_count": null,
   "metadata": {
    "id": "JE2UaCs8Lo0k"
   },
   "outputs": [],
   "source": [
    "sub.info()"
   ]
  },
  {
   "cell_type": "code",
   "execution_count": null,
   "metadata": {
    "id": "jzYpkb3cLpjk"
   },
   "outputs": [],
   "source": [
    "train.head()"
   ]
  },
  {
   "cell_type": "code",
   "execution_count": null,
   "metadata": {
    "id": "tss51TbmLslT"
   },
   "outputs": [],
   "source": [
    "train.describe()"
   ]
  },
  {
   "cell_type": "code",
   "execution_count": null,
   "metadata": {
    "executionInfo": {
     "elapsed": 6,
     "status": "ok",
     "timestamp": 1700483506841,
     "user": {
      "displayName": "이태승",
      "userId": "18309131439061054888"
     },
     "user_tz": -540
    },
    "id": "EZ1DBzuxkgCN"
   },
   "outputs": [],
   "source": [
    "# 'dental caries', 'Urine protein', 'hearing(left)', 'hearing(right)' 컬럼의 데이터 타입을 'object'로 변경합니다.\n",
    "cols_to_change = ['dental caries', 'Urine protein', 'hearing(left)', 'hearing(right)']\n",
    "for col in cols_to_change:\n",
    "    train[col] = train[col].astype('object')\n",
    "    test[col] = test[col].astype('object')\n"
   ]
  },
  {
   "cell_type": "code",
   "execution_count": null,
   "metadata": {
    "id": "iA4QwbMQL3_V"
   },
   "outputs": [],
   "source": [
    "# 컬럼별로 분포 확인\n",
    "for column in train.columns:\n",
    "    if column != 'smoking':\n",
    "        plt.figure(figsize=(10,5))\n",
    "        sns.kdeplot(data=train, x=column, hue=\"smoking\", fill=True)\n",
    "        plt.title(column)\n",
    "        plt.show()\n"
   ]
  },
  {
   "cell_type": "code",
   "execution_count": null,
   "metadata": {
    "id": "fj7BemKBulfX"
   },
   "outputs": [],
   "source": [
    "train = train.drop(columns=['id'])\n",
    "test = test.drop(columns=['id'])\n",
    "\n",
    "train = pd.get_dummies(train, columns=cols_to_change)\n",
    "test = pd.get_dummies(test, columns=cols_to_change)"
   ]
  },
  {
   "cell_type": "code",
   "execution_count": null,
   "metadata": {
    "id": "q2XW9xNRwB08"
   },
   "outputs": [],
   "source": [
    "train.info()"
   ]
  },
  {
   "cell_type": "code",
   "execution_count": null,
   "metadata": {
    "colab": {
     "base_uri": "https://localhost:8080/",
     "height": 1000,
     "referenced_widgets": [
      "4edc057771574a12a5d1a29665b6f788",
      "888b9d689c004377b4f32f065fec941d",
      "9adeb34c6d7b4ac28ddda6eed61f09bc",
      "2b6315d0041d47378b4e92d5ecde7f17",
      "8be26433d2e94342aa201690edca4b71",
      "d207edde4e88423883c6ad80b3260d5e",
      "482525a2f55b4a569922299c2b7d2e0e",
      "d123fa235df54694b9b1b15c7c8757af",
      "63e627abb9874ebd9d2de4c9dafc168e",
      "86334071a5ab41c3ba53bda5c9390fce",
      "bbb2102737374b77a5536014ffcc58c8"
     ]
    },
    "executionInfo": {
     "elapsed": 1200394,
     "status": "ok",
     "timestamp": 1700484920928,
     "user": {
      "displayName": "이태승",
      "userId": "18309131439061054888"
     },
     "user_tz": -540
    },
    "id": "tDuCoAevPARr",
    "outputId": "3ebb0da2-c1a9-4dae-a030-bc405ae6b74f"
   },
   "outputs": [],
   "source": [
    "\n",
    "\n",
    "# setup 함수는 PyCaret의 환경을 설정하는 함수입니다.\n",
    "clf = setup(data = train, target = 'smoking', normalize = True)\n",
    "\n",
    "\n",
    "# 모델 비교를 통해 최적의 모델을 찾습니다.\n",
    "compare_models()\n"
   ]
  },
  {
   "cell_type": "code",
   "execution_count": null,
   "metadata": {
    "colab": {
     "base_uri": "https://localhost:8080/",
     "height": 452,
     "referenced_widgets": [
      "05b6b685f20a416c980650bced996618",
      "194378176f544e4ca52706c430201b12",
      "84c15f7b1bbb449397600983a79a79b7",
      "2203d9f94e8b4ea3aa6c8f9798901fe1",
      "cf3d3e29fdda449fb286c7e90462dad8",
      "d88f48b8c3ea44c098131ec5dd06a133",
      "231d63e57e87473794ef6e1a53e648fe",
      "0a0c799b03e64c80abe5639526c53db9",
      "2f51927084434cb2972d9c444352efec",
      "13387d3752f64c9895bb4403c5b3bac2",
      "221a46ff22ed4b7bb58c9f6da4597f5a"
     ]
    },
    "executionInfo": {
     "elapsed": 77698,
     "status": "ok",
     "timestamp": 1700484998600,
     "user": {
      "displayName": "이태승",
      "userId": "18309131439061054888"
     },
     "user_tz": -540
    },
    "id": "OuOBkx2Po6m5",
    "outputId": "78f9d083-d550-4240-cbed-64748be0682f"
   },
   "outputs": [],
   "source": [
    "# 가장 성능이 좋은 모델을 선택하여 학습시킵니다.\n",
    "best_model = create_model('lightgbm')"
   ]
  },
  {
   "cell_type": "code",
   "execution_count": null,
   "metadata": {
    "colab": {
     "base_uri": "https://localhost:8080/",
     "height": 524
    },
    "executionInfo": {
     "elapsed": 523839,
     "status": "ok",
     "timestamp": 1700485522422,
     "user": {
      "displayName": "이태승",
      "userId": "18309131439061054888"
     },
     "user_tz": -540
    },
    "id": "biFvUZ7k4p2g",
    "outputId": "1827cde1-71c6-4b8a-a1cc-f499bccd7a35"
   },
   "outputs": [],
   "source": [
    "plot_model(best_model, plot = 'learning')"
   ]
  },
  {
   "cell_type": "code",
   "execution_count": null,
   "metadata": {
    "executionInfo": {
     "elapsed": 5,
     "status": "aborted",
     "timestamp": 1700485700003,
     "user": {
      "displayName": "이태승",
      "userId": "18309131439061054888"
     },
     "user_tz": -540
    },
    "id": "2SL2xI53Tpbd"
   },
   "outputs": [],
   "source": [
    "# 테스트 데이터에 대한 예측을 수행합니다.\n",
    "predictions = predict_model(best_model, data = test)\n",
    "\n",
    "# 예측 결과를 확인합니다.\n",
    "print(predictions.head())"
   ]
  },
  {
   "cell_type": "code",
   "execution_count": null,
   "metadata": {
    "executionInfo": {
     "elapsed": 4,
     "status": "aborted",
     "timestamp": 1700485700003,
     "user": {
      "displayName": "이태승",
      "userId": "18309131439061054888"
     },
     "user_tz": -540
    },
    "id": "6oQ0Yz1ZT552"
   },
   "outputs": [],
   "source": [
    "# 예측 결과를 'sub' 데이터프레임의 'smoking' 컬럼에 저장합니다.\n",
    "sub['smoking'] = predictions['prediction_label']"
   ]
  },
  {
   "cell_type": "code",
   "execution_count": null,
   "metadata": {
    "executionInfo": {
     "elapsed": 4,
     "status": "aborted",
     "timestamp": 1700485700003,
     "user": {
      "displayName": "이태승",
      "userId": "18309131439061054888"
     },
     "user_tz": -540
    },
    "id": "d6rgB62KYHPH"
   },
   "outputs": [],
   "source": [
    "# 'sub' 데이터프레임을 csv 파일로 저장합니다.\n",
    "sub.to_csv('submission(lightgbm_pycaret).csv',index= False)"
   ]
  },
  {
   "cell_type": "code",
   "execution_count": null,
   "metadata": {
    "executionInfo": {
     "elapsed": 1984,
     "status": "ok",
     "timestamp": 1700557040807,
     "user": {
      "displayName": "이태승",
      "userId": "18309131439061054888"
     },
     "user_tz": -540
    },
    "id": "r9U_HwSg2ZND"
   },
   "outputs": [],
   "source": [
    "train = pd.read_csv(\"/Users/raekkkky/Desktop/DNA/Semester_2023_2/5주차/train.csv\")\n",
    "test = pd.read_csv(\"/Users/raekkkky/Desktop/DNA/Semester_2023_2/5주차/test.csv\")\n",
    "sub = pd.read_csv(\"/Users/raekkkky/Desktop/DNA/Semester_2023_2/5주차/sample_submission.csv\")"
   ]
  },
  {
   "cell_type": "code",
   "execution_count": null,
   "metadata": {
    "colab": {
     "base_uri": "https://localhost:8080/"
    },
    "executionInfo": {
     "elapsed": 356,
     "status": "ok",
     "timestamp": 1700487237142,
     "user": {
      "displayName": "이태승",
      "userId": "18309131439061054888"
     },
     "user_tz": -540
    },
    "id": "LBRkHRJq6CdF",
    "outputId": "55844a0a-82fb-4cb4-9edf-a0875b2dc00c"
   },
   "outputs": [],
   "source": [
    "# 중복된 행의 개수 계산\n",
    "duplicates = train.duplicated().sum()\n",
    "\n",
    "# 중복된 행 삭제\n",
    "train = train.drop_duplicates()\n",
    "\n",
    "# 삭제된 중복값의 수 출력\n",
    "print(f\"삭제된 중복값의 수: {duplicates}\")"
   ]
  },
  {
   "cell_type": "code",
   "execution_count": null,
   "metadata": {
    "executionInfo": {
     "elapsed": 2,
     "status": "ok",
     "timestamp": 1700557044384,
     "user": {
      "displayName": "이태승",
      "userId": "18309131439061054888"
     },
     "user_tz": -540
    },
    "id": "UwMd55VK2nSn"
   },
   "outputs": [],
   "source": [
    "# 'dental caries', 'Urine protein', 'hearing(left)', 'hearing(right)' 컬럼의 데이터 타입을 'object'로 변경합니다.\n",
    "cols_to_change = ['dental caries', 'Urine protein', 'hearing(left)', 'hearing(right)']\n",
    "for col in cols_to_change:\n",
    "    train[col] = train[col].astype('object')\n",
    "    test[col] = test[col].astype('object')\n"
   ]
  },
  {
   "cell_type": "code",
   "execution_count": null,
   "metadata": {
    "executionInfo": {
     "elapsed": 3,
     "status": "ok",
     "timestamp": 1700557044945,
     "user": {
      "displayName": "이태승",
      "userId": "18309131439061054888"
     },
     "user_tz": -540
    },
    "id": "wz4nN9o13dl5"
   },
   "outputs": [],
   "source": [
    "\n",
    "# 숫자형 변수만 선택\n",
    "numeric_cols = train.select_dtypes(include=[np.number]).columns.tolist()\n",
    "\n",
    "outliers_indexes = set()\n",
    "\n",
    "for col in numeric_cols:\n",
    "    Q1 = train[col].quantile(0.25)\n",
    "    Q3 = train[col].quantile(0.75)\n",
    "    IQR = Q3 - Q1\n",
    "\n",
    "    # IQR 범위를 벗어나는 값을 이상치로 판단\n",
    "    outliers_condition = (train[col] < (Q1 - 1.5 * IQR)) | (train[col] > (Q3 + 1.5 * IQR))\n",
    "\n",
    "    # 이상치의 인덱스를 찾아서 outliers_indexes에 추가\n",
    "    outliers_indexes.update(train[outliers_condition].index)\n",
    "\n",
    "# 이상치가 있는 행을 제거\n",
    "train = train.drop(outliers_indexes)\n"
   ]
  },
  {
   "cell_type": "code",
   "execution_count": null,
   "metadata": {
    "id": "0s2n5rKV26ND"
   },
   "outputs": [],
   "source": [
    "train = train.drop(columns=['id'])\n",
    "test = test.drop(columns=['id'])\n",
    "\n",
    "train = pd.get_dummies(train, columns=cols_to_change)\n",
    "test = pd.get_dummies(test, columns=cols_to_change)"
   ]
  },
  {
   "cell_type": "code",
   "execution_count": null,
   "metadata": {
    "id": "g2c8TDG-2Kj1"
   },
   "outputs": [],
   "source": [
    "from pycaret.classification import *\n",
    "\n",
    "# setup 함수는 PyCaret의 환경을 설정하는 함수입니다.\n",
    "clf = setup(data = train, target = 'smoking', normalize = True)\n",
    "\n",
    "\n",
    "# 모델 비교를 통해 최적의 모델을 찾습니다.\n",
    "compare_models()\n"
   ]
  },
  {
   "cell_type": "code",
   "execution_count": null,
   "metadata": {
    "colab": {
     "base_uri": "https://localhost:8080/",
     "height": 452,
     "referenced_widgets": [
      "42bf491f8c9f4adda72b03693216ec1b",
      "4568fd7466f746a1877cf61f6b63846c",
      "e40b0b6fa7454ee9b79f66e291fbb597",
      "ec2cb8f4ea1b4e06af42989a6a351ac1",
      "825809b2a2484c0b8d34ace514e087d7",
      "cc8c33c222274e8ca2b734bdb460cc32",
      "7879a6182a47485b95015a2b22189af9",
      "e5b4279840de45a09e95582aa9bd236a",
      "96f0e8b4a0b94bb9a99c0b3a41a5d303",
      "dad1960a260f4aa78a285449e93a659b",
      "c3e3fbba2b414374985cc4dba96b8e68"
     ]
    },
    "executionInfo": {
     "elapsed": 61947,
     "status": "ok",
     "timestamp": 1700486983187,
     "user": {
      "displayName": "이태승",
      "userId": "18309131439061054888"
     },
     "user_tz": -540
    },
    "id": "0AU4N1rFoaS5",
    "outputId": "a8ee04b4-5b58-4baa-848e-1c94113b6dc9"
   },
   "outputs": [],
   "source": [
    "# 가장 성능이 좋은 모델을 선택하여 학습시킵니다.\n",
    "best_model = create_model('lightgbm')"
   ]
  },
  {
   "cell_type": "code",
   "execution_count": null,
   "metadata": {
    "id": "yKOfL-1roikF"
   },
   "outputs": [],
   "source": [
    "plot_model(best_model, plot = 'learning')"
   ]
  },
  {
   "cell_type": "code",
   "execution_count": null,
   "metadata": {
    "id": "bdoQBdNjomMd"
   },
   "outputs": [],
   "source": [
    "# 테스트 데이터에 대한 예측을 수행합니다.\n",
    "predictions = predict_model(best_model, data = test)\n",
    "\n",
    "# 예측 결과를 확인합니다.\n",
    "print(predictions.head())"
   ]
  },
  {
   "cell_type": "code",
   "execution_count": null,
   "metadata": {
    "executionInfo": {
     "elapsed": 3,
     "status": "ok",
     "timestamp": 1700487253905,
     "user": {
      "displayName": "이태승",
      "userId": "18309131439061054888"
     },
     "user_tz": -540
    },
    "id": "mZE8p21h0zcQ"
   },
   "outputs": [],
   "source": [
    "# 예측 결과를 'sub' 데이터프레임의 'smoking' 컬럼에 저장합니다.\n",
    "sub['smoking'] = predictions['prediction_label']"
   ]
  },
  {
   "cell_type": "code",
   "execution_count": null,
   "metadata": {
    "executionInfo": {
     "elapsed": 3,
     "status": "ok",
     "timestamp": 1700487255270,
     "user": {
      "displayName": "이태승",
      "userId": "18309131439061054888"
     },
     "user_tz": -540
    },
    "id": "loE1aLvc00_v"
   },
   "outputs": [],
   "source": [
    "# 'sub' 데이터프레임을 csv 파일로 저장합니다.\n",
    "sub.to_csv('submission(lightgbm+outlier).csv',index= False)"
   ]
  },
  {
   "cell_type": "code",
   "execution_count": null,
   "metadata": {},
   "outputs": [],
   "source": []
  },
  {
   "cell_type": "code",
   "execution_count": 3,
   "metadata": {
    "colab": {
     "base_uri": "https://localhost:8080/"
    },
    "executionInfo": {
     "elapsed": 2896061,
     "status": "ok",
     "timestamp": 1700561160439,
     "user": {
      "displayName": "이태승",
      "userId": "18309131439061054888"
     },
     "user_tz": -540
    },
    "id": "kIgh8ObI04Mc",
    "outputId": "2e2df93f-cca9-409f-c719-4b533535f777"
   },
   "outputs": [
    {
     "name": "stderr",
     "output_type": "stream",
     "text": [
      "[I 2023-11-24 23:09:54,368] A new study created in memory with name: no-name-d7ed8449-9367-422a-bf3c-3e65b600e60e\n",
      "[I 2023-11-24 23:10:22,475] Trial 0 finished with value: 0.8642150782068101 and parameters: {'lambda_l1': 4.399965568230971, 'lambda_l2': 7.501115485778749, 'num_leaves': 167, 'feature_fraction': 0.44537235593277796, 'bagging_fraction': 0.5836897446364023, 'bagging_freq': 7, 'min_child_samples': 57}. Best is trial 0 with value: 0.8642150782068101.\n",
      "[I 2023-11-24 23:10:27,088] Trial 1 finished with value: 0.868235159258979 and parameters: {'lambda_l1': 0.03602234353727245, 'lambda_l2': 0.035428185204244206, 'num_leaves': 17, 'feature_fraction': 0.8729967811289276, 'bagging_fraction': 0.8984053928571574, 'bagging_freq': 4, 'min_child_samples': 96}. Best is trial 1 with value: 0.868235159258979.\n",
      "[I 2023-11-24 23:10:41,701] Trial 2 finished with value: 0.8583541381254387 and parameters: {'lambda_l1': 0.0004947659264268662, 'lambda_l2': 0.003444076912375832, 'num_leaves': 90, 'feature_fraction': 0.6094249219876311, 'bagging_fraction': 0.49426371241425165, 'bagging_freq': 3, 'min_child_samples': 40}. Best is trial 1 with value: 0.868235159258979.\n",
      "[I 2023-11-24 23:11:01,366] Trial 3 finished with value: 0.8637521668214232 and parameters: {'lambda_l1': 2.012129231944348e-08, 'lambda_l2': 8.939526022000258e-08, 'num_leaves': 133, 'feature_fraction': 0.45154889080875926, 'bagging_fraction': 0.9875621153271018, 'bagging_freq': 6, 'min_child_samples': 22}. Best is trial 1 with value: 0.868235159258979.\n",
      "[I 2023-11-24 23:11:21,360] Trial 4 finished with value: 0.8618954505783852 and parameters: {'lambda_l1': 1.5840860059748574e-08, 'lambda_l2': 0.02666975858410588, 'num_leaves': 140, 'feature_fraction': 0.6191917761851167, 'bagging_fraction': 0.7130867915298612, 'bagging_freq': 7, 'min_child_samples': 10}. Best is trial 1 with value: 0.868235159258979.\n",
      "[I 2023-11-24 23:11:32,954] Trial 5 finished with value: 0.8638138233360337 and parameters: {'lambda_l1': 0.0010937556233215115, 'lambda_l2': 1.2582509258060552, 'num_leaves': 62, 'feature_fraction': 0.4718645844677226, 'bagging_fraction': 0.5999017120416044, 'bagging_freq': 7, 'min_child_samples': 59}. Best is trial 1 with value: 0.868235159258979.\n",
      "[I 2023-11-24 23:11:38,400] Trial 6 finished with value: 0.8646249461918847 and parameters: {'lambda_l1': 3.0084807041404047e-05, 'lambda_l2': 5.798242882323599e-07, 'num_leaves': 25, 'feature_fraction': 0.9995153671454856, 'bagging_fraction': 0.7749210641229819, 'bagging_freq': 6, 'min_child_samples': 65}. Best is trial 1 with value: 0.868235159258979.\n",
      "[I 2023-11-24 23:11:54,739] Trial 7 finished with value: 0.8617254643297796 and parameters: {'lambda_l1': 0.0007968297156115685, 'lambda_l2': 8.596138602483334e-07, 'num_leaves': 105, 'feature_fraction': 0.5457416001112528, 'bagging_fraction': 0.9034254881054721, 'bagging_freq': 5, 'min_child_samples': 77}. Best is trial 1 with value: 0.868235159258979.\n",
      "[I 2023-11-24 23:12:07,986] Trial 8 finished with value: 0.865747211343612 and parameters: {'lambda_l1': 8.006359579123726e-05, 'lambda_l2': 0.002044048491150239, 'num_leaves': 87, 'feature_fraction': 0.9837466487112738, 'bagging_fraction': 0.9973216369541383, 'bagging_freq': 2, 'min_child_samples': 82}. Best is trial 1 with value: 0.868235159258979.\n",
      "[I 2023-11-24 23:12:16,547] Trial 9 finished with value: 0.8693153129690404 and parameters: {'lambda_l1': 1.788606358516382e-05, 'lambda_l2': 0.8432736121990445, 'num_leaves': 44, 'feature_fraction': 0.5658446507334506, 'bagging_fraction': 0.5574556587642776, 'bagging_freq': 1, 'min_child_samples': 80}. Best is trial 9 with value: 0.8693153129690404.\n",
      "[I 2023-11-24 23:12:48,173] Trial 10 finished with value: 0.8517135599964063 and parameters: {'lambda_l1': 8.2825898803231e-07, 'lambda_l2': 3.642172081454665e-05, 'num_leaves': 224, 'feature_fraction': 0.7359150434351555, 'bagging_fraction': 0.42081729764169995, 'bagging_freq': 1, 'min_child_samples': 100}. Best is trial 9 with value: 0.8693153129690404.\n",
      "[I 2023-11-24 23:12:53,154] Trial 11 finished with value: 0.8669931207519901 and parameters: {'lambda_l1': 0.11777268838022067, 'lambda_l2': 0.17314066221123856, 'num_leaves': 20, 'feature_fraction': 0.7674779834904963, 'bagging_fraction': 0.801475046517655, 'bagging_freq': 4, 'min_child_samples': 94}. Best is trial 9 with value: 0.8693153129690404.\n",
      "[I 2023-11-24 23:12:55,729] Trial 12 finished with value: 0.8672895884940358 and parameters: {'lambda_l1': 0.015174441190782357, 'lambda_l2': 0.18557609868678115, 'num_leaves': 7, 'feature_fraction': 0.8428842030923355, 'bagging_fraction': 0.6258466773727929, 'bagging_freq': 1, 'min_child_samples': 82}. Best is trial 9 with value: 0.8693153129690404.\n",
      "[I 2023-11-24 23:13:07,026] Trial 13 finished with value: 0.8667450990620286 and parameters: {'lambda_l1': 0.07526836746191286, 'lambda_l2': 6.651050755369565, 'num_leaves': 65, 'feature_fraction': 0.8746976576409992, 'bagging_fraction': 0.854517209909871, 'bagging_freq': 3, 'min_child_samples': 90}. Best is trial 9 with value: 0.8693153129690404.\n",
      "[I 2023-11-24 23:13:15,429] Trial 14 finished with value: 0.8673777019394837 and parameters: {'lambda_l1': 4.819934742887216e-06, 'lambda_l2': 0.05665067599911426, 'num_leaves': 46, 'feature_fraction': 0.6787387787647453, 'bagging_fraction': 0.6877856154753047, 'bagging_freq': 3, 'min_child_samples': 73}. Best is trial 9 with value: 0.8693153129690404.\n",
      "[I 2023-11-24 23:13:45,576] Trial 15 finished with value: 0.8624004909153931 and parameters: {'lambda_l1': 8.611161240422334, 'lambda_l2': 0.0002580931188717469, 'num_leaves': 186, 'feature_fraction': 0.5583481043222989, 'bagging_fraction': 0.522380945636126, 'bagging_freq': 4, 'min_child_samples': 46}. Best is trial 9 with value: 0.8693153129690404.\n",
      "[I 2023-11-24 23:13:47,838] Trial 16 finished with value: 0.8633025397302843 and parameters: {'lambda_l1': 0.010442897390813706, 'lambda_l2': 0.4795297716180836, 'num_leaves': 3, 'feature_fraction': 0.40170983354141915, 'bagging_fraction': 0.6923495094934163, 'bagging_freq': 2, 'min_child_samples': 100}. Best is trial 9 with value: 0.8693153129690404.\n",
      "[I 2023-11-24 23:13:55,911] Trial 17 finished with value: 0.8641709336695561 and parameters: {'lambda_l1': 2.543305654050078e-06, 'lambda_l2': 0.014793770375917297, 'num_leaves': 46, 'feature_fraction': 0.7894659513571819, 'bagging_fraction': 0.8995312703447208, 'bagging_freq': 5, 'min_child_samples': 69}. Best is trial 9 with value: 0.8693153129690404.\n",
      "[I 2023-11-24 23:14:12,373] Trial 18 finished with value: 0.8622816879160564 and parameters: {'lambda_l1': 4.8011460050398775e-05, 'lambda_l2': 0.8591578901090193, 'num_leaves': 111, 'feature_fraction': 0.6912170472076002, 'bagging_fraction': 0.798267024096509, 'bagging_freq': 2, 'min_child_samples': 88}. Best is trial 9 with value: 0.8693153129690404.\n",
      "[I 2023-11-24 23:14:46,486] Trial 19 finished with value: 0.8495358789608638 and parameters: {'lambda_l1': 0.5812218308286237, 'lambda_l2': 0.009885105420810544, 'num_leaves': 244, 'feature_fraction': 0.9123688932891421, 'bagging_fraction': 0.4060704811490221, 'bagging_freq': 4, 'min_child_samples': 35}. Best is trial 9 with value: 0.8693153129690404.\n",
      "[I 2023-11-24 23:14:53,747] Trial 20 finished with value: 0.8660071457413601 and parameters: {'lambda_l1': 0.004105553294336528, 'lambda_l2': 0.08819946764433718, 'num_leaves': 42, 'feature_fraction': 0.8106641339203743, 'bagging_fraction': 0.6534434590332348, 'bagging_freq': 1, 'min_child_samples': 84}. Best is trial 9 with value: 0.8693153129690404.\n",
      "[I 2023-11-24 23:15:01,633] Trial 21 finished with value: 0.86351509296647 and parameters: {'lambda_l1': 8.321591618618284e-06, 'lambda_l2': 0.04551171317333198, 'num_leaves': 42, 'feature_fraction': 0.6761882345958607, 'bagging_fraction': 0.7349706312263026, 'bagging_freq': 3, 'min_child_samples': 72}. Best is trial 9 with value: 0.8693153129690404.\n",
      "[I 2023-11-24 23:15:13,205] Trial 22 finished with value: 0.864563423637616 and parameters: {'lambda_l1': 1.0389965244235254e-06, 'lambda_l2': 1.2511936264546522, 'num_leaves': 70, 'feature_fraction': 0.7420711252586942, 'bagging_fraction': 0.6660167386123355, 'bagging_freq': 5, 'min_child_samples': 75}. Best is trial 9 with value: 0.8693153129690404.\n",
      "[I 2023-11-24 23:15:19,550] Trial 23 finished with value: 0.8678880739557038 and parameters: {'lambda_l1': 7.56504294997738e-05, 'lambda_l2': 0.09654626729724919, 'num_leaves': 29, 'feature_fraction': 0.6550477924207856, 'bagging_fraction': 0.7344615024935537, 'bagging_freq': 3, 'min_child_samples': 92}. Best is trial 9 with value: 0.8693153129690404.\n",
      "[I 2023-11-24 23:15:25,242] Trial 24 finished with value: 0.8685796031877533 and parameters: {'lambda_l1': 7.652294663501637e-05, 'lambda_l2': 0.0012922981799172244, 'num_leaves': 23, 'feature_fraction': 0.6428019123847842, 'bagging_fraction': 0.7508528810502829, 'bagging_freq': 2, 'min_child_samples': 94}. Best is trial 9 with value: 0.8693153129690404.\n",
      "[I 2023-11-24 23:15:28,395] Trial 25 finished with value: 0.8686428507209256 and parameters: {'lambda_l1': 0.0024450471789579185, 'lambda_l2': 0.0007526082065398205, 'num_leaves': 7, 'feature_fraction': 0.5550405989962041, 'bagging_fraction': 0.5557484896242219, 'bagging_freq': 2, 'min_child_samples': 100}. Best is trial 9 with value: 0.8693153129690404.\n",
      "[I 2023-11-24 23:15:30,905] Trial 26 finished with value: 0.8684123340865177 and parameters: {'lambda_l1': 0.0002165753915435991, 'lambda_l2': 0.0009024795980621351, 'num_leaves': 4, 'feature_fraction': 0.5512179584105525, 'bagging_fraction': 0.5439392415898137, 'bagging_freq': 2, 'min_child_samples': 86}. Best is trial 9 with value: 0.8693153129690404.\n",
      "[I 2023-11-24 23:15:43,042] Trial 27 finished with value: 0.8628353871041764 and parameters: {'lambda_l1': 0.0019583571565945216, 'lambda_l2': 0.00010898711810236596, 'num_leaves': 77, 'feature_fraction': 0.6030500536358765, 'bagging_fraction': 0.6309726582892246, 'bagging_freq': 1, 'min_child_samples': 63}. Best is trial 9 with value: 0.8693153129690404.\n",
      "[I 2023-11-24 23:15:53,988] Trial 28 finished with value: 0.8645396808382503 and parameters: {'lambda_l1': 0.004511245642848068, 'lambda_l2': 0.005748037565739819, 'num_leaves': 55, 'feature_fraction': 0.503084704542429, 'bagging_fraction': 0.5705348517825841, 'bagging_freq': 2, 'min_child_samples': 100}. Best is trial 9 with value: 0.8693153129690404.\n",
      "[I 2023-11-24 23:16:19,019] Trial 29 finished with value: 0.8588379903489879 and parameters: {'lambda_l1': 0.00031270137631391864, 'lambda_l2': 0.0010167093843009257, 'num_leaves': 176, 'feature_fraction': 0.5202962748140951, 'bagging_fraction': 0.5970997928586242, 'bagging_freq': 1, 'min_child_samples': 53}. Best is trial 9 with value: 0.8693153129690404.\n",
      "[I 2023-11-24 23:16:42,421] Trial 30 finished with value: 0.8543050739498997 and parameters: {'lambda_l1': 2.011189363912649e-05, 'lambda_l2': 3.5345607204271924e-05, 'num_leaves': 152, 'feature_fraction': 0.5944773568957363, 'bagging_fraction': 0.46046602851318985, 'bagging_freq': 2, 'min_child_samples': 79}. Best is trial 9 with value: 0.8693153129690404.\n",
      "[I 2023-11-24 23:16:44,401] Trial 31 finished with value: 0.8561686543612457 and parameters: {'lambda_l1': 0.0002800987718760305, 'lambda_l2': 0.0009188439784253642, 'num_leaves': 2, 'feature_fraction': 0.5483423463158457, 'bagging_fraction': 0.5576723488472193, 'bagging_freq': 2, 'min_child_samples': 88}. Best is trial 9 with value: 0.8693153129690404.\n",
      "[I 2023-11-24 23:16:50,101] Trial 32 finished with value: 0.866071247289848 and parameters: {'lambda_l1': 0.0001010174185499245, 'lambda_l2': 0.000686864172667321, 'num_leaves': 27, 'feature_fraction': 0.6346237452078546, 'bagging_fraction': 0.5191167353901692, 'bagging_freq': 1, 'min_child_samples': 93}. Best is trial 9 with value: 0.8693153129690404.\n",
      "[I 2023-11-24 23:16:54,912] Trial 33 finished with value: 0.8700435753786995 and parameters: {'lambda_l1': 0.0003736111124891943, 'lambda_l2': 0.0034573101962917727, 'num_leaves': 16, 'feature_fraction': 0.5709076978637572, 'bagging_fraction': 0.5515251921165225, 'bagging_freq': 2, 'min_child_samples': 86}. Best is trial 33 with value: 0.8700435753786995.\n",
      "[I 2023-11-24 23:17:02,388] Trial 34 finished with value: 0.8622293718371657 and parameters: {'lambda_l1': 0.0012704331836100884, 'lambda_l2': 0.00665268264276022, 'num_leaves': 33, 'feature_fraction': 0.5841958208062613, 'bagging_fraction': 0.492779273390282, 'bagging_freq': 3, 'min_child_samples': 96}. Best is trial 33 with value: 0.8700435753786995.\n",
      "[I 2023-11-24 23:17:07,318] Trial 35 finished with value: 0.8680500757250209 and parameters: {'lambda_l1': 0.0005111832583259123, 'lambda_l2': 0.004241972327193105, 'num_leaves': 16, 'feature_fraction': 0.6305126367603471, 'bagging_fraction': 0.5807860922414133, 'bagging_freq': 2, 'min_child_samples': 80}. Best is trial 33 with value: 0.8700435753786995.\n",
      "[I 2023-11-24 23:17:25,113] Trial 36 finished with value: 0.8618392951099164 and parameters: {'lambda_l1': 1.969021046792616e-05, 'lambda_l2': 0.00023311596337713302, 'num_leaves': 115, 'feature_fraction': 0.48829312521038865, 'bagging_fraction': 0.6074586325838894, 'bagging_freq': 1, 'min_child_samples': 95}. Best is trial 33 with value: 0.8700435753786995.\n",
      "[I 2023-11-24 23:17:40,068] Trial 37 finished with value: 0.8584733684967502 and parameters: {'lambda_l1': 0.00016029462618315292, 'lambda_l2': 0.02783562479697159, 'num_leaves': 88, 'feature_fraction': 0.5735313755205873, 'bagging_fraction': 0.475216573474747, 'bagging_freq': 2, 'min_child_samples': 22}. Best is trial 33 with value: 0.8700435753786995.\n",
      "[I 2023-11-24 23:17:51,027] Trial 38 finished with value: 0.8636753162195088 and parameters: {'lambda_l1': 0.0021533121501837215, 'lambda_l2': 9.775885802332747, 'num_leaves': 55, 'feature_fraction': 0.6355696872895136, 'bagging_fraction': 0.5240758895018429, 'bagging_freq': 3, 'min_child_samples': 65}. Best is trial 33 with value: 0.8700435753786995.\n",
      "[I 2023-11-24 23:17:55,311] Trial 39 finished with value: 0.8638353234919187 and parameters: {'lambda_l1': 0.000923954533477353, 'lambda_l2': 0.003355593810276851, 'num_leaves': 16, 'feature_fraction': 0.5095622111036806, 'bagging_fraction': 0.5455108763694783, 'bagging_freq': 1, 'min_child_samples': 6}. Best is trial 33 with value: 0.8700435753786995.\n",
      "[I 2023-11-24 23:18:02,548] Trial 40 finished with value: 0.8659971650922785 and parameters: {'lambda_l1': 0.0004315284132171186, 'lambda_l2': 0.025863398695416703, 'num_leaves': 31, 'feature_fraction': 0.45899216107559165, 'bagging_fraction': 0.5747203037439241, 'bagging_freq': 2, 'min_child_samples': 86}. Best is trial 33 with value: 0.8700435753786995.\n",
      "[I 2023-11-24 23:18:06,858] Trial 41 finished with value: 0.8672036530584103 and parameters: {'lambda_l1': 0.00023593369574273796, 'lambda_l2': 0.0019377029134682504, 'num_leaves': 13, 'feature_fraction': 0.5395195362807959, 'bagging_fraction': 0.5493034697857393, 'bagging_freq': 2, 'min_child_samples': 86}. Best is trial 33 with value: 0.8700435753786995.\n",
      "[I 2023-11-24 23:18:09,286] Trial 42 finished with value: 0.8616095726620232 and parameters: {'lambda_l1': 3.980577821347049e-05, 'lambda_l2': 0.0006972748150226483, 'num_leaves': 3, 'feature_fraction': 0.5862026779051196, 'bagging_fraction': 0.4484167338801035, 'bagging_freq': 1, 'min_child_samples': 92}. Best is trial 33 with value: 0.8700435753786995.\n",
      "[I 2023-11-24 23:18:14,786] Trial 43 finished with value: 0.8676149111853303 and parameters: {'lambda_l1': 0.00016172595215884722, 'lambda_l2': 0.00010205786576777796, 'num_leaves': 21, 'feature_fraction': 0.5243269256027392, 'bagging_fraction': 0.5033766994368772, 'bagging_freq': 3, 'min_child_samples': 78}. Best is trial 33 with value: 0.8700435753786995.\n",
      "[I 2023-11-24 23:18:21,842] Trial 44 finished with value: 0.866664331444869 and parameters: {'lambda_l1': 1.4578196230300618e-05, 'lambda_l2': 0.011394939437788281, 'num_leaves': 31, 'feature_fraction': 0.6079133083163099, 'bagging_fraction': 0.6218335397758811, 'bagging_freq': 2, 'min_child_samples': 97}. Best is trial 33 with value: 0.8700435753786995.\n",
      "[I 2023-11-24 23:18:25,692] Trial 45 finished with value: 0.86777266529475 and parameters: {'lambda_l1': 6.879214481326427e-05, 'lambda_l2': 0.002223276845450443, 'num_leaves': 13, 'feature_fraction': 0.5651183121408968, 'bagging_fraction': 0.5981535972125585, 'bagging_freq': 1, 'min_child_samples': 83}. Best is trial 33 with value: 0.8700435753786995.\n",
      "[I 2023-11-24 23:18:37,073] Trial 46 finished with value: 0.8653512393781608 and parameters: {'lambda_l1': 0.000644799902674266, 'lambda_l2': 3.618399552350286, 'num_leaves': 55, 'feature_fraction': 0.48611449849617694, 'bagging_fraction': 0.5351740306865601, 'bagging_freq': 2, 'min_child_samples': 90}. Best is trial 33 with value: 0.8700435753786995.\n",
      "[I 2023-11-24 23:18:45,488] Trial 47 finished with value: 0.8636355691425379 and parameters: {'lambda_l1': 0.00019545145378135166, 'lambda_l2': 0.2848976366852425, 'num_leaves': 39, 'feature_fraction': 0.5418898972613901, 'bagging_fraction': 0.5004048727116411, 'bagging_freq': 3, 'min_child_samples': 56}. Best is trial 33 with value: 0.8700435753786995.\n",
      "[I 2023-11-24 23:18:58,237] Trial 48 finished with value: 0.8635362864853606 and parameters: {'lambda_l1': 8.335027595511428e-06, 'lambda_l2': 0.02043046783332449, 'num_leaves': 76, 'feature_fraction': 0.5729170087880391, 'bagging_fraction': 0.5525137584890902, 'bagging_freq': 1, 'min_child_samples': 69}. Best is trial 33 with value: 0.8700435753786995.\n",
      "[I 2023-11-24 23:19:27,181] Trial 49 finished with value: 0.856579047046744 and parameters: {'lambda_l1': 0.017053748472854766, 'lambda_l2': 8.581890322712254e-06, 'num_leaves': 210, 'feature_fraction': 0.6165539728024094, 'bagging_fraction': 0.5874036121955266, 'bagging_freq': 6, 'min_child_samples': 45}. Best is trial 33 with value: 0.8700435753786995.\n",
      "[I 2023-11-24 23:19:45,004] Trial 50 finished with value: 0.8578460707368041 and parameters: {'lambda_l1': 6.428214874381714e-05, 'lambda_l2': 0.009262458421199297, 'num_leaves': 102, 'feature_fraction': 0.4410806772529213, 'bagging_fraction': 0.4370908985046077, 'bagging_freq': 2, 'min_child_samples': 100}. Best is trial 33 with value: 0.8700435753786995.\n",
      "[I 2023-11-24 23:19:49,851] Trial 51 finished with value: 0.8704600490200327 and parameters: {'lambda_l1': 0.028555324123513918, 'lambda_l2': 0.0018650161497892617, 'num_leaves': 19, 'feature_fraction': 0.7080443947351815, 'bagging_fraction': 0.9851836131859357, 'bagging_freq': 5, 'min_child_samples': 96}. Best is trial 51 with value: 0.8704600490200327.\n",
      "[I 2023-11-24 23:19:53,581] Trial 52 finished with value: 0.8669627931879876 and parameters: {'lambda_l1': 0.004764239422473606, 'lambda_l2': 0.0021105239735914926, 'num_leaves': 11, 'feature_fraction': 0.6579951965652153, 'bagging_fraction': 0.8977971463461647, 'bagging_freq': 5, 'min_child_samples': 97}. Best is trial 51 with value: 0.8704600490200327.\n",
      "[I 2023-11-24 23:19:58,573] Trial 53 finished with value: 0.8687477920522036 and parameters: {'lambda_l1': 0.021199068705252552, 'lambda_l2': 0.0004218778086078367, 'num_leaves': 21, 'feature_fraction': 0.7119149323741271, 'bagging_fraction': 0.6631424306449061, 'bagging_freq': 5, 'min_child_samples': 89}. Best is trial 51 with value: 0.8704600490200327.\n",
      "[I 2023-11-24 23:20:03,578] Trial 54 finished with value: 0.8692193005586805 and parameters: {'lambda_l1': 0.03931104339667654, 'lambda_l2': 0.0003514671426374556, 'num_leaves': 21, 'feature_fraction': 0.705247182708366, 'bagging_fraction': 0.6580102652288633, 'bagging_freq': 6, 'min_child_samples': 90}. Best is trial 51 with value: 0.8704600490200327.\n",
      "[I 2023-11-24 23:20:11,062] Trial 55 finished with value: 0.863622247803157 and parameters: {'lambda_l1': 0.03819829382491989, 'lambda_l2': 0.0002963873520665639, 'num_leaves': 39, 'feature_fraction': 0.7179195957899097, 'bagging_fraction': 0.6521087658683679, 'bagging_freq': 6, 'min_child_samples': 90}. Best is trial 51 with value: 0.8704600490200327.\n",
      "[I 2023-11-24 23:20:20,360] Trial 56 finished with value: 0.863789585077702 and parameters: {'lambda_l1': 0.18215889394788867, 'lambda_l2': 0.00040126127817953256, 'num_leaves': 53, 'feature_fraction': 0.7143900375829146, 'bagging_fraction': 0.6745382507184542, 'bagging_freq': 7, 'min_child_samples': 84}. Best is trial 51 with value: 0.8704600490200327.\n",
      "[I 2023-11-24 23:20:30,899] Trial 57 finished with value: 0.8646531911292525 and parameters: {'lambda_l1': 0.03148191667207141, 'lambda_l2': 0.003905632357399126, 'num_leaves': 64, 'feature_fraction': 0.692387501100532, 'bagging_fraction': 0.7061587168879366, 'bagging_freq': 5, 'min_child_samples': 76}. Best is trial 51 with value: 0.8704600490200327.\n",
      "[I 2023-11-24 23:20:36,147] Trial 58 finished with value: 0.8679063022132048 and parameters: {'lambda_l1': 0.008964725903733622, 'lambda_l2': 0.07297220460526814, 'num_leaves': 23, 'feature_fraction': 0.7421396028612808, 'bagging_fraction': 0.9616150861184877, 'bagging_freq': 6, 'min_child_samples': 81}. Best is trial 51 with value: 0.8704600490200327.\n",
      "[I 2023-11-24 23:20:44,814] Trial 59 finished with value: 0.8656697598748968 and parameters: {'lambda_l1': 0.19044149413559053, 'lambda_l2': 0.017177192521873406, 'num_leaves': 47, 'feature_fraction': 0.6748614549990697, 'bagging_fraction': 0.6284928921048794, 'bagging_freq': 5, 'min_child_samples': 90}. Best is trial 51 with value: 0.8704600490200327.\n",
      "[I 2023-11-24 23:20:52,353] Trial 60 finished with value: 0.8677498479227602 and parameters: {'lambda_l1': 0.6762359406719715, 'lambda_l2': 2.6577341304704887, 'num_leaves': 36, 'feature_fraction': 0.660357838564138, 'bagging_fraction': 0.6918268995016771, 'bagging_freq': 6, 'min_child_samples': 72}. Best is trial 51 with value: 0.8704600490200327.\n",
      "[I 2023-11-24 23:20:57,528] Trial 61 finished with value: 0.8637399845830237 and parameters: {'lambda_l1': 0.008499888448819947, 'lambda_l2': 0.0015875078527696673, 'num_leaves': 22, 'feature_fraction': 0.7078275351699373, 'bagging_fraction': 0.7634799476520598, 'bagging_freq': 4, 'min_child_samples': 94}. Best is trial 51 with value: 0.8704600490200327.\n",
      "[I 2023-11-24 23:21:02,644] Trial 62 finished with value: 0.8652529626152917 and parameters: {'lambda_l1': 0.0024044620444240443, 'lambda_l2': 0.0005031653109668031, 'num_leaves': 22, 'feature_fraction': 0.7567548919053749, 'bagging_fraction': 0.8353430867566161, 'bagging_freq': 7, 'min_child_samples': 97}. Best is trial 51 with value: 0.8704600490200327.\n",
      "[I 2023-11-24 23:21:05,903] Trial 63 finished with value: 0.8677835107687137 and parameters: {'lambda_l1': 0.02922945774126644, 'lambda_l2': 0.00136077443973339, 'num_leaves': 9, 'feature_fraction': 0.6941249121998899, 'bagging_fraction': 0.6511638049861003, 'bagging_freq': 4, 'min_child_samples': 88}. Best is trial 51 with value: 0.8704600490200327.\n",
      "[I 2023-11-24 23:21:14,605] Trial 64 finished with value: 0.8627802076698778 and parameters: {'lambda_l1': 0.014567727777592436, 'lambda_l2': 0.005994030490208398, 'num_leaves': 48, 'feature_fraction': 0.7295608880313371, 'bagging_fraction': 0.7214225126141638, 'bagging_freq': 4, 'min_child_samples': 100}. Best is trial 51 with value: 0.8704600490200327.\n",
      "[I 2023-11-24 23:21:20,932] Trial 65 finished with value: 0.8686052651253615 and parameters: {'lambda_l1': 0.004529604731125501, 'lambda_l2': 0.00019072874763905912, 'num_leaves': 28, 'feature_fraction': 0.5992748112849037, 'bagging_fraction': 0.6768802960752025, 'bagging_freq': 6, 'min_child_samples': 94}. Best is trial 51 with value: 0.8704600490200327.\n",
      "[I 2023-11-24 23:21:27,739] Trial 66 finished with value: 0.8672666053487283 and parameters: {'lambda_l1': 0.006030495653567585, 'lambda_l2': 0.00016779673430472976, 'num_leaves': 33, 'feature_fraction': 0.6049513632284466, 'bagging_fraction': 0.6795928183470206, 'bagging_freq': 6, 'min_child_samples': 33}. Best is trial 51 with value: 0.8704600490200327.\n",
      "[I 2023-11-24 23:21:31,285] Trial 67 finished with value: 0.8695399984946074 and parameters: {'lambda_l1': 0.003190289460354295, 'lambda_l2': 0.0004166878290152643, 'num_leaves': 10, 'feature_fraction': 0.6195136265426164, 'bagging_fraction': 0.6093382724948617, 'bagging_freq': 5, 'min_child_samples': 92}. Best is trial 51 with value: 0.8704600490200327.\n",
      "[I 2023-11-24 23:21:35,903] Trial 68 finished with value: 0.8684088422862906 and parameters: {'lambda_l1': 0.0020109902061198753, 'lambda_l2': 0.0005299696200038647, 'num_leaves': 15, 'feature_fraction': 0.6745588108309091, 'bagging_fraction': 0.6102138392541456, 'bagging_freq': 5, 'min_child_samples': 85}. Best is trial 51 with value: 0.8704600490200327.\n",
      "[I 2023-11-24 23:21:57,164] Trial 69 finished with value: 0.8574706877626437 and parameters: {'lambda_l1': 0.06861673684527465, 'lambda_l2': 5.743752539928063e-05, 'num_leaves': 138, 'feature_fraction': 0.6211265788995033, 'bagging_fraction': 0.570675497862613, 'bagging_freq': 5, 'min_child_samples': 91}. Best is trial 51 with value: 0.8704600490200327.\n",
      "[I 2023-11-24 23:22:00,559] Trial 70 finished with value: 0.8684472682675396 and parameters: {'lambda_l1': 0.0011895394205165598, 'lambda_l2': 0.0004135887863548729, 'num_leaves': 9, 'feature_fraction': 0.5798703694155583, 'bagging_fraction': 0.6367638796402013, 'bagging_freq': 5, 'min_child_samples': 81}. Best is trial 51 with value: 0.8704600490200327.\n",
      "[I 2023-11-24 23:22:06,881] Trial 71 finished with value: 0.8685767269854603 and parameters: {'lambda_l1': 0.003580559799912755, 'lambda_l2': 0.00011152916229592095, 'num_leaves': 28, 'feature_fraction': 0.620217592772631, 'bagging_fraction': 0.6651555545829994, 'bagging_freq': 6, 'min_child_samples': 94}. Best is trial 51 with value: 0.8704600490200327.\n",
      "[I 2023-11-24 23:22:08,713] Trial 72 finished with value: 0.8569898621991541 and parameters: {'lambda_l1': 0.00894905115474478, 'lambda_l2': 0.00022633995062971545, 'num_leaves': 2, 'feature_fraction': 0.5575241575731916, 'bagging_fraction': 0.7027068329877372, 'bagging_freq': 7, 'min_child_samples': 88}. Best is trial 51 with value: 0.8704600490200327.\n",
      "[I 2023-11-24 23:22:13,452] Trial 73 finished with value: 0.8669975957070821 and parameters: {'lambda_l1': 0.0007981203130560286, 'lambda_l2': 0.0009550008299810397, 'num_leaves': 18, 'feature_fraction': 0.6463800758842099, 'bagging_fraction': 0.6087265264962625, 'bagging_freq': 5, 'min_child_samples': 97}. Best is trial 51 with value: 0.8704600490200327.\n",
      "[I 2023-11-24 23:22:21,900] Trial 74 finished with value: 0.8665285806148005 and parameters: {'lambda_l1': 0.0026766512799432005, 'lambda_l2': 0.003489443730461462, 'num_leaves': 43, 'feature_fraction': 0.5869972161512594, 'bagging_fraction': 0.6417900483154027, 'bagging_freq': 6, 'min_child_samples': 92}. Best is trial 51 with value: 0.8704600490200327.\n",
      "[I 2023-11-24 23:22:28,185] Trial 75 finished with value: 0.8676969278149851 and parameters: {'lambda_l1': 0.016124263703644153, 'lambda_l2': 0.0003837974507545011, 'num_leaves': 27, 'feature_fraction': 0.5993775539670949, 'bagging_fraction': 0.5895572273164215, 'bagging_freq': 6, 'min_child_samples': 97}. Best is trial 51 with value: 0.8704600490200327.\n",
      "[I 2023-11-24 23:22:51,945] Trial 76 finished with value: 0.8613520125277804 and parameters: {'lambda_l1': 0.005495606189539489, 'lambda_l2': 0.0007205494910509032, 'num_leaves': 152, 'feature_fraction': 0.5332826837246525, 'bagging_fraction': 0.617648912941421, 'bagging_freq': 4, 'min_child_samples': 87}. Best is trial 51 with value: 0.8704600490200327.\n",
      "[I 2023-11-24 23:22:55,247] Trial 77 finished with value: 0.8714565449631217 and parameters: {'lambda_l1': 0.0013754401015119405, 'lambda_l2': 0.03725787668558615, 'num_leaves': 8, 'feature_fraction': 0.5605134405925951, 'bagging_fraction': 0.6673721502209349, 'bagging_freq': 5, 'min_child_samples': 83}. Best is trial 77 with value: 0.8714565449631217.\n",
      "[I 2023-11-24 23:22:58,417] Trial 78 finished with value: 0.8688318682084876 and parameters: {'lambda_l1': 0.001617435251608293, 'lambda_l2': 0.036973001111431356, 'num_leaves': 8, 'feature_fraction': 0.5600584739797843, 'bagging_fraction': 0.570141834963805, 'bagging_freq': 5, 'min_child_samples': 74}. Best is trial 77 with value: 0.8714565449631217.\n",
      "[I 2023-11-24 23:23:01,777] Trial 79 finished with value: 0.8688476342104825 and parameters: {'lambda_l1': 0.0004590084778510611, 'lambda_l2': 0.05508782922178077, 'num_leaves': 9, 'feature_fraction': 0.5678372146269356, 'bagging_fraction': 0.5669982030807448, 'bagging_freq': 5, 'min_child_samples': 76}. Best is trial 77 with value: 0.8714565449631217.\n",
      "[I 2023-11-24 23:23:05,217] Trial 80 finished with value: 0.8710716695717264 and parameters: {'lambda_l1': 0.001286395678950616, 'lambda_l2': 0.04614431672774053, 'num_leaves': 9, 'feature_fraction': 0.5654964931176901, 'bagging_fraction': 0.5728205635322041, 'bagging_freq': 5, 'min_child_samples': 75}. Best is trial 77 with value: 0.8714565449631217.\n",
      "[I 2023-11-24 23:23:08,778] Trial 81 finished with value: 0.8699907494148192 and parameters: {'lambda_l1': 0.0004427969010902371, 'lambda_l2': 0.047124176031774524, 'num_leaves': 10, 'feature_fraction': 0.5742384488988912, 'bagging_fraction': 0.5639936423120158, 'bagging_freq': 5, 'min_child_samples': 73}. Best is trial 77 with value: 0.8714565449631217.\n",
      "[I 2023-11-24 23:23:13,201] Trial 82 finished with value: 0.8682248945541094 and parameters: {'lambda_l1': 0.00046979808042346824, 'lambda_l2': 0.10756289065160839, 'num_leaves': 15, 'feature_fraction': 0.5752456390575111, 'bagging_fraction': 0.5893817467767102, 'bagging_freq': 5, 'min_child_samples': 79}. Best is trial 77 with value: 0.8714565449631217.\n",
      "[I 2023-11-24 23:23:14,937] Trial 83 finished with value: 0.8601779619685228 and parameters: {'lambda_l1': 0.0009600010080225425, 'lambda_l2': 0.22755288435361531, 'num_leaves': 2, 'feature_fraction': 0.5269449495307816, 'bagging_fraction': 0.5323853616203428, 'bagging_freq': 5, 'min_child_samples': 70}. Best is trial 77 with value: 0.8714565449631217.\n",
      "[I 2023-11-24 23:23:18,740] Trial 84 finished with value: 0.8678430994931663 and parameters: {'lambda_l1': 0.0003967076400595935, 'lambda_l2': 0.041559857838600854, 'num_leaves': 11, 'feature_fraction': 0.5648600359243833, 'bagging_fraction': 0.5630789147348938, 'bagging_freq': 4, 'min_child_samples': 63}. Best is trial 77 with value: 0.8714565449631217.\n",
      "[I 2023-11-24 23:23:26,702] Trial 85 finished with value: 0.8652923544073097 and parameters: {'lambda_l1': 0.00010690463576756493, 'lambda_l2': 0.4254993729348621, 'num_leaves': 37, 'feature_fraction': 0.5444103136511003, 'bagging_fraction': 0.6022682604883487, 'bagging_freq': 4, 'min_child_samples': 76}. Best is trial 77 with value: 0.8714565449631217.\n",
      "[I 2023-11-24 23:23:31,105] Trial 86 finished with value: 0.8681823702333921 and parameters: {'lambda_l1': 0.0006035117408824008, 'lambda_l2': 0.10835798409535223, 'num_leaves': 15, 'feature_fraction': 0.5127875312763805, 'bagging_fraction': 0.5857674730371558, 'bagging_freq': 5, 'min_child_samples': 66}. Best is trial 77 with value: 0.8714565449631217.\n",
      "[I 2023-11-24 23:23:34,286] Trial 87 finished with value: 0.8668381120458106 and parameters: {'lambda_l1': 0.00031101658418971386, 'lambda_l2': 0.0522956963445927, 'num_leaves': 8, 'feature_fraction': 0.5861717468311176, 'bagging_fraction': 0.5609013930512784, 'bagging_freq': 5, 'min_child_samples': 83}. Best is trial 77 with value: 0.8714565449631217.\n",
      "[I 2023-11-24 23:23:39,557] Trial 88 finished with value: 0.867831158613385 and parameters: {'lambda_l1': 0.0010009538335069986, 'lambda_l2': 0.012067295792855056, 'num_leaves': 20, 'feature_fraction': 0.5330347025204533, 'bagging_fraction': 0.6168816968694473, 'bagging_freq': 5, 'min_child_samples': 77}. Best is trial 77 with value: 0.8714565449631217.\n",
      "[I 2023-11-24 23:23:46,418] Trial 89 finished with value: 0.8653484690839129 and parameters: {'lambda_l1': 0.00012911963721301965, 'lambda_l2': 0.027060049274850864, 'num_leaves': 30, 'feature_fraction': 0.6202077104219667, 'bagging_fraction': 0.5466187133156912, 'bagging_freq': 5, 'min_child_samples': 72}. Best is trial 77 with value: 0.8714565449631217.\n",
      "[I 2023-11-24 23:23:49,257] Trial 90 finished with value: 0.8655817327320627 and parameters: {'lambda_l1': 0.0015577316425367804, 'lambda_l2': 0.1318634370715844, 'num_leaves': 6, 'feature_fraction': 0.5456357473085752, 'bagging_fraction': 0.5207039493205186, 'bagging_freq': 4, 'min_child_samples': 82}. Best is trial 77 with value: 0.8714565449631217.\n",
      "[I 2023-11-24 23:23:52,654] Trial 91 finished with value: 0.867071444748153 and parameters: {'lambda_l1': 0.0015343975718373653, 'lambda_l2': 0.07672385964711254, 'num_leaves': 9, 'feature_fraction': 0.571729939410688, 'bagging_fraction': 0.5769913188160191, 'bagging_freq': 5, 'min_child_samples': 74}. Best is trial 77 with value: 0.8714565449631217.\n",
      "[I 2023-11-24 23:23:57,550] Trial 92 finished with value: 0.8681679957348996 and parameters: {'lambda_l1': 0.0006339858703703445, 'lambda_l2': 0.03159406051142333, 'num_leaves': 18, 'feature_fraction': 0.5636141370211667, 'bagging_fraction': 0.5696833588864552, 'bagging_freq': 5, 'min_child_samples': 68}. Best is trial 77 with value: 0.8714565449631217.\n",
      "[I 2023-11-24 23:23:59,310] Trial 93 finished with value: 0.8589717845105455 and parameters: {'lambda_l1': 0.00023236957499789062, 'lambda_l2': 0.046232631251041885, 'num_leaves': 2, 'feature_fraction': 0.5609631313971563, 'bagging_fraction': 0.5340568546617781, 'bagging_freq': 5, 'min_child_samples': 75}. Best is trial 77 with value: 0.8714565449631217.\n",
      "[I 2023-11-24 23:24:05,302] Trial 94 finished with value: 0.8680939472235525 and parameters: {'lambda_l1': 0.0003517891664792629, 'lambda_l2': 0.1681510789342064, 'num_leaves': 26, 'feature_fraction': 0.5932349893395356, 'bagging_fraction': 0.6298213961399459, 'bagging_freq': 5, 'min_child_samples': 62}. Best is trial 77 with value: 0.8714565449631217.\n",
      "[I 2023-11-24 23:24:12,702] Trial 95 finished with value: 0.866136784275218 and parameters: {'lambda_l1': 0.002646863209830442, 'lambda_l2': 0.01427111553702591, 'num_leaves': 34, 'feature_fraction': 0.5507427315255786, 'bagging_fraction': 0.598264295457903, 'bagging_freq': 6, 'min_child_samples': 78}. Best is trial 77 with value: 0.8714565449631217.\n",
      "[I 2023-11-24 23:24:16,650] Trial 96 finished with value: 0.8686872998045101 and parameters: {'lambda_l1': 0.0011987799189836965, 'lambda_l2': 0.006849517028936261, 'num_leaves': 12, 'feature_fraction': 0.5188906073253431, 'bagging_fraction': 0.5642522070055787, 'bagging_freq': 5, 'min_child_samples': 85}. Best is trial 77 with value: 0.8714565449631217.\n",
      "[I 2023-11-24 23:24:22,450] Trial 97 finished with value: 0.8653912398429677 and parameters: {'lambda_l1': 0.000172991105778795, 'lambda_l2': 0.018599022305993754, 'num_leaves': 24, 'feature_fraction': 0.6090577444324105, 'bagging_fraction': 0.5791357008143008, 'bagging_freq': 4, 'min_child_samples': 80}. Best is trial 77 with value: 0.8714565449631217.\n",
      "[I 2023-11-24 23:24:25,398] Trial 98 finished with value: 0.867026502114898 and parameters: {'lambda_l1': 0.0006633133375061766, 'lambda_l2': 0.4353917533999101, 'num_leaves': 7, 'feature_fraction': 0.5793788128784348, 'bagging_fraction': 0.5126394736825602, 'bagging_freq': 5, 'min_child_samples': 72}. Best is trial 77 with value: 0.8714565449631217.\n",
      "[I 2023-11-24 23:24:43,558] Trial 99 finished with value: 0.8610490215012104 and parameters: {'lambda_l1': 4.275408939069014e-05, 'lambda_l2': 0.05580738576020729, 'num_leaves': 121, 'feature_fraction': 0.6333556428349769, 'bagging_fraction': 0.5422274503008978, 'bagging_freq': 6, 'min_child_samples': 70}. Best is trial 77 with value: 0.8714565449631217.\n"
     ]
    },
    {
     "name": "stdout",
     "output_type": "stream",
     "text": [
      "Best trial:\n",
      "  Value:  0.8714565449631217\n",
      "  Params: \n",
      "    lambda_l1: 0.0013754401015119405\n",
      "    lambda_l2: 0.03725787668558615\n",
      "    num_leaves: 8\n",
      "    feature_fraction: 0.5605134405925951\n",
      "    bagging_fraction: 0.6673721502209349\n",
      "    bagging_freq: 5\n",
      "    min_child_samples: 83\n"
     ]
    }
   ],
   "source": [
    "import optuna\n",
    "import lightgbm as lgb\n",
    "from sklearn.metrics import roc_auc_score\n",
    "from sklearn.model_selection import train_test_split\n",
    "\n",
    "# X, y 데이터 설정\n",
    "X = train.drop('smoking', axis=1) # 'target' 열을 제외한 나머지를 독립 변수 X로 설정\n",
    "y = train['smoking'] # 'target' 열을 종속 변수 y로 설정\n",
    "\n",
    "def objective(trial):\n",
    "    # 하이퍼파라미터의 범위를 지정\n",
    "    param = {\n",
    "        'objective': 'binary', # 이진 분류 문제\n",
    "        'verbosity': -1,\n",
    "        'boosting_type': 'gbdt', # Gradient Boosting Decision Tree\n",
    "        'lambda_l1': trial.suggest_loguniform('lambda_l1', 1e-8, 10.0),\n",
    "        'lambda_l2': trial.suggest_loguniform('lambda_l2', 1e-8, 10.0),\n",
    "        'num_leaves': trial.suggest_int('num_leaves', 2, 256),\n",
    "        'feature_fraction': trial.suggest_uniform('feature_fraction', 0.4, 1.0),\n",
    "        'bagging_fraction': trial.suggest_uniform('bagging_fraction', 0.4, 1.0),\n",
    "        'bagging_freq': trial.suggest_int('bagging_freq', 1, 7),\n",
    "        'min_child_samples': trial.suggest_int('min_child_samples', 5, 100),\n",
    "    }\n",
    "\n",
    "    # 데이터를 학습용과 검증용으로 분리\n",
    "    train_x, valid_x, train_y, valid_y = train_test_split(X, y, test_size=0.25)\n",
    "\n",
    "    train_set = lgb.Dataset(train_x, train_y)\n",
    "    valid_set = lgb.Dataset(valid_x, valid_y)\n",
    "\n",
    "    gbm = lgb.train(param, train_set, valid_sets=[valid_set], num_boost_round=1000)\n",
    "\n",
    "    preds = gbm.predict(valid_x)\n",
    "    auc = roc_auc_score(valid_y, preds)\n",
    "    return auc\n",
    "\n",
    "study = optuna.create_study(direction='maximize') # 'maximize'로 설정하여 AUC를 최대화\n",
    "study.optimize(objective, n_trials=100) # n_trials는 시도할 파라미터 셋의 수를 의미\n",
    "\n",
    "print('Best trial:')\n",
    "trial = study.best_trial\n",
    "print('  Value: ', trial.value)\n",
    "print('  Params: ')\n",
    "for key, value in trial.params.items():\n",
    "    print('    {}: {}'.format(key, value))\n"
   ]
  },
  {
   "cell_type": "code",
   "execution_count": 4,
   "metadata": {
    "executionInfo": {
     "elapsed": 30774,
     "status": "ok",
     "timestamp": 1700570450200,
     "user": {
      "displayName": "이태승",
      "userId": "18309131439061054888"
     },
     "user_tz": -540
    },
    "id": "gY1zyOWd9KHV"
   },
   "outputs": [],
   "source": [
    "import lightgbm as lgb\n",
    "\n",
    "# 최적화된 하이퍼파라미터 설정\n",
    "best_params = {\n",
    "    'objective': 'binary',\n",
    "    'verbosity': -1,\n",
    "    'boosting_type': 'gbdt',\n",
    "    'lambda_l1': 0.7295951154367691,\n",
    "    'lambda_l2': 1.0785212215696376e-06,\n",
    "    'num_leaves': 12,\n",
    "    'feature_fraction': 0.8333693677052417,\n",
    "    'bagging_fraction': 0.7287152936960324,\n",
    "    'bagging_freq': 1,\n",
    "    'min_child_samples': 65\n",
    "}\n",
    "\n",
    "# LightGBM 데이터셋으로 변환\n",
    "train_set = lgb.Dataset(train.drop('smoking', axis=1), train['smoking'])\n",
    "\n",
    "# 모델 학습\n",
    "gbm = lgb.train(best_params, train_set, num_boost_round=1000)\n",
    "\n",
    "# test 데이터에 대한 예측 수행\n",
    "preds = gbm.predict(test)\n"
   ]
  },
  {
   "cell_type": "code",
   "execution_count": 5,
   "metadata": {
    "colab": {
     "base_uri": "https://localhost:8080/"
    },
    "executionInfo": {
     "elapsed": 8,
     "status": "ok",
     "timestamp": 1700570450201,
     "user": {
      "displayName": "이태승",
      "userId": "18309131439061054888"
     },
     "user_tz": -540
    },
    "id": "P41jF7ub4ZLT",
    "outputId": "c2f5c1c2-9a54-4376-8b0c-256e0ca5c94d"
   },
   "outputs": [
    {
     "name": "stdout",
     "output_type": "stream",
     "text": [
      "                Feature  Importance\n",
      "13         triglyceride        1029\n",
      "21                  Gtp         903\n",
      "16           hemoglobin         774\n",
      "15                  LDL         718\n",
      "12          Cholesterol         692\n",
      "4             waist(cm)         677\n",
      "11  fasting_blood_sugar         660\n",
      "20                  ALT         641\n",
      "0                    id         595\n",
      "9              systolic         565\n",
      "19                  AST         555\n",
      "14                  HDL         549\n",
      "10           relaxation         528\n",
      "1                   age         489\n",
      "2            height(cm)         364\n",
      "18     serum_creatinine         312\n",
      "3            weight(kg)         289\n",
      "5        eyesight(left)         274\n",
      "6       eyesight(right)         259\n",
      "22        dental_caries          58\n",
      "17        Urine_protein          31\n",
      "8        hearing(right)          24\n",
      "7         hearing(left)          14\n"
     ]
    }
   ],
   "source": [
    "# 피처 중요도 확인\n",
    "feature_imp = gbm.feature_importance()\n",
    "\n",
    "# 피처명과 함께 확인\n",
    "feature_imp_df = pd.DataFrame({'Feature': gbm.feature_name(), 'Importance': feature_imp})\n",
    "\n",
    "# 중요도 순으로 정렬하여 출력\n",
    "feature_imp_df = feature_imp_df.sort_values('Importance', ascending=False)\n",
    "print(feature_imp_df)\n"
   ]
  },
  {
   "cell_type": "code",
   "execution_count": 6,
   "metadata": {
    "executionInfo": {
     "elapsed": 2223,
     "status": "ok",
     "timestamp": 1700562849140,
     "user": {
      "displayName": "이태승",
      "userId": "18309131439061054888"
     },
     "user_tz": -540
    },
    "id": "xHQCQaCVaEOH"
   },
   "outputs": [],
   "source": [
    "# 예측 결과를 'sub' 데이터프레임의 'smoking' 컬럼에 저장합니다.\n",
    "sub['smoking'] = preds\n",
    "\n",
    "# 'sub' 데이터프레임을 csv 파일로 저장합니다.\n",
    "sub.to_csv('submission(lightgbm+outlier+optuna).csv',index= False)\n"
   ]
  },
  {
   "cell_type": "code",
   "execution_count": 9,
   "metadata": {
    "executionInfo": {
     "elapsed": 2251,
     "status": "ok",
     "timestamp": 1700569226347,
     "user": {
      "displayName": "이태승",
      "userId": "18309131439061054888"
     },
     "user_tz": -540
    },
    "id": "nASTo866nCXZ"
   },
   "outputs": [],
   "source": [
    "train = pd.read_csv(\"/Users/raekkkky/Desktop/DNA/Semester_2023_2/5주차/train.csv\")\n",
    "test = pd.read_csv(\"/Users/raekkkky/Desktop/DNA/Semester_2023_2/5주차/test.csv\")\n",
    "sub = pd.read_csv(\"/Users/raekkkky/Desktop/DNA/Semester_2023_2/5주차/sample_submission.csv\")"
   ]
  },
  {
   "cell_type": "code",
   "execution_count": 10,
   "metadata": {
    "id": "FFOzthcbmvrk"
   },
   "outputs": [
    {
     "name": "stdout",
     "output_type": "stream",
     "text": [
      "<class 'pandas.core.frame.DataFrame'>\n",
      "RangeIndex: 159256 entries, 0 to 159255\n",
      "Data columns (total 24 columns):\n",
      " #   Column               Non-Null Count   Dtype  \n",
      "---  ------               --------------   -----  \n",
      " 0   id                   159256 non-null  int64  \n",
      " 1   age                  159256 non-null  int64  \n",
      " 2   height(cm)           159256 non-null  int64  \n",
      " 3   weight(kg)           159256 non-null  int64  \n",
      " 4   waist(cm)            159256 non-null  float64\n",
      " 5   eyesight(left)       159256 non-null  float64\n",
      " 6   eyesight(right)      159256 non-null  float64\n",
      " 7   hearing(left)        159256 non-null  int64  \n",
      " 8   hearing(right)       159256 non-null  int64  \n",
      " 9   systolic             159256 non-null  int64  \n",
      " 10  relaxation           159256 non-null  int64  \n",
      " 11  fasting blood sugar  159256 non-null  int64  \n",
      " 12  Cholesterol          159256 non-null  int64  \n",
      " 13  triglyceride         159256 non-null  int64  \n",
      " 14  HDL                  159256 non-null  int64  \n",
      " 15  LDL                  159256 non-null  int64  \n",
      " 16  hemoglobin           159256 non-null  float64\n",
      " 17  Urine protein        159256 non-null  int64  \n",
      " 18  serum creatinine     159256 non-null  float64\n",
      " 19  AST                  159256 non-null  int64  \n",
      " 20  ALT                  159256 non-null  int64  \n",
      " 21  Gtp                  159256 non-null  int64  \n",
      " 22  dental caries        159256 non-null  int64  \n",
      " 23  smoking              159256 non-null  int64  \n",
      "dtypes: float64(5), int64(19)\n",
      "memory usage: 29.2 MB\n"
     ]
    }
   ],
   "source": [
    "train.info()"
   ]
  },
  {
   "cell_type": "code",
   "execution_count": 11,
   "metadata": {
    "colab": {
     "base_uri": "https://localhost:8080/"
    },
    "executionInfo": {
     "elapsed": 13,
     "status": "ok",
     "timestamp": 1700569226347,
     "user": {
      "displayName": "이태승",
      "userId": "18309131439061054888"
     },
     "user_tz": -540
    },
    "id": "Hdeu2Z7ssahW",
    "outputId": "12d1b4b9-4a2b-4011-f72d-44ac95846f71"
   },
   "outputs": [
    {
     "data": {
      "text/plain": [
       "1         27\n",
       "2         27\n",
       "3         20\n",
       "4         19\n",
       "6         17\n",
       "          ..\n",
       "159251    25\n",
       "159252    21\n",
       "159253    15\n",
       "159254    22\n",
       "159255    21\n",
       "Name: AST, Length: 150186, dtype: int64"
      ]
     },
     "execution_count": 11,
     "metadata": {},
     "output_type": "execute_result"
    }
   ],
   "source": [
    "train = train[train['eyesight(left)'] != 9.9]\n",
    "\n",
    "train = train[train['eyesight(left)'] != 9.9]\n",
    "\n",
    "Q1_triglyceride = train['triglyceride'].quantile(0.25)\n",
    "Q3_triglyceride = train['triglyceride'].quantile(0.75)\n",
    "IQR_triglyceride = Q3_triglyceride - Q1_triglyceride\n",
    "\n",
    "Q1_creatinine = train['serum creatinine'].quantile(0.25)\n",
    "Q3_creatinine = train['serum creatinine'].quantile(0.75)\n",
    "IQR_creatinine = Q3_creatinine - Q1_creatinine\n",
    "\n",
    "train = train[(train['triglyceride'] >= Q1_triglyceride - 1.5 * IQR_triglyceride) & (train['triglyceride'] <= Q3_triglyceride + 1.5 * IQR_triglyceride)]\n",
    "train = train[(train['serum creatinine'] >= Q1_creatinine - 1.5 * IQR_creatinine) & (train['serum creatinine'] <= Q3_creatinine + 1.5 * IQR_creatinine)]\n",
    "\n",
    "train['Gtp'].clip(lower = 0, upper = 300)\n",
    "train['HDL'].clip(lower = 0, upper = 150)\n",
    "train['LDL'].clip(lower = 0, upper = 200)\n",
    "train['ALT'].clip(lower = 0, upper = 150)\n",
    "train['AST'].clip(lower = 0, upper = 100)"
   ]
  },
  {
   "cell_type": "code",
   "execution_count": 12,
   "metadata": {
    "executionInfo": {
     "elapsed": 4,
     "status": "ok",
     "timestamp": 1700569226348,
     "user": {
      "displayName": "이태승",
      "userId": "18309131439061054888"
     },
     "user_tz": -540
    },
    "id": "ttm9ku6MpRK2"
   },
   "outputs": [],
   "source": [
    "train2 = pd.DataFrame()\n",
    "test2 = pd.DataFrame()"
   ]
  },
  {
   "cell_type": "code",
   "execution_count": 13,
   "metadata": {
    "executionInfo": {
     "elapsed": 491,
     "status": "ok",
     "timestamp": 1700569226835,
     "user": {
      "displayName": "이태승",
      "userId": "18309131439061054888"
     },
     "user_tz": -540
    },
    "id": "0qFfQdniccET"
   },
   "outputs": [],
   "source": [
    "# train 데이터셋\n",
    "train2['age'] = train['age']\n",
    "train2['BMI'] = train['weight(kg)'] / ((train['height(cm)'] / 100) ** 2)\n",
    "train2['HW_ratio'] = train['height(cm)'] / train['waist(cm)']\n",
    "train2['hearing(left)'] = train['hearing(left)']\n",
    "train2['hearing(right)'] = train['hearing(right)']\n",
    "train2['eyesight'] = train[['eyesight(left)', 'eyesight(right)']].max(axis=1)\n",
    "train2['systolic'] = pd.cut(train['systolic'], bins=[-np.inf, 90, 140, np.inf], labels=[0, 1, 2])\n",
    "train2['relaxation'] = pd.cut(train['relaxation'], bins=[-np.inf, 60, 90, np.inf], labels=[0, 1, 2])\n",
    "train2['fasting blood sugar'] = pd.cut(train['fasting blood sugar'], bins=[-np.inf, 100, 126, np.inf], labels=[0, 1, 2])\n",
    "train2['Cholesterol'] = pd.cut(train['Cholesterol'], bins=[-np.inf, 150, 250, np.inf], labels=[0, 1, 2])\n",
    "train2['triglyceride'] = pd.cut(train['triglyceride'], bins=[-np.inf, 150, 200, np.inf], labels=[0, 1, 2])\n",
    "train2['HDL'] = pd.cut(train['HDL'], bins=[-np.inf, 40, np.inf], labels=[1, 0])\n",
    "train2['LDL'] = pd.cut(train['LDL'], bins=[-np.inf, 130, 160, np.inf], labels=[0, 1, 2])\n",
    "train2['hemoglobin'] = pd.cut(train['hemoglobin'], bins=[-np.inf,12.1, 15.1, np.inf], labels=[1,0, 1],ordered=False)\n",
    "train2['serum creatinine'] = pd.cut(train['serum creatinine'], bins=[-np.inf,0.6, 1.2, np.inf], labels=[1,0, 1],ordered=False)\n",
    "train2['AST'] = pd.cut(train['AST'], bins=[-np.inf, 40, np.inf], labels=[0, 1])\n",
    "train2['ALT'] = pd.cut(train['ALT'], bins=[-np.inf, 40, np.inf], labels=[0, 1])\n",
    "train2['Gtp'] = pd.cut(train['Gtp'], bins=[-np.inf,10, 40, np.inf], labels=[1,0, 1],ordered=False)\n",
    "train2['Urine protein'] = train['Urine protein']\n",
    "train2['dental caries'] = train['dental caries']\n",
    "train2['smoking'] = train['smoking']\n"
   ]
  },
  {
   "cell_type": "code",
   "execution_count": 14,
   "metadata": {
    "colab": {
     "base_uri": "https://localhost:8080/"
    },
    "executionInfo": {
     "elapsed": 26,
     "status": "ok",
     "timestamp": 1700569226835,
     "user": {
      "displayName": "이태승",
      "userId": "18309131439061054888"
     },
     "user_tz": -540
    },
    "id": "vlaiQLNamuWh",
    "outputId": "cf025722-81ce-4e9c-bd5b-b458f925653e"
   },
   "outputs": [
    {
     "name": "stdout",
     "output_type": "stream",
     "text": [
      "<class 'pandas.core.frame.DataFrame'>\n",
      "Int64Index: 150186 entries, 1 to 159255\n",
      "Data columns (total 21 columns):\n",
      " #   Column               Non-Null Count   Dtype   \n",
      "---  ------               --------------   -----   \n",
      " 0   age                  150186 non-null  int64   \n",
      " 1   BMI                  150186 non-null  float64 \n",
      " 2   HW_ratio             150186 non-null  float64 \n",
      " 3   hearing(left)        150186 non-null  int64   \n",
      " 4   hearing(right)       150186 non-null  int64   \n",
      " 5   eyesight             150186 non-null  float64 \n",
      " 6   systolic             150186 non-null  category\n",
      " 7   relaxation           150186 non-null  category\n",
      " 8   fasting blood sugar  150186 non-null  category\n",
      " 9   Cholesterol          150186 non-null  category\n",
      " 10  triglyceride         150186 non-null  category\n",
      " 11  HDL                  150186 non-null  category\n",
      " 12  LDL                  150186 non-null  category\n",
      " 13  hemoglobin           150186 non-null  category\n",
      " 14  serum creatinine     150186 non-null  category\n",
      " 15  AST                  150186 non-null  category\n",
      " 16  ALT                  150186 non-null  category\n",
      " 17  Gtp                  150186 non-null  category\n",
      " 18  Urine protein        150186 non-null  int64   \n",
      " 19  dental caries        150186 non-null  int64   \n",
      " 20  smoking              150186 non-null  int64   \n",
      "dtypes: category(12), float64(3), int64(6)\n",
      "memory usage: 13.2 MB\n"
     ]
    }
   ],
   "source": [
    "train2.info()"
   ]
  },
  {
   "cell_type": "code",
   "execution_count": 15,
   "metadata": {
    "executionInfo": {
     "elapsed": 23,
     "status": "ok",
     "timestamp": 1700569226835,
     "user": {
      "displayName": "이태승",
      "userId": "18309131439061054888"
     },
     "user_tz": -540
    },
    "id": "xAN0jMxloCT5"
   },
   "outputs": [],
   "source": [
    "# test 데이터셋\n",
    "test2['age'] = test['age']\n",
    "test2['HW_ratio'] = test['height(cm)'] / test['waist(cm)']\n",
    "test2['BMI'] = test['weight(kg)'] / ((test['height(cm)'] / 100) ** 2)\n",
    "test2['hearing(left)'] = test['hearing(left)']\n",
    "test2['hearing(right)'] = test['hearing(right)']\n",
    "test2['eyesight'] = test[['eyesight(left)', 'eyesight(right)']].max(axis=1)\n",
    "test2['systolic'] = pd.cut(test['systolic'], bins=[-np.inf, 90, 140, np.inf], labels=[0, 1, 2])\n",
    "test2['relaxation'] = pd.cut(test['relaxation'], bins=[-np.inf, 60, 90, np.inf], labels=[0, 1, 2])\n",
    "test2['fasting blood sugar'] = pd.cut(test['fasting blood sugar'], bins=[-np.inf, 100, 126, np.inf], labels=[0, 1, 2])\n",
    "test2['Cholesterol'] = pd.cut(test['Cholesterol'], bins=[-np.inf, 150, 250, np.inf], labels=[0, 1, 2])\n",
    "test2['triglyceride'] = pd.cut(test['triglyceride'], bins=[-np.inf, 150, 200, np.inf], labels=[0, 1, 2])\n",
    "test2['HDL'] = pd.cut(test['HDL'], bins=[-np.inf, 40, np.inf], labels=[1, 0])\n",
    "test2['LDL'] = pd.cut(test['LDL'], bins=[-np.inf, 130, 160, np.inf], labels=[0, 1, 2])\n",
    "test2['hemoglobin'] = pd.cut(test['hemoglobin'], bins=[-np.inf,12.1, 15.1, np.inf], labels=[1,0, 1],ordered=False)\n",
    "test2['serum creatinine'] = pd.cut(test['serum creatinine'], bins=[-np.inf,0.6, 1.2, np.inf], labels=[1,0, 1],ordered=False)\n",
    "test2['AST'] = pd.cut(test['AST'], bins=[-np.inf, 40, np.inf], labels=[0, 1])\n",
    "test2['ALT'] = pd.cut(test['ALT'], bins=[-np.inf, 40, np.inf], labels=[0, 1])\n",
    "test2['Gtp'] = pd.cut(test['Gtp'], bins=[-np.inf,10, 40, np.inf], labels=[1,0, 1],ordered=False)\n",
    "test2['Urine protein'] = test['Urine protein']\n",
    "test2['dental caries'] = test['dental caries']\n"
   ]
  },
  {
   "cell_type": "code",
   "execution_count": 16,
   "metadata": {
    "colab": {
     "base_uri": "https://localhost:8080/"
    },
    "executionInfo": {
     "elapsed": 24,
     "status": "ok",
     "timestamp": 1700569226836,
     "user": {
      "displayName": "이태승",
      "userId": "18309131439061054888"
     },
     "user_tz": -540
    },
    "id": "zQ4MqZLcqLK6",
    "outputId": "a6111390-371f-4b65-ff82-aaf764fd9123"
   },
   "outputs": [
    {
     "name": "stdout",
     "output_type": "stream",
     "text": [
      "<class 'pandas.core.frame.DataFrame'>\n",
      "RangeIndex: 106171 entries, 0 to 106170\n",
      "Data columns (total 20 columns):\n",
      " #   Column               Non-Null Count   Dtype   \n",
      "---  ------               --------------   -----   \n",
      " 0   age                  106171 non-null  int64   \n",
      " 1   HW_ratio             106171 non-null  float64 \n",
      " 2   BMI                  106171 non-null  float64 \n",
      " 3   hearing(left)        106171 non-null  int64   \n",
      " 4   hearing(right)       106171 non-null  int64   \n",
      " 5   eyesight             106171 non-null  float64 \n",
      " 6   systolic             106171 non-null  category\n",
      " 7   relaxation           106171 non-null  category\n",
      " 8   fasting blood sugar  106171 non-null  category\n",
      " 9   Cholesterol          106171 non-null  category\n",
      " 10  triglyceride         106171 non-null  category\n",
      " 11  HDL                  106171 non-null  category\n",
      " 12  LDL                  106171 non-null  category\n",
      " 13  hemoglobin           106171 non-null  category\n",
      " 14  serum creatinine     106171 non-null  category\n",
      " 15  AST                  106171 non-null  category\n",
      " 16  ALT                  106171 non-null  category\n",
      " 17  Gtp                  106171 non-null  category\n",
      " 18  Urine protein        106171 non-null  int64   \n",
      " 19  dental caries        106171 non-null  int64   \n",
      "dtypes: category(12), float64(3), int64(5)\n",
      "memory usage: 7.7 MB\n"
     ]
    }
   ],
   "source": [
    "test2.info()"
   ]
  },
  {
   "cell_type": "code",
   "execution_count": 17,
   "metadata": {
    "executionInfo": {
     "elapsed": 16,
     "status": "ok",
     "timestamp": 1700569226836,
     "user": {
      "displayName": "이태승",
      "userId": "18309131439061054888"
     },
     "user_tz": -540
    },
    "id": "luQeRKP5sQrK"
   },
   "outputs": [],
   "source": [
    "# 데이터프레임 이름이 train이라고 가정하겠습니다.\n",
    "category_columns = ['systolic', 'relaxation', 'fasting blood sugar', 'Cholesterol', 'triglyceride',\n",
    "                    'HDL', 'LDL', 'hemoglobin', 'serum creatinine', 'AST', 'ALT', 'Gtp']\n",
    "\n",
    "# 원핫인코딩 실행\n",
    "train_encoded = pd.get_dummies(train2, columns=category_columns)\n",
    "test_encoded = pd.get_dummies(test2, columns=category_columns)\n",
    "\n",
    "# 원핫인코딩 된 데이터프레임을 train3에 저장\n",
    "train3 = train_encoded\n",
    "test3 = test_encoded"
   ]
  },
  {
   "cell_type": "code",
   "execution_count": 18,
   "metadata": {
    "executionInfo": {
     "elapsed": 16,
     "status": "ok",
     "timestamp": 1700569226836,
     "user": {
      "displayName": "이태승",
      "userId": "18309131439061054888"
     },
     "user_tz": -540
    },
    "id": "6HfYFbW8uO7T"
   },
   "outputs": [],
   "source": [
    "from sklearn.preprocessing import StandardScaler\n",
    "\n",
    "# StandardScaler 객체 생성\n",
    "scaler = StandardScaler()\n",
    "\n",
    "# 수치형 컬럼만 선택\n",
    "num_cols = train3.select_dtypes(include=['int64', 'float64']).columns\n",
    "num_cols = num_cols.drop('smoking')\n",
    "\n",
    "# 수치형 컬럼에 대해 스케일링 수행\n",
    "train3[num_cols] = scaler.fit_transform(train3[num_cols])\n",
    "\n",
    "num_cols = test3.select_dtypes(include=['int64', 'float64']).columns\n",
    "test3[num_cols] = scaler.fit_transform(test3[num_cols])"
   ]
  },
  {
   "cell_type": "code",
   "execution_count": 19,
   "metadata": {
    "colab": {
     "base_uri": "https://localhost:8080/"
    },
    "executionInfo": {
     "elapsed": 498156,
     "status": "ok",
     "timestamp": 1700569755200,
     "user": {
      "displayName": "이태승",
      "userId": "18309131439061054888"
     },
     "user_tz": -540
    },
    "id": "Fpt1Qcp5uU8V",
    "outputId": "68df2446-4c50-4c4e-dd4f-98f2ae43dbfe"
   },
   "outputs": [
    {
     "name": "stderr",
     "output_type": "stream",
     "text": [
      "[I 2023-11-24 23:25:53,663] A new study created in memory with name: no-name-c3caa274-5d43-40f2-99b9-d08573540245\n",
      "[I 2023-11-24 23:26:03,299] Trial 0 finished with value: 0.8158446356376523 and parameters: {'lambda_l1': 1.9851004355692733e-06, 'lambda_l2': 1.1081664280662274e-05, 'num_leaves': 64, 'feature_fraction': 0.8957805580775147, 'bagging_fraction': 0.720098528927517, 'bagging_freq': 7, 'min_child_samples': 7}. Best is trial 0 with value: 0.8158446356376523.\n",
      "[I 2023-11-24 23:26:29,451] Trial 1 finished with value: 0.8091614429844034 and parameters: {'lambda_l1': 0.0013061659859514357, 'lambda_l2': 4.859294398702604e-06, 'num_leaves': 191, 'feature_fraction': 0.5168339262613921, 'bagging_fraction': 0.920542477830865, 'bagging_freq': 6, 'min_child_samples': 77}. Best is trial 0 with value: 0.8158446356376523.\n",
      "[I 2023-11-24 23:26:48,563] Trial 2 finished with value: 0.8064349109167973 and parameters: {'lambda_l1': 3.778250558096528e-07, 'lambda_l2': 0.8670823679491086, 'num_leaves': 128, 'feature_fraction': 0.6130593403515934, 'bagging_fraction': 0.4896388278296512, 'bagging_freq': 7, 'min_child_samples': 39}. Best is trial 0 with value: 0.8158446356376523.\n",
      "[I 2023-11-24 23:26:53,920] Trial 3 finished with value: 0.8291312149120142 and parameters: {'lambda_l1': 0.008016410579590854, 'lambda_l2': 5.296959059807859e-05, 'num_leaves': 24, 'feature_fraction': 0.8246787355677498, 'bagging_fraction': 0.9089146427168509, 'bagging_freq': 3, 'min_child_samples': 69}. Best is trial 3 with value: 0.8291312149120142.\n",
      "[I 2023-11-24 23:27:11,495] Trial 4 finished with value: 0.8104154433047205 and parameters: {'lambda_l1': 9.630112710575912e-08, 'lambda_l2': 0.5095169516124166, 'num_leaves': 137, 'feature_fraction': 0.9845499989304805, 'bagging_fraction': 0.9208521333557267, 'bagging_freq': 5, 'min_child_samples': 46}. Best is trial 3 with value: 0.8291312149120142.\n",
      "[I 2023-11-24 23:27:41,050] Trial 5 finished with value: 0.8033228821373203 and parameters: {'lambda_l1': 1.6904483834416218e-08, 'lambda_l2': 9.25123471773287, 'num_leaves': 231, 'feature_fraction': 0.6307822788795648, 'bagging_fraction': 0.5563572355794248, 'bagging_freq': 1, 'min_child_samples': 60}. Best is trial 3 with value: 0.8291312149120142.\n",
      "[I 2023-11-24 23:27:53,160] Trial 6 finished with value: 0.8183539000479957 and parameters: {'lambda_l1': 2.3434163750405366e-08, 'lambda_l2': 0.4792019931006016, 'num_leaves': 94, 'feature_fraction': 0.7683392617035507, 'bagging_fraction': 0.9232976257151784, 'bagging_freq': 1, 'min_child_samples': 37}. Best is trial 3 with value: 0.8291312149120142.\n",
      "[I 2023-11-24 23:28:17,086] Trial 7 finished with value: 0.807949639634975 and parameters: {'lambda_l1': 9.587133299072126e-08, 'lambda_l2': 1.1559542991940152e-06, 'num_leaves': 206, 'feature_fraction': 0.6720624547020937, 'bagging_fraction': 0.9919144779539335, 'bagging_freq': 5, 'min_child_samples': 25}. Best is trial 3 with value: 0.8291312149120142.\n",
      "[I 2023-11-24 23:28:40,562] Trial 8 finished with value: 0.8077857321274491 and parameters: {'lambda_l1': 0.00011625736540177406, 'lambda_l2': 0.00041696473078185964, 'num_leaves': 149, 'feature_fraction': 0.43118944086200306, 'bagging_fraction': 0.4579367725962757, 'bagging_freq': 4, 'min_child_samples': 50}. Best is trial 3 with value: 0.8291312149120142.\n",
      "[I 2023-11-24 23:29:00,419] Trial 9 finished with value: 0.819503479207406 and parameters: {'lambda_l1': 4.790659588999692, 'lambda_l2': 0.5275654128428806, 'num_leaves': 138, 'feature_fraction': 0.5999701987131932, 'bagging_fraction': 0.7243668729094264, 'bagging_freq': 4, 'min_child_samples': 37}. Best is trial 3 with value: 0.8291312149120142.\n"
     ]
    },
    {
     "name": "stdout",
     "output_type": "stream",
     "text": [
      "Best trial:\n",
      "  Value:  0.8291312149120142\n",
      "  Params: \n",
      "    lambda_l1: 0.008016410579590854\n",
      "    lambda_l2: 5.296959059807859e-05\n",
      "    num_leaves: 24\n",
      "    feature_fraction: 0.8246787355677498\n",
      "    bagging_fraction: 0.9089146427168509\n",
      "    bagging_freq: 3\n",
      "    min_child_samples: 69\n"
     ]
    }
   ],
   "source": [
    "import optuna\n",
    "import lightgbm as lgb\n",
    "from sklearn.metrics import roc_auc_score\n",
    "from sklearn.model_selection import train_test_split\n",
    "\n",
    "# X, y 데이터 설정\n",
    "X = train3.drop('smoking', axis=1) # 'target' 열을 제외한 나머지를 독립 변수 X로 설정\n",
    "y = train3['smoking'] # 'target' 열을 종속 변수 y로 설정\n",
    "\n",
    "def objective(trial):\n",
    "    # 하이퍼파라미터의 범위를 지정\n",
    "    param = {\n",
    "        'objective': 'binary', # 이진 분류 문제\n",
    "        'verbosity': -1,\n",
    "        'boosting_type': 'gbdt', # Gradient Boosting Decision Tree\n",
    "        'lambda_l1': trial.suggest_loguniform('lambda_l1', 1e-8, 10.0),\n",
    "        'lambda_l2': trial.suggest_loguniform('lambda_l2', 1e-8, 10.0),\n",
    "        'num_leaves': trial.suggest_int('num_leaves', 2, 256),\n",
    "        'feature_fraction': trial.suggest_uniform('feature_fraction', 0.4, 1.0),\n",
    "        'bagging_fraction': trial.suggest_uniform('bagging_fraction', 0.4, 1.0),\n",
    "        'bagging_freq': trial.suggest_int('bagging_freq', 1, 7),\n",
    "        'min_child_samples': trial.suggest_int('min_child_samples', 5, 100),\n",
    "    }\n",
    "\n",
    "    # 데이터를 학습용과 검증용으로 분리\n",
    "    train_x, valid_x, train_y, valid_y = train_test_split(X, y, test_size=0.25)\n",
    "\n",
    "    train_set = lgb.Dataset(train_x, train_y)\n",
    "    valid_set = lgb.Dataset(valid_x, valid_y)\n",
    "\n",
    "    gbm = lgb.train(param, train_set, valid_sets=[valid_set], num_boost_round=1000)\n",
    "\n",
    "    preds = gbm.predict(valid_x)\n",
    "    auc = roc_auc_score(valid_y, preds)\n",
    "    return auc\n",
    "\n",
    "study = optuna.create_study(direction='maximize') # 'maximize'로 설정하여 AUC를 최대화\n",
    "study.optimize(objective, n_trials=10) # n_trials는 시도할 파라미터 셋의 수를 의미\n",
    "\n",
    "print('Best trial:')\n",
    "trial = study.best_trial\n",
    "print('  Value: ', trial.value)\n",
    "print('  Params: ')\n",
    "for key, value in trial.params.items():\n",
    "    print('    {}: {}'.format(key, value))\n"
   ]
  },
  {
   "cell_type": "code",
   "execution_count": 20,
   "metadata": {
    "executionInfo": {
     "elapsed": 38949,
     "status": "ok",
     "timestamp": 1700570065803,
     "user": {
      "displayName": "이태승",
      "userId": "18309131439061054888"
     },
     "user_tz": -540
    },
    "id": "uHgYT6xE3AIQ"
   },
   "outputs": [],
   "source": [
    "import lightgbm as lgb\n",
    "\n",
    "# 최적화된 하이퍼파라미터 설정\n",
    "best_params = {\n",
    "    'objective': 'binary',\n",
    "    'verbosity': -1,\n",
    "    'boosting_type': 'gbdt',\n",
    "    'lambda_l1': 4.65813172282846e-08,\n",
    "    'lambda_l2': 2.208853417915532,\n",
    "    'num_leaves': 28,\n",
    "    'feature_fraction': 0.7231047028015054,\n",
    "    'bagging_fraction': 0.5618507220644526,\n",
    "    'bagging_freq': 1,\n",
    "    'min_child_samples': 82\n",
    "}\n",
    "\n",
    "# LightGBM 데이터셋으로 변환\n",
    "train_set = lgb.Dataset(train3.drop('smoking', axis=1), train['smoking'])\n",
    "\n",
    "# 모델 학습\n",
    "gbm = lgb.train(best_params, train_set, num_boost_round=1000)\n",
    "\n",
    "# test 데이터에 대한 예측 수행\n",
    "preds = gbm.predict(test3)\n"
   ]
  },
  {
   "cell_type": "code",
   "execution_count": 21,
   "metadata": {
    "executionInfo": {
     "elapsed": 411,
     "status": "ok",
     "timestamp": 1700570071792,
     "user": {
      "displayName": "이태승",
      "userId": "18309131439061054888"
     },
     "user_tz": -540
    },
    "id": "TjG9oLUu3DEy"
   },
   "outputs": [],
   "source": [
    "# 예측 결과를 'sub' 데이터프레임의 'smoking' 컬럼에 저장합니다.\n",
    "sub['smoking'] = preds\n",
    "\n",
    "# 'sub' 데이터프레임을 csv 파일로 저장합니다.\n",
    "sub.to_csv('submission(lightgbm+outlier+category+optuna).csv',index= False)\n"
   ]
  },
  {
   "cell_type": "code",
   "execution_count": 22,
   "metadata": {
    "colab": {
     "base_uri": "https://localhost:8080/"
    },
    "executionInfo": {
     "elapsed": 360,
     "status": "ok",
     "timestamp": 1700570095872,
     "user": {
      "displayName": "이태승",
      "userId": "18309131439061054888"
     },
     "user_tz": -540
    },
    "id": "eH-ueNr03To_",
    "outputId": "8c30bc3e-4edb-42ed-c44b-349b850abf33"
   },
   "outputs": [
    {
     "name": "stdout",
     "output_type": "stream",
     "text": [
      "                  Feature  Importance\n",
      "2                HW_ratio        6489\n",
      "1                     BMI        6065\n",
      "0                     age        3125\n",
      "5                eyesight        2404\n",
      "28           hemoglobin_0         681\n",
      "36                  Gtp_0         604\n",
      "7           dental_caries         520\n",
      "14  fasting_blood_sugar_0         505\n",
      "20         triglyceride_0         432\n",
      "15  fasting_blood_sugar_1         422\n",
      "34                  ALT_0         418\n",
      "25                  LDL_0         396\n",
      "23                  HDL_1         371\n",
      "6           Urine_protein         363\n",
      "21         triglyceride_1         355\n",
      "26                  LDL_1         302\n",
      "22         triglyceride_2         283\n",
      "32                  AST_0         239\n",
      "12           relaxation_1         233\n",
      "30     serum_creatinine_0         229\n",
      "18          Cholesterol_1         217\n",
      "29           hemoglobin_1         198\n",
      "37                  Gtp_1         193\n",
      "9              systolic_1         192\n",
      "17          Cholesterol_0         190\n",
      "16  fasting_blood_sugar_2         186\n",
      "13           relaxation_2         171\n",
      "11           relaxation_0         164\n",
      "10             systolic_2         161\n",
      "3           hearing(left)         146\n",
      "27                  LDL_2         140\n",
      "4          hearing(right)         120\n",
      "35                  ALT_1         108\n",
      "24                  HDL_0         102\n",
      "19          Cholesterol_2          98\n",
      "33                  AST_1          73\n",
      "31     serum_creatinine_1          56\n",
      "8              systolic_0          49\n"
     ]
    }
   ],
   "source": [
    "# 피처 중요도 확인\n",
    "feature_imp = gbm.feature_importance()\n",
    "\n",
    "# 피처명과 함께 확인\n",
    "feature_imp_df = pd.DataFrame({'Feature': gbm.feature_name(), 'Importance': feature_imp})\n",
    "\n",
    "# 중요도 순으로 정렬하여 출력\n",
    "feature_imp_df = feature_imp_df.sort_values('Importance', ascending=False)\n",
    "print(feature_imp_df)\n"
   ]
  },
  {
   "cell_type": "markdown",
   "metadata": {
    "id": "JbM6yA3V7DEW"
   },
   "source": [
    "여기서부터 이상치 처리(우리방식) + 스케일링(standard) + optuna"
   ]
  },
  {
   "cell_type": "code",
   "execution_count": 23,
   "metadata": {
    "executionInfo": {
     "elapsed": 3819,
     "status": "ok",
     "timestamp": 1700570478612,
     "user": {
      "displayName": "이태승",
      "userId": "18309131439061054888"
     },
     "user_tz": -540
    },
    "id": "GBlo2qOu2XUA"
   },
   "outputs": [],
   "source": [
    "train = pd.read_csv(\"/Users/raekkkky/Desktop/DNA/Semester_2023_2/5주차/train.csv\")\n",
    "test = pd.read_csv(\"/Users/raekkkky/Desktop/DNA/Semester_2023_2/5주차/test.csv\")\n",
    "sub = pd.read_csv(\"/Users/raekkkky/Desktop/DNA/Semester_2023_2/5주차/sample_submission.csv\")"
   ]
  },
  {
   "cell_type": "code",
   "execution_count": 24,
   "metadata": {
    "colab": {
     "base_uri": "https://localhost:8080/"
    },
    "executionInfo": {
     "elapsed": 257,
     "status": "ok",
     "timestamp": 1700570488263,
     "user": {
      "displayName": "이태승",
      "userId": "18309131439061054888"
     },
     "user_tz": -540
    },
    "id": "2dJNQ8Ms5ia8",
    "outputId": "010435db-f582-453f-c362-c64fa7e84ed3"
   },
   "outputs": [
    {
     "data": {
      "text/plain": [
       "1         27\n",
       "2         27\n",
       "3         20\n",
       "4         19\n",
       "6         17\n",
       "          ..\n",
       "159251    25\n",
       "159252    21\n",
       "159253    15\n",
       "159254    22\n",
       "159255    21\n",
       "Name: AST, Length: 150186, dtype: int64"
      ]
     },
     "execution_count": 24,
     "metadata": {},
     "output_type": "execute_result"
    }
   ],
   "source": [
    "train = train[train['eyesight(left)'] != 9.9]\n",
    "\n",
    "train = train[train['eyesight(left)'] != 9.9]\n",
    "\n",
    "Q1_triglyceride = train['triglyceride'].quantile(0.25)\n",
    "Q3_triglyceride = train['triglyceride'].quantile(0.75)\n",
    "IQR_triglyceride = Q3_triglyceride - Q1_triglyceride\n",
    "\n",
    "Q1_creatinine = train['serum creatinine'].quantile(0.25)\n",
    "Q3_creatinine = train['serum creatinine'].quantile(0.75)\n",
    "IQR_creatinine = Q3_creatinine - Q1_creatinine\n",
    "\n",
    "train = train[(train['triglyceride'] >= Q1_triglyceride - 1.5 * IQR_triglyceride) & (train['triglyceride'] <= Q3_triglyceride + 1.5 * IQR_triglyceride)]\n",
    "train = train[(train['serum creatinine'] >= Q1_creatinine - 1.5 * IQR_creatinine) & (train['serum creatinine'] <= Q3_creatinine + 1.5 * IQR_creatinine)]\n",
    "\n",
    "train['Gtp'].clip(lower = 0, upper = 300)\n",
    "train['HDL'].clip(lower = 0, upper = 150)\n",
    "train['LDL'].clip(lower = 0, upper = 200)\n",
    "train['ALT'].clip(lower = 0, upper = 150)\n",
    "train['AST'].clip(lower = 0, upper = 100)"
   ]
  },
  {
   "cell_type": "code",
   "execution_count": 25,
   "metadata": {
    "executionInfo": {
     "elapsed": 1042,
     "status": "ok",
     "timestamp": 1700570534771,
     "user": {
      "displayName": "이태승",
      "userId": "18309131439061054888"
     },
     "user_tz": -540
    },
    "id": "zshPA4KF5lkP"
   },
   "outputs": [],
   "source": [
    "# 'dental caries', 'Urine protein', 'hearing(left)', 'hearing(right)' 컬럼의 데이터 타입을 'object'로 변경합니다.\n",
    "cols_to_change = ['dental caries', 'Urine protein', 'hearing(left)', 'hearing(right)']\n",
    "for col in cols_to_change:\n",
    "    train[col] = train[col].astype('object')\n",
    "    test[col] = test[col].astype('object')\n",
    "\n",
    "train = train.drop(columns=['id'])\n",
    "test = test.drop(columns=['id'])\n",
    "\n",
    "train = pd.get_dummies(train, columns=cols_to_change)\n",
    "test = pd.get_dummies(test, columns=cols_to_change)"
   ]
  },
  {
   "cell_type": "code",
   "execution_count": 26,
   "metadata": {
    "executionInfo": {
     "elapsed": 473,
     "status": "ok",
     "timestamp": 1700570594779,
     "user": {
      "displayName": "이태승",
      "userId": "18309131439061054888"
     },
     "user_tz": -540
    },
    "id": "hF7M0R6J5wzO"
   },
   "outputs": [],
   "source": [
    "from sklearn.preprocessing import StandardScaler\n",
    "\n",
    "# StandardScaler 객체 생성\n",
    "scaler = StandardScaler()\n",
    "\n",
    "# 수치형 컬럼만 선택\n",
    "num_cols = train.select_dtypes(include=['int64', 'float64']).columns\n",
    "num_cols = num_cols.drop('smoking')\n",
    "\n",
    "# 수치형 컬럼에 대해 스케일링 수행\n",
    "train[num_cols] = scaler.fit_transform(train[num_cols])\n",
    "\n",
    "num_cols = test.select_dtypes(include=['int64', 'float64']).columns\n",
    "test[num_cols] = scaler.fit_transform(test[num_cols])"
   ]
  },
  {
   "cell_type": "code",
   "execution_count": 27,
   "metadata": {
    "colab": {
     "base_uri": "https://localhost:8080/"
    },
    "executionInfo": {
     "elapsed": 512622,
     "status": "ok",
     "timestamp": 1700571128717,
     "user": {
      "displayName": "이태승",
      "userId": "18309131439061054888"
     },
     "user_tz": -540
    },
    "id": "zfIwLtfj59wL",
    "outputId": "222dff30-b411-4989-8f98-19a4512f70f3"
   },
   "outputs": [
    {
     "name": "stderr",
     "output_type": "stream",
     "text": [
      "[I 2023-11-24 23:29:35,425] A new study created in memory with name: no-name-3081444a-528b-4156-a254-72142136dc59\n",
      "[I 2023-11-24 23:29:50,055] Trial 0 finished with value: 0.8601088251892268 and parameters: {'lambda_l1': 2.2184803728554846e-06, 'lambda_l2': 6.167385653798415e-06, 'num_leaves': 92, 'feature_fraction': 0.595894570570156, 'bagging_fraction': 0.4585090142634179, 'bagging_freq': 5, 'min_child_samples': 36}. Best is trial 0 with value: 0.8601088251892268.\n",
      "[I 2023-11-24 23:30:19,316] Trial 1 finished with value: 0.8653722552181431 and parameters: {'lambda_l1': 4.476329234049679e-05, 'lambda_l2': 0.002126352513812906, 'num_leaves': 241, 'feature_fraction': 0.5747848711312149, 'bagging_fraction': 0.9513726311026102, 'bagging_freq': 1, 'min_child_samples': 37}. Best is trial 1 with value: 0.8653722552181431.\n",
      "[I 2023-11-24 23:30:49,178] Trial 2 finished with value: 0.8522308337934814 and parameters: {'lambda_l1': 6.428391551123907e-05, 'lambda_l2': 0.005684698565660634, 'num_leaves': 222, 'feature_fraction': 0.6991999542557856, 'bagging_fraction': 0.4409712865044355, 'bagging_freq': 6, 'min_child_samples': 64}. Best is trial 1 with value: 0.8653722552181431.\n",
      "[I 2023-11-24 23:31:01,888] Trial 3 finished with value: 0.8672732772911141 and parameters: {'lambda_l1': 5.5755843517429134e-05, 'lambda_l2': 3.1632952950144635e-05, 'num_leaves': 71, 'feature_fraction': 0.4759520439336429, 'bagging_fraction': 0.9968047841075696, 'bagging_freq': 5, 'min_child_samples': 93}. Best is trial 3 with value: 0.8672732772911141.\n",
      "[I 2023-11-24 23:31:09,866] Trial 4 finished with value: 0.8700687783452309 and parameters: {'lambda_l1': 6.845144659484626e-08, 'lambda_l2': 0.17029231699774178, 'num_leaves': 39, 'feature_fraction': 0.5624090879105655, 'bagging_fraction': 0.9425786815363083, 'bagging_freq': 3, 'min_child_samples': 59}. Best is trial 4 with value: 0.8700687783452309.\n",
      "[I 2023-11-24 23:31:12,871] Trial 5 finished with value: 0.8668616381935415 and parameters: {'lambda_l1': 6.76575586975539e-08, 'lambda_l2': 6.0000652449753255e-06, 'num_leaves': 7, 'feature_fraction': 0.8847541914649256, 'bagging_fraction': 0.6255341755690266, 'bagging_freq': 2, 'min_child_samples': 68}. Best is trial 4 with value: 0.8700687783452309.\n",
      "[I 2023-11-24 23:31:18,743] Trial 6 finished with value: 0.8698527888296247 and parameters: {'lambda_l1': 2.952237901271878e-08, 'lambda_l2': 2.7720525445102033e-05, 'num_leaves': 22, 'feature_fraction': 0.4423523380500254, 'bagging_fraction': 0.8593848674797859, 'bagging_freq': 3, 'min_child_samples': 68}. Best is trial 4 with value: 0.8700687783452309.\n",
      "[I 2023-11-24 23:31:30,830] Trial 7 finished with value: 0.8588121970402869 and parameters: {'lambda_l1': 1.4928028233891584e-05, 'lambda_l2': 0.0004049082021667868, 'num_leaves': 80, 'feature_fraction': 0.7273689199886747, 'bagging_fraction': 0.5169009308269887, 'bagging_freq': 1, 'min_child_samples': 88}. Best is trial 4 with value: 0.8700687783452309.\n",
      "[I 2023-11-24 23:31:43,859] Trial 8 finished with value: 0.8624230090421918 and parameters: {'lambda_l1': 5.621482478754399e-06, 'lambda_l2': 7.007634299923512e-05, 'num_leaves': 93, 'feature_fraction': 0.7631023333921816, 'bagging_fraction': 0.956022434214944, 'bagging_freq': 7, 'min_child_samples': 49}. Best is trial 4 with value: 0.8700687783452309.\n",
      "[I 2023-11-24 23:31:54,465] Trial 9 finished with value: 0.8604810192427432 and parameters: {'lambda_l1': 3.737993602213865e-06, 'lambda_l2': 0.05842324532638099, 'num_leaves': 64, 'feature_fraction': 0.6423568966817661, 'bagging_fraction': 0.593238394281407, 'bagging_freq': 2, 'min_child_samples': 22}. Best is trial 4 with value: 0.8700687783452309.\n"
     ]
    },
    {
     "name": "stdout",
     "output_type": "stream",
     "text": [
      "Best trial:\n",
      "  Value:  0.8700687783452309\n",
      "  Params: \n",
      "    lambda_l1: 6.845144659484626e-08\n",
      "    lambda_l2: 0.17029231699774178\n",
      "    num_leaves: 39\n",
      "    feature_fraction: 0.5624090879105655\n",
      "    bagging_fraction: 0.9425786815363083\n",
      "    bagging_freq: 3\n",
      "    min_child_samples: 59\n"
     ]
    }
   ],
   "source": [
    "import optuna\n",
    "import lightgbm as lgb\n",
    "from sklearn.metrics import roc_auc_score\n",
    "from sklearn.model_selection import train_test_split\n",
    "\n",
    "# X, y 데이터 설정\n",
    "X = train.drop('smoking', axis=1) # 'target' 열을 제외한 나머지를 독립 변수 X로 설정\n",
    "y = train['smoking'] # 'target' 열을 종속 변수 y로 설정\n",
    "\n",
    "def objective(trial):\n",
    "    # 하이퍼파라미터의 범위를 지정\n",
    "    param = {\n",
    "        'objective': 'binary', # 이진 분류 문제\n",
    "        'verbosity': -1,\n",
    "        'boosting_type': 'gbdt', # Gradient Boosting Decision Tree\n",
    "        'lambda_l1': trial.suggest_loguniform('lambda_l1', 1e-8, 10.0),\n",
    "        'lambda_l2': trial.suggest_loguniform('lambda_l2', 1e-8, 10.0),\n",
    "        'num_leaves': trial.suggest_int('num_leaves', 2, 256),\n",
    "        'feature_fraction': trial.suggest_uniform('feature_fraction', 0.4, 1.0),\n",
    "        'bagging_fraction': trial.suggest_uniform('bagging_fraction', 0.4, 1.0),\n",
    "        'bagging_freq': trial.suggest_int('bagging_freq', 1, 7),\n",
    "        'min_child_samples': trial.suggest_int('min_child_samples', 5, 100),\n",
    "    }\n",
    "\n",
    "    # 데이터를 학습용과 검증용으로 분리\n",
    "    train_x, valid_x, train_y, valid_y = train_test_split(X, y, test_size=0.25)\n",
    "\n",
    "    train_set = lgb.Dataset(train_x, train_y)\n",
    "    valid_set = lgb.Dataset(valid_x, valid_y)\n",
    "\n",
    "    gbm = lgb.train(param, train_set, valid_sets=[valid_set], num_boost_round=1000)\n",
    "\n",
    "    preds = gbm.predict(valid_x)\n",
    "    auc = roc_auc_score(valid_y, preds)\n",
    "    return auc\n",
    "\n",
    "study = optuna.create_study(direction='maximize') # 'maximize'로 설정하여 AUC를 최대화\n",
    "study.optimize(objective, n_trials=10) # n_trials는 시도할 파라미터 셋의 수를 의미\n",
    "\n",
    "print('Best trial:')\n",
    "trial = study.best_trial\n",
    "print('  Value: ', trial.value)\n",
    "print('  Params: ')\n",
    "for key, value in trial.params.items():\n",
    "    print('    {}: {}'.format(key, value))\n"
   ]
  },
  {
   "cell_type": "code",
   "execution_count": 28,
   "metadata": {
    "id": "lZHI_SOb7OuN"
   },
   "outputs": [],
   "source": [
    "import lightgbm as lgb\n",
    "\n",
    "# 최적화된 하이퍼파라미터 설정\n",
    "best_params = {\n",
    "    'objective': 'binary',\n",
    "    'verbosity': -1,\n",
    "    'boosting_type': 'gbdt',\n",
    "    'lambda_l1': 5.875823452416582,\n",
    "    'lambda_l2': 2.3718803731807686e-05,\n",
    "    'num_leaves': 14,\n",
    "    'feature_fraction': 0.4963672454966828,\n",
    "    'bagging_fraction': 0.9529099493216389,\n",
    "    'bagging_freq': 3,\n",
    "    'min_child_samples': 81\n",
    "}\n",
    "\n",
    "# LightGBM 데이터셋으로 변환\n",
    "train_set = lgb.Dataset(train.drop('smoking', axis=1), train['smoking'])\n",
    "\n",
    "# 모델 학습\n",
    "gbm = lgb.train(best_params, train_set, num_boost_round=1000)\n",
    "\n",
    "# test 데이터에 대한 예측 수행\n",
    "preds = gbm.predict(test)\n"
   ]
  },
  {
   "cell_type": "code",
   "execution_count": 29,
   "metadata": {
    "id": "w3HF6DtP7QZv"
   },
   "outputs": [],
   "source": [
    "# 예측 결과를 'sub' 데이터프레임의 'smoking' 컬럼에 저장합니다.\n",
    "sub['smoking'] = preds\n",
    "\n",
    "# 'sub' 데이터프레임을 csv 파일로 저장합니다.\n",
    "sub.to_csv('submission(lightgbm+outlier+category+optuna).csv',index= False)\n"
   ]
  },
  {
   "cell_type": "code",
   "execution_count": 30,
   "metadata": {
    "id": "5-6Vx6CC6E6N"
   },
   "outputs": [
    {
     "name": "stdout",
     "output_type": "stream",
     "text": [
      "                Feature  Importance\n",
      "10         triglyceride        1332\n",
      "17                  Gtp        1051\n",
      "9           Cholesterol         904\n",
      "13           hemoglobin         882\n",
      "12                  LDL         881\n",
      "8   fasting_blood_sugar         830\n",
      "3             waist(cm)         819\n",
      "16                  ALT         806\n",
      "6              systolic         729\n",
      "15                  AST         680\n",
      "11                  HDL         658\n",
      "0                   age         653\n",
      "7            relaxation         652\n",
      "1            height(cm)         458\n",
      "2            weight(kg)         402\n",
      "14     serum_creatinine         399\n",
      "4        eyesight(left)         373\n",
      "5       eyesight(right)         334\n",
      "18      dental_caries_0          56\n",
      "19      dental_caries_1          36\n",
      "29     hearing(right)_2          13\n",
      "20      Urine_protein_1          11\n",
      "26      hearing(left)_1          11\n",
      "28     hearing(right)_1          11\n",
      "21      Urine_protein_2          11\n",
      "27      hearing(left)_2           5\n",
      "22      Urine_protein_3           3\n",
      "23      Urine_protein_4           0\n",
      "24      Urine_protein_5           0\n",
      "25      Urine_protein_6           0\n"
     ]
    }
   ],
   "source": [
    "# 피처 중요도 확인\n",
    "feature_imp = gbm.feature_importance()\n",
    "\n",
    "# 피처명과 함께 확인\n",
    "feature_imp_df = pd.DataFrame({'Feature': gbm.feature_name(), 'Importance': feature_imp})\n",
    "\n",
    "# 중요도 순으로 정렬하여 출력\n",
    "feature_imp_df = feature_imp_df.sort_values('Importance', ascending=False)\n",
    "print(feature_imp_df)"
   ]
  },
  {
   "cell_type": "code",
   "execution_count": null,
   "metadata": {},
   "outputs": [],
   "source": []
  },
  {
   "cell_type": "code",
   "execution_count": null,
   "metadata": {},
   "outputs": [],
   "source": []
  }
 ],
 "metadata": {
  "colab": {
   "authorship_tag": "ABX9TyNb/TADLoKgFP4YUSQS5Yut",
   "mount_file_id": "1cSZc2_yORfBpF3svqcuqGC6jmDBISC1Z",
   "provenance": []
  },
  "kernelspec": {
   "display_name": "Python 3 (ipykernel)",
   "language": "python",
   "name": "python3"
  },
  "language_info": {
   "codemirror_mode": {
    "name": "ipython",
    "version": 3
   },
   "file_extension": ".py",
   "mimetype": "text/x-python",
   "name": "python",
   "nbconvert_exporter": "python",
   "pygments_lexer": "ipython3",
   "version": "3.11.6"
  },
  "widgets": {
   "application/vnd.jupyter.widget-state+json": {
    "05b6b685f20a416c980650bced996618": {
     "model_module": "@jupyter-widgets/controls",
     "model_module_version": "1.5.0",
     "model_name": "HBoxModel",
     "state": {
      "_dom_classes": [],
      "_model_module": "@jupyter-widgets/controls",
      "_model_module_version": "1.5.0",
      "_model_name": "HBoxModel",
      "_view_count": null,
      "_view_module": "@jupyter-widgets/controls",
      "_view_module_version": "1.5.0",
      "_view_name": "HBoxView",
      "box_style": "",
      "children": [
       "IPY_MODEL_194378176f544e4ca52706c430201b12",
       "IPY_MODEL_84c15f7b1bbb449397600983a79a79b7",
       "IPY_MODEL_2203d9f94e8b4ea3aa6c8f9798901fe1"
      ],
      "layout": "IPY_MODEL_cf3d3e29fdda449fb286c7e90462dad8"
     }
    },
    "0a0c799b03e64c80abe5639526c53db9": {
     "model_module": "@jupyter-widgets/base",
     "model_module_version": "1.2.0",
     "model_name": "LayoutModel",
     "state": {
      "_model_module": "@jupyter-widgets/base",
      "_model_module_version": "1.2.0",
      "_model_name": "LayoutModel",
      "_view_count": null,
      "_view_module": "@jupyter-widgets/base",
      "_view_module_version": "1.2.0",
      "_view_name": "LayoutView",
      "align_content": null,
      "align_items": null,
      "align_self": null,
      "border": null,
      "bottom": null,
      "display": null,
      "flex": null,
      "flex_flow": null,
      "grid_area": null,
      "grid_auto_columns": null,
      "grid_auto_flow": null,
      "grid_auto_rows": null,
      "grid_column": null,
      "grid_gap": null,
      "grid_row": null,
      "grid_template_areas": null,
      "grid_template_columns": null,
      "grid_template_rows": null,
      "height": null,
      "justify_content": null,
      "justify_items": null,
      "left": null,
      "margin": null,
      "max_height": null,
      "max_width": null,
      "min_height": null,
      "min_width": null,
      "object_fit": null,
      "object_position": null,
      "order": null,
      "overflow": null,
      "overflow_x": null,
      "overflow_y": null,
      "padding": null,
      "right": null,
      "top": null,
      "visibility": null,
      "width": null
     }
    },
    "13387d3752f64c9895bb4403c5b3bac2": {
     "model_module": "@jupyter-widgets/base",
     "model_module_version": "1.2.0",
     "model_name": "LayoutModel",
     "state": {
      "_model_module": "@jupyter-widgets/base",
      "_model_module_version": "1.2.0",
      "_model_name": "LayoutModel",
      "_view_count": null,
      "_view_module": "@jupyter-widgets/base",
      "_view_module_version": "1.2.0",
      "_view_name": "LayoutView",
      "align_content": null,
      "align_items": null,
      "align_self": null,
      "border": null,
      "bottom": null,
      "display": null,
      "flex": null,
      "flex_flow": null,
      "grid_area": null,
      "grid_auto_columns": null,
      "grid_auto_flow": null,
      "grid_auto_rows": null,
      "grid_column": null,
      "grid_gap": null,
      "grid_row": null,
      "grid_template_areas": null,
      "grid_template_columns": null,
      "grid_template_rows": null,
      "height": null,
      "justify_content": null,
      "justify_items": null,
      "left": null,
      "margin": null,
      "max_height": null,
      "max_width": null,
      "min_height": null,
      "min_width": null,
      "object_fit": null,
      "object_position": null,
      "order": null,
      "overflow": null,
      "overflow_x": null,
      "overflow_y": null,
      "padding": null,
      "right": null,
      "top": null,
      "visibility": null,
      "width": null
     }
    },
    "194378176f544e4ca52706c430201b12": {
     "model_module": "@jupyter-widgets/controls",
     "model_module_version": "1.5.0",
     "model_name": "HTMLModel",
     "state": {
      "_dom_classes": [],
      "_model_module": "@jupyter-widgets/controls",
      "_model_module_version": "1.5.0",
      "_model_name": "HTMLModel",
      "_view_count": null,
      "_view_module": "@jupyter-widgets/controls",
      "_view_module_version": "1.5.0",
      "_view_name": "HTMLView",
      "description": "",
      "description_tooltip": null,
      "layout": "IPY_MODEL_d88f48b8c3ea44c098131ec5dd06a133",
      "placeholder": "​",
      "style": "IPY_MODEL_231d63e57e87473794ef6e1a53e648fe",
      "value": "Processing: 100%"
     }
    },
    "2203d9f94e8b4ea3aa6c8f9798901fe1": {
     "model_module": "@jupyter-widgets/controls",
     "model_module_version": "1.5.0",
     "model_name": "HTMLModel",
     "state": {
      "_dom_classes": [],
      "_model_module": "@jupyter-widgets/controls",
      "_model_module_version": "1.5.0",
      "_model_name": "HTMLModel",
      "_view_count": null,
      "_view_module": "@jupyter-widgets/controls",
      "_view_module_version": "1.5.0",
      "_view_name": "HTMLView",
      "description": "",
      "description_tooltip": null,
      "layout": "IPY_MODEL_13387d3752f64c9895bb4403c5b3bac2",
      "placeholder": "​",
      "style": "IPY_MODEL_221a46ff22ed4b7bb58c9f6da4597f5a",
      "value": " 4/4 [01:17&lt;00:00, 18.47s/it]"
     }
    },
    "221a46ff22ed4b7bb58c9f6da4597f5a": {
     "model_module": "@jupyter-widgets/controls",
     "model_module_version": "1.5.0",
     "model_name": "DescriptionStyleModel",
     "state": {
      "_model_module": "@jupyter-widgets/controls",
      "_model_module_version": "1.5.0",
      "_model_name": "DescriptionStyleModel",
      "_view_count": null,
      "_view_module": "@jupyter-widgets/base",
      "_view_module_version": "1.2.0",
      "_view_name": "StyleView",
      "description_width": ""
     }
    },
    "231d63e57e87473794ef6e1a53e648fe": {
     "model_module": "@jupyter-widgets/controls",
     "model_module_version": "1.5.0",
     "model_name": "DescriptionStyleModel",
     "state": {
      "_model_module": "@jupyter-widgets/controls",
      "_model_module_version": "1.5.0",
      "_model_name": "DescriptionStyleModel",
      "_view_count": null,
      "_view_module": "@jupyter-widgets/base",
      "_view_module_version": "1.2.0",
      "_view_name": "StyleView",
      "description_width": ""
     }
    },
    "2b6315d0041d47378b4e92d5ecde7f17": {
     "model_module": "@jupyter-widgets/controls",
     "model_module_version": "1.5.0",
     "model_name": "HTMLModel",
     "state": {
      "_dom_classes": [],
      "_model_module": "@jupyter-widgets/controls",
      "_model_module_version": "1.5.0",
      "_model_name": "HTMLModel",
      "_view_count": null,
      "_view_module": "@jupyter-widgets/controls",
      "_view_module_version": "1.5.0",
      "_view_name": "HTMLView",
      "description": "",
      "description_tooltip": null,
      "layout": "IPY_MODEL_86334071a5ab41c3ba53bda5c9390fce",
      "placeholder": "​",
      "style": "IPY_MODEL_bbb2102737374b77a5536014ffcc58c8",
      "value": " 65/65 [19:54&lt;00:00,  6.49s/it]"
     }
    },
    "2f51927084434cb2972d9c444352efec": {
     "model_module": "@jupyter-widgets/controls",
     "model_module_version": "1.5.0",
     "model_name": "ProgressStyleModel",
     "state": {
      "_model_module": "@jupyter-widgets/controls",
      "_model_module_version": "1.5.0",
      "_model_name": "ProgressStyleModel",
      "_view_count": null,
      "_view_module": "@jupyter-widgets/base",
      "_view_module_version": "1.2.0",
      "_view_name": "StyleView",
      "bar_color": null,
      "description_width": ""
     }
    },
    "42bf491f8c9f4adda72b03693216ec1b": {
     "model_module": "@jupyter-widgets/controls",
     "model_module_version": "1.5.0",
     "model_name": "HBoxModel",
     "state": {
      "_dom_classes": [],
      "_model_module": "@jupyter-widgets/controls",
      "_model_module_version": "1.5.0",
      "_model_name": "HBoxModel",
      "_view_count": null,
      "_view_module": "@jupyter-widgets/controls",
      "_view_module_version": "1.5.0",
      "_view_name": "HBoxView",
      "box_style": "",
      "children": [
       "IPY_MODEL_4568fd7466f746a1877cf61f6b63846c",
       "IPY_MODEL_e40b0b6fa7454ee9b79f66e291fbb597",
       "IPY_MODEL_ec2cb8f4ea1b4e06af42989a6a351ac1"
      ],
      "layout": "IPY_MODEL_825809b2a2484c0b8d34ace514e087d7"
     }
    },
    "4568fd7466f746a1877cf61f6b63846c": {
     "model_module": "@jupyter-widgets/controls",
     "model_module_version": "1.5.0",
     "model_name": "HTMLModel",
     "state": {
      "_dom_classes": [],
      "_model_module": "@jupyter-widgets/controls",
      "_model_module_version": "1.5.0",
      "_model_name": "HTMLModel",
      "_view_count": null,
      "_view_module": "@jupyter-widgets/controls",
      "_view_module_version": "1.5.0",
      "_view_name": "HTMLView",
      "description": "",
      "description_tooltip": null,
      "layout": "IPY_MODEL_cc8c33c222274e8ca2b734bdb460cc32",
      "placeholder": "​",
      "style": "IPY_MODEL_7879a6182a47485b95015a2b22189af9",
      "value": "Processing: 100%"
     }
    },
    "482525a2f55b4a569922299c2b7d2e0e": {
     "model_module": "@jupyter-widgets/controls",
     "model_module_version": "1.5.0",
     "model_name": "DescriptionStyleModel",
     "state": {
      "_model_module": "@jupyter-widgets/controls",
      "_model_module_version": "1.5.0",
      "_model_name": "DescriptionStyleModel",
      "_view_count": null,
      "_view_module": "@jupyter-widgets/base",
      "_view_module_version": "1.2.0",
      "_view_name": "StyleView",
      "description_width": ""
     }
    },
    "4edc057771574a12a5d1a29665b6f788": {
     "model_module": "@jupyter-widgets/controls",
     "model_module_version": "1.5.0",
     "model_name": "HBoxModel",
     "state": {
      "_dom_classes": [],
      "_model_module": "@jupyter-widgets/controls",
      "_model_module_version": "1.5.0",
      "_model_name": "HBoxModel",
      "_view_count": null,
      "_view_module": "@jupyter-widgets/controls",
      "_view_module_version": "1.5.0",
      "_view_name": "HBoxView",
      "box_style": "",
      "children": [
       "IPY_MODEL_888b9d689c004377b4f32f065fec941d",
       "IPY_MODEL_9adeb34c6d7b4ac28ddda6eed61f09bc",
       "IPY_MODEL_2b6315d0041d47378b4e92d5ecde7f17"
      ],
      "layout": "IPY_MODEL_8be26433d2e94342aa201690edca4b71"
     }
    },
    "63e627abb9874ebd9d2de4c9dafc168e": {
     "model_module": "@jupyter-widgets/controls",
     "model_module_version": "1.5.0",
     "model_name": "ProgressStyleModel",
     "state": {
      "_model_module": "@jupyter-widgets/controls",
      "_model_module_version": "1.5.0",
      "_model_name": "ProgressStyleModel",
      "_view_count": null,
      "_view_module": "@jupyter-widgets/base",
      "_view_module_version": "1.2.0",
      "_view_name": "StyleView",
      "bar_color": null,
      "description_width": ""
     }
    },
    "7879a6182a47485b95015a2b22189af9": {
     "model_module": "@jupyter-widgets/controls",
     "model_module_version": "1.5.0",
     "model_name": "DescriptionStyleModel",
     "state": {
      "_model_module": "@jupyter-widgets/controls",
      "_model_module_version": "1.5.0",
      "_model_name": "DescriptionStyleModel",
      "_view_count": null,
      "_view_module": "@jupyter-widgets/base",
      "_view_module_version": "1.2.0",
      "_view_name": "StyleView",
      "description_width": ""
     }
    },
    "825809b2a2484c0b8d34ace514e087d7": {
     "model_module": "@jupyter-widgets/base",
     "model_module_version": "1.2.0",
     "model_name": "LayoutModel",
     "state": {
      "_model_module": "@jupyter-widgets/base",
      "_model_module_version": "1.2.0",
      "_model_name": "LayoutModel",
      "_view_count": null,
      "_view_module": "@jupyter-widgets/base",
      "_view_module_version": "1.2.0",
      "_view_name": "LayoutView",
      "align_content": null,
      "align_items": null,
      "align_self": null,
      "border": null,
      "bottom": null,
      "display": null,
      "flex": null,
      "flex_flow": null,
      "grid_area": null,
      "grid_auto_columns": null,
      "grid_auto_flow": null,
      "grid_auto_rows": null,
      "grid_column": null,
      "grid_gap": null,
      "grid_row": null,
      "grid_template_areas": null,
      "grid_template_columns": null,
      "grid_template_rows": null,
      "height": null,
      "justify_content": null,
      "justify_items": null,
      "left": null,
      "margin": null,
      "max_height": null,
      "max_width": null,
      "min_height": null,
      "min_width": null,
      "object_fit": null,
      "object_position": null,
      "order": null,
      "overflow": null,
      "overflow_x": null,
      "overflow_y": null,
      "padding": null,
      "right": null,
      "top": null,
      "visibility": "hidden",
      "width": null
     }
    },
    "84c15f7b1bbb449397600983a79a79b7": {
     "model_module": "@jupyter-widgets/controls",
     "model_module_version": "1.5.0",
     "model_name": "FloatProgressModel",
     "state": {
      "_dom_classes": [],
      "_model_module": "@jupyter-widgets/controls",
      "_model_module_version": "1.5.0",
      "_model_name": "FloatProgressModel",
      "_view_count": null,
      "_view_module": "@jupyter-widgets/controls",
      "_view_module_version": "1.5.0",
      "_view_name": "ProgressView",
      "bar_style": "",
      "description": "",
      "description_tooltip": null,
      "layout": "IPY_MODEL_0a0c799b03e64c80abe5639526c53db9",
      "max": 4,
      "min": 0,
      "orientation": "horizontal",
      "style": "IPY_MODEL_2f51927084434cb2972d9c444352efec",
      "value": 4
     }
    },
    "86334071a5ab41c3ba53bda5c9390fce": {
     "model_module": "@jupyter-widgets/base",
     "model_module_version": "1.2.0",
     "model_name": "LayoutModel",
     "state": {
      "_model_module": "@jupyter-widgets/base",
      "_model_module_version": "1.2.0",
      "_model_name": "LayoutModel",
      "_view_count": null,
      "_view_module": "@jupyter-widgets/base",
      "_view_module_version": "1.2.0",
      "_view_name": "LayoutView",
      "align_content": null,
      "align_items": null,
      "align_self": null,
      "border": null,
      "bottom": null,
      "display": null,
      "flex": null,
      "flex_flow": null,
      "grid_area": null,
      "grid_auto_columns": null,
      "grid_auto_flow": null,
      "grid_auto_rows": null,
      "grid_column": null,
      "grid_gap": null,
      "grid_row": null,
      "grid_template_areas": null,
      "grid_template_columns": null,
      "grid_template_rows": null,
      "height": null,
      "justify_content": null,
      "justify_items": null,
      "left": null,
      "margin": null,
      "max_height": null,
      "max_width": null,
      "min_height": null,
      "min_width": null,
      "object_fit": null,
      "object_position": null,
      "order": null,
      "overflow": null,
      "overflow_x": null,
      "overflow_y": null,
      "padding": null,
      "right": null,
      "top": null,
      "visibility": null,
      "width": null
     }
    },
    "888b9d689c004377b4f32f065fec941d": {
     "model_module": "@jupyter-widgets/controls",
     "model_module_version": "1.5.0",
     "model_name": "HTMLModel",
     "state": {
      "_dom_classes": [],
      "_model_module": "@jupyter-widgets/controls",
      "_model_module_version": "1.5.0",
      "_model_name": "HTMLModel",
      "_view_count": null,
      "_view_module": "@jupyter-widgets/controls",
      "_view_module_version": "1.5.0",
      "_view_name": "HTMLView",
      "description": "",
      "description_tooltip": null,
      "layout": "IPY_MODEL_d207edde4e88423883c6ad80b3260d5e",
      "placeholder": "​",
      "style": "IPY_MODEL_482525a2f55b4a569922299c2b7d2e0e",
      "value": "Processing: 100%"
     }
    },
    "8be26433d2e94342aa201690edca4b71": {
     "model_module": "@jupyter-widgets/base",
     "model_module_version": "1.2.0",
     "model_name": "LayoutModel",
     "state": {
      "_model_module": "@jupyter-widgets/base",
      "_model_module_version": "1.2.0",
      "_model_name": "LayoutModel",
      "_view_count": null,
      "_view_module": "@jupyter-widgets/base",
      "_view_module_version": "1.2.0",
      "_view_name": "LayoutView",
      "align_content": null,
      "align_items": null,
      "align_self": null,
      "border": null,
      "bottom": null,
      "display": null,
      "flex": null,
      "flex_flow": null,
      "grid_area": null,
      "grid_auto_columns": null,
      "grid_auto_flow": null,
      "grid_auto_rows": null,
      "grid_column": null,
      "grid_gap": null,
      "grid_row": null,
      "grid_template_areas": null,
      "grid_template_columns": null,
      "grid_template_rows": null,
      "height": null,
      "justify_content": null,
      "justify_items": null,
      "left": null,
      "margin": null,
      "max_height": null,
      "max_width": null,
      "min_height": null,
      "min_width": null,
      "object_fit": null,
      "object_position": null,
      "order": null,
      "overflow": null,
      "overflow_x": null,
      "overflow_y": null,
      "padding": null,
      "right": null,
      "top": null,
      "visibility": "hidden",
      "width": null
     }
    },
    "96f0e8b4a0b94bb9a99c0b3a41a5d303": {
     "model_module": "@jupyter-widgets/controls",
     "model_module_version": "1.5.0",
     "model_name": "ProgressStyleModel",
     "state": {
      "_model_module": "@jupyter-widgets/controls",
      "_model_module_version": "1.5.0",
      "_model_name": "ProgressStyleModel",
      "_view_count": null,
      "_view_module": "@jupyter-widgets/base",
      "_view_module_version": "1.2.0",
      "_view_name": "StyleView",
      "bar_color": null,
      "description_width": ""
     }
    },
    "9adeb34c6d7b4ac28ddda6eed61f09bc": {
     "model_module": "@jupyter-widgets/controls",
     "model_module_version": "1.5.0",
     "model_name": "FloatProgressModel",
     "state": {
      "_dom_classes": [],
      "_model_module": "@jupyter-widgets/controls",
      "_model_module_version": "1.5.0",
      "_model_name": "FloatProgressModel",
      "_view_count": null,
      "_view_module": "@jupyter-widgets/controls",
      "_view_module_version": "1.5.0",
      "_view_name": "ProgressView",
      "bar_style": "",
      "description": "",
      "description_tooltip": null,
      "layout": "IPY_MODEL_d123fa235df54694b9b1b15c7c8757af",
      "max": 65,
      "min": 0,
      "orientation": "horizontal",
      "style": "IPY_MODEL_63e627abb9874ebd9d2de4c9dafc168e",
      "value": 65
     }
    },
    "bbb2102737374b77a5536014ffcc58c8": {
     "model_module": "@jupyter-widgets/controls",
     "model_module_version": "1.5.0",
     "model_name": "DescriptionStyleModel",
     "state": {
      "_model_module": "@jupyter-widgets/controls",
      "_model_module_version": "1.5.0",
      "_model_name": "DescriptionStyleModel",
      "_view_count": null,
      "_view_module": "@jupyter-widgets/base",
      "_view_module_version": "1.2.0",
      "_view_name": "StyleView",
      "description_width": ""
     }
    },
    "c3e3fbba2b414374985cc4dba96b8e68": {
     "model_module": "@jupyter-widgets/controls",
     "model_module_version": "1.5.0",
     "model_name": "DescriptionStyleModel",
     "state": {
      "_model_module": "@jupyter-widgets/controls",
      "_model_module_version": "1.5.0",
      "_model_name": "DescriptionStyleModel",
      "_view_count": null,
      "_view_module": "@jupyter-widgets/base",
      "_view_module_version": "1.2.0",
      "_view_name": "StyleView",
      "description_width": ""
     }
    },
    "cc8c33c222274e8ca2b734bdb460cc32": {
     "model_module": "@jupyter-widgets/base",
     "model_module_version": "1.2.0",
     "model_name": "LayoutModel",
     "state": {
      "_model_module": "@jupyter-widgets/base",
      "_model_module_version": "1.2.0",
      "_model_name": "LayoutModel",
      "_view_count": null,
      "_view_module": "@jupyter-widgets/base",
      "_view_module_version": "1.2.0",
      "_view_name": "LayoutView",
      "align_content": null,
      "align_items": null,
      "align_self": null,
      "border": null,
      "bottom": null,
      "display": null,
      "flex": null,
      "flex_flow": null,
      "grid_area": null,
      "grid_auto_columns": null,
      "grid_auto_flow": null,
      "grid_auto_rows": null,
      "grid_column": null,
      "grid_gap": null,
      "grid_row": null,
      "grid_template_areas": null,
      "grid_template_columns": null,
      "grid_template_rows": null,
      "height": null,
      "justify_content": null,
      "justify_items": null,
      "left": null,
      "margin": null,
      "max_height": null,
      "max_width": null,
      "min_height": null,
      "min_width": null,
      "object_fit": null,
      "object_position": null,
      "order": null,
      "overflow": null,
      "overflow_x": null,
      "overflow_y": null,
      "padding": null,
      "right": null,
      "top": null,
      "visibility": null,
      "width": null
     }
    },
    "cf3d3e29fdda449fb286c7e90462dad8": {
     "model_module": "@jupyter-widgets/base",
     "model_module_version": "1.2.0",
     "model_name": "LayoutModel",
     "state": {
      "_model_module": "@jupyter-widgets/base",
      "_model_module_version": "1.2.0",
      "_model_name": "LayoutModel",
      "_view_count": null,
      "_view_module": "@jupyter-widgets/base",
      "_view_module_version": "1.2.0",
      "_view_name": "LayoutView",
      "align_content": null,
      "align_items": null,
      "align_self": null,
      "border": null,
      "bottom": null,
      "display": null,
      "flex": null,
      "flex_flow": null,
      "grid_area": null,
      "grid_auto_columns": null,
      "grid_auto_flow": null,
      "grid_auto_rows": null,
      "grid_column": null,
      "grid_gap": null,
      "grid_row": null,
      "grid_template_areas": null,
      "grid_template_columns": null,
      "grid_template_rows": null,
      "height": null,
      "justify_content": null,
      "justify_items": null,
      "left": null,
      "margin": null,
      "max_height": null,
      "max_width": null,
      "min_height": null,
      "min_width": null,
      "object_fit": null,
      "object_position": null,
      "order": null,
      "overflow": null,
      "overflow_x": null,
      "overflow_y": null,
      "padding": null,
      "right": null,
      "top": null,
      "visibility": "hidden",
      "width": null
     }
    },
    "d123fa235df54694b9b1b15c7c8757af": {
     "model_module": "@jupyter-widgets/base",
     "model_module_version": "1.2.0",
     "model_name": "LayoutModel",
     "state": {
      "_model_module": "@jupyter-widgets/base",
      "_model_module_version": "1.2.0",
      "_model_name": "LayoutModel",
      "_view_count": null,
      "_view_module": "@jupyter-widgets/base",
      "_view_module_version": "1.2.0",
      "_view_name": "LayoutView",
      "align_content": null,
      "align_items": null,
      "align_self": null,
      "border": null,
      "bottom": null,
      "display": null,
      "flex": null,
      "flex_flow": null,
      "grid_area": null,
      "grid_auto_columns": null,
      "grid_auto_flow": null,
      "grid_auto_rows": null,
      "grid_column": null,
      "grid_gap": null,
      "grid_row": null,
      "grid_template_areas": null,
      "grid_template_columns": null,
      "grid_template_rows": null,
      "height": null,
      "justify_content": null,
      "justify_items": null,
      "left": null,
      "margin": null,
      "max_height": null,
      "max_width": null,
      "min_height": null,
      "min_width": null,
      "object_fit": null,
      "object_position": null,
      "order": null,
      "overflow": null,
      "overflow_x": null,
      "overflow_y": null,
      "padding": null,
      "right": null,
      "top": null,
      "visibility": null,
      "width": null
     }
    },
    "d207edde4e88423883c6ad80b3260d5e": {
     "model_module": "@jupyter-widgets/base",
     "model_module_version": "1.2.0",
     "model_name": "LayoutModel",
     "state": {
      "_model_module": "@jupyter-widgets/base",
      "_model_module_version": "1.2.0",
      "_model_name": "LayoutModel",
      "_view_count": null,
      "_view_module": "@jupyter-widgets/base",
      "_view_module_version": "1.2.0",
      "_view_name": "LayoutView",
      "align_content": null,
      "align_items": null,
      "align_self": null,
      "border": null,
      "bottom": null,
      "display": null,
      "flex": null,
      "flex_flow": null,
      "grid_area": null,
      "grid_auto_columns": null,
      "grid_auto_flow": null,
      "grid_auto_rows": null,
      "grid_column": null,
      "grid_gap": null,
      "grid_row": null,
      "grid_template_areas": null,
      "grid_template_columns": null,
      "grid_template_rows": null,
      "height": null,
      "justify_content": null,
      "justify_items": null,
      "left": null,
      "margin": null,
      "max_height": null,
      "max_width": null,
      "min_height": null,
      "min_width": null,
      "object_fit": null,
      "object_position": null,
      "order": null,
      "overflow": null,
      "overflow_x": null,
      "overflow_y": null,
      "padding": null,
      "right": null,
      "top": null,
      "visibility": null,
      "width": null
     }
    },
    "d88f48b8c3ea44c098131ec5dd06a133": {
     "model_module": "@jupyter-widgets/base",
     "model_module_version": "1.2.0",
     "model_name": "LayoutModel",
     "state": {
      "_model_module": "@jupyter-widgets/base",
      "_model_module_version": "1.2.0",
      "_model_name": "LayoutModel",
      "_view_count": null,
      "_view_module": "@jupyter-widgets/base",
      "_view_module_version": "1.2.0",
      "_view_name": "LayoutView",
      "align_content": null,
      "align_items": null,
      "align_self": null,
      "border": null,
      "bottom": null,
      "display": null,
      "flex": null,
      "flex_flow": null,
      "grid_area": null,
      "grid_auto_columns": null,
      "grid_auto_flow": null,
      "grid_auto_rows": null,
      "grid_column": null,
      "grid_gap": null,
      "grid_row": null,
      "grid_template_areas": null,
      "grid_template_columns": null,
      "grid_template_rows": null,
      "height": null,
      "justify_content": null,
      "justify_items": null,
      "left": null,
      "margin": null,
      "max_height": null,
      "max_width": null,
      "min_height": null,
      "min_width": null,
      "object_fit": null,
      "object_position": null,
      "order": null,
      "overflow": null,
      "overflow_x": null,
      "overflow_y": null,
      "padding": null,
      "right": null,
      "top": null,
      "visibility": null,
      "width": null
     }
    },
    "dad1960a260f4aa78a285449e93a659b": {
     "model_module": "@jupyter-widgets/base",
     "model_module_version": "1.2.0",
     "model_name": "LayoutModel",
     "state": {
      "_model_module": "@jupyter-widgets/base",
      "_model_module_version": "1.2.0",
      "_model_name": "LayoutModel",
      "_view_count": null,
      "_view_module": "@jupyter-widgets/base",
      "_view_module_version": "1.2.0",
      "_view_name": "LayoutView",
      "align_content": null,
      "align_items": null,
      "align_self": null,
      "border": null,
      "bottom": null,
      "display": null,
      "flex": null,
      "flex_flow": null,
      "grid_area": null,
      "grid_auto_columns": null,
      "grid_auto_flow": null,
      "grid_auto_rows": null,
      "grid_column": null,
      "grid_gap": null,
      "grid_row": null,
      "grid_template_areas": null,
      "grid_template_columns": null,
      "grid_template_rows": null,
      "height": null,
      "justify_content": null,
      "justify_items": null,
      "left": null,
      "margin": null,
      "max_height": null,
      "max_width": null,
      "min_height": null,
      "min_width": null,
      "object_fit": null,
      "object_position": null,
      "order": null,
      "overflow": null,
      "overflow_x": null,
      "overflow_y": null,
      "padding": null,
      "right": null,
      "top": null,
      "visibility": null,
      "width": null
     }
    },
    "e40b0b6fa7454ee9b79f66e291fbb597": {
     "model_module": "@jupyter-widgets/controls",
     "model_module_version": "1.5.0",
     "model_name": "FloatProgressModel",
     "state": {
      "_dom_classes": [],
      "_model_module": "@jupyter-widgets/controls",
      "_model_module_version": "1.5.0",
      "_model_name": "FloatProgressModel",
      "_view_count": null,
      "_view_module": "@jupyter-widgets/controls",
      "_view_module_version": "1.5.0",
      "_view_name": "ProgressView",
      "bar_style": "",
      "description": "",
      "description_tooltip": null,
      "layout": "IPY_MODEL_e5b4279840de45a09e95582aa9bd236a",
      "max": 4,
      "min": 0,
      "orientation": "horizontal",
      "style": "IPY_MODEL_96f0e8b4a0b94bb9a99c0b3a41a5d303",
      "value": 4
     }
    },
    "e5b4279840de45a09e95582aa9bd236a": {
     "model_module": "@jupyter-widgets/base",
     "model_module_version": "1.2.0",
     "model_name": "LayoutModel",
     "state": {
      "_model_module": "@jupyter-widgets/base",
      "_model_module_version": "1.2.0",
      "_model_name": "LayoutModel",
      "_view_count": null,
      "_view_module": "@jupyter-widgets/base",
      "_view_module_version": "1.2.0",
      "_view_name": "LayoutView",
      "align_content": null,
      "align_items": null,
      "align_self": null,
      "border": null,
      "bottom": null,
      "display": null,
      "flex": null,
      "flex_flow": null,
      "grid_area": null,
      "grid_auto_columns": null,
      "grid_auto_flow": null,
      "grid_auto_rows": null,
      "grid_column": null,
      "grid_gap": null,
      "grid_row": null,
      "grid_template_areas": null,
      "grid_template_columns": null,
      "grid_template_rows": null,
      "height": null,
      "justify_content": null,
      "justify_items": null,
      "left": null,
      "margin": null,
      "max_height": null,
      "max_width": null,
      "min_height": null,
      "min_width": null,
      "object_fit": null,
      "object_position": null,
      "order": null,
      "overflow": null,
      "overflow_x": null,
      "overflow_y": null,
      "padding": null,
      "right": null,
      "top": null,
      "visibility": null,
      "width": null
     }
    },
    "ec2cb8f4ea1b4e06af42989a6a351ac1": {
     "model_module": "@jupyter-widgets/controls",
     "model_module_version": "1.5.0",
     "model_name": "HTMLModel",
     "state": {
      "_dom_classes": [],
      "_model_module": "@jupyter-widgets/controls",
      "_model_module_version": "1.5.0",
      "_model_name": "HTMLModel",
      "_view_count": null,
      "_view_module": "@jupyter-widgets/controls",
      "_view_module_version": "1.5.0",
      "_view_name": "HTMLView",
      "description": "",
      "description_tooltip": null,
      "layout": "IPY_MODEL_dad1960a260f4aa78a285449e93a659b",
      "placeholder": "​",
      "style": "IPY_MODEL_c3e3fbba2b414374985cc4dba96b8e68",
      "value": " 4/4 [01:01&lt;00:00, 14.10s/it]"
     }
    }
   }
  }
 },
 "nbformat": 4,
 "nbformat_minor": 4
}
