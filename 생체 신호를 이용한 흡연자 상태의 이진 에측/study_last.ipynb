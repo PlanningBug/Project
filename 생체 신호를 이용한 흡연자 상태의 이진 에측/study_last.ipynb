{
 "cells": [
  {
   "cell_type": "markdown",
   "id": "e02bd0b1-9713-4e02-8111-f4d2444ebbe3",
   "metadata": {
    "jp-MarkdownHeadingCollapsed": true
   },
   "source": [
    "# 1번 코드공유"
   ]
  },
  {
   "cell_type": "code",
   "execution_count": null,
   "id": "d3408ed3-19a3-4f4a-8eae-6f72f146edac",
   "metadata": {},
   "outputs": [],
   "source": [
    "# 뭔데 나는 없는 데이터를 쓰냐?\n",
    "# 일단 다 따라해보다가.. 코드공유 1도 그렇고 2도 그렇고 데이터가 따로 있는거 같아서 안됨..\n",
    "# 일단 뭐 했는지만 간단하게 알아봄"
   ]
  },
  {
   "cell_type": "code",
   "execution_count": null,
   "id": "eb29f008-43fc-42bf-886c-9ea905a85d74",
   "metadata": {},
   "outputs": [],
   "source": [
    "# xgboost 왜 난 이 사람이 한 게 왜 안되지?? 미치겠네\n",
    "# 파머완이나, 따로 xgboost 실시하면 되는데 이것만 안됨\n",
    "# 오류 메세지 보면 GPU와 안 맞다는데.. 하 모르겠네"
   ]
  },
  {
   "cell_type": "markdown",
   "id": "7cae6f67-b821-43bf-96bd-a1dc1bb29e15",
   "metadata": {
    "jp-MarkdownHeadingCollapsed": true
   },
   "source": [
    "# 2번 코드공유"
   ]
  },
  {
   "cell_type": "code",
   "execution_count": null,
   "id": "9035cf79-a145-4845-9b49-e5fe17f4fa20",
   "metadata": {},
   "outputs": [],
   "source": [
    "import numpy as np\n",
    "import pandas as pd\n",
    "import matplotlib.pyplot as plt\n",
    "import seaborn as sns\n",
    "# from pycaret.classification import *"
   ]
  },
  {
   "cell_type": "code",
   "execution_count": null,
   "id": "db110f15-8c72-45c5-b143-e84b36609a30",
   "metadata": {},
   "outputs": [],
   "source": [
    "train_df = pd.read_csv('/Users/raekkkky/Desktop/DNA/Semester_2023_2/5주차/train.csv')\n",
    "only_train_df = train_df.copy()\n",
    "test_df = pd.read_csv('/Users/raekkkky/Desktop/DNA/Semester_2023_2/5주차/test.csv')\n",
    "# original_train_df = pd.read_csv('/kaggle/input/smoker-status-prediction-using-biosignals/train_dataset.csv')\n",
    "train_df = train_df.drop(['id'],axis=1)\n",
    "# train_df = pd.concat([train_df, original_train_df]).sample(frac=1)\n",
    "y = train_df['smoking']\n",
    "train_df.info()"
   ]
  },
  {
   "cell_type": "code",
   "execution_count": null,
   "id": "c87787f8-97d6-46a1-a834-a5f21f635952",
   "metadata": {},
   "outputs": [],
   "source": [
    "def create_extra_features(df):\n",
    "    # order the ears\n",
    "    best = np.where(df['hearing(left)'] < df['hearing(right)'], \n",
    "                    df['hearing(left)'],  df['hearing(right)'])\n",
    "    worst = np.where(df['hearing(left)'] < df['hearing(right)'], \n",
    "                     df['hearing(right)'],  df['hearing(left)'])\n",
    "    df['hearing(left)'] = best - 1\n",
    "    df['hearing(right)'] = worst - 1\n",
    "    \n",
    "    # order the eyes - eyesight is worst to best, and 9+ should be worst!\n",
    "    df['eyesight(left)'] = np.where(df['eyesight(left)'] > 9, 0, df['eyesight(left)'])\n",
    "    df['eyesight(right)'] = np.where(df['eyesight(right)'] > 9, 0, df['eyesight(right)'])\n",
    "    best = np.where(df['eyesight(left)'] < df['eyesight(right)'], \n",
    "                    df['eyesight(left)'],  df['eyesight(right)'])\n",
    "    worst = np.where(df['eyesight(left)'] < df['eyesight(right)'], \n",
    "                     df['eyesight(right)'],  df['eyesight(left)'])\n",
    "    df['eyesight(left)'] = best\n",
    "    df['eyesight(right)'] = worst\n",
    "    ##\n",
    "    df['Gtp'] = np.clip(df['Gtp'], 0, 300)\n",
    "    df['HDL'] = np.clip(df['HDL'], 0, 110)\n",
    "    df['LDL'] = np.clip(df['LDL'], 0, 200)\n",
    "    df['ALT'] = np.clip(df['ALT'], 0, 150)\n",
    "    df['AST'] = np.clip(df['AST'], 0, 100)\n",
    "    df['serum creatinine'] = np.clip(df['serum creatinine'], 0, 3)    \n",
    "\n",
    "create_extra_features(train_df)\n",
    "create_extra_features(test_df)"
   ]
  },
  {
   "cell_type": "code",
   "execution_count": null,
   "id": "8c53ab50-89ba-4b87-8d87-dfe7f6f04158",
   "metadata": {},
   "outputs": [],
   "source": [
    "train_df.head()"
   ]
  },
  {
   "cell_type": "code",
   "execution_count": null,
   "id": "9ff06073-450b-4fc7-a044-1d69516221b1",
   "metadata": {},
   "outputs": [],
   "source": [
    "test_id = test_df['id']"
   ]
  },
  {
   "cell_type": "code",
   "execution_count": null,
   "id": "47bbcee3-db5e-4f1a-83aa-b9a31d79882d",
   "metadata": {},
   "outputs": [],
   "source": [
    "# 이거 함수 없길래 외부 코드에서 가져와봄\n",
    "\n",
    "def set_frame_style(df, caption=\"\"):\n",
    "    \"\"\"Helper function to set dataframe presentation style.\n",
    "    \"\"\"\n",
    "    return df.style.background_gradient(cmap='Greens').set_caption(caption).set_table_styles([{\n",
    "    'selector': 'caption',\n",
    "    'props': [\n",
    "        ('color', 'Green'),\n",
    "        ('font-size', '18px'),\n",
    "        ('font-weight','bold')\n",
    "    ]}])"
   ]
  },
  {
   "cell_type": "code",
   "execution_count": null,
   "id": "ca3f99c3-ecb6-4945-93de-5c65bb7b7c3f",
   "metadata": {},
   "outputs": [],
   "source": [
    "set_frame_style(train_df.describe())"
   ]
  },
  {
   "cell_type": "code",
   "execution_count": null,
   "id": "b78e90e5-cdf5-425e-b0c4-b46cc9039452",
   "metadata": {},
   "outputs": [],
   "source": [
    "set_frame_style(train_df.head())"
   ]
  },
  {
   "cell_type": "code",
   "execution_count": null,
   "id": "4088f03a-0265-467e-aba8-3820f2906e7e",
   "metadata": {},
   "outputs": [],
   "source": [
    "set_frame_style(pd.DataFrame(train_df.nunique()),\"Total Unique values in each column\")"
   ]
  },
  {
   "cell_type": "code",
   "execution_count": null,
   "id": "973bf56f-f6c4-49e8-a66a-c84c649bbdea",
   "metadata": {},
   "outputs": [],
   "source": [
    "# - No missing/null values in any of the columns\n",
    "# - hearing(left), hearing(right), Urine protein, dental caries can be one hot encoded"
   ]
  },
  {
   "cell_type": "code",
   "execution_count": null,
   "id": "4c96696e-69f8-4bc1-89f4-8c6d9b3b252e",
   "metadata": {},
   "outputs": [],
   "source": [
    "train_df.columns"
   ]
  },
  {
   "cell_type": "code",
   "execution_count": null,
   "id": "92b1fd3a-00e0-4b4d-aa86-2987d17eae68",
   "metadata": {},
   "outputs": [],
   "source": [
    "# Storing the categorical and numerical columns separately for different operations"
   ]
  },
  {
   "cell_type": "code",
   "execution_count": null,
   "id": "4dbce016-ad75-415c-b43d-35370e86c597",
   "metadata": {},
   "outputs": [],
   "source": [
    "train_to_scale = train_df.drop(['hearing(left)', 'hearing(right)', 'Urine protein','dental caries', 'smoking'],axis =1)\n",
    "train_to_ohe = train_df[['hearing(left)', 'hearing(right)', 'Urine protein','dental caries']]\n",
    "test_to_scale = test_df.drop(['id','hearing(left)', 'hearing(right)', 'Urine protein','dental caries'],axis =1)\n",
    "test_to_ohe = test_df[['hearing(left)', 'hearing(right)', 'Urine protein','dental caries']]"
   ]
  },
  {
   "cell_type": "code",
   "execution_count": null,
   "id": "efd88ebf-34c1-4c37-b6f7-f27f012c8313",
   "metadata": {},
   "outputs": [],
   "source": [
    "# [EDA 시작] Let's see how many smoking individuals v/s non-smoking individuals"
   ]
  },
  {
   "cell_type": "code",
   "execution_count": null,
   "id": "05a89528-621b-4f74-b5e6-446accf00fdf",
   "metadata": {},
   "outputs": [],
   "source": [
    "train_df['smoking'].value_counts()"
   ]
  },
  {
   "cell_type": "code",
   "execution_count": null,
   "id": "bc0e2108-702b-4cae-b3cc-22883b725ca0",
   "metadata": {},
   "outputs": [],
   "source": [
    "# Synthetic data is somewhat more balanced than the original one"
   ]
  },
  {
   "cell_type": "code",
   "execution_count": null,
   "id": "7b74cba0-abe3-49b5-92d5-aafd8fcc7d0e",
   "metadata": {},
   "outputs": [],
   "source": [
    "# Distributions of Features"
   ]
  },
  {
   "cell_type": "code",
   "execution_count": null,
   "id": "2d45ca4a-facd-4ec6-8a7e-0b20201ce547",
   "metadata": {},
   "outputs": [],
   "source": [
    "# Observing the kde part of the Violin plot, most of them appear skewed"
   ]
  },
  {
   "cell_type": "code",
   "execution_count": null,
   "id": "0c711486-5b5a-442f-8cbc-03030a7ec81c",
   "metadata": {},
   "outputs": [],
   "source": [
    "from prettytable import PrettyTable\n",
    "from itertools import combinations\n",
    "\n",
    "correlation_matrix = train_to_scale.corr()\n",
    "\n",
    "\n",
    "table = PrettyTable()\n",
    "table.field_names = [\"Column 1\", \"Column 2\", \"Correlation\"]\n",
    "\n",
    "\n",
    "for col1, col2 in combinations(correlation_matrix.columns, 2):\n",
    "    correlation = correlation_matrix.at[col1, col2]\n",
    "    table.add_row([col1, col2, f\"{correlation:.2f}\"])\n",
    "table.sortby = \"Correlation\"\n",
    "\n",
    "print(table)"
   ]
  },
  {
   "cell_type": "code",
   "execution_count": null,
   "id": "d7052a15-2ec9-41d2-9547-00b3eadec383",
   "metadata": {},
   "outputs": [],
   "source": [
    "# Preprocessing [Robustscaler]"
   ]
  },
  {
   "cell_type": "code",
   "execution_count": null,
   "id": "b5681732-218f-4a63-9ed2-cd467cf4de13",
   "metadata": {},
   "outputs": [],
   "source": [
    "from sklearn.preprocessing import RobustScaler\n",
    "\n",
    "sc = RobustScaler()\n",
    "\n",
    "\n",
    "scaled_train = pd.DataFrame(sc.fit_transform(train_to_scale),columns = train_to_scale.columns)\n",
    "scaled_test = pd.DataFrame(sc.transform(test_to_scale),columns = test_to_scale.columns)"
   ]
  },
  {
   "cell_type": "code",
   "execution_count": null,
   "id": "8b5a4f97-ef19-450b-a9f5-efd7c56d78b3",
   "metadata": {},
   "outputs": [],
   "source": [
    "set_frame_style(scaled_train.head())"
   ]
  },
  {
   "cell_type": "code",
   "execution_count": null,
   "id": "780abeb7-1494-4498-a155-2cc203554a44",
   "metadata": {},
   "outputs": [],
   "source": [
    "# One Hot Encoding the categorical columns"
   ]
  },
  {
   "cell_type": "code",
   "execution_count": null,
   "id": "598580a0-e3e1-4a61-8dd2-c3c42b914bc6",
   "metadata": {},
   "outputs": [],
   "source": [
    "train_to_ohe.columns"
   ]
  },
  {
   "cell_type": "code",
   "execution_count": null,
   "id": "9b05bafc-1db5-4b32-93ef-09c165cb9936",
   "metadata": {},
   "outputs": [],
   "source": [
    "ohe_train = pd.get_dummies(train_to_ohe, columns = ['hearing(left)', 'hearing(right)', 'Urine protein', 'dental caries'])\n",
    "ohe_test  = pd.get_dummies(test_to_ohe, columns = ['hearing(left)', 'hearing(right)', 'Urine protein', 'dental caries'])\n",
    "\n",
    "set_frame_style(ohe_train.head())"
   ]
  },
  {
   "cell_type": "code",
   "execution_count": null,
   "id": "4849f825-1bcb-4b7b-b558-1b337fb253db",
   "metadata": {},
   "outputs": [],
   "source": [
    "for i in ohe_train.columns : \n",
    "    ohe_train[i] = ohe_train[i].apply(lambda x :0.9 if x ==1 else 0.1)"
   ]
  },
  {
   "cell_type": "code",
   "execution_count": null,
   "id": "0f7518c4-a335-4fb3-8054-2853eac79910",
   "metadata": {},
   "outputs": [],
   "source": [
    "ohe_train"
   ]
  },
  {
   "cell_type": "code",
   "execution_count": null,
   "id": "7730287b-d844-4a14-9807-95220c47ab9f",
   "metadata": {},
   "outputs": [],
   "source": [
    "# Joining the columns after scaling and one-hot encoding"
   ]
  },
  {
   "cell_type": "code",
   "execution_count": null,
   "id": "b62a14ef-2ac3-4fe8-9dc8-ec9a94a9e46e",
   "metadata": {},
   "outputs": [],
   "source": [
    "ohe_train = ohe_train.reset_index(drop = True)\n",
    "ohe_test = ohe_test.reset_index(drop = True)\n",
    "ohe_train.head()"
   ]
  },
  {
   "cell_type": "code",
   "execution_count": null,
   "id": "02fe7eab-8ad6-4c46-b5f9-970e4678a1ca",
   "metadata": {},
   "outputs": [],
   "source": [
    "scaled_train  = scaled_train.reset_index(drop =True)\n",
    "scaled_test  = scaled_test.reset_index(drop =True)"
   ]
  },
  {
   "cell_type": "code",
   "execution_count": null,
   "id": "13042620-deb4-4b9f-8eff-c81c2864d261",
   "metadata": {},
   "outputs": [],
   "source": [
    "y = y.reset_index(drop = True)"
   ]
  },
  {
   "cell_type": "code",
   "execution_count": null,
   "id": "190d74b3-404b-450f-83a7-e91338c39e4a",
   "metadata": {},
   "outputs": [],
   "source": [
    "X_train = pd.concat([ohe_train,scaled_train,y],axis =1)\n",
    "test_df = pd.concat([ohe_test,scaled_test],axis =1)\n",
    "set_frame_style(X_train.head())"
   ]
  },
  {
   "cell_type": "code",
   "execution_count": null,
   "id": "0e2c3f6c-1bf9-4210-8ee0-0b94ea2d0e04",
   "metadata": {},
   "outputs": [],
   "source": [
    "X_train.info()"
   ]
  },
  {
   "cell_type": "code",
   "execution_count": null,
   "id": "5a7c2df9-ef07-4f45-bc66-eec9afb4702a",
   "metadata": {},
   "outputs": [],
   "source": [
    "test_df.info()"
   ]
  },
  {
   "cell_type": "code",
   "execution_count": null,
   "id": "96ef4471-16a5-48e1-a71f-28ffb48cc9c0",
   "metadata": {},
   "outputs": [],
   "source": [
    "X_train['smoking'].value_counts()"
   ]
  },
  {
   "cell_type": "code",
   "execution_count": null,
   "id": "a9890d39-d485-434f-a7e0-1ad21c0283b0",
   "metadata": {},
   "outputs": [],
   "source": [
    "# Tomek Links : Downsampling for getting balanced dataset"
   ]
  },
  {
   "cell_type": "code",
   "execution_count": null,
   "id": "f9d18c6c-b419-4025-9973-e7196b5efcae",
   "metadata": {},
   "outputs": [],
   "source": [
    "# - Tomek links are pairs of data points where each point is from a different class,\n",
    "# and the distance between them is less than or equal to a specified threshold\n",
    "# - Removing data points that are part of Tomek links effectively trims the boundary of the majority class,\n",
    "# making it more distinct from the minority class. This can lead to a better separation between the classes and improved model performance"
   ]
  },
  {
   "cell_type": "code",
   "execution_count": null,
   "id": "e1e97cdb-10b0-4940-be7d-6d7e46fce7ea",
   "metadata": {},
   "outputs": [],
   "source": [
    "from imblearn.under_sampling import TomekLinks\n",
    "\n",
    "y = X_train[['smoking']]\n",
    "X = X_train.drop('smoking',axis =1)\n",
    "    \n",
    "def tomek_links (X,y) : \n",
    "    '''Tomek Links are pairs of instances, one from the majority class and one from the minority class,\n",
    "    that are very close to each other in the feature space. They are used in the context of dealing with\n",
    "    imbalanced datasets to help balance the class distribution. The key idea is to \n",
    "    identify and remove those majority class instances that are near the minority class instances'''\n",
    "\n",
    "    tl = TomekLinks(sampling_strategy='auto')\n",
    "\n",
    "    X_resampled, y_resampled = tl.fit_resample(X, y)\n",
    "    \n",
    "    return X_resampled , y_resampled\n",
    "\n",
    "X_resampled, y_resampled = tomek_links (X,y)"
   ]
  },
  {
   "cell_type": "code",
   "execution_count": null,
   "id": "674b7e32-bca7-449f-aa16-c139394cf597",
   "metadata": {},
   "outputs": [],
   "source": [
    "X_train = pd.concat([X_resampled,y_resampled], axis =1)\n",
    "X_train['smoking'].value_counts()"
   ]
  },
  {
   "cell_type": "code",
   "execution_count": null,
   "id": "c63f19d1-bd45-4dd6-9e58-673157741263",
   "metadata": {},
   "outputs": [],
   "source": [
    "# Model Training"
   ]
  },
  {
   "cell_type": "code",
   "execution_count": null,
   "id": "d09b03ef-200b-46f4-8daf-d41bf6c87c64",
   "metadata": {},
   "outputs": [],
   "source": [
    "import xgboost as xgb\n",
    "from sklearn.model_selection import StratifiedKFold\n",
    "from sklearn.metrics import roc_auc_score\n",
    "from tqdm import tqdm\n",
    "\n",
    "n_splits = 10\n",
    "\n",
    "skf = StratifiedKFold(n_splits=n_splits, shuffle=True, random_state=42)\n",
    "auc_scores = []\n",
    "best_model = None\n",
    "best_auc = 0.0\n",
    "X = X_resampled\n",
    "y = y_resampled\n",
    "\n",
    "params = {'learning_rate': 0.019093223225293453, \n",
    "            'colsample_bytree': 0.21329015151846925,\n",
    "            'colsample_bylevel': 0.9148369225084079,\n",
    "            'subsample': 0.8831564960046078,\n",
    "            'reg_alpha': 1.1496763786731952e-05, \n",
    "            'reg_lambda': 7.512814356733987e-07, \n",
    "            'max_depth': 12, \n",
    "            'n_estimators': 1950,\n",
    "            'min_child_weight': 21,\n",
    "          'tree_method': 'gpu_hist',\n",
    "          'eval_metric': 'auc',\n",
    "          'booster': 'gbtree',\n",
    "          'n_jobs': -1,\n",
    "          'verbosity': 0}"
   ]
  },
  {
   "cell_type": "code",
   "execution_count": null,
   "id": "c81c0567-b443-4639-b24d-5dbeeb1dd25f",
   "metadata": {},
   "outputs": [],
   "source": [
    "# Wrap the loop with tqdm for a progress bar\n",
    "for train_index, test_index in tqdm(skf.split(X, y), total=n_splits):\n",
    "    X_train, X_test = X.iloc[train_index], X.iloc[test_index]\n",
    "    y_train, y_test = y.iloc[train_index], y.iloc[test_index]\n",
    "\n",
    "    model = xgb.XGBClassifier(**params)\n",
    "\n",
    "    model.fit(X_train, y_train)\n",
    "\n",
    "    y_pred_proba = model.predict_proba(X_test)[:, 1]\n",
    "\n",
    "    auc = roc_auc_score(y_test, y_pred_proba)\n",
    "    auc_scores.append(auc)\n",
    "\n",
    "    if auc > best_auc:\n",
    "        best_auc = auc\n",
    "        best_model = model"
   ]
  },
  {
   "cell_type": "code",
   "execution_count": null,
   "id": "dc861822-d606-46e7-a11d-08c57f0835b2",
   "metadata": {},
   "outputs": [],
   "source": [
    "print(best_auc)"
   ]
  },
  {
   "cell_type": "code",
   "execution_count": null,
   "id": "3744925a-268c-4da8-9ed9-b2303e35d279",
   "metadata": {},
   "outputs": [],
   "source": [
    "print(auc_scores)"
   ]
  },
  {
   "cell_type": "code",
   "execution_count": null,
   "id": "1fb657c2-667b-4f1e-8c03-921ec533b9bf",
   "metadata": {},
   "outputs": [],
   "source": [
    "import matplotlib.pyplot as plt\n",
    "feature_importances = best_model.feature_importances_\n",
    "feature_names = X.columns \n",
    "feature_importance_dict = dict(zip(feature_names, feature_importances))\n",
    "sorted_feature_importance = sorted(feature_importance_dict.items(), key=lambda x: x[1], reverse=True)\n",
    "sorted_feature_names, sorted_importance_scores = zip(*sorted_feature_importance)\n",
    "plt.figure(figsize=(8, 5))\n",
    "plt.barh(sorted_feature_names, sorted_importance_scores)\n",
    "plt.xlabel(\"Feature Importance\")\n",
    "plt.ylabel(\"Feature Name\")\n",
    "plt.title(\"Feature Importance\")\n",
    "plt.show()"
   ]
  },
  {
   "cell_type": "code",
   "execution_count": null,
   "id": "b82d4599-1e83-46c3-81aa-641cb511afc8",
   "metadata": {},
   "outputs": [],
   "source": [
    "y_pred = model.predict_proba(test_df)\n",
    "y_pred[:,1].shape\n",
    "test_id.shape\n",
    "# .. 등 저장까지 진행하셨는데, 난 안됨.. ㅠ"
   ]
  },
  {
   "cell_type": "markdown",
   "id": "7d022b55-330a-449d-8ad3-818221780c3b",
   "metadata": {
    "jp-MarkdownHeadingCollapsed": true
   },
   "source": [
    "# 3번 코드공유"
   ]
  },
  {
   "cell_type": "code",
   "execution_count": null,
   "id": "6de78d47-8a1e-4dc8-ab20-b249f58e5542",
   "metadata": {},
   "outputs": [],
   "source": [
    "# Import Libraries"
   ]
  },
  {
   "cell_type": "code",
   "execution_count": null,
   "id": "669b40f9-4411-4662-8dd0-160d5d18ffbd",
   "metadata": {},
   "outputs": [],
   "source": [
    "# This Python 3 environment comes with many helpful analytics libraries installed\n",
    "# It is defined by the kaggle/python Docker image: https://github.com/kaggle/docker-python\n",
    "# For example, here's several helpful packages to load\n",
    "\n",
    "import numpy as np # linear algebra\n",
    "import pandas as pd # data processing, CSV file I/O (e.g. pd.read_csv)\n",
    "import matplotlib.pyplot as plt \n",
    "import seaborn as sns\n",
    "# Input data files are available in the read-only \"../input/\" directory\n",
    "# For example, running this (by clicking run or pressing Shift+Enter) will list all files under the input directory\n",
    "\n",
    "import os\n",
    "for dirname, _, filenames in os.walk('/kaggle/input'):\n",
    "    for filename in filenames:\n",
    "        print(os.path.join(dirname, filename))\n",
    "\n",
    "# You can write up to 20GB to the current directory (/kaggle/working/) that gets preserved as output when you create a version using \"Save & Run All\" \n",
    "# You can also write temporary files to /kaggle/temp/, but they won't be saved outside of the current session"
   ]
  },
  {
   "cell_type": "code",
   "execution_count": null,
   "id": "ea5fd60c-e37b-4aba-8d84-d1c15355092d",
   "metadata": {},
   "outputs": [],
   "source": [
    "# I copied all this from a different notebook\n",
    "\n",
    "import pandas as pd; pd.set_option('display.max_columns', 100)\n",
    "import numpy as np\n",
    "\n",
    "from tqdm.notebook import tqdm\n",
    "\n",
    "import re\n",
    "\n",
    "from functools import partial\n",
    "from scipy.stats import mode\n",
    "\n",
    "import matplotlib.pyplot as plt; plt.style.use('ggplot')\n",
    "import seaborn as sns\n",
    "import plotly.express as px\n",
    "\n",
    "from sklearn.tree import DecisionTreeClassifier, plot_tree\n",
    "from sklearn.preprocessing import MinMaxScaler, StandardScaler, LabelEncoder, FunctionTransformer\n",
    "from sklearn.pipeline import make_pipeline, Pipeline\n",
    "from sklearn.decomposition import PCA\n",
    "from sklearn.cluster import KMeans\n",
    "from sklearn.compose import ColumnTransformer\n",
    "from sklearn.impute import KNNImputer\n",
    "from sklearn.multiclass import OneVsRestClassifier\n",
    "from sklearn.model_selection import KFold, StratifiedKFold, train_test_split, GridSearchCV, RepeatedStratifiedKFold\n",
    "from sklearn.metrics import roc_auc_score, roc_curve, RocCurveDisplay, cohen_kappa_score, log_loss, f1_score\n",
    "from sklearn.discriminant_analysis import LinearDiscriminantAnalysis, QuadraticDiscriminantAnalysis\n",
    "from sklearn.neighbors import KNeighborsClassifier\n",
    "from sklearn.feature_selection import RFE, RFECV\n",
    "from sklearn.isotonic import IsotonicRegression\n",
    "from sklearn.calibration import CalibrationDisplay\n",
    "from sklearn.inspection import PartialDependenceDisplay, permutation_importance\n",
    "from sklearn.linear_model import LogisticRegression\n",
    "from collections import Counter\n",
    "from sklearn.ensemble import RandomForestClassifier, HistGradientBoostingClassifier, GradientBoostingClassifier, ExtraTreesClassifier\n",
    "from sklearn.svm import SVC\n",
    "from lightgbm import LGBMClassifier\n",
    "from xgboost import XGBClassifier\n",
    "from catboost import CatBoostClassifier\n",
    "\n",
    "from sklearn.manifold import TSNE\n",
    "import optuna\n",
    "import xgboost as xgb"
   ]
  },
  {
   "cell_type": "code",
   "execution_count": null,
   "id": "bdd90a33-9683-4012-9427-3e3a73be41e2",
   "metadata": {},
   "outputs": [],
   "source": [
    "# Read Dataset"
   ]
  },
  {
   "cell_type": "code",
   "execution_count": null,
   "id": "4a34fe50-5093-40c4-8e9e-a22915841215",
   "metadata": {},
   "outputs": [],
   "source": [
    "train_df = pd.read_csv('/Users/raekkkky/Desktop/DNA/Semester_2023_2/5주차/train.csv')\n",
    "train_df.shape"
   ]
  },
  {
   "cell_type": "code",
   "execution_count": null,
   "id": "8213f074-091a-4200-8126-9aa626dbaa37",
   "metadata": {},
   "outputs": [],
   "source": [
    "test_df = pd.read_csv('/Users/raekkkky/Desktop/DNA/Semester_2023_2/5주차/test.csv')\n",
    "test_df.shape"
   ]
  },
  {
   "cell_type": "code",
   "execution_count": null,
   "id": "96d0bbeb-d97c-4307-b672-e95e11186801",
   "metadata": {},
   "outputs": [],
   "source": [
    "# Preprocessing"
   ]
  },
  {
   "cell_type": "code",
   "execution_count": null,
   "id": "9ff70551-489d-4c2a-bb23-d2db14b01783",
   "metadata": {},
   "outputs": [],
   "source": [
    "def create_extra_features(df):\n",
    "    # order the ears\n",
    "    best = np.where(df['hearing(left)'] < df['hearing(right)'], \n",
    "                    df['hearing(left)'],  df['hearing(right)'])\n",
    "    worst = np.where(df['hearing(left)'] < df['hearing(right)'], \n",
    "                     df['hearing(right)'],  df['hearing(left)'])\n",
    "    df['hearing(left)'] = best - 1\n",
    "    df['hearing(right)'] = worst - 1\n",
    "    \n",
    "    # order the eyes - eyesight is worst to best, and 9+ should be worst!\n",
    "    df['eyesight(left)'] = np.where(df['eyesight(left)'] > 9, 0, df['eyesight(left)'])\n",
    "    df['eyesight(right)'] = np.where(df['eyesight(right)'] > 9, 0, df['eyesight(right)'])\n",
    "    best = np.where(df['eyesight(left)'] < df['eyesight(right)'], \n",
    "                    df['eyesight(left)'],  df['eyesight(right)'])\n",
    "    worst = np.where(df['eyesight(left)'] < df['eyesight(right)'], \n",
    "                     df['eyesight(right)'],  df['eyesight(left)'])\n",
    "    df['eyesight(left)'] = best\n",
    "    df['eyesight(right)'] = worst\n",
    "    ##\n",
    "    df['Gtp'] = np.clip(df['Gtp'], 0, 300)\n",
    "    df['HDL'] = np.clip(df['HDL'], 0, 110)\n",
    "    df['LDL'] = np.clip(df['LDL'], 0, 200)\n",
    "    df['ALT'] = np.clip(df['ALT'], 0, 150)\n",
    "    df['AST'] = np.clip(df['AST'], 0, 100)\n",
    "    df['serum creatinine'] = np.clip(df['serum creatinine'], 0, 3)    \n",
    "\n",
    "create_extra_features(train_df)\n",
    "create_extra_features(test_df)"
   ]
  },
  {
   "cell_type": "code",
   "execution_count": null,
   "id": "b1f4fbc3-070e-43f1-b2b2-44a566c76692",
   "metadata": {},
   "outputs": [],
   "source": [
    "train_df.corr()['smoking'].sort_values()"
   ]
  },
  {
   "cell_type": "code",
   "execution_count": null,
   "id": "3e587bc9-1fc0-4e2b-9eac-500f28087af0",
   "metadata": {},
   "outputs": [],
   "source": [
    "def bmi_(BMI):\n",
    "    if BMI < 18.5: \n",
    "        return 'Underwieght'\n",
    "    elif BMI >18.5 and BMI <24.99: \n",
    "        return 'Normal'\n",
    "    elif BMI > 25 and BMI < 29.99: \n",
    "        return 'Overweight'\n",
    "    elif BMI > 30 and BMI < 34.99: \n",
    "        return 'Obese'\n",
    "    elif BMI > 35 and BMI < 39.99: \n",
    "        return 'Obese'\n",
    "    else:\n",
    "        return 'Obese'\n",
    "train_df['bmi'] = (train_df['weight(kg)']) / ((train_df['height(cm)']/100)**2) \n",
    "train_df['bmi_cate'] = train_df['bmi'].apply(bmi_)\n",
    "train_df['bmi_cate'].value_counts()\n",
    "train_df = train_df.drop('bmi',axis=1)"
   ]
  },
  {
   "cell_type": "code",
   "execution_count": null,
   "id": "32b2e16a-7f6e-4e24-a040-ddc752d552a3",
   "metadata": {},
   "outputs": [],
   "source": [
    "test_df['bmi'] = (test_df['weight(kg)']) / ((test_df['height(cm)']/100)**2) \n",
    "test_df['bmi_cate'] = test_df['bmi'].apply(bmi_)\n",
    "test_df = test_df.drop('bmi',axis=1)"
   ]
  },
  {
   "cell_type": "code",
   "execution_count": null,
   "id": "a21034a6-ee9b-46d1-b032-21d4d07d333f",
   "metadata": {},
   "outputs": [],
   "source": [
    "train_df = pd.get_dummies(train_df, columns=['bmi_cate'], drop_first=True)\n",
    "test_df = pd.get_dummies(test_df, columns=['bmi_cate'], drop_first=True)"
   ]
  },
  {
   "cell_type": "code",
   "execution_count": null,
   "id": "19eed576-1802-41ab-9104-335f564bc4a8",
   "metadata": {},
   "outputs": [],
   "source": [
    "def y_gtp(gtp):\n",
    "    if gtp>5 and gtp<40:\n",
    "        return 1\n",
    "    else:\n",
    "        return 0\n",
    "train_df['gtp_cate'] = train_df['Gtp'].apply(y_gtp)\n",
    "test_df['gtp_cate'] = test_df['Gtp'].apply(y_gtp)"
   ]
  },
  {
   "cell_type": "code",
   "execution_count": null,
   "id": "880e6fb1-b863-4f45-a4d8-3e02ed953509",
   "metadata": {},
   "outputs": [],
   "source": [
    "value_counts = train_df['Gtp'].value_counts().sort_index()\n",
    "plt.figure(figsize=(12, 6))\n",
    "plt.bar(value_counts.index, value_counts.values)"
   ]
  },
  {
   "cell_type": "code",
   "execution_count": null,
   "id": "1d194bfe-4067-4873-b386-212784a0b365",
   "metadata": {},
   "outputs": [],
   "source": [
    "value_counts = train_df['AST'].value_counts().sort_index()\n",
    "plt.figure(figsize=(12, 6))\n",
    "plt.bar(value_counts.index, value_counts.values)"
   ]
  },
  {
   "cell_type": "code",
   "execution_count": null,
   "id": "3be2da8f-6d6f-4c32-8fcd-f0c369d73fff",
   "metadata": {},
   "outputs": [],
   "source": [
    "def check_ast_alt(x):\n",
    "    if x > 8 and x < 45:\n",
    "        return 1 \n",
    "    else:\n",
    "        return 0\n",
    "train_df['ast_cate'] = train_df[\"AST\"].apply(check_ast_alt)\n",
    "train_df['alt_cate'] = train_df[\"ALT\"].apply(check_ast_alt)\n",
    "\n",
    "test_df['ast_cate'] = test_df[\"AST\"].apply(check_ast_alt)\n",
    "test_df['alt_cate'] = test_df[\"ALT\"].apply(check_ast_alt)"
   ]
  },
  {
   "cell_type": "code",
   "execution_count": null,
   "id": "adb3f512-5f71-4804-8f75-6af6c057cbe6",
   "metadata": {},
   "outputs": [],
   "source": [
    "cols = ['ast_cate','alt_cate','gtp_cate']\n",
    "train_df = pd.get_dummies(data = train_df, columns=cols, drop_first=True)\n",
    "test_df = pd.get_dummies(data = test_df, columns=cols, drop_first=True)"
   ]
  },
  {
   "cell_type": "code",
   "execution_count": null,
   "id": "c1f676e9-4242-48bb-bde9-cbd9eae7a6fc",
   "metadata": {},
   "outputs": [],
   "source": [
    "train_df.drop(columns = ['id', 'smoking'], axis = 1).nunique()"
   ]
  },
  {
   "cell_type": "code",
   "execution_count": null,
   "id": "47e82859-eed5-4532-9acd-833e33d8bff2",
   "metadata": {},
   "outputs": [],
   "source": [
    "cols = ['dental caries','Urine protein','hearing(left)','hearing(right)']\n",
    "train_df = pd.get_dummies(data = train_df, columns=cols, drop_first=True)\n",
    "test_df = pd.get_dummies(data = test_df, columns=cols, drop_first=True)"
   ]
  },
  {
   "cell_type": "code",
   "execution_count": null,
   "id": "3f528280-9099-4601-9ae7-db5e5d5f2d8c",
   "metadata": {},
   "outputs": [],
   "source": [
    "# Modeling"
   ]
  },
  {
   "cell_type": "code",
   "execution_count": null,
   "id": "2f02abfc-7e05-4289-8a8c-760347a8804e",
   "metadata": {},
   "outputs": [],
   "source": [
    "from sklearn.model_selection import train_test_split\n",
    "X = train_df.drop(['id','smoking'],axis=1)\n",
    "y = train_df['smoking']\n",
    "X_train, X_test, y_train, y_test = train_test_split(X, y, test_size=0.3, random_state=42)"
   ]
  },
  {
   "cell_type": "code",
   "execution_count": null,
   "id": "0275216a-a1f1-4a1b-989f-86fbb2442f06",
   "metadata": {},
   "outputs": [],
   "source": [
    "X_train_logt = np.log1p(X_train)\n",
    "X_test_logt = np.log1p(X_test)"
   ]
  },
  {
   "cell_type": "code",
   "execution_count": null,
   "id": "898e6e08-fe22-460b-bb35-c6358cdd8d59",
   "metadata": {},
   "outputs": [],
   "source": [
    "params = {'learning_rate': 0.0192025093223225293453, \n",
    "            'colsample_bytree': 0.21329015151846925,\n",
    "            'colsample_bylevel': 0.6748369225084079,\n",
    "            'subsample': 0.8831564960046078,\n",
    "            'reg_alpha': 1.1496763786731952e-05, \n",
    "            'reg_lambda': 7.512814356733987e-07, \n",
    "            'max_depth': 14, \n",
    "            'n_estimators': 1500,\n",
    "            'min_child_weight': 21,\n",
    "          'tree_method': 'gpu_hist',\n",
    "          'eval_metric': 'auc',\n",
    "          'booster': 'gbtree',\n",
    "          'n_jobs': -1,\n",
    "          'verbosity': 0}\n",
    "params['tree_method'] = 'hist'  # Use CPU for training\n",
    "xgb_model = xgb.XGBClassifier(**params)\n",
    "\n",
    "xgb_model.fit(X_train_logt,y_train)\n",
    "predictions_xgb = xgb_model.predict_proba(X_test_logt)[:, 1]\n",
    "from sklearn.metrics import roc_auc_score\n",
    "roc_auc = roc_auc_score(y_test,predictions_xgb)\n",
    "roc_auc\n",
    "#0.870410157711284"
   ]
  },
  {
   "cell_type": "code",
   "execution_count": null,
   "id": "37e5564c-dcad-482a-8072-d9e97a02c2f6",
   "metadata": {},
   "outputs": [],
   "source": [
    "lgbm_classifier = LGBMClassifier(\n",
    "    n_estimators=2000,\n",
    "    max_depth=13,\n",
    "    subsample=0.4796,\n",
    "    num_leaves=120,\n",
    "    learning_rate=0.023512,\n",
    "    colsample_bytree=0.273534,\n",
    "    reg_alpha=1.1496763786731952e-05,\n",
    "    reg_lambda=7.512814356733987e-07,\n",
    ")\n",
    "lgbm_classifier.fit(X_train_logt,y_train)\n",
    "predictions_lgbm = lgbm_classifier.predict_proba(X_test_logt)[:, 1]\n",
    "roc_auc = roc_auc_score(y_test,predictions_lgbm)\n",
    "roc_auc"
   ]
  },
  {
   "cell_type": "code",
   "execution_count": null,
   "id": "5bccacf6-5796-4b1c-a649-abad32fdd881",
   "metadata": {},
   "outputs": [],
   "source": [
    "hist_gb_classifier = HistGradientBoostingClassifier(l2_regularization = 0.065,\n",
    "                                             early_stopping = False,\n",
    "                                             learning_rate = 0.07,\n",
    "                                             max_iter = 300,\n",
    "                                             max_depth = 11,\n",
    "                                             max_bins = 255,\n",
    "                                             min_samples_leaf = 25,\n",
    "                                             max_leaf_nodes = 60)\n",
    "\n",
    "hist_gb_classifier.fit(X_train_logt,y_train)\n",
    "\n",
    "predictions_hist_gb = hist_gb_classifier.predict_proba(X_test_logt)[:, 1]\n",
    "roc_auc = roc_auc_score(y_test, predictions_hist_gb)\n",
    "roc_auc"
   ]
  },
  {
   "cell_type": "code",
   "execution_count": null,
   "id": "018ce662-f7b2-4402-af73-648b140ceea7",
   "metadata": {},
   "outputs": [],
   "source": [
    "ensemble_predictions = 0.45 * predictions_lgbm + 0.85 * predictions_xgb + 0.15 * predictions_hist_gb\n",
    "\n",
    "# Calculate the ROC AUC score for the ensemble\n",
    "ensemble_roc_auc = roc_auc_score(y_test, ensemble_predictions)\n",
    "\n",
    "print(\"Ensemble ROC AUC Score:\", ensemble_roc_auc)"
   ]
  },
  {
   "cell_type": "code",
   "execution_count": null,
   "id": "cc132f24-d7d2-4018-ab11-3308b84a6f00",
   "metadata": {},
   "outputs": [],
   "source": [
    "# An accuracy of 0.87101 is obtained, You could further tune to get better resutls. I have assigned random weights, you can further do cross-val,etc."
   ]
  },
  {
   "cell_type": "code",
   "execution_count": null,
   "id": "980f299d-d032-456c-a9e0-b8489ab0fc73",
   "metadata": {},
   "outputs": [],
   "source": [
    "# The whole data to train:\n",
    "\n",
    "test_df = test_df.drop('id',axis=1)"
   ]
  },
  {
   "cell_type": "code",
   "execution_count": null,
   "id": "b043f291-1ec9-45f9-bbf2-6effcaaccf1e",
   "metadata": {},
   "outputs": [],
   "source": [
    "print('The shape of training', train_df.shape) \n",
    "print('The shape of testing', test_df.shape)"
   ]
  },
  {
   "cell_type": "code",
   "execution_count": null,
   "id": "f4d7714c-8649-4a3a-be7d-9d42b7d0d40b",
   "metadata": {},
   "outputs": [],
   "source": [
    "X_ = train_df.drop(['id','smoking'],axis=1) \n",
    "y_to_train = train_df['smoking']\n",
    "\n",
    "#LogT:\n",
    "X_to_train = np.log1p(X_)\n",
    "X_to_test = np.log1p(test_df)"
   ]
  },
  {
   "cell_type": "code",
   "execution_count": null,
   "id": "de6fea92-5888-43dd-8dba-3bff714731f5",
   "metadata": {},
   "outputs": [],
   "source": [
    "print('The shape of training', X_to_train.shape) \n",
    "print('The shape of testing', X_to_test.shape)"
   ]
  },
  {
   "cell_type": "code",
   "execution_count": null,
   "id": "6a8291d7-ae2c-4e28-9393-03388184e9fe",
   "metadata": {},
   "outputs": [],
   "source": [
    "def all_model(X_train_all_scaled,y_all,X_test_all_scaled):\n",
    "    \n",
    "    lgbm_classifier.fit(X_train_all_scaled,y_all)\n",
    "    predictions_lgbm = lgbm_classifier.predict_proba(X_test_all_scaled)[:, 1]\n",
    "    \n",
    "    xgb_model.fit(X_train_all_scaled,y_all)\n",
    "    predictions_xgb = xgb_model.predict_proba(X_test_all_scaled)[:, 1]\n",
    "    \n",
    "    hist_gb_classifier.fit(X_train_all_scaled,y_all)\n",
    "    predictions_hist = hist_gb_classifier.predict_proba(X_test_all_scaled)[:, 1]\n",
    "    \n",
    "    ensemble_predictions = 0.45 * predictions_lgbm + 0.85 * predictions_xgb + 0.15 * predictions_hist \n",
    "    return ensemble_predictions"
   ]
  },
  {
   "cell_type": "code",
   "execution_count": null,
   "id": "28b39fcb-edea-45f2-917d-639943d159cf",
   "metadata": {},
   "outputs": [],
   "source": [
    "# CALLING THE ABOVE FUNCTION: \n",
    "predictions_ = all_model(X_to_train, y_to_train, X_to_test)"
   ]
  },
  {
   "cell_type": "code",
   "execution_count": null,
   "id": "ccd226a4-53c4-4b77-b97f-fada14f10b51",
   "metadata": {},
   "outputs": [],
   "source": [
    "len(predictions_)"
   ]
  },
  {
   "cell_type": "code",
   "execution_count": null,
   "id": "5e8d301a-231f-461b-80a6-c6720b7eada4",
   "metadata": {},
   "outputs": [],
   "source": [
    "predictions = pd.DataFrame(predictions_)\n",
    "submission = pd.read_csv('/Users/raekkkky/Desktop/DNA/Semester_2023_2/5주차/sample_submission.csv')\n",
    "combined_df_ann = pd.concat([submission, predictions], axis=1)\n",
    "combined_df_ann = combined_df_ann.drop('smoking',axis=1)\n",
    "combined_df_ann.columns=['id','smoking']\n",
    "combined_df_ann.to_csv('/Users/raekkkky/Desktop/DNA/Semester_2023_2/7주차/sample_submission(1).csv',index=False)"
   ]
  },
  {
   "cell_type": "code",
   "execution_count": null,
   "id": "187c7414-82c6-4e72-81bc-400cde9fa812",
   "metadata": {},
   "outputs": [],
   "source": [
    "combined_df_ann"
   ]
  },
  {
   "cell_type": "markdown",
   "id": "f0ceea70-5961-41af-a439-5f966dd42efb",
   "metadata": {
    "jp-MarkdownHeadingCollapsed": true
   },
   "source": [
    "# 코드공유 4"
   ]
  },
  {
   "cell_type": "code",
   "execution_count": 3,
   "id": "4e85d974-cd65-462e-96c8-396e152cb7b6",
   "metadata": {},
   "outputs": [],
   "source": [
    "import numpy as np\n",
    "import pandas as pd\n",
    "import os\n",
    "from pathlib import Path\n",
    "import gc\n",
    "import copy\n",
    "\n",
    "from datetime import datetime, time, date, timedelta\n",
    "from dateutil.relativedelta import * "
   ]
  },
  {
   "cell_type": "code",
   "execution_count": 4,
   "id": "ddbd09cf-b166-46b8-ad72-16f23316d419",
   "metadata": {},
   "outputs": [],
   "source": [
    "pd.options.display.max_rows = 999\n",
    "pd.options.display.max_columns = 999\n",
    "import warnings\n",
    "warnings.filterwarnings('ignore')"
   ]
  },
  {
   "cell_type": "code",
   "execution_count": 5,
   "id": "a8ac52ea-287f-4bc8-82ef-778cae095440",
   "metadata": {},
   "outputs": [
    {
     "name": "stderr",
     "output_type": "stream",
     "text": [
      "Seed set to 6\n"
     ]
    },
    {
     "data": {
      "text/plain": [
       "6"
      ]
     },
     "execution_count": 5,
     "metadata": {},
     "output_type": "execute_result"
    }
   ],
   "source": [
    "import pytorch_lightning as pl\n",
    "rand_seed = 6\n",
    "pl.seed_everything(seed = rand_seed) #utilities.seed "
   ]
  },
  {
   "cell_type": "code",
   "execution_count": 6,
   "id": "de184417-af7d-46c3-8e8d-259293aab745",
   "metadata": {},
   "outputs": [],
   "source": [
    "train_file = r\"/Users/raekkkky/Desktop/DNA/Semester_2023_2/5주차/train.csv\"\n",
    "test_file = r\"/Users/raekkkky/Desktop/DNA/Semester_2023_2/5주차/test.csv\"\n",
    "submission_file = r\"/Users/raekkkky/Desktop/DNA/Semester_2023_2/5주차/sample_submission.csv\""
   ]
  },
  {
   "cell_type": "code",
   "execution_count": 7,
   "id": "ea2099f9-d87f-4bce-ac6d-00559dbbe7be",
   "metadata": {},
   "outputs": [],
   "source": [
    "df_train = pd.read_csv(train_file)"
   ]
  },
  {
   "cell_type": "code",
   "execution_count": 8,
   "id": "9d95daa1-9821-4eba-9131-5874a013bb79",
   "metadata": {},
   "outputs": [
    {
     "data": {
      "text/plain": [
       "(159256, 24)"
      ]
     },
     "execution_count": 8,
     "metadata": {},
     "output_type": "execute_result"
    }
   ],
   "source": [
    "df_train.shape"
   ]
  },
  {
   "cell_type": "code",
   "execution_count": 9,
   "id": "3ec7a0e8-0529-416b-ab93-4e031341f05f",
   "metadata": {},
   "outputs": [
    {
     "data": {
      "text/html": [
       "<div>\n",
       "<style scoped>\n",
       "    .dataframe tbody tr th:only-of-type {\n",
       "        vertical-align: middle;\n",
       "    }\n",
       "\n",
       "    .dataframe tbody tr th {\n",
       "        vertical-align: top;\n",
       "    }\n",
       "\n",
       "    .dataframe thead th {\n",
       "        text-align: right;\n",
       "    }\n",
       "</style>\n",
       "<table border=\"1\" class=\"dataframe\">\n",
       "  <thead>\n",
       "    <tr style=\"text-align: right;\">\n",
       "      <th></th>\n",
       "      <th>id</th>\n",
       "      <th>age</th>\n",
       "      <th>height(cm)</th>\n",
       "      <th>weight(kg)</th>\n",
       "      <th>waist(cm)</th>\n",
       "      <th>eyesight(left)</th>\n",
       "      <th>eyesight(right)</th>\n",
       "      <th>hearing(left)</th>\n",
       "      <th>hearing(right)</th>\n",
       "      <th>systolic</th>\n",
       "      <th>relaxation</th>\n",
       "      <th>fasting blood sugar</th>\n",
       "      <th>Cholesterol</th>\n",
       "      <th>triglyceride</th>\n",
       "      <th>HDL</th>\n",
       "      <th>LDL</th>\n",
       "      <th>hemoglobin</th>\n",
       "      <th>Urine protein</th>\n",
       "      <th>serum creatinine</th>\n",
       "      <th>AST</th>\n",
       "      <th>ALT</th>\n",
       "      <th>Gtp</th>\n",
       "      <th>dental caries</th>\n",
       "      <th>smoking</th>\n",
       "    </tr>\n",
       "  </thead>\n",
       "  <tbody>\n",
       "    <tr>\n",
       "      <th>0</th>\n",
       "      <td>0</td>\n",
       "      <td>55</td>\n",
       "      <td>165</td>\n",
       "      <td>60</td>\n",
       "      <td>81.0</td>\n",
       "      <td>0.5</td>\n",
       "      <td>0.6</td>\n",
       "      <td>1</td>\n",
       "      <td>1</td>\n",
       "      <td>135</td>\n",
       "      <td>87</td>\n",
       "      <td>94</td>\n",
       "      <td>172</td>\n",
       "      <td>300</td>\n",
       "      <td>40</td>\n",
       "      <td>75</td>\n",
       "      <td>16.5</td>\n",
       "      <td>1</td>\n",
       "      <td>1.0</td>\n",
       "      <td>22</td>\n",
       "      <td>25</td>\n",
       "      <td>27</td>\n",
       "      <td>0</td>\n",
       "      <td>1</td>\n",
       "    </tr>\n",
       "    <tr>\n",
       "      <th>1</th>\n",
       "      <td>1</td>\n",
       "      <td>70</td>\n",
       "      <td>165</td>\n",
       "      <td>65</td>\n",
       "      <td>89.0</td>\n",
       "      <td>0.6</td>\n",
       "      <td>0.7</td>\n",
       "      <td>2</td>\n",
       "      <td>2</td>\n",
       "      <td>146</td>\n",
       "      <td>83</td>\n",
       "      <td>147</td>\n",
       "      <td>194</td>\n",
       "      <td>55</td>\n",
       "      <td>57</td>\n",
       "      <td>126</td>\n",
       "      <td>16.2</td>\n",
       "      <td>1</td>\n",
       "      <td>1.1</td>\n",
       "      <td>27</td>\n",
       "      <td>23</td>\n",
       "      <td>37</td>\n",
       "      <td>1</td>\n",
       "      <td>0</td>\n",
       "    </tr>\n",
       "    <tr>\n",
       "      <th>2</th>\n",
       "      <td>2</td>\n",
       "      <td>20</td>\n",
       "      <td>170</td>\n",
       "      <td>75</td>\n",
       "      <td>81.0</td>\n",
       "      <td>0.4</td>\n",
       "      <td>0.5</td>\n",
       "      <td>1</td>\n",
       "      <td>1</td>\n",
       "      <td>118</td>\n",
       "      <td>75</td>\n",
       "      <td>79</td>\n",
       "      <td>178</td>\n",
       "      <td>197</td>\n",
       "      <td>45</td>\n",
       "      <td>93</td>\n",
       "      <td>17.4</td>\n",
       "      <td>1</td>\n",
       "      <td>0.8</td>\n",
       "      <td>27</td>\n",
       "      <td>31</td>\n",
       "      <td>53</td>\n",
       "      <td>0</td>\n",
       "      <td>1</td>\n",
       "    </tr>\n",
       "    <tr>\n",
       "      <th>3</th>\n",
       "      <td>3</td>\n",
       "      <td>35</td>\n",
       "      <td>180</td>\n",
       "      <td>95</td>\n",
       "      <td>105.0</td>\n",
       "      <td>1.5</td>\n",
       "      <td>1.2</td>\n",
       "      <td>1</td>\n",
       "      <td>1</td>\n",
       "      <td>131</td>\n",
       "      <td>88</td>\n",
       "      <td>91</td>\n",
       "      <td>180</td>\n",
       "      <td>203</td>\n",
       "      <td>38</td>\n",
       "      <td>102</td>\n",
       "      <td>15.9</td>\n",
       "      <td>1</td>\n",
       "      <td>1.0</td>\n",
       "      <td>20</td>\n",
       "      <td>27</td>\n",
       "      <td>30</td>\n",
       "      <td>1</td>\n",
       "      <td>0</td>\n",
       "    </tr>\n",
       "    <tr>\n",
       "      <th>4</th>\n",
       "      <td>4</td>\n",
       "      <td>30</td>\n",
       "      <td>165</td>\n",
       "      <td>60</td>\n",
       "      <td>80.5</td>\n",
       "      <td>1.5</td>\n",
       "      <td>1.0</td>\n",
       "      <td>1</td>\n",
       "      <td>1</td>\n",
       "      <td>121</td>\n",
       "      <td>76</td>\n",
       "      <td>91</td>\n",
       "      <td>155</td>\n",
       "      <td>87</td>\n",
       "      <td>44</td>\n",
       "      <td>93</td>\n",
       "      <td>15.4</td>\n",
       "      <td>1</td>\n",
       "      <td>0.8</td>\n",
       "      <td>19</td>\n",
       "      <td>13</td>\n",
       "      <td>17</td>\n",
       "      <td>0</td>\n",
       "      <td>1</td>\n",
       "    </tr>\n",
       "  </tbody>\n",
       "</table>\n",
       "</div>"
      ],
      "text/plain": [
       "   id  age  height(cm)  weight(kg)  waist(cm)  eyesight(left)  \\\n",
       "0   0   55         165          60       81.0             0.5   \n",
       "1   1   70         165          65       89.0             0.6   \n",
       "2   2   20         170          75       81.0             0.4   \n",
       "3   3   35         180          95      105.0             1.5   \n",
       "4   4   30         165          60       80.5             1.5   \n",
       "\n",
       "   eyesight(right)  hearing(left)  hearing(right)  systolic  relaxation  \\\n",
       "0              0.6              1               1       135          87   \n",
       "1              0.7              2               2       146          83   \n",
       "2              0.5              1               1       118          75   \n",
       "3              1.2              1               1       131          88   \n",
       "4              1.0              1               1       121          76   \n",
       "\n",
       "   fasting blood sugar  Cholesterol  triglyceride  HDL  LDL  hemoglobin  \\\n",
       "0                   94          172           300   40   75        16.5   \n",
       "1                  147          194            55   57  126        16.2   \n",
       "2                   79          178           197   45   93        17.4   \n",
       "3                   91          180           203   38  102        15.9   \n",
       "4                   91          155            87   44   93        15.4   \n",
       "\n",
       "   Urine protein  serum creatinine  AST  ALT  Gtp  dental caries  smoking  \n",
       "0              1               1.0   22   25   27              0        1  \n",
       "1              1               1.1   27   23   37              1        0  \n",
       "2              1               0.8   27   31   53              0        1  \n",
       "3              1               1.0   20   27   30              1        0  \n",
       "4              1               0.8   19   13   17              0        1  "
      ]
     },
     "execution_count": 9,
     "metadata": {},
     "output_type": "execute_result"
    }
   ],
   "source": [
    "df_train.head()"
   ]
  },
  {
   "cell_type": "code",
   "execution_count": 10,
   "id": "960d1c96-90b2-4e4c-8302-8fa8b8fafabc",
   "metadata": {},
   "outputs": [
    {
     "data": {
      "text/plain": [
       "Index(['id', 'age', 'height(cm)', 'weight(kg)', 'waist(cm)', 'eyesight(left)',\n",
       "       'eyesight(right)', 'hearing(left)', 'hearing(right)', 'systolic',\n",
       "       'relaxation', 'fasting blood sugar', 'Cholesterol', 'triglyceride',\n",
       "       'HDL', 'LDL', 'hemoglobin', 'Urine protein', 'serum creatinine', 'AST',\n",
       "       'ALT', 'Gtp', 'dental caries', 'smoking'],\n",
       "      dtype='object')"
      ]
     },
     "execution_count": 10,
     "metadata": {},
     "output_type": "execute_result"
    }
   ],
   "source": [
    "df_train.columns"
   ]
  },
  {
   "cell_type": "code",
   "execution_count": 11,
   "id": "12af8bb1-9b4e-4bba-9198-09658a0c3814",
   "metadata": {},
   "outputs": [
    {
     "name": "stdout",
     "output_type": "stream",
     "text": [
      "<class 'pandas.core.frame.DataFrame'>\n",
      "RangeIndex: 159256 entries, 0 to 159255\n",
      "Data columns (total 24 columns):\n",
      " #   Column               Non-Null Count   Dtype  \n",
      "---  ------               --------------   -----  \n",
      " 0   id                   159256 non-null  int64  \n",
      " 1   age                  159256 non-null  int64  \n",
      " 2   height(cm)           159256 non-null  int64  \n",
      " 3   weight(kg)           159256 non-null  int64  \n",
      " 4   waist(cm)            159256 non-null  float64\n",
      " 5   eyesight(left)       159256 non-null  float64\n",
      " 6   eyesight(right)      159256 non-null  float64\n",
      " 7   hearing(left)        159256 non-null  int64  \n",
      " 8   hearing(right)       159256 non-null  int64  \n",
      " 9   systolic             159256 non-null  int64  \n",
      " 10  relaxation           159256 non-null  int64  \n",
      " 11  fasting blood sugar  159256 non-null  int64  \n",
      " 12  Cholesterol          159256 non-null  int64  \n",
      " 13  triglyceride         159256 non-null  int64  \n",
      " 14  HDL                  159256 non-null  int64  \n",
      " 15  LDL                  159256 non-null  int64  \n",
      " 16  hemoglobin           159256 non-null  float64\n",
      " 17  Urine protein        159256 non-null  int64  \n",
      " 18  serum creatinine     159256 non-null  float64\n",
      " 19  AST                  159256 non-null  int64  \n",
      " 20  ALT                  159256 non-null  int64  \n",
      " 21  Gtp                  159256 non-null  int64  \n",
      " 22  dental caries        159256 non-null  int64  \n",
      " 23  smoking              159256 non-null  int64  \n",
      "dtypes: float64(5), int64(19)\n",
      "memory usage: 29.2 MB\n"
     ]
    }
   ],
   "source": [
    "df_train.info()"
   ]
  },
  {
   "cell_type": "code",
   "execution_count": 12,
   "id": "ac089d3f-bbf0-4d6e-80b3-6006adb84166",
   "metadata": {},
   "outputs": [],
   "source": [
    "from sklearn.linear_model import LogisticRegression\n",
    "\n",
    "import sklearn.metrics\n",
    "from sklearn.model_selection import train_test_split, StratifiedKFold\n",
    "from sklearn import metrics "
   ]
  },
  {
   "cell_type": "code",
   "execution_count": 13,
   "id": "2cd62695-510f-434a-82ce-203c2cc038fd",
   "metadata": {},
   "outputs": [],
   "source": [
    "import optuna\n",
    "from optuna.samplers import TPESampler\n",
    "import lightgbm as lgb"
   ]
  },
  {
   "cell_type": "code",
   "execution_count": 14,
   "id": "901a956f-c8b5-4b0d-bf03-18d468dcd1e3",
   "metadata": {},
   "outputs": [],
   "source": [
    "x_cols = ['age', 'height(cm)', 'weight(kg)', 'waist(cm)', 'eyesight(left)',\n",
    "       'eyesight(right)', 'hearing(left)', 'hearing(right)', 'systolic',\n",
    "       'relaxation', 'fasting blood sugar', 'Cholesterol', 'triglyceride',\n",
    "       'HDL', 'LDL', 'hemoglobin', 'Urine protein', 'serum creatinine', 'AST',\n",
    "       'ALT', 'Gtp', 'dental caries', ]\n",
    "y_col = 'smoking'"
   ]
  },
  {
   "cell_type": "code",
   "execution_count": 15,
   "id": "89bae991-2a2b-4d0b-996e-1d79a67fd41e",
   "metadata": {},
   "outputs": [],
   "source": [
    "X = df_train[x_cols]\n",
    "y = df_train[y_col]"
   ]
  },
  {
   "cell_type": "code",
   "execution_count": 16,
   "id": "cf44de17-a133-4b9f-b624-9478b1278e86",
   "metadata": {},
   "outputs": [],
   "source": [
    "skf = StratifiedKFold(n_splits=5, random_state = rand_seed, shuffle=True)\n",
    "kfolds = []\n",
    "\n",
    "for i, (train_index, test_index) in enumerate(skf.split(X, y)):\n",
    "    kfolds.append([X.iloc[train_index,], X.iloc[test_index,], y.iloc[train_index,], y.iloc[test_index,]])"
   ]
  },
  {
   "cell_type": "code",
   "execution_count": 17,
   "id": "a22b8888-c986-4fb5-ac00-1ce368f0437a",
   "metadata": {},
   "outputs": [
    {
     "name": "stdout",
     "output_type": "stream",
     "text": [
      "0 (127404, 22) (31852, 22) (127404,) (31852,) 0.43736460393708204 0.4373665703880447\n",
      "1 (127405, 22) (31851, 22) (127405,) (31851,) 0.43736117106863936 0.4373803020313334\n",
      "2 (127405, 22) (31851, 22) (127405,) (31851,) 0.43736117106863936 0.4373803020313334\n",
      "3 (127405, 22) (31851, 22) (127405,) (31851,) 0.437369020054158 0.4373489058428307\n",
      "4 (127405, 22) (31851, 22) (127405,) (31851,) 0.437369020054158 0.4373489058428307\n"
     ]
    }
   ],
   "source": [
    "for i, (train_X, valid_X, train_y, valid_y) in enumerate(kfolds):\n",
    "    print(i, train_X.shape, valid_X.shape, train_y.shape, valid_y.shape, train_y.mean(), valid_y.mean() )"
   ]
  },
  {
   "cell_type": "code",
   "execution_count": 18,
   "id": "34d9257d-3677-417e-86e8-3cc49b010dfa",
   "metadata": {},
   "outputs": [],
   "source": [
    "df_test = pd.read_csv(test_file)"
   ]
  },
  {
   "cell_type": "code",
   "execution_count": 19,
   "id": "5aeafe0e-39e9-4b59-bb75-740be3764a85",
   "metadata": {},
   "outputs": [
    {
     "name": "stdout",
     "output_type": "stream",
     "text": [
      "1 0.9082185154776216\n",
      "2 0.9083433275754027\n",
      "3 0.9083996338355262\n",
      "5 0.9082099812691581\n",
      "8 0.9082776048930501\n",
      "6 0.9085796342847055\n",
      "1024 0.9086962826204863\n",
      "9999 0.9087952155398514\n"
     ]
    }
   ],
   "source": [
    "dtrain = lgb.Dataset(X, label=y)\n",
    "\n",
    "preds_list = []\n",
    "model_list = []\n",
    "\n",
    "params = {'objective': 'binary', 'metric': 'auc', 'verbosity': -1, 'boosting_type': 'gbdt', 'random_seed': 6, 'lambda_l1': 3.1422772805786794, 'lambda_l2': 0.3912821668022086, 'num_leaves': 93, 'feature_fraction': 0.24955364718656628, 'bagging_fraction': 0.9712078900905778, 'bagging_freq': 7, 'min_child_samples': 200, 'num_boost_round': 570, 'learning_rate': 0.049}\n",
    "\n",
    "for seed_i in [1,2,3,5, 8, rand_seed,1024, 9999]:\n",
    "    params_i = copy.deepcopy(params)\n",
    "    params_i[\"random_seed\"] = seed_i\n",
    "\n",
    "    lgb_clf = lgb.train(params_i, dtrain)\n",
    "    pred_prob = lgb_clf.predict(X)\n",
    "    auc_val = metrics.roc_auc_score(y, pred_prob)\n",
    "    print(seed_i, auc_val)\n",
    "    model_list.append(copy.deepcopy(lgb_clf))\n",
    "    \n",
    "    pred_prob = lgb_clf.predict(df_test[x_cols])\n",
    "    preds_list.append(pred_prob)"
   ]
  },
  {
   "cell_type": "code",
   "execution_count": 20,
   "id": "24b8a0e3-0daa-4f29-83b2-7af0bce5b616",
   "metadata": {},
   "outputs": [
    {
     "data": {
      "text/html": [
       "<div>\n",
       "<style scoped>\n",
       "    .dataframe tbody tr th:only-of-type {\n",
       "        vertical-align: middle;\n",
       "    }\n",
       "\n",
       "    .dataframe tbody tr th {\n",
       "        vertical-align: top;\n",
       "    }\n",
       "\n",
       "    .dataframe thead th {\n",
       "        text-align: right;\n",
       "    }\n",
       "</style>\n",
       "<table border=\"1\" class=\"dataframe\">\n",
       "  <thead>\n",
       "    <tr style=\"text-align: right;\">\n",
       "      <th></th>\n",
       "      <th>id</th>\n",
       "      <th>smoking</th>\n",
       "    </tr>\n",
       "  </thead>\n",
       "  <tbody>\n",
       "    <tr>\n",
       "      <th>0</th>\n",
       "      <td>159256</td>\n",
       "      <td>0.680613</td>\n",
       "    </tr>\n",
       "    <tr>\n",
       "      <th>1</th>\n",
       "      <td>159257</td>\n",
       "      <td>0.218180</td>\n",
       "    </tr>\n",
       "    <tr>\n",
       "      <th>2</th>\n",
       "      <td>159258</td>\n",
       "      <td>0.389726</td>\n",
       "    </tr>\n",
       "    <tr>\n",
       "      <th>3</th>\n",
       "      <td>159259</td>\n",
       "      <td>0.017271</td>\n",
       "    </tr>\n",
       "    <tr>\n",
       "      <th>4</th>\n",
       "      <td>159260</td>\n",
       "      <td>0.611637</td>\n",
       "    </tr>\n",
       "  </tbody>\n",
       "</table>\n",
       "</div>"
      ],
      "text/plain": [
       "       id   smoking\n",
       "0  159256  0.680613\n",
       "1  159257  0.218180\n",
       "2  159258  0.389726\n",
       "3  159259  0.017271\n",
       "4  159260  0.611637"
      ]
     },
     "execution_count": 20,
     "metadata": {},
     "output_type": "execute_result"
    }
   ],
   "source": [
    "df_submission = pd.DataFrame(data={'id':df_test['id'], 'smoking':np.mean(preds_list, axis=0)})\n",
    "\n",
    "df_submission.head()"
   ]
  },
  {
   "cell_type": "code",
   "execution_count": 21,
   "id": "74d1040d-8d84-47bb-ba97-5717d073c605",
   "metadata": {},
   "outputs": [],
   "source": [
    "df_submission.to_csv('/Users/raekkkky/Desktop/DNA/Semester_2023_2/7주차/submission(2).csv',index = False)"
   ]
  }
 ],
 "metadata": {
  "kernelspec": {
   "display_name": "Python 3 (ipykernel)",
   "language": "python",
   "name": "python3"
  },
  "language_info": {
   "codemirror_mode": {
    "name": "ipython",
    "version": 3
   },
   "file_extension": ".py",
   "mimetype": "text/x-python",
   "name": "python",
   "nbconvert_exporter": "python",
   "pygments_lexer": "ipython3",
   "version": "3.11.6"
  }
 },
 "nbformat": 4,
 "nbformat_minor": 5
}
