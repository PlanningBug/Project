{
 "cells": [
  {
   "cell_type": "markdown",
   "id": "33feadf2-aeb3-4102-96cf-fac976435888",
   "metadata": {},
   "source": [
    "# 라이브러리"
   ]
  },
  {
   "cell_type": "code",
   "execution_count": 1,
   "id": "800e9511-a8c8-4d4b-8be4-5796323e78a5",
   "metadata": {},
   "outputs": [],
   "source": [
    "import numpy as np\n",
    "import pandas as pd\n",
    "import matplotlib.pyplot as plt \n",
    "import seaborn as sns\n",
    "import plotly.express as px\n",
    "import re\n",
    "from functools import partial\n",
    "from scipy.stats import mode\n",
    "from tqdm.notebook import tqdm\n",
    "pd.set_option('display.max_columns', 100)\n",
    "plt.style.use('ggplot')\n",
    "\n",
    "from sklearn.tree import DecisionTreeClassifier, plot_tree\n",
    "from sklearn.preprocessing import MinMaxScaler, StandardScaler, LabelEncoder, FunctionTransformer\n",
    "from sklearn.pipeline import make_pipeline, Pipeline\n",
    "from sklearn.decomposition import PCA\n",
    "from sklearn.cluster import KMeans\n",
    "from sklearn.compose import ColumnTransformer\n",
    "from sklearn.impute import KNNImputer\n",
    "from sklearn.multiclass import OneVsRestClassifier\n",
    "from sklearn.model_selection import KFold, StratifiedKFold, train_test_split, GridSearchCV, RepeatedStratifiedKFold\n",
    "from sklearn.metrics import roc_auc_score, roc_curve, RocCurveDisplay, cohen_kappa_score, log_loss, f1_score\n",
    "from sklearn.discriminant_analysis import LinearDiscriminantAnalysis, QuadraticDiscriminantAnalysis\n",
    "from sklearn.neighbors import KNeighborsClassifier\n",
    "from sklearn.feature_selection import RFE, RFECV\n",
    "from sklearn.isotonic import IsotonicRegression\n",
    "from sklearn.calibration import CalibrationDisplay\n",
    "from sklearn.inspection import PartialDependenceDisplay, permutation_importance\n",
    "from sklearn.linear_model import LogisticRegression\n",
    "from collections import Counter\n",
    "from sklearn.ensemble import RandomForestClassifier, HistGradientBoostingClassifier, GradientBoostingClassifier, ExtraTreesClassifier\n",
    "from sklearn.manifold import TSNE\n",
    "from sklearn.svm import SVC\n",
    "from lightgbm import LGBMClassifier\n",
    "from xgboost import XGBClassifier\n",
    "from catboost import CatBoostClassifier\n",
    "\n",
    "import optuna\n",
    "import xgboost as xgb"
   ]
  },
  {
   "cell_type": "markdown",
   "id": "7ce2afe7-ddad-444a-a170-c3d74c6acacc",
   "metadata": {},
   "source": [
    "# Read Dataset"
   ]
  },
  {
   "cell_type": "code",
   "execution_count": 3,
   "id": "a3bbd021-32c7-405d-ae6b-0aa39a0d91c4",
   "metadata": {},
   "outputs": [
    {
     "name": "stdout",
     "output_type": "stream",
     "text": [
      "(159256, 24) (106171, 23)\n"
     ]
    }
   ],
   "source": [
    "train_df = pd.read_csv('/Users/raekkkky/Desktop/DNA/Semester_2023_2/5주차/train.csv')\n",
    "test_df = pd.read_csv('/Users/raekkkky/Desktop/DNA/Semester_2023_2/5주차/test.csv')\n",
    "print(train_df.shape, test_df.shape)"
   ]
  },
  {
   "cell_type": "markdown",
   "id": "905f7c95-003f-4b70-916c-463448bc55e1",
   "metadata": {},
   "source": [
    "# Preprocessing"
   ]
  },
  {
   "cell_type": "code",
   "execution_count": null,
   "id": "4c77bb81-a33a-4284-b116-11562567ecd3",
   "metadata": {},
   "outputs": [],
   "source": [
    "def create_extra_features(df):\n",
    "    # order the ears\n",
    "    best = np.where(df['hearing(left)'] < df['hearing(right)'], \n",
    "                    df['hearing(left)'],  df['hearing(right)'])\n",
    "    worst = np.where(df['hearing(left)'] < df['hearing(right)'], \n",
    "                     df['hearing(right)'],  df['hearing(left)'])\n",
    "    df['hearing(left)'] = best - 1\n",
    "    df['hearing(right)'] = worst - 1\n",
    "    \n",
    "    # order the eyes - eyesight is worst to best, and 9+ should be worst!\n",
    "    df['eyesight(left)'] = np.where(df['eyesight(left)'] > 9, 0, df['eyesight(left)'])\n",
    "    df['eyesight(right)'] = np.where(df['eyesight(right)'] > 9, 0, df['eyesight(right)'])\n",
    "    best = np.where(df['eyesight(left)'] < df['eyesight(right)'], \n",
    "                    df['eyesight(left)'],  df['eyesight(right)'])\n",
    "    worst = np.where(df['eyesight(left)'] < df['eyesight(right)'], \n",
    "                     df['eyesight(right)'],  df['eyesight(left)'])\n",
    "    df['eyesight(left)'] = best\n",
    "    df['eyesight(right)'] = worst\n",
    "    ##\n",
    "    df['Gtp'] = np.clip(df['Gtp'], 0, 300)\n",
    "    df['HDL'] = np.clip(df['HDL'], 0, 110)\n",
    "    df['LDL'] = np.clip(df['LDL'], 0, 200)\n",
    "    df['ALT'] = np.clip(df['ALT'], 0, 150)\n",
    "    df['AST'] = np.clip(df['AST'], 0, 100)\n",
    "    df['serum creatinine'] = np.clip(df['serum creatinine'], 0, 3)    \n",
    "\n",
    "create_extra_features(train_df)\n",
    "create_extra_features(test_df)"
   ]
  },
  {
   "cell_type": "code",
   "execution_count": null,
   "id": "5834e492-7c19-4bbf-8065-0fa27407f3ac",
   "metadata": {},
   "outputs": [],
   "source": [
    "train_df.corr()['smoking'].sort_values()"
   ]
  },
  {
   "cell_type": "code",
   "execution_count": null,
   "id": "9c1e5b5a-235a-427a-b990-8ad84cb50b95",
   "metadata": {},
   "outputs": [],
   "source": [
    "def bmi_(BMI):\n",
    "    if BMI < 18.5: \n",
    "        return 'Underwieght'\n",
    "    elif BMI >18.5 and BMI <24.99: \n",
    "        return 'Normal'\n",
    "    elif BMI > 25 and BMI < 29.99: \n",
    "        return 'Overweight'\n",
    "    elif BMI > 30 and BMI < 34.99: \n",
    "        return 'Obese'\n",
    "    elif BMI > 35 and BMI < 39.99: \n",
    "        return 'Obese'\n",
    "    else:\n",
    "        return 'Obese'\n",
    "train_df['bmi'] = (train_df['weight(kg)']) / ((train_df['height(cm)']/100)**2) \n",
    "train_df['bmi_cate'] = train_df['bmi'].apply(bmi_)\n",
    "train_df['bmi_cate'].value_counts()\n",
    "train_df = train_df.drop('bmi',axis=1)"
   ]
  },
  {
   "cell_type": "code",
   "execution_count": null,
   "id": "ac17cd87-f902-4ce9-bde2-5274b86ca358",
   "metadata": {},
   "outputs": [],
   "source": [
    "test_df['bmi'] = (test_df['weight(kg)']) / ((test_df['height(cm)']/100)**2) \n",
    "test_df['bmi_cate'] = test_df['bmi'].apply(bmi_)\n",
    "test_df = test_df.drop('bmi',axis=1)"
   ]
  },
  {
   "cell_type": "code",
   "execution_count": null,
   "id": "7466a3c4-239d-4145-b49e-3bf53e687f12",
   "metadata": {},
   "outputs": [],
   "source": [
    "train_df = pd.get_dummies(train_df, columns=['bmi_cate'], drop_first=True)\n",
    "test_df = pd.get_dummies(test_df, columns=['bmi_cate'], drop_first=True)"
   ]
  },
  {
   "cell_type": "code",
   "execution_count": null,
   "id": "e514fb24-6769-4b75-a8ea-f22e28877e58",
   "metadata": {},
   "outputs": [],
   "source": [
    "def y_gtp(gtp):\n",
    "    if gtp>5 and gtp<40:\n",
    "        return 1\n",
    "    else:\n",
    "        return 0\n",
    "train_df['gtp_cate'] = train_df['Gtp'].apply(y_gtp)\n",
    "test_df['gtp_cate'] = test_df['Gtp'].apply(y_gtp)"
   ]
  },
  {
   "cell_type": "code",
   "execution_count": null,
   "id": "49c5e7bc-8bca-4abc-a8cd-f8961baf2450",
   "metadata": {},
   "outputs": [],
   "source": [
    "value_counts = train_df['Gtp'].value_counts().sort_index()\n",
    "plt.figure(figsize=(12, 6))\n",
    "plt.bar(value_counts.index, value_counts.values)"
   ]
  },
  {
   "cell_type": "code",
   "execution_count": null,
   "id": "29fdb088-f5b9-470c-a6a9-1ff247faae8c",
   "metadata": {},
   "outputs": [],
   "source": [
    "value_counts = train_df['AST'].value_counts().sort_index()\n",
    "plt.figure(figsize=(12, 6))\n",
    "plt.bar(value_counts.index, value_counts.values)"
   ]
  },
  {
   "cell_type": "code",
   "execution_count": null,
   "id": "6275b5a5-a405-496e-b0ae-332e9662c53c",
   "metadata": {},
   "outputs": [],
   "source": [
    "def check_ast_alt(x):\n",
    "    if x > 8 and x < 45:\n",
    "        return 1 \n",
    "    else:\n",
    "        return 0\n",
    "train_df['ast_cate'] = train_df[\"AST\"].apply(check_ast_alt)\n",
    "train_df['alt_cate'] = train_df[\"ALT\"].apply(check_ast_alt)\n",
    "\n",
    "test_df['ast_cate'] = test_df[\"AST\"].apply(check_ast_alt)\n",
    "test_df['alt_cate'] = test_df[\"ALT\"].apply(check_ast_alt)"
   ]
  },
  {
   "cell_type": "code",
   "execution_count": null,
   "id": "89366347-b8d6-420f-9d08-6787ef7de337",
   "metadata": {},
   "outputs": [],
   "source": [
    "cols = ['ast_cate','alt_cate','gtp_cate']\n",
    "train_df = pd.get_dummies(data = train_df, columns=cols, drop_first=True)\n",
    "test_df = pd.get_dummies(data = test_df, columns=cols, drop_first=True)"
   ]
  },
  {
   "cell_type": "code",
   "execution_count": null,
   "id": "9632133f-15de-4a6e-979c-393db2b70ead",
   "metadata": {},
   "outputs": [],
   "source": [
    "train_df.drop(columns = ['id', 'smoking'], axis = 1).nunique()"
   ]
  },
  {
   "cell_type": "code",
   "execution_count": null,
   "id": "29e3870d-1e02-4737-9fcd-213f44333e64",
   "metadata": {},
   "outputs": [],
   "source": [
    "cols = ['dental caries','Urine protein','hearing(left)','hearing(right)']\n",
    "train_df = pd.get_dummies(data = train_df, columns=cols, drop_first=True)\n",
    "test_df = pd.get_dummies(data = test_df, columns=cols, drop_first=True)"
   ]
  },
  {
   "cell_type": "markdown",
   "id": "49b1e755-f0a1-4bfc-a505-7dbdb3b69ce4",
   "metadata": {},
   "source": [
    "# Modeling"
   ]
  },
  {
   "cell_type": "code",
   "execution_count": null,
   "id": "51c2387e-63c9-43ef-8b1e-90eaa0b7612c",
   "metadata": {},
   "outputs": [],
   "source": [
    "from sklearn.model_selection import train_test_split\n",
    "X = train_df.drop(['id','smoking'],axis=1)\n",
    "y = train_df['smoking']\n",
    "X_train, X_test, y_train, y_test = train_test_split(X, y, test_size=0.3, random_state=42)"
   ]
  },
  {
   "cell_type": "code",
   "execution_count": null,
   "id": "f487acbd-ca50-48b3-af76-d655f8d903ef",
   "metadata": {},
   "outputs": [],
   "source": [
    "X_train_logt = np.log1p(X_train)\n",
    "X_test_logt = np.log1p(X_test)"
   ]
  },
  {
   "cell_type": "code",
   "execution_count": null,
   "id": "90729e7b-93a9-499d-8b85-23ed6ff86647",
   "metadata": {},
   "outputs": [],
   "source": [
    "params = {'learning_rate': 0.0192025093223225293453, \n",
    "            'colsample_bytree': 0.21329015151846925,\n",
    "            'colsample_bylevel': 0.6748369225084079,\n",
    "            'subsample': 0.8831564960046078,\n",
    "            'reg_alpha': 1.1496763786731952e-05, \n",
    "            'reg_lambda': 7.512814356733987e-07, \n",
    "            'max_depth': 14, \n",
    "            'n_estimators': 1500,\n",
    "            'min_child_weight': 21,\n",
    "          'tree_method': 'gpu_hist',\n",
    "          'eval_metric': 'auc',\n",
    "          'booster': 'gbtree',\n",
    "          'n_jobs': -1,\n",
    "          'verbosity': 0}\n",
    "params['tree_method'] = 'hist'  # Use CPU for training\n",
    "xgb_model = xgb.XGBClassifier(**params)\n",
    "\n",
    "xgb_model.fit(X_train_logt,y_train)\n",
    "predictions_xgb = xgb_model.predict_proba(X_test_logt)[:, 1]\n",
    "from sklearn.metrics import roc_auc_score\n",
    "roc_auc = roc_auc_score(y_test,predictions_xgb)\n",
    "roc_auc # 0.870410157711284"
   ]
  },
  {
   "cell_type": "code",
   "execution_count": null,
   "id": "913dfe47-8342-4199-9254-f86274231c35",
   "metadata": {},
   "outputs": [],
   "source": [
    "lgbm_classifier = LGBMClassifier(\n",
    "    n_estimators=2000,\n",
    "    max_depth=13,\n",
    "    subsample=0.4796,\n",
    "    num_leaves=120,\n",
    "    learning_rate=0.023512,\n",
    "    colsample_bytree=0.273534,\n",
    "    reg_alpha=1.1496763786731952e-05,\n",
    "    reg_lambda=7.512814356733987e-07,\n",
    ")\n",
    "lgbm_classifier.fit(X_train_logt,y_train)\n",
    "predictions_lgbm = lgbm_classifier.predict_proba(X_test_logt)[:, 1]\n",
    "roc_auc = roc_auc_score(y_test,predictions_lgbm)\n",
    "roc_auc"
   ]
  },
  {
   "cell_type": "code",
   "execution_count": null,
   "id": "75d82926-bd7a-472b-83c3-b49c507740bb",
   "metadata": {},
   "outputs": [],
   "source": [
    "hist_gb_classifier = HistGradientBoostingClassifier(l2_regularization = 0.065,\n",
    "                                             early_stopping = False,\n",
    "                                             learning_rate = 0.07,\n",
    "                                             max_iter = 300,\n",
    "                                             max_depth = 11,\n",
    "                                             max_bins = 255,\n",
    "                                             min_samples_leaf = 25,\n",
    "                                             max_leaf_nodes = 60)\n",
    "\n",
    "hist_gb_classifier.fit(X_train_logt,y_train)\n",
    "\n",
    "predictions_hist_gb = hist_gb_classifier.predict_proba(X_test_logt)[:, 1]\n",
    "roc_auc = roc_auc_score(y_test, predictions_hist_gb)\n",
    "roc_auc"
   ]
  },
  {
   "cell_type": "code",
   "execution_count": null,
   "id": "8f717875-bdc1-4b53-acbf-6006daca91b4",
   "metadata": {},
   "outputs": [],
   "source": [
    "ensemble_predictions = 0.45 * predictions_lgbm + 0.85 * predictions_xgb + 0.15 * predictions_hist_gb\n",
    "\n",
    "# Calculate the ROC AUC score for the ensemble\n",
    "ensemble_roc_auc = roc_auc_score(y_test, ensemble_predictions)\n",
    "\n",
    "print(\"Ensemble ROC AUC Score:\", ensemble_roc_auc)"
   ]
  },
  {
   "cell_type": "code",
   "execution_count": null,
   "id": "f47654e7-557c-4078-a355-108e4784dede",
   "metadata": {},
   "outputs": [],
   "source": [
    "test_df = test_df.drop('id',axis=1)"
   ]
  },
  {
   "cell_type": "code",
   "execution_count": null,
   "id": "c385258b-8be9-439a-9d00-7f6020f0db06",
   "metadata": {},
   "outputs": [],
   "source": [
    "print('The shape of training', train_df.shape) \n",
    "print('The shape of testing', test_df.shape)"
   ]
  },
  {
   "cell_type": "code",
   "execution_count": null,
   "id": "cebf78ed-3cd9-486b-9b92-c911d885e14f",
   "metadata": {},
   "outputs": [],
   "source": [
    "X_ = train_df.drop(['id','smoking'],axis=1) \n",
    "y_to_train = train_df['smoking']\n",
    "\n",
    "#LogT:\n",
    "X_to_train = np.log1p(X_)\n",
    "X_to_test = np.log1p(test_df)"
   ]
  },
  {
   "cell_type": "code",
   "execution_count": null,
   "id": "847ca562-6c75-409b-b5d2-a6102701c283",
   "metadata": {},
   "outputs": [],
   "source": [
    "print('The shape of training', X_to_train.shape) \n",
    "print('The shape of testing', X_to_test.shape)"
   ]
  },
  {
   "cell_type": "code",
   "execution_count": null,
   "id": "f0a7087d-fe2d-4015-ab90-ac99d7e8532c",
   "metadata": {},
   "outputs": [],
   "source": [
    "def all_model(X_train_all_scaled,y_all,X_test_all_scaled):\n",
    "    \n",
    "    lgbm_classifier.fit(X_train_all_scaled,y_all)\n",
    "    predictions_lgbm = lgbm_classifier.predict_proba(X_test_all_scaled)[:, 1]\n",
    "    \n",
    "    xgb_model.fit(X_train_all_scaled,y_all)\n",
    "    predictions_xgb = xgb_model.predict_proba(X_test_all_scaled)[:, 1]\n",
    "    \n",
    "    hist_gb_classifier.fit(X_train_all_scaled,y_all)\n",
    "    predictions_hist = hist_gb_classifier.predict_proba(X_test_all_scaled)[:, 1]\n",
    "    \n",
    "    ensemble_predictions = 0.45 * predictions_lgbm + 0.85 * predictions_xgb + 0.15 * predictions_hist \n",
    "    return ensemble_predictions"
   ]
  },
  {
   "cell_type": "code",
   "execution_count": null,
   "id": "c7324bd1-0d80-4600-ad68-02a67ff499de",
   "metadata": {},
   "outputs": [],
   "source": [
    "# CALLING THE ABOVE FUNCTION :\n",
    "predictions_ = all_model(X_to_train, y_to_train, X_to_test)"
   ]
  },
  {
   "cell_type": "code",
   "execution_count": null,
   "id": "b68dc71d-af19-400f-ab0a-0df1e11c7b54",
   "metadata": {},
   "outputs": [],
   "source": [
    "len(predictions_)"
   ]
  },
  {
   "cell_type": "code",
   "execution_count": null,
   "id": "17d57338-3029-4122-947b-173aa42183b9",
   "metadata": {},
   "outputs": [],
   "source": [
    "predictions = pd.DataFrame(predictions_)\n",
    "submission = pd.read_csv('/Users/raekkkky/Desktop/DNA/Semester_2023_2/5주차/sample_submission.csv')\n",
    "combined_df_ann = pd.concat([submission, predictions], axis=1)\n",
    "combined_df_ann = combined_df_ann.drop('smoking',axis=1)\n",
    "combined_df_ann.columns=['id','smoking']\n",
    "combined_df_ann.to_csv('/Users/raekkkky/Desktop/DNA/Semester_2023_2/7주차/sample_submission(1).csv',index=False)"
   ]
  },
  {
   "cell_type": "code",
   "execution_count": null,
   "id": "17f4b1a2-a874-4ac6-9595-c471105e027b",
   "metadata": {},
   "outputs": [],
   "source": [
    "combined_df_ann"
   ]
  }
 ],
 "metadata": {
  "kernelspec": {
   "display_name": "Python 3 (ipykernel)",
   "language": "python",
   "name": "python3"
  },
  "language_info": {
   "codemirror_mode": {
    "name": "ipython",
    "version": 3
   },
   "file_extension": ".py",
   "mimetype": "text/x-python",
   "name": "python",
   "nbconvert_exporter": "python",
   "pygments_lexer": "ipython3",
   "version": "3.11.6"
  }
 },
 "nbformat": 4,
 "nbformat_minor": 5
}
