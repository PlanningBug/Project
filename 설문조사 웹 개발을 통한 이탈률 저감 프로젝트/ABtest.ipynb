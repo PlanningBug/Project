{
 "cells": [
  {
   "cell_type": "code",
   "execution_count": 3,
   "id": "a8d6b7c1-169f-494a-9877-af9e15d292f6",
   "metadata": {},
   "outputs": [
    {
     "name": "stdout",
     "output_type": "stream",
     "text": [
      "원본 데이터 결과:\n",
      "카이제곱 통계량: 0.3202\n",
      "p-value: 0.5715\n",
      "\n",
      "7배 증가된 데이터 결과:\n",
      "카이제곱 통계량: 3.9074\n",
      "p-value: 0.0481\n"
     ]
    }
   ],
   "source": [
    "import scipy.stats as stats\n",
    "\n",
    "# 원본 데이터\n",
    "succ_a = 43  # 대조그룹 A에서 시작 버튼을 클릭한 사람 수\n",
    "tot_a = 63   # 대조그룹 A의 시작 페이지 view 수\n",
    "fail_a = tot_a - succ_a  # 대조그룹 A에서 클릭하지 않은 사람 수\n",
    "\n",
    "succ_b = 36  # 실험그룹 B에서 시작 버튼을 클릭한 사람 수\n",
    "tot_b = 48   # 실험그룹 B의 시작 페이지 view 수\n",
    "fail_b = tot_b - succ_b  # 실험그룹 B에서 클릭하지 않은 사람 수\n",
    "\n",
    "# 7배로 증가시킨 데이터\n",
    "succ_a_7x = succ_a * 7\n",
    "tot_a_7x = tot_a * 7\n",
    "fail_a_7x = tot_a_7x - succ_a_7x\n",
    "\n",
    "succ_b_7x = succ_b * 7\n",
    "tot_b_7x = tot_b * 7\n",
    "fail_b_7x = tot_b_7x - succ_b_7x\n",
    "\n",
    "# 원본 데이터로 카이제곱 검정\n",
    "table_orig = [[succ_a, fail_a], [succ_b, fail_b]]\n",
    "chi2_orig, p_val_orig, _, _ = stats.chi2_contingency(table_orig)\n",
    "\n",
    "# 7배 증가된 데이터로 카이제곱 검정\n",
    "table_7x = [[succ_a_7x, fail_a_7x], [succ_b_7x, fail_b_7x]]\n",
    "chi2_7x, p_val_7x, _, _ = stats.chi2_contingency(table_7x)\n",
    "\n",
    "# 결과 출력\n",
    "print(\"원본 데이터 결과:\")\n",
    "print(f\"카이제곱 통계량: {chi2_orig:.4f}\")\n",
    "print(f\"p-value: {p_val_orig:.4f}\\n\")\n",
    "\n",
    "print(\"7배 증가된 데이터 결과:\")\n",
    "print(f\"카이제곱 통계량: {chi2_7x:.4f}\")\n",
    "print(f\"p-value: {p_val_7x:.4f}\")"
   ]
  },
  {
   "cell_type": "code",
   "execution_count": null,
   "id": "533e3dd1-b5aa-4ea7-b69a-abe70667f270",
   "metadata": {},
   "outputs": [],
   "source": []
  },
  {
   "cell_type": "code",
   "execution_count": null,
   "id": "16079bf4-1b0b-422d-b266-a6de21452cc0",
   "metadata": {},
   "outputs": [],
   "source": []
  }
 ],
 "metadata": {
  "kernelspec": {
   "display_name": "Python 3 (ipykernel)",
   "language": "python",
   "name": "python3"
  },
  "language_info": {
   "codemirror_mode": {
    "name": "ipython",
    "version": 3
   },
   "file_extension": ".py",
   "mimetype": "text/x-python",
   "name": "python",
   "nbconvert_exporter": "python",
   "pygments_lexer": "ipython3",
   "version": "3.11.9"
  }
 },
 "nbformat": 4,
 "nbformat_minor": 5
}
