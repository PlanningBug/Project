{
 "cells": [
  {
   "cell_type": "markdown",
   "id": "ffcf464d-a7ba-4dcc-a54b-93947ada81d2",
   "metadata": {},
   "source": [
    "# 잔존율 / 이탈률 (BIGQUERY)"
   ]
  },
  {
   "cell_type": "code",
   "execution_count": null,
   "id": "73d6cc52-b137-4507-be21-4f3a3f312bb4",
   "metadata": {},
   "outputs": [],
   "source": [
    "with data_1st as (\n",
    "    SELECT event_name, count(*) as event_count \n",
    "  FROM `second-hand-test.analytics_440602171.events_*`\n",
    "  where event_date between '20240518' and '20240520'\n",
    "  group by event_name\n",
    "  order by event_name\n",
    ")\n",
    "\n",
    "SELECT\n",
    "    event_name,\n",
    "    event_count,\n",
    "    ((LAG(event_count,1) OVER (ORDER BY event_count DESC, event_name ASC)-event_count)/LAG(event_count,1) OVER (ORDER BY event_count DESC, event_name ASC)) as bounce_rate,\n",
    "    event_count/FIRST_VALUE(event_count) OVER (ORDER BY event_count DESC, event_name ASC) as retention_rate\n",
    "from data_1st\n",
    "where event_name LIKE '%Enter%' OR event_name LIKE 'page_view'\n",
    "order by event_count desc, event_name asc"
   ]
  },
  {
   "cell_type": "markdown",
   "id": "fcd0ee7a-67f5-4da8-80c9-fcac47f0346c",
   "metadata": {},
   "source": [
    "# 퍼널 전환율/이탈률 (BIGQUERY)"
   ]
  },
  {
   "cell_type": "code",
   "execution_count": null,
   "id": "a6e3d5de-7bc1-49c2-a825-91750c05b24a",
   "metadata": {},
   "outputs": [],
   "source": [
    "# -> `a_impression: 노출 (page_view)`\n",
    "# -> `b_lead: 유입 (시작버튼 누른 사용자)`\n",
    "# -> `c_engagement: 응답 (Q8까지 도달한 사용자)`\n",
    "# -> `d_reach: 공유 (결과페이지까지 본 사용자)`"
   ]
  },
  {
   "cell_type": "code",
   "execution_count": null,
   "id": "2ccd9bd4-9b99-4de7-84bd-179dca2d2a1e",
   "metadata": {},
   "outputs": [],
   "source": [
    "WITH event_counts AS (\n",
    "    SELECT \n",
    "        count(distinct case when event_name = \"page_view\" then user_pseudo_id END) as impression,\n",
    "        count(distinct case when event_name = \"Enter_Q1\" then user_pseudo_id END) as lead_,\n",
    "        count(distinct case when event_name LIKE \"q7_a%\" then user_pseudo_id END) as engagement,\n",
    "        count(distinct case when event_name = \"Enter_ResultPage\" then user_pseudo_id END) as reach\n",
    "    FROM `second-hand-test.analytics_440602171.events_*`\n",
    "    WHERE event_date BETWEEN '20240518' AND '20240520'\n",
    "), funnel_data as (\n",
    "  SELECT 'a_impression' as event_name, impression as event_count FROM event_counts\n",
    "  UNION ALL\n",
    "  SELECT 'b_lead', lead_ FROM event_counts\n",
    "  UNION ALL\n",
    "  SELECT 'c_engagement', engagement FROM event_counts\n",
    "  UNION ALL\n",
    "  SELECT 'd_reach', reach FROM event_counts\n",
    ")\n",
    "\n",
    "SELECT \n",
    "  event_name,\n",
    "  event_count,\n",
    "  ROUND((event_count / LAG(event_count) OVER (ORDER BY event_name)) * 100, 2) AS conversion_rate,\n",
    "  100 - ROUND((event_count / LAG(event_count) OVER (ORDER BY event_name)) * 100, 2) AS churn_rate\n",
    "FROM funnel_data\n",
    "ORDER BY event_name"
   ]
  },
  {
   "cell_type": "markdown",
   "id": "bfe6a266-37b0-4cc4-ba5d-e4a2b24a3efe",
   "metadata": {},
   "source": [
    "# 퍼널 분석 차트 (Python)"
   ]
  },
  {
   "cell_type": "code",
   "execution_count": null,
   "id": "af9c0213-355c-4c54-9acd-ad55ea62c0fd",
   "metadata": {},
   "outputs": [],
   "source": [
    "json_data = [\n",
    "    {\"event_name\": \"a_impression\", \"event_count\": 55},\n",
    "    {\"event_name\": \"b_lead\", \"event_count\": 46},\n",
    "    {\"event_name\": \"c_engagement\", \"event_count\": 32},\n",
    "    {\"event_name\": \"d_reach\", \"event_count\": 27}\n",
    "]\n",
    "\n",
    "df = pd.DataFrame(json_data)\n",
    "\n",
    "fig = px.funnel(df, y='event_name', x='event_count')\n",
    "fig.show()"
   ]
  },
  {
   "cell_type": "markdown",
   "id": "563e2638-07cb-4c0b-901f-c90dfd4abcd7",
   "metadata": {},
   "source": [
    "# AB test"
   ]
  },
  {
   "cell_type": "code",
   "execution_count": 3,
   "id": "a8d6b7c1-169f-494a-9877-af9e15d292f6",
   "metadata": {},
   "outputs": [
    {
     "name": "stdout",
     "output_type": "stream",
     "text": [
      "원본 데이터 결과:\n",
      "카이제곱 통계량: 0.3202\n",
      "p-value: 0.5715\n",
      "\n",
      "7배 증가된 데이터 결과:\n",
      "카이제곱 통계량: 3.9074\n",
      "p-value: 0.0481\n"
     ]
    }
   ],
   "source": [
    "import scipy.stats as stats\n",
    "\n",
    "# 원본 데이터\n",
    "succ_a = 43  # 대조그룹 A에서 시작 버튼을 클릭한 사람 수\n",
    "tot_a = 63   # 대조그룹 A의 시작 페이지 view 수\n",
    "fail_a = tot_a - succ_a  # 대조그룹 A에서 클릭하지 않은 사람 수\n",
    "\n",
    "succ_b = 36  # 실험그룹 B에서 시작 버튼을 클릭한 사람 수\n",
    "tot_b = 48   # 실험그룹 B의 시작 페이지 view 수\n",
    "fail_b = tot_b - succ_b  # 실험그룹 B에서 클릭하지 않은 사람 수\n",
    "\n",
    "# 7배로 증가시킨 데이터\n",
    "succ_a_7x = succ_a * 7\n",
    "tot_a_7x = tot_a * 7\n",
    "fail_a_7x = tot_a_7x - succ_a_7x\n",
    "\n",
    "succ_b_7x = succ_b * 7\n",
    "tot_b_7x = tot_b * 7\n",
    "fail_b_7x = tot_b_7x - succ_b_7x\n",
    "\n",
    "# 원본 데이터로 카이제곱 검정\n",
    "table_orig = [[succ_a, fail_a], [succ_b, fail_b]]\n",
    "chi2_orig, p_val_orig, _, _ = stats.chi2_contingency(table_orig)\n",
    "\n",
    "# 7배 증가된 데이터로 카이제곱 검정\n",
    "table_7x = [[succ_a_7x, fail_a_7x], [succ_b_7x, fail_b_7x]]\n",
    "chi2_7x, p_val_7x, _, _ = stats.chi2_contingency(table_7x)\n",
    "\n",
    "# 결과 출력\n",
    "print(\"원본 데이터 결과:\")\n",
    "print(f\"카이제곱 통계량: {chi2_orig:.4f}\")\n",
    "print(f\"p-value: {p_val_orig:.4f}\\n\")\n",
    "\n",
    "print(\"7배 증가된 데이터 결과:\")\n",
    "print(f\"카이제곱 통계량: {chi2_7x:.4f}\")\n",
    "print(f\"p-value: {p_val_7x:.4f}\")"
   ]
  },
  {
   "cell_type": "code",
   "execution_count": null,
   "id": "16079bf4-1b0b-422d-b266-a6de21452cc0",
   "metadata": {},
   "outputs": [],
   "source": []
  }
 ],
 "metadata": {
  "kernelspec": {
   "display_name": "Python 3 (ipykernel)",
   "language": "python",
   "name": "python3"
  },
  "language_info": {
   "codemirror_mode": {
    "name": "ipython",
    "version": 3
   },
   "file_extension": ".py",
   "mimetype": "text/x-python",
   "name": "python",
   "nbconvert_exporter": "python",
   "pygments_lexer": "ipython3",
   "version": "3.11.9"
  }
 },
 "nbformat": 4,
 "nbformat_minor": 5
}
