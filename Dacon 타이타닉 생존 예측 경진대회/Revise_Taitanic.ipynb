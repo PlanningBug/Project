{
 "cells": [
  {
   "cell_type": "markdown",
   "id": "51d12050-1b70-4d11-966b-a3c12d460639",
   "metadata": {
    "jp-MarkdownHeadingCollapsed": true,
    "tags": []
   },
   "source": [
    "# <span style=\"color:Blue\">공부</span> : 노트장"
   ]
  },
  {
   "cell_type": "markdown",
   "id": "926bcc77-8524-4145-8b78-a05c763a5560",
   "metadata": {
    "jp-MarkdownHeadingCollapsed": true,
    "tags": []
   },
   "source": [
    "### 타이타닉 EDA 진행\n",
    "###### [1차 작업] 23.04.01 [2차 작업] 23.04.02 [3차 작업] 23.04.08\n",
    "#### EDA(Exploratory Data Analysis, 탐색적 데이터 분석)란?\n",
    "#### -> 수집한 데이터가 들어왔을 때, 이를 다양한 각도에서 관찰하고 이해하는 과정\n",
    "- 데이터를 분석하고 결과를 내는 과정에 있어서 <span style=\"color:red\">지속적으로</span> 해당 데이터에 대한 ‘탐색과 이해’를 기본으로 가져야 한다는 것을 의미\n",
    "######\n",
    "###### EDA를 해야하는 이유\n",
    "###### (1) 데이터의 분포 및 값을 검토함으로써 \"데이터가 표현하는 현상\"을 더 잘 이해하고 데이터에 대한 \"잠재적인 문제\"를 발견\n",
    "###### (2) 다양한 각도에서 살펴보는 과정을 통해 문제 정의 단계에서 미쳐 발생하지 못했을 \"다양한 패턴\"을 발견\n",
    "###### (3) 이를 바탕으로 기존의 가설을 수정하거나 새로운 가설을 세울 수 있습니다.\n",
    "######\n",
    "### EDA가 왜 어려울까?\n",
    "- 누구에게나 인지편향(cognitive bias)가 있기 때문\n",
    "- 분석을 하는 사람의 경험에 의한 비논리적 추론으로 잘못된 데이터를 필터링한다던지 속성값을 지운다던지 하는 이유로 잘못된 판단을 할 수 있음\n",
    "- 우리는 무의식적으로 다른 사람들의 이야기를 비롯한 외부의 정보를 접할 때, 스스로의 경험으로 판단을 먼저 내리는 경향이 있음\n",
    "- 이는 잘못된 것이라기 보다는 기존에 경험했던 것으로 먼저 판단을 내리게 하여 에너지를 효율적으로 관리하기 때문에 생기는 편향(bias)임\n",
    "- 빠르게 변화하고 그 변화하는 정보들에 대해서 유연하게 대처하는 능력이 중요해지는 시대에는 인지적 편향을 조금 내려놓기!!\n",
    "- 대신, 다른 사람들의 이야기와 정보(데이터)에 대해 있는 그대로 이해할 수 있는 능력이 필요함\n",
    "\n",
    "### 참고문헌\n",
    "- https://brownbears.tistory.com/633\n",
    "- https://jalynne-kim.medium.com/데이터분석-기초-eda의-개념과-데이터분석-잘-하는-법-a3cac2cc5ebc\n",
    "- Dacon의 코드공유 참고 https://dacon.io/competitions/open/235539/codeshare\n",
    "- https://www.kaggle.com/code/subinium/kakr-eda/notebook\n",
    "- 적극 추천 게시글 https://www.kangtaeho.com/89\n",
    "- 자료 형태 종류 https://horae.tistory.com/entry/범주형수치형이상형연속형명목형순서형-정리\n",
    "- 이거 좋음 https://oziguyo.tistory.com/10\n",
    "- \n",
    "- \n",
    "---"
   ]
  },
  {
   "cell_type": "markdown",
   "id": "7f111a89-38b1-4da0-ac76-4cfef164e11e",
   "metadata": {
    "tags": []
   },
   "source": [
    "#### <span style=\"color:red\">[스스로에게 질문하기!]</span> \" raw data(미가공된 데이터)에 대한 이해하기 \"\n",
    "######\n",
    "- train.csv는 무엇이고 어떻게 쓰이는가?\n",
    "###### ans. 훈련 데이터이며, 분석 모델(?)을 만드는 실험용 데이터 셋이라고 생각합니다.\n",
    "- test.csv는 무엇이고 어떻게 쓰이는가?\n",
    "###### ans. 검정 데이터이며, 훈련 데이터로 만든 모델에 적용시켜 결과를 만들게 하는 데이터 셋이라고 생각합니다.\n",
    "- submisson.csv는 무엇이고 어떻게 쓰이는가?\n",
    "###### ans. 결과 데이터 셋이며, 훈련 데이터로 만든 모델에 테스트 데이터를 적용하여 도출된 결과와 비교할 수 있는 데이터 셋이라고 생각합니다.\n",
    "- 우리가 이 데이터 분석을 왜 하려는가? [개인적인 목표]\n",
    "###### ans. 파이썬을 활용한 \"데이터 분석\"을 가장 기초적인 개념부터 활용까지 경험해보기에 Dacon \"타이타닉\" 프젝이 가장 알맞음.\n",
    "###### ans. 다른 데이터를 가지고 \"EDA\", \"데이터 전처리\", \"모델링\" 등 데이터 분석을 직접 구현할 수 있는 능력을 습득하기!\n",
    "- 이 데이터 분석의 최종 목표는 무엇인가?\n",
    "###### ans. 어떤 승객이 어떤 조건에서 어떻게 살아 남는 확율[생존율]을 가질 수 있는지를 분석해본다.\n",
    "---"
   ]
  },
  {
   "cell_type": "markdown",
   "id": "ffaef4d2-8b55-4c1e-b8b0-315e6bf1258c",
   "metadata": {
    "jp-MarkdownHeadingCollapsed": true,
    "tags": []
   },
   "source": [
    "#### <span style=\"color:red\">[결측값 처리]</span> \"결측치 처리 및 데이터\"\n",
    "######\n",
    "- 결측치(missing value) : 값이 없는 데이터로 null, NaN, N/A 등으로 표시\n",
    "- 데이터에 \"이상치\"가 있으면 이상치가 왜 발생했는지 의미를 파악하는 것이 중요함! [의미가 없다면 우선 PASS!]\n",
    "- 가장 중요 : 어떻게 대처해야 할지(제거, 대체, 유지 등)를 판단해야 함!\n",
    "###### ex. 데이터의 타입이 integer인데 string이나 object 형태라면 사용할 수 없어서 필터링으로 제거 혹은 변형 필요!\n",
    "###### ㄴ 수치형 데이터인데 범주형으로 되어 있다면 데이터 타입이 ‘object’로 뜸! 수치형으로 변환해줘야 한다. (ex. astype 활용)\n",
    "###### \n",
    "- 이상값을 찾는 방법\n",
    "###### (1) 개별 데이터 관찰\n",
    "###### (2) 통계 값 활용 (summary statistics)\n",
    "###### (3) 시각화 활용[확률밀도 함수, 히스토그램, 점 플롯(dotplot), 워드 클라우드, 시계열 차트, 지도 등]\n",
    "###### ㄴ 데이터를 기반으로 그래프를 그릴 때, 해당 그래프를 통해 어떤 의미를 얻어야 하는지 염두하면서 그려야 함!\n",
    "###### ㄴ 데이터 분석을 통해 말하고자 하는 바를 제대로 전달할 수 있는 기술이 데이터분석가로서 가장 잘 갖춰야 하는 기술이라고 생각함!\n",
    "###### (4) 알고리즘 활용 - 대표적인 알고리즘으로 K-means를 통해 이상치를 확인 할 수 있습니다.\n",
    "---"
   ]
  },
  {
   "cell_type": "markdown",
   "id": "a834eb74-54a7-45d5-b770-13a9b60e00f3",
   "metadata": {
    "tags": []
   },
   "source": [
    "# <span style=\"color:Blue\">실습1</span> : EDA 4단계로 진행하기"
   ]
  },
  {
   "cell_type": "markdown",
   "id": "ea827a35-3b63-4929-b8d6-3f83e33b9587",
   "metadata": {
    "jp-MarkdownHeadingCollapsed": true,
    "tags": []
   },
   "source": [
    "## <span style=\"color:red\">[0]</span> 데이터 파악하기 1"
   ]
  },
  {
   "cell_type": "markdown",
   "id": "4e4fb8eb-8d37-49e9-932b-1e937ecfef55",
   "metadata": {
    "tags": []
   },
   "source": [
    "### 1. train.csv / test.csv : 타이타닉 탑승자들 중 일부의 인적 정보와 생존 여부 데이터\n",
    "### 2. sample_submission.csv : 정답 파일의 예시\n",
    "- PassengerID : 탑승객 고유 아이디 <span style=\"color:red\">[범주형 - 명목형]</span> (0~891)\n",
    "- Survival : 탑승객 생존 유무 <span style=\"color:red\">[범주형 - 명목형]</span> (0: 사망, 1: 생존)\n",
    "- Pclass : 등실의 등급 <span style=\"color:red\">[범주형 - 명목형]</span> (1, 2, 3)\n",
    "- Name : 이름 <span style=\"color:red\">[범주형 - 명목형]</span> (영문으로 다량)\n",
    "- Sex : 성별 <span style=\"color:red\">[범주형 - 명목형]</span> (female, male)\n",
    "- Age : 나이 <span style=\"color:red\">[수치형 - 연속형]</span> (number)\n",
    "- Sibsp : 함께 탐승한 형제자매, 아내, 남편의 수 <span style=\"color:red\">[수치형 - 이산형]</span> (number)\n",
    "- Parch : 함께 탐승한 부모, 자식의 수 <span style=\"color:red\">[수치형 - 이산형]</span> (number)\n",
    "- Ticket :티켓 번호 <span style=\"color:red\">[범주형 - 명목형]</span> (이해 불가)\n",
    "- Fare : 티켓의 요금 <span style=\"color:red\">[수치형 - 연속형]</span> (number)\n",
    "- Cabin : 객실번호 <span style=\"color:red\">[범주형 - 명목형]</span> (이해 불가)\n",
    "- Embarked : 배에 탑승한 항구 이름 <span style=\"color:red\">[범주형 - 명목형]</span> ( C = Cherbourn, Q = Queenstown, S = Southampton) \n",
    "---\n",
    "##### [표1] 자료 형태 파악하기\n",
    "|분류|데이터|설명|예시|\n",
    "|:---:|:---:|:---:|:---:|\n",
    "|범주형|명목형|숫자로 표시할 수 없으나, 편의상 숫자화.|남자-0, 여자-1|\n",
    "|범주형|순서형|숫자로  표시할 수 없으나, 편의상 숫자화. (순위 개념)|소득분위 10분위 > 9 분위 > 8 분위|\n",
    "|수치형|연속형|데이터가 연속량으로서 셀 수 있는 형태|키 - 166.1cm|\n",
    "|수치형|이산형|데이터가 비연 속량으로서 셀 수 있는 형태|자식 수 5명|\n",
    "##### [표2] 데이터 조합 별 통계 및 시각화 방법\n",
    "|데이터 조합|요약통계|시각화|\n",
    "|:---:|:---:|:---:|\n",
    "|범주형 - 범주형|교차 테이블|모자이크 플롯|\n",
    "|범주형 - 수치형|카테고리별 통계 값|박스 플롯|\n",
    "|수치형 - 수치형|상관계수|산점도|\n",
    "---"
   ]
  },
  {
   "cell_type": "markdown",
   "id": "9bd32c21-ca5f-4322-bfe5-c5b621e8dc80",
   "metadata": {
    "jp-MarkdownHeadingCollapsed": true,
    "tags": []
   },
   "source": [
    "## <span style=\"color:red\">[1]</span> 라이브러리 불러오기 및 데이터 가져오기"
   ]
  },
  {
   "cell_type": "markdown",
   "id": "329ada7f-edc7-45b7-82e6-37392cd246f2",
   "metadata": {
    "tags": []
   },
   "source": [
    "#### 참고로 각 라이브러리 불러오기 전, 설치를 해줘야 함 [pip 명령어로 다운해줌]\n",
    "- pip install pandas, numpy, -U scikit-learn 등\n",
    "- 데이터를 불러올 경로를 지정해줘도 됨! -> %cd \"/Users/raekkkky/Desktop/DNA/Project1\"\n",
    "- 현재 경로를 얻는 함수 [import os] [print(os.getcwd())]"
   ]
  },
  {
   "cell_type": "code",
   "execution_count": 1,
   "id": "c09ffc07-ee43-499b-b279-43dcff9d3d59",
   "metadata": {
    "tags": []
   },
   "outputs": [],
   "source": [
    "# 데이터 분석 라이브러리\n",
    "import numpy as np # Numpy는 \"과학 계산 및 수학 계산\"에 쓰이는 라이브러리[모듈] '데분정 - p28'\n",
    "import pandas as pd # Pandas는 \"데이터 처리 및 분석\"\n",
    "\n",
    "# 시각화 라이브러리\n",
    "import matplotlib as mpl\n",
    "import matplotlib.pyplot as plt\n",
    "import seaborn as sns\n",
    "\n",
    "# 혹은 아래와 같이 함수를 선언하면 경고 안뜸!\n",
    "plt.style.use('fivethirtyeight')\n",
    "import warnings\n",
    "warnings.filterwarnings('ignore')\n",
    "%matplotlib inline\n",
    "# 오류가 아닌 '경고'가 뜬다면, \"numeric_only = True\" 넣어주기!"
   ]
  },
  {
   "cell_type": "code",
   "execution_count": 2,
   "id": "4bab2a06-8c50-45ef-96c2-86a0ac0f95ef",
   "metadata": {},
   "outputs": [],
   "source": [
    "# csv파일로 제공되는 정형데이터는 pd.read_csv()로 읽어옵니다.\n",
    "train = pd.read_csv('/Users/raekkkky/Desktop/DNA/Semester_2023_1/Project1/train.csv')\n",
    "test = pd.read_csv('/Users/raekkkky/Desktop/DNA/Semester_2023_1/Project1/test.csv')\n",
    "submisson = pd.read_csv('/Users/raekkkky/Desktop/DNA/Semester_2023_1/Project1/submission.csv')\n",
    "# 파일 경로 얻는 꿀탑 : MAC기준 option누른 상태로 객체 클릭 \"경로 복사\""
   ]
  },
  {
   "cell_type": "code",
   "execution_count": null,
   "id": "79db96c5-9c59-4e17-8944-9c836dec9764",
   "metadata": {
    "tags": []
   },
   "outputs": [],
   "source": [
    "test.describe()"
   ]
  },
  {
   "cell_type": "markdown",
   "id": "4e9c10bf-02a0-4215-8ce2-f2f8d75ab690",
   "metadata": {
    "jp-MarkdownHeadingCollapsed": true,
    "tags": []
   },
   "source": [
    "## <span style=\"color:red\">[2]</span> 데이터 파악하기 2"
   ]
  },
  {
   "cell_type": "markdown",
   "id": "311ba384-0e51-44ca-9f0c-3aa0ec847066",
   "metadata": {
    "tags": []
   },
   "source": [
    "#### 간단히 데이터의 형태를 살펴보는 방법\n",
    "- head() : 상위 5개, 괄호 안에 숫자로 개수 변경 가능\n",
    "- tail() : 하위 5개, 괄호 안에 숫자로 개수 변경 가능\n",
    "- sample() : 랜덤 5개, 괄호 안에 숫자로 개수 변경 가능\n",
    "- info() : 각 feature 데이터의 null과 type을 확인할 수 있습니다.\n",
    "#### object는 수치형이 아닌 자료형으로 이해하시면 되고 대부분 string입니다.\n",
    "#### 후에 object인 feature는 대부분의 사용할 수 없으니 전처리 과정이 필요합니다.\n",
    "- describe() : 수치형 데이터의 아래 통계값을 추출할 수 있습니다.\n",
    "- isnull().sum() : 결측값 확인하기"
   ]
  },
  {
   "cell_type": "code",
   "execution_count": null,
   "id": "ea70cbcc-c46d-4b10-89d8-587250652322",
   "metadata": {
    "tags": []
   },
   "outputs": [],
   "source": [
    "train"
   ]
  },
  {
   "cell_type": "code",
   "execution_count": null,
   "id": "bf4d40cb-0e25-47fd-a283-943656e6ec0f",
   "metadata": {
    "tags": []
   },
   "outputs": [],
   "source": [
    "test"
   ]
  },
  {
   "cell_type": "code",
   "execution_count": null,
   "id": "7114d11d-73b8-4510-8afc-6253388f2f88",
   "metadata": {
    "tags": []
   },
   "outputs": [],
   "source": [
    "train.head()"
   ]
  },
  {
   "cell_type": "code",
   "execution_count": null,
   "id": "856169b0-39d4-45e4-b188-a87d63761497",
   "metadata": {
    "tags": []
   },
   "outputs": [],
   "source": [
    "test.head()"
   ]
  },
  {
   "cell_type": "code",
   "execution_count": null,
   "id": "31bb7058-6874-46ed-a506-aaa98f778f27",
   "metadata": {
    "tags": []
   },
   "outputs": [],
   "source": [
    "print(train.shape, test.shape);\n",
    "print('train:'+str(len(train))+'행','test:'+str(len(test))+'행');"
   ]
  },
  {
   "cell_type": "code",
   "execution_count": 3,
   "id": "19c253d3-d819-484b-a98b-4927a231e2e2",
   "metadata": {
    "tags": []
   },
   "outputs": [
    {
     "data": {
      "text/plain": [
       "PassengerId      0\n",
       "Survived         0\n",
       "Pclass           0\n",
       "Name             0\n",
       "Sex              0\n",
       "Age            177\n",
       "SibSp            0\n",
       "Parch            0\n",
       "Ticket           0\n",
       "Fare             0\n",
       "Cabin          687\n",
       "Embarked         2\n",
       "dtype: int64"
      ]
     },
     "execution_count": 3,
     "metadata": {},
     "output_type": "execute_result"
    }
   ],
   "source": [
    "# train 데이터 결측값 확인하기\n",
    "train.isnull().sum()"
   ]
  },
  {
   "cell_type": "code",
   "execution_count": 4,
   "id": "a317d857-6f45-4977-ba1d-0bd732583a0e",
   "metadata": {
    "tags": []
   },
   "outputs": [
    {
     "data": {
      "text/plain": [
       "PassengerId      0\n",
       "Pclass           0\n",
       "Name             0\n",
       "Sex              0\n",
       "Age             86\n",
       "SibSp            0\n",
       "Parch            0\n",
       "Ticket           0\n",
       "Fare             1\n",
       "Cabin          327\n",
       "Embarked         0\n",
       "dtype: int64"
      ]
     },
     "execution_count": 4,
     "metadata": {},
     "output_type": "execute_result"
    }
   ],
   "source": [
    "# test 데이터 결측값 확인하기\n",
    "test.isnull().sum()"
   ]
  },
  {
   "cell_type": "code",
   "execution_count": null,
   "id": "49491775-bdd3-4f78-8110-11bff0873e12",
   "metadata": {
    "tags": []
   },
   "outputs": [],
   "source": [
    "# train 데이터 결측값 및 DataType 확인하기\n",
    "train.info()"
   ]
  },
  {
   "cell_type": "code",
   "execution_count": null,
   "id": "df946972-d567-4ce3-98e2-7c4675ccb2f8",
   "metadata": {
    "tags": []
   },
   "outputs": [],
   "source": [
    "# test 데이터 결측값 및 DataType 확인하기\n",
    "test.info()"
   ]
  },
  {
   "cell_type": "code",
   "execution_count": null,
   "id": "15baf43c-08f3-4a5e-a73f-6cf38e2b01c0",
   "metadata": {
    "tags": []
   },
   "outputs": [],
   "source": [
    "# Embarked의 빈도가 가장 많은 것을 찾기 [후에, 결측값 처리에 사용될 예정]\n",
    "train['Embarked'].value_counts()"
   ]
  },
  {
   "cell_type": "markdown",
   "id": "92478d9a-6265-4a94-a0cd-25ae352a5d98",
   "metadata": {},
   "source": [
    "### 총 정리\n",
    "1. [결측값] train은 Age177개, Cabin687개, Embarked 2개\n",
    "2. [결측값] test는 Age86개, Cabin327개, Fare 1개\n",
    "3. Name의 경우 정해진 형식이 없이 누구는 괄호가 있고, 누구는 \"\"이 있는 것을 확인 \n",
    "4. Sex의 경우 문자형태로 데이터가 제공되어서 Encoding이 필요 [즉, 이산형으로 변환]\n",
    "5. Ticket의 경우 숫자로만 이루어진 값과 알파벳이 섞임 (특별한 의미가 있는지 확인 필요)"
   ]
  },
  {
   "cell_type": "markdown",
   "id": "7a5396b3-1643-4021-bbbe-5c6f801d5546",
   "metadata": {
    "jp-MarkdownHeadingCollapsed": true,
    "tags": []
   },
   "source": [
    "## <span style=\"color:red\">[3]</span> 데이터 시각화하기\n",
    "###### <span style=\"color:green\">{시각화는 아직 많이 못해봄..}</span>"
   ]
  },
  {
   "cell_type": "code",
   "execution_count": null,
   "id": "40fafa50-136d-49b4-a81c-1008524e9113",
   "metadata": {
    "tags": []
   },
   "outputs": [],
   "source": [
    "# 데이터 간의 상관관계 파악하기!\n",
    "train.corr(numeric_only = True)"
   ]
  },
  {
   "cell_type": "markdown",
   "id": "58af04c6-d7ff-430d-bd77-f8faba55fc76",
   "metadata": {
    "jp-MarkdownHeadingCollapsed": true,
    "tags": []
   },
   "source": [
    "## <span style=\"color:red\">[4]</span> 카테고리 별 생존율 비교하기\n",
    "###### <span style=\"color:green\">{생존율 비교 우선 미실시..}</span>"
   ]
  },
  {
   "cell_type": "markdown",
   "id": "6c90b378-5741-48d3-84e8-450aa5749595",
   "metadata": {},
   "source": [
    "###### 이 작업은 미실시함. [출처 부분을 통해 따로 학습 요망]\n",
    "- Sex : 여성의 생존율이 남성에 비해 높다\n",
    "- Pclass : 1등급 객실의 승객의 생존율이 높고, 3등급 객실의 승객은 생존율이 많이 낮다. 특히 여성의 경우 1등급 객실의 여성승객은 생존율이 100%에 가깝다.\n",
    "- Age : 어린 아이의 경우 생존율이 가장 높고, 15~35세 승객은 많이 사망한 것을 알 수 있다.\n",
    "- Embarked : C지역에서 생존자들의 확율이 높다는 것을 알 수 있다.\n",
    "- Parch+SibSp : 1or2명의 가족을 가진 승객과 1or3명의 부모자식을 가진 승객의 생존율이 높다."
   ]
  },
  {
   "cell_type": "markdown",
   "id": "6d811ced-3d48-4765-b448-0cf302e7a70c",
   "metadata": {
    "jp-MarkdownHeadingCollapsed": true,
    "tags": []
   },
   "source": [
    "# <span style=\"color:Blue\">실습2</span> : 데이터 전처리 (결측값 채워주기 + 변수 변환)"
   ]
  },
  {
   "cell_type": "markdown",
   "id": "dc1c442a-781f-4cff-a3fe-178578a3b615",
   "metadata": {
    "tags": []
   },
   "source": [
    "## <span style=\"color:red\">[1]</span> 결측값 채우기\n",
    "###### \"각각의 상관관계를 구한 다음, 상관관계가 높은 변수를 찾고 그 변수를 기준으로 결측값을 넣는게 제일 좋을 듯\"\n",
    "###### \"너무 패키지나 라이브러리 사용말고 교수니 말씀처럼 직접 함수 제작해서 하는 것이 좋을 듯 함\""
   ]
  },
  {
   "cell_type": "markdown",
   "id": "d6d38195-316e-4824-8109-9fedc49cb6cc",
   "metadata": {
    "tags": []
   },
   "source": [
    "### <span style=\"color:green\">[1]</span> Embarked 결측값 채우기 [train]"
   ]
  },
  {
   "cell_type": "code",
   "execution_count": 5,
   "id": "599c73f0-cbbf-4793-bbc3-4d20f7c807ec",
   "metadata": {
    "tags": []
   },
   "outputs": [],
   "source": [
    "# 많은 승객들이 S에서 승선한것을 알 수 있기 때문에 Embarked에 Null인 데이터는 S에서 승선한것으로 채워넣는다\n",
    "\n",
    "train['Embarked'].fillna('S',inplace=True)"
   ]
  },
  {
   "cell_type": "markdown",
   "id": "2119a815-b9ef-44df-ac91-755553e558b6",
   "metadata": {
    "tags": []
   },
   "source": [
    "### <span style=\"color:green\">[2]</span> Name 분류 후 Age 결측값 채우기 [train, test]"
   ]
  },
  {
   "cell_type": "markdown",
   "id": "bbe42ad5-753c-4240-bd85-3e9dbad3134b",
   "metadata": {
    "tags": []
   },
   "source": [
    "#### <span style=\"color:yellow\">[2-1]</span> Name 분류 후 Age 결측값 채우기 [train]"
   ]
  },
  {
   "cell_type": "code",
   "execution_count": 6,
   "id": "f79a42ac-e13e-4a65-bff0-5c78f1851cc8",
   "metadata": {
    "tags": []
   },
   "outputs": [
    {
     "name": "stdout",
     "output_type": "stream",
     "text": [
      "0        Mr\n",
      "1       Mrs\n",
      "2      Miss\n",
      "3       Mrs\n",
      "4        Mr\n",
      "       ... \n",
      "886     Rev\n",
      "887    Miss\n",
      "888    Miss\n",
      "889      Mr\n",
      "890      Mr\n",
      "Name: Initial, Length: 891, dtype: object\n",
      "0                                Braund, Mr. Owen Harris\n",
      "1      Cumings, Mrs. John Bradley (Florence Briggs Th...\n",
      "2                                 Heikkinen, Miss. Laina\n",
      "3           Futrelle, Mrs. Jacques Heath (Lily May Peel)\n",
      "4                               Allen, Mr. William Henry\n",
      "                             ...                        \n",
      "886                                Montvila, Rev. Juozas\n",
      "887                         Graham, Miss. Margaret Edith\n",
      "888             Johnston, Miss. Catherine Helen \"Carrie\"\n",
      "889                                Behr, Mr. Karl Howell\n",
      "890                                  Dooley, Mr. Patrick\n",
      "Name: Name, Length: 891, dtype: object\n"
     ]
    },
    {
     "data": {
      "text/html": [
       "<style type=\"text/css\">\n",
       "#T_454e6_row0_col0, #T_454e6_row0_col1, #T_454e6_row0_col3, #T_454e6_row0_col4, #T_454e6_row0_col5, #T_454e6_row0_col7, #T_454e6_row0_col8, #T_454e6_row0_col12, #T_454e6_row0_col15, #T_454e6_row0_col16, #T_454e6_row1_col2, #T_454e6_row1_col6, #T_454e6_row1_col9, #T_454e6_row1_col10, #T_454e6_row1_col11, #T_454e6_row1_col13, #T_454e6_row1_col14 {\n",
       "  background-color: #ffff66;\n",
       "  color: #000000;\n",
       "}\n",
       "#T_454e6_row0_col2, #T_454e6_row0_col6, #T_454e6_row0_col9, #T_454e6_row0_col10, #T_454e6_row0_col11, #T_454e6_row0_col13, #T_454e6_row0_col14, #T_454e6_row1_col0, #T_454e6_row1_col1, #T_454e6_row1_col3, #T_454e6_row1_col4, #T_454e6_row1_col5, #T_454e6_row1_col7, #T_454e6_row1_col8, #T_454e6_row1_col12, #T_454e6_row1_col15, #T_454e6_row1_col16 {\n",
       "  background-color: #008066;\n",
       "  color: #f1f1f1;\n",
       "}\n",
       "</style>\n",
       "<table id=\"T_454e6\">\n",
       "  <thead>\n",
       "    <tr>\n",
       "      <th class=\"index_name level0\" >Initial</th>\n",
       "      <th id=\"T_454e6_level0_col0\" class=\"col_heading level0 col0\" >Capt</th>\n",
       "      <th id=\"T_454e6_level0_col1\" class=\"col_heading level0 col1\" >Col</th>\n",
       "      <th id=\"T_454e6_level0_col2\" class=\"col_heading level0 col2\" >Countess</th>\n",
       "      <th id=\"T_454e6_level0_col3\" class=\"col_heading level0 col3\" >Don</th>\n",
       "      <th id=\"T_454e6_level0_col4\" class=\"col_heading level0 col4\" >Dr</th>\n",
       "      <th id=\"T_454e6_level0_col5\" class=\"col_heading level0 col5\" >Jonkheer</th>\n",
       "      <th id=\"T_454e6_level0_col6\" class=\"col_heading level0 col6\" >Lady</th>\n",
       "      <th id=\"T_454e6_level0_col7\" class=\"col_heading level0 col7\" >Major</th>\n",
       "      <th id=\"T_454e6_level0_col8\" class=\"col_heading level0 col8\" >Master</th>\n",
       "      <th id=\"T_454e6_level0_col9\" class=\"col_heading level0 col9\" >Miss</th>\n",
       "      <th id=\"T_454e6_level0_col10\" class=\"col_heading level0 col10\" >Mlle</th>\n",
       "      <th id=\"T_454e6_level0_col11\" class=\"col_heading level0 col11\" >Mme</th>\n",
       "      <th id=\"T_454e6_level0_col12\" class=\"col_heading level0 col12\" >Mr</th>\n",
       "      <th id=\"T_454e6_level0_col13\" class=\"col_heading level0 col13\" >Mrs</th>\n",
       "      <th id=\"T_454e6_level0_col14\" class=\"col_heading level0 col14\" >Ms</th>\n",
       "      <th id=\"T_454e6_level0_col15\" class=\"col_heading level0 col15\" >Rev</th>\n",
       "      <th id=\"T_454e6_level0_col16\" class=\"col_heading level0 col16\" >Sir</th>\n",
       "    </tr>\n",
       "    <tr>\n",
       "      <th class=\"index_name level0\" >Sex</th>\n",
       "      <th class=\"blank col0\" >&nbsp;</th>\n",
       "      <th class=\"blank col1\" >&nbsp;</th>\n",
       "      <th class=\"blank col2\" >&nbsp;</th>\n",
       "      <th class=\"blank col3\" >&nbsp;</th>\n",
       "      <th class=\"blank col4\" >&nbsp;</th>\n",
       "      <th class=\"blank col5\" >&nbsp;</th>\n",
       "      <th class=\"blank col6\" >&nbsp;</th>\n",
       "      <th class=\"blank col7\" >&nbsp;</th>\n",
       "      <th class=\"blank col8\" >&nbsp;</th>\n",
       "      <th class=\"blank col9\" >&nbsp;</th>\n",
       "      <th class=\"blank col10\" >&nbsp;</th>\n",
       "      <th class=\"blank col11\" >&nbsp;</th>\n",
       "      <th class=\"blank col12\" >&nbsp;</th>\n",
       "      <th class=\"blank col13\" >&nbsp;</th>\n",
       "      <th class=\"blank col14\" >&nbsp;</th>\n",
       "      <th class=\"blank col15\" >&nbsp;</th>\n",
       "      <th class=\"blank col16\" >&nbsp;</th>\n",
       "    </tr>\n",
       "  </thead>\n",
       "  <tbody>\n",
       "    <tr>\n",
       "      <th id=\"T_454e6_level0_row0\" class=\"row_heading level0 row0\" >female</th>\n",
       "      <td id=\"T_454e6_row0_col0\" class=\"data row0 col0\" >0</td>\n",
       "      <td id=\"T_454e6_row0_col1\" class=\"data row0 col1\" >0</td>\n",
       "      <td id=\"T_454e6_row0_col2\" class=\"data row0 col2\" >1</td>\n",
       "      <td id=\"T_454e6_row0_col3\" class=\"data row0 col3\" >0</td>\n",
       "      <td id=\"T_454e6_row0_col4\" class=\"data row0 col4\" >1</td>\n",
       "      <td id=\"T_454e6_row0_col5\" class=\"data row0 col5\" >0</td>\n",
       "      <td id=\"T_454e6_row0_col6\" class=\"data row0 col6\" >1</td>\n",
       "      <td id=\"T_454e6_row0_col7\" class=\"data row0 col7\" >0</td>\n",
       "      <td id=\"T_454e6_row0_col8\" class=\"data row0 col8\" >0</td>\n",
       "      <td id=\"T_454e6_row0_col9\" class=\"data row0 col9\" >182</td>\n",
       "      <td id=\"T_454e6_row0_col10\" class=\"data row0 col10\" >2</td>\n",
       "      <td id=\"T_454e6_row0_col11\" class=\"data row0 col11\" >1</td>\n",
       "      <td id=\"T_454e6_row0_col12\" class=\"data row0 col12\" >0</td>\n",
       "      <td id=\"T_454e6_row0_col13\" class=\"data row0 col13\" >125</td>\n",
       "      <td id=\"T_454e6_row0_col14\" class=\"data row0 col14\" >1</td>\n",
       "      <td id=\"T_454e6_row0_col15\" class=\"data row0 col15\" >0</td>\n",
       "      <td id=\"T_454e6_row0_col16\" class=\"data row0 col16\" >0</td>\n",
       "    </tr>\n",
       "    <tr>\n",
       "      <th id=\"T_454e6_level0_row1\" class=\"row_heading level0 row1\" >male</th>\n",
       "      <td id=\"T_454e6_row1_col0\" class=\"data row1 col0\" >1</td>\n",
       "      <td id=\"T_454e6_row1_col1\" class=\"data row1 col1\" >2</td>\n",
       "      <td id=\"T_454e6_row1_col2\" class=\"data row1 col2\" >0</td>\n",
       "      <td id=\"T_454e6_row1_col3\" class=\"data row1 col3\" >1</td>\n",
       "      <td id=\"T_454e6_row1_col4\" class=\"data row1 col4\" >6</td>\n",
       "      <td id=\"T_454e6_row1_col5\" class=\"data row1 col5\" >1</td>\n",
       "      <td id=\"T_454e6_row1_col6\" class=\"data row1 col6\" >0</td>\n",
       "      <td id=\"T_454e6_row1_col7\" class=\"data row1 col7\" >2</td>\n",
       "      <td id=\"T_454e6_row1_col8\" class=\"data row1 col8\" >40</td>\n",
       "      <td id=\"T_454e6_row1_col9\" class=\"data row1 col9\" >0</td>\n",
       "      <td id=\"T_454e6_row1_col10\" class=\"data row1 col10\" >0</td>\n",
       "      <td id=\"T_454e6_row1_col11\" class=\"data row1 col11\" >0</td>\n",
       "      <td id=\"T_454e6_row1_col12\" class=\"data row1 col12\" >517</td>\n",
       "      <td id=\"T_454e6_row1_col13\" class=\"data row1 col13\" >0</td>\n",
       "      <td id=\"T_454e6_row1_col14\" class=\"data row1 col14\" >0</td>\n",
       "      <td id=\"T_454e6_row1_col15\" class=\"data row1 col15\" >6</td>\n",
       "      <td id=\"T_454e6_row1_col16\" class=\"data row1 col16\" >1</td>\n",
       "    </tr>\n",
       "  </tbody>\n",
       "</table>\n"
      ],
      "text/plain": [
       "<pandas.io.formats.style.Styler at 0x14f561250>"
      ]
     },
     "execution_count": 6,
     "metadata": {},
     "output_type": "execute_result"
    }
   ],
   "source": [
    "# Crosstab으로 전체 이름이 어떤 것들이 있는지 확인하고 몇명이 있는지 확인한다. [시각화 사용]\n",
    "# Dr, Don, MIIe 등등 오타로 보이는 이름들이 보인다. -> Mr, Mrs, Miss, Other로 변경한다.\n",
    "# 참고로 Master는 Mr로 불릴 정도의 나이가 안된 어린 나이 남자에 대한 호칭이다.\n",
    "# 정규표현식임 뒤쪽 저거 영어!!\n",
    "\n",
    "train['Initial']=0\n",
    "for i in train:\n",
    "    train['Initial']=train.Name.str.extract('([A-Za-z]+)\\.')\n",
    "print(train['Initial'])\n",
    "print(train['Name'])\n",
    "\n",
    "pd.crosstab(train.Initial,train.Sex).T.style.background_gradient(cmap='summer_r')"
   ]
  },
  {
   "cell_type": "code",
   "execution_count": 7,
   "id": "a69fdfa6-83cb-450c-b0fd-d6df8f91171c",
   "metadata": {
    "tags": []
   },
   "outputs": [
    {
     "data": {
      "text/html": [
       "<style type=\"text/css\">\n",
       "#T_8a700_row0_col0, #T_8a700_row0_col2, #T_8a700_row0_col4, #T_8a700_row1_col1, #T_8a700_row1_col3 {\n",
       "  background-color: #ffff66;\n",
       "  color: #000000;\n",
       "}\n",
       "#T_8a700_row0_col1, #T_8a700_row0_col3, #T_8a700_row1_col0, #T_8a700_row1_col2, #T_8a700_row1_col4 {\n",
       "  background-color: #008066;\n",
       "  color: #f1f1f1;\n",
       "}\n",
       "</style>\n",
       "<table id=\"T_8a700\">\n",
       "  <thead>\n",
       "    <tr>\n",
       "      <th class=\"index_name level0\" >Initial</th>\n",
       "      <th id=\"T_8a700_level0_col0\" class=\"col_heading level0 col0\" >Master</th>\n",
       "      <th id=\"T_8a700_level0_col1\" class=\"col_heading level0 col1\" >Miss</th>\n",
       "      <th id=\"T_8a700_level0_col2\" class=\"col_heading level0 col2\" >Mr</th>\n",
       "      <th id=\"T_8a700_level0_col3\" class=\"col_heading level0 col3\" >Mrs</th>\n",
       "      <th id=\"T_8a700_level0_col4\" class=\"col_heading level0 col4\" >Other</th>\n",
       "    </tr>\n",
       "    <tr>\n",
       "      <th class=\"index_name level0\" >Sex</th>\n",
       "      <th class=\"blank col0\" >&nbsp;</th>\n",
       "      <th class=\"blank col1\" >&nbsp;</th>\n",
       "      <th class=\"blank col2\" >&nbsp;</th>\n",
       "      <th class=\"blank col3\" >&nbsp;</th>\n",
       "      <th class=\"blank col4\" >&nbsp;</th>\n",
       "    </tr>\n",
       "  </thead>\n",
       "  <tbody>\n",
       "    <tr>\n",
       "      <th id=\"T_8a700_level0_row0\" class=\"row_heading level0 row0\" >female</th>\n",
       "      <td id=\"T_8a700_row0_col0\" class=\"data row0 col0\" >0</td>\n",
       "      <td id=\"T_8a700_row0_col1\" class=\"data row0 col1\" >186</td>\n",
       "      <td id=\"T_8a700_row0_col2\" class=\"data row0 col2\" >1</td>\n",
       "      <td id=\"T_8a700_row0_col3\" class=\"data row0 col3\" >127</td>\n",
       "      <td id=\"T_8a700_row0_col4\" class=\"data row0 col4\" >0</td>\n",
       "    </tr>\n",
       "    <tr>\n",
       "      <th id=\"T_8a700_level0_row1\" class=\"row_heading level0 row1\" >male</th>\n",
       "      <td id=\"T_8a700_row1_col0\" class=\"data row1 col0\" >40</td>\n",
       "      <td id=\"T_8a700_row1_col1\" class=\"data row1 col1\" >0</td>\n",
       "      <td id=\"T_8a700_row1_col2\" class=\"data row1 col2\" >528</td>\n",
       "      <td id=\"T_8a700_row1_col3\" class=\"data row1 col3\" >0</td>\n",
       "      <td id=\"T_8a700_row1_col4\" class=\"data row1 col4\" >9</td>\n",
       "    </tr>\n",
       "  </tbody>\n",
       "</table>\n"
      ],
      "text/plain": [
       "<pandas.io.formats.style.Styler at 0x14fef7ed0>"
      ]
     },
     "execution_count": 7,
     "metadata": {},
     "output_type": "execute_result"
    }
   ],
   "source": [
    "# 위에서 전체 이름 종류를 확인했으면 Master, Miss, Mr, Mrs, Other로 이름을 줄여서 분류한다.\n",
    "\n",
    "train['Initial'].replace(\n",
    "    ['Mlle','Mme','Ms','Dr','Major','Lady','Countess','Jonkheer','Col','Rev','Capt','Sir','Don'],\n",
    "    ['Miss','Miss','Miss','Mr','Mr','Mrs','Mrs','Other','Other','Other','Mr','Mr','Mr'],inplace=True)\n",
    "\n",
    "pd.crosstab(train.Initial,train.Sex).T.style.background_gradient(cmap='summer_r')"
   ]
  },
  {
   "cell_type": "code",
   "execution_count": 8,
   "id": "1b1538de-3405-40dd-8124-7c2b37954e57",
   "metadata": {
    "tags": []
   },
   "outputs": [
    {
     "data": {
      "text/plain": [
       "Initial\n",
       "Master     4.574167\n",
       "Miss      21.860000\n",
       "Mr        32.739609\n",
       "Mrs       35.981818\n",
       "Other     45.888889\n",
       "Name: Age, dtype: float64"
      ]
     },
     "execution_count": 8,
     "metadata": {},
     "output_type": "execute_result"
    }
   ],
   "source": [
    "# 해당 이름별로 나이의 평균을 구해본다. [반올림한다!]\n",
    "# 어린아이(Master)는 5살, Miss는 22세, Mr는 33세, Mrs는 36세, other은 46세로 평균을 구한다.\n",
    "\n",
    "train.groupby('Initial')['Age'].mean()"
   ]
  },
  {
   "cell_type": "code",
   "execution_count": 9,
   "id": "049d897e-3746-4812-a41c-68080207def2",
   "metadata": {
    "tags": []
   },
   "outputs": [
    {
     "data": {
      "text/plain": [
       "0"
      ]
     },
     "execution_count": 9,
     "metadata": {},
     "output_type": "execute_result"
    }
   ],
   "source": [
    "# 위 평균값을 이용하여 Age에 Null인 데이터에 평균값을 넣어준다.\n",
    "train.loc[(train.Age.isnull())&(train.Initial=='Mr'),'Age']=33\n",
    "train.loc[(train.Age.isnull())&(train.Initial=='Mrs'),'Age']=36\n",
    "train.loc[(train.Age.isnull())&(train.Initial=='Master'),'Age']=5\n",
    "train.loc[(train.Age.isnull())&(train.Initial=='Miss'),'Age']=22\n",
    "train.loc[(train.Age.isnull())&(train.Initial=='Other'),'Age']=46\n",
    "\n",
    "# Age데이터에 이제 Null이 있는지를 확인한다.\n",
    "train.Age.isnull().sum()"
   ]
  },
  {
   "cell_type": "code",
   "execution_count": 10,
   "id": "0a6e098a-705b-4326-8183-c1b3e7107581",
   "metadata": {
    "tags": []
   },
   "outputs": [
    {
     "data": {
      "image/png": "[encoded data removed]",
      "text/plain": [
       "<Figure size 2000x1000 with 2 Axes>"
      ]
     },
     "metadata": {},
     "output_type": "display_data"
    }
   ],
   "source": [
    "# 이제 나이별로 사망자 수와 생존자 수를 그래프로 확인한다.\n",
    "#사망자 중 30대가 제일 많았으며 생존자 중에서는 30대, 20대가 많은 것을 확인 할 수 있다.\n",
    "\n",
    "f,ax=plt.subplots(1,2,figsize=(20,10))\n",
    "train[train['Survived']==0].Age.plot.hist(ax=ax[0],bins=20,edgecolor='black',color='red')\n",
    "ax[0].set_title('Survived= 0')\n",
    "x1=list(range(0,85,5))\n",
    "ax[0].set_xticks(x1)\n",
    "\n",
    "train[train['Survived']==1].Age.plot.hist(ax=ax[1],color='green',bins=20,edgecolor='black')\n",
    "ax[1].set_title('Survived= 1')\n",
    "x2=list(range(0,85,5))\n",
    "ax[1].set_xticks(x2)\n",
    "plt.show()"
   ]
  },
  {
   "cell_type": "markdown",
   "id": "e465da9f-638f-4c57-b2cb-0192e97fa48d",
   "metadata": {
    "tags": []
   },
   "source": [
    "#### <span style=\"color:yellow\">[2-2]</span> Name 분류 후 Age 결측값 채우기 [test]"
   ]
  },
  {
   "cell_type": "code",
   "execution_count": 11,
   "id": "bde9f8b0-7a9e-4724-985c-5bbc15a41b08",
   "metadata": {
    "tags": []
   },
   "outputs": [
    {
     "name": "stdout",
     "output_type": "stream",
     "text": [
      "0          Mr\n",
      "1         Mrs\n",
      "2          Mr\n",
      "3          Mr\n",
      "4         Mrs\n",
      "        ...  \n",
      "413        Mr\n",
      "414      Dona\n",
      "415        Mr\n",
      "416        Mr\n",
      "417    Master\n",
      "Name: Initial, Length: 418, dtype: object\n",
      "0                                  Kelly, Mr. James\n",
      "1                  Wilkes, Mrs. James (Ellen Needs)\n",
      "2                         Myles, Mr. Thomas Francis\n",
      "3                                  Wirz, Mr. Albert\n",
      "4      Hirvonen, Mrs. Alexander (Helga E Lindqvist)\n",
      "                           ...                     \n",
      "413                              Spector, Mr. Woolf\n",
      "414                    Oliva y Ocana, Dona. Fermina\n",
      "415                    Saether, Mr. Simon Sivertsen\n",
      "416                             Ware, Mr. Frederick\n",
      "417                        Peter, Master. Michael J\n",
      "Name: Name, Length: 418, dtype: object\n"
     ]
    },
    {
     "data": {
      "text/html": [
       "<style type=\"text/css\">\n",
       "#T_02ce1_row0_col0, #T_02ce1_row0_col2, #T_02ce1_row0_col3, #T_02ce1_row0_col5, #T_02ce1_row0_col8, #T_02ce1_row1_col1, #T_02ce1_row1_col4, #T_02ce1_row1_col6, #T_02ce1_row1_col7 {\n",
       "  background-color: #ffff66;\n",
       "  color: #000000;\n",
       "}\n",
       "#T_02ce1_row0_col1, #T_02ce1_row0_col4, #T_02ce1_row0_col6, #T_02ce1_row0_col7, #T_02ce1_row1_col0, #T_02ce1_row1_col2, #T_02ce1_row1_col3, #T_02ce1_row1_col5, #T_02ce1_row1_col8 {\n",
       "  background-color: #008066;\n",
       "  color: #f1f1f1;\n",
       "}\n",
       "</style>\n",
       "<table id=\"T_02ce1\">\n",
       "  <thead>\n",
       "    <tr>\n",
       "      <th class=\"index_name level0\" >Initial</th>\n",
       "      <th id=\"T_02ce1_level0_col0\" class=\"col_heading level0 col0\" >Col</th>\n",
       "      <th id=\"T_02ce1_level0_col1\" class=\"col_heading level0 col1\" >Dona</th>\n",
       "      <th id=\"T_02ce1_level0_col2\" class=\"col_heading level0 col2\" >Dr</th>\n",
       "      <th id=\"T_02ce1_level0_col3\" class=\"col_heading level0 col3\" >Master</th>\n",
       "      <th id=\"T_02ce1_level0_col4\" class=\"col_heading level0 col4\" >Miss</th>\n",
       "      <th id=\"T_02ce1_level0_col5\" class=\"col_heading level0 col5\" >Mr</th>\n",
       "      <th id=\"T_02ce1_level0_col6\" class=\"col_heading level0 col6\" >Mrs</th>\n",
       "      <th id=\"T_02ce1_level0_col7\" class=\"col_heading level0 col7\" >Ms</th>\n",
       "      <th id=\"T_02ce1_level0_col8\" class=\"col_heading level0 col8\" >Rev</th>\n",
       "    </tr>\n",
       "    <tr>\n",
       "      <th class=\"index_name level0\" >Sex</th>\n",
       "      <th class=\"blank col0\" >&nbsp;</th>\n",
       "      <th class=\"blank col1\" >&nbsp;</th>\n",
       "      <th class=\"blank col2\" >&nbsp;</th>\n",
       "      <th class=\"blank col3\" >&nbsp;</th>\n",
       "      <th class=\"blank col4\" >&nbsp;</th>\n",
       "      <th class=\"blank col5\" >&nbsp;</th>\n",
       "      <th class=\"blank col6\" >&nbsp;</th>\n",
       "      <th class=\"blank col7\" >&nbsp;</th>\n",
       "      <th class=\"blank col8\" >&nbsp;</th>\n",
       "    </tr>\n",
       "  </thead>\n",
       "  <tbody>\n",
       "    <tr>\n",
       "      <th id=\"T_02ce1_level0_row0\" class=\"row_heading level0 row0\" >female</th>\n",
       "      <td id=\"T_02ce1_row0_col0\" class=\"data row0 col0\" >0</td>\n",
       "      <td id=\"T_02ce1_row0_col1\" class=\"data row0 col1\" >1</td>\n",
       "      <td id=\"T_02ce1_row0_col2\" class=\"data row0 col2\" >0</td>\n",
       "      <td id=\"T_02ce1_row0_col3\" class=\"data row0 col3\" >0</td>\n",
       "      <td id=\"T_02ce1_row0_col4\" class=\"data row0 col4\" >78</td>\n",
       "      <td id=\"T_02ce1_row0_col5\" class=\"data row0 col5\" >0</td>\n",
       "      <td id=\"T_02ce1_row0_col6\" class=\"data row0 col6\" >72</td>\n",
       "      <td id=\"T_02ce1_row0_col7\" class=\"data row0 col7\" >1</td>\n",
       "      <td id=\"T_02ce1_row0_col8\" class=\"data row0 col8\" >0</td>\n",
       "    </tr>\n",
       "    <tr>\n",
       "      <th id=\"T_02ce1_level0_row1\" class=\"row_heading level0 row1\" >male</th>\n",
       "      <td id=\"T_02ce1_row1_col0\" class=\"data row1 col0\" >2</td>\n",
       "      <td id=\"T_02ce1_row1_col1\" class=\"data row1 col1\" >0</td>\n",
       "      <td id=\"T_02ce1_row1_col2\" class=\"data row1 col2\" >1</td>\n",
       "      <td id=\"T_02ce1_row1_col3\" class=\"data row1 col3\" >21</td>\n",
       "      <td id=\"T_02ce1_row1_col4\" class=\"data row1 col4\" >0</td>\n",
       "      <td id=\"T_02ce1_row1_col5\" class=\"data row1 col5\" >240</td>\n",
       "      <td id=\"T_02ce1_row1_col6\" class=\"data row1 col6\" >0</td>\n",
       "      <td id=\"T_02ce1_row1_col7\" class=\"data row1 col7\" >0</td>\n",
       "      <td id=\"T_02ce1_row1_col8\" class=\"data row1 col8\" >2</td>\n",
       "    </tr>\n",
       "  </tbody>\n",
       "</table>\n"
      ],
      "text/plain": [
       "<pandas.io.formats.style.Styler at 0x168196490>"
      ]
     },
     "execution_count": 11,
     "metadata": {},
     "output_type": "execute_result"
    }
   ],
   "source": [
    "test['Initial']=0\n",
    "for i in test:\n",
    "    test['Initial']=test.Name.str.extract('([A-Za-z]+)\\.')\n",
    "print(test['Initial'])\n",
    "print(test['Name'])\n",
    "\n",
    "pd.crosstab(test.Initial,test.Sex).T.style.background_gradient(cmap='summer_r')"
   ]
  },
  {
   "cell_type": "code",
   "execution_count": 12,
   "id": "9091b625-d256-4328-b8c0-e4b53440dc66",
   "metadata": {
    "tags": []
   },
   "outputs": [
    {
     "data": {
      "text/html": [
       "<style type=\"text/css\">\n",
       "#T_f8c2f_row0_col0, #T_f8c2f_row0_col2, #T_f8c2f_row0_col4, #T_f8c2f_row1_col1, #T_f8c2f_row1_col3 {\n",
       "  background-color: #ffff66;\n",
       "  color: #000000;\n",
       "}\n",
       "#T_f8c2f_row0_col1, #T_f8c2f_row0_col3, #T_f8c2f_row1_col0, #T_f8c2f_row1_col2, #T_f8c2f_row1_col4 {\n",
       "  background-color: #008066;\n",
       "  color: #f1f1f1;\n",
       "}\n",
       "</style>\n",
       "<table id=\"T_f8c2f\">\n",
       "  <thead>\n",
       "    <tr>\n",
       "      <th class=\"index_name level0\" >Initial</th>\n",
       "      <th id=\"T_f8c2f_level0_col0\" class=\"col_heading level0 col0\" >Master</th>\n",
       "      <th id=\"T_f8c2f_level0_col1\" class=\"col_heading level0 col1\" >Miss</th>\n",
       "      <th id=\"T_f8c2f_level0_col2\" class=\"col_heading level0 col2\" >Mr</th>\n",
       "      <th id=\"T_f8c2f_level0_col3\" class=\"col_heading level0 col3\" >Mrs</th>\n",
       "      <th id=\"T_f8c2f_level0_col4\" class=\"col_heading level0 col4\" >Other</th>\n",
       "    </tr>\n",
       "    <tr>\n",
       "      <th class=\"index_name level0\" >Sex</th>\n",
       "      <th class=\"blank col0\" >&nbsp;</th>\n",
       "      <th class=\"blank col1\" >&nbsp;</th>\n",
       "      <th class=\"blank col2\" >&nbsp;</th>\n",
       "      <th class=\"blank col3\" >&nbsp;</th>\n",
       "      <th class=\"blank col4\" >&nbsp;</th>\n",
       "    </tr>\n",
       "  </thead>\n",
       "  <tbody>\n",
       "    <tr>\n",
       "      <th id=\"T_f8c2f_level0_row0\" class=\"row_heading level0 row0\" >female</th>\n",
       "      <td id=\"T_f8c2f_row0_col0\" class=\"data row0 col0\" >0</td>\n",
       "      <td id=\"T_f8c2f_row0_col1\" class=\"data row0 col1\" >79</td>\n",
       "      <td id=\"T_f8c2f_row0_col2\" class=\"data row0 col2\" >0</td>\n",
       "      <td id=\"T_f8c2f_row0_col3\" class=\"data row0 col3\" >73</td>\n",
       "      <td id=\"T_f8c2f_row0_col4\" class=\"data row0 col4\" >0</td>\n",
       "    </tr>\n",
       "    <tr>\n",
       "      <th id=\"T_f8c2f_level0_row1\" class=\"row_heading level0 row1\" >male</th>\n",
       "      <td id=\"T_f8c2f_row1_col0\" class=\"data row1 col0\" >21</td>\n",
       "      <td id=\"T_f8c2f_row1_col1\" class=\"data row1 col1\" >0</td>\n",
       "      <td id=\"T_f8c2f_row1_col2\" class=\"data row1 col2\" >241</td>\n",
       "      <td id=\"T_f8c2f_row1_col3\" class=\"data row1 col3\" >0</td>\n",
       "      <td id=\"T_f8c2f_row1_col4\" class=\"data row1 col4\" >4</td>\n",
       "    </tr>\n",
       "  </tbody>\n",
       "</table>\n"
      ],
      "text/plain": [
       "<pandas.io.formats.style.Styler at 0x168057510>"
      ]
     },
     "execution_count": 12,
     "metadata": {},
     "output_type": "execute_result"
    }
   ],
   "source": [
    "# 위에서 전체 이름 종류를 확인했으면 Master, Miss, Mr, Mrs, Other로 이름을 줄여서 분류한다.\n",
    "\n",
    "test['Initial'].replace(\n",
    "    ['Ms','Dr','Col','Rev','Dona'],\n",
    "    ['Miss','Mr','Other','Other','Mrs'],inplace=True)\n",
    "\n",
    "pd.crosstab(test.Initial,test.Sex).T.style.background_gradient(cmap='summer_r')"
   ]
  },
  {
   "cell_type": "code",
   "execution_count": 13,
   "id": "542ef0ed-f1ac-42fd-8473-bf8d0cd8a6fd",
   "metadata": {
    "tags": []
   },
   "outputs": [
    {
     "data": {
      "text/plain": [
       "Initial\n",
       "Master     7.406471\n",
       "Miss      21.774844\n",
       "Mr        32.114130\n",
       "Mrs       38.904762\n",
       "Other     42.750000\n",
       "Name: Age, dtype: float64"
      ]
     },
     "execution_count": 13,
     "metadata": {},
     "output_type": "execute_result"
    }
   ],
   "source": [
    "# 해당 이름별로 나이의 평균을 구해본다. [반올림한다!]\n",
    "# 어린아이(Master)는 7살, Miss는 22세, Mr는 32세, Mrs는 39세, other은 43세로 평균을 구한다.\n",
    "\n",
    "test.groupby('Initial')['Age'].mean()"
   ]
  },
  {
   "cell_type": "code",
   "execution_count": 14,
   "id": "f3d1d7ab-e727-4794-83a2-e5867fce7ef2",
   "metadata": {
    "tags": []
   },
   "outputs": [
    {
     "data": {
      "text/plain": [
       "0"
      ]
     },
     "execution_count": 14,
     "metadata": {},
     "output_type": "execute_result"
    }
   ],
   "source": [
    "# 위 평균값을 이용하여 Age에 Null인 데이터에 평균값을 넣어준다.\n",
    "test.loc[(test.Age.isnull())&(test.Initial=='Mr'),'Age']=32\n",
    "test.loc[(test.Age.isnull())&(test.Initial=='Mrs'),'Age']=39\n",
    "test.loc[(test.Age.isnull())&(test.Initial=='Master'),'Age']=7\n",
    "test.loc[(test.Age.isnull())&(test.Initial=='Miss'),'Age']=22\n",
    "test.loc[(test.Age.isnull())&(test.Initial=='Other'),'Age']=43\n",
    "\n",
    "# Age데이터에 이제 Null이 있는지를 확인한다.\n",
    "test.Age.isnull().sum()"
   ]
  },
  {
   "cell_type": "markdown",
   "id": "b9b3006b-b529-484c-973a-bd82eccac86b",
   "metadata": {
    "tags": []
   },
   "source": [
    "### <span style=\"color:green\">[3]</span> Fare의 결측값 채우기 [test]"
   ]
  },
  {
   "cell_type": "code",
   "execution_count": 15,
   "id": "c5b27213-3a1f-456b-8f9b-9734b28b2219",
   "metadata": {
    "tags": []
   },
   "outputs": [
    {
     "data": {
      "text/plain": [
       "count    891.000000\n",
       "mean      32.204208\n",
       "std       49.693429\n",
       "min        0.000000\n",
       "25%        7.910400\n",
       "50%       14.454200\n",
       "75%       31.000000\n",
       "max      512.329200\n",
       "Name: Fare, dtype: float64"
      ]
     },
     "execution_count": 15,
     "metadata": {},
     "output_type": "execute_result"
    }
   ],
   "source": [
    "# train 데이터의 Fare 통계값을 보고 중앙값으로 대체함\n",
    "train['Fare'].describe()"
   ]
  },
  {
   "cell_type": "code",
   "execution_count": 16,
   "id": "eaaac473-77ee-4967-b3df-e8370cf73c50",
   "metadata": {
    "tags": []
   },
   "outputs": [],
   "source": [
    "test['Fare'] = test['Fare'].fillna(test['Fare'].median())"
   ]
  },
  {
   "cell_type": "code",
   "execution_count": 17,
   "id": "e4f408b6-e495-4540-b822-d295d0f8e21e",
   "metadata": {
    "tags": []
   },
   "outputs": [
    {
     "data": {
      "text/plain": [
       "0"
      ]
     },
     "execution_count": 17,
     "metadata": {},
     "output_type": "execute_result"
    }
   ],
   "source": [
    "test['Fare'].isnull().sum()"
   ]
  },
  {
   "cell_type": "markdown",
   "id": "995036cb-27d0-4b56-aae5-087389ee1972",
   "metadata": {
    "jp-MarkdownHeadingCollapsed": true,
    "tags": []
   },
   "source": [
    "### <span style=\"color:green\">[4]</span> Cabin의 결측값 채우기 [train, test]\n",
    "###### 어차피 사용안할거라 결측값 제거 (변수 자체 제거) [상관관계를 구해도 Ticket과 Cabin은 영향력이 없어서 사용 안함]"
   ]
  },
  {
   "cell_type": "markdown",
   "id": "ed5428bf-113f-402b-b337-a129065e090b",
   "metadata": {
    "tags": []
   },
   "source": [
    "## <span style=\"color:red\">[2]</span> 변수 변환"
   ]
  },
  {
   "cell_type": "markdown",
   "id": "bec54458-37b4-4f1b-a291-0192591ac679",
   "metadata": {},
   "source": [
    "#### <span style=\"color:yellow\">[2-1]</span> PassengerID : 탑승객 고유 아이디 <span style=\"color:red\">[수정할거 없음]</span>"
   ]
  },
  {
   "cell_type": "markdown",
   "id": "a783c323-8b7d-44ee-b144-317c88bccb51",
   "metadata": {
    "tags": []
   },
   "source": [
    "#### <span style=\"color:yellow\">[2-2]</span> Survival : 탑승객 생존 유무 <span style=\"color:red\">[종속변수]</span>"
   ]
  },
  {
   "cell_type": "markdown",
   "id": "faab144c-3dc6-4e92-b2d9-219821b4eb49",
   "metadata": {
    "tags": []
   },
   "source": [
    "#### <span style=\"color:yellow\">[2-3]</span> Pclass : 등실의 등급 <span style=\"color:red\">[수정할거 없음]</span>"
   ]
  },
  {
   "cell_type": "markdown",
   "id": "68f0248a-6e4f-4df1-8a69-a2b4f402ac48",
   "metadata": {
    "tags": []
   },
   "source": [
    "#### <span style=\"color:yellow\">[2-4]</span> Name : 이름"
   ]
  },
  {
   "cell_type": "code",
   "execution_count": 18,
   "id": "3435ec1f-1234-4659-bcb5-d09424b7ce89",
   "metadata": {
    "tags": []
   },
   "outputs": [],
   "source": [
    "# 위에서 Name(이름) 변환을 한 번 해줬기 때문에 수치형으로만 바꾸면 됨!\n",
    "# 나이 낮은 수부터 높은 수로 하려했으나 Other 때문에 무작위 배정함\n",
    "name_mapping = {\"Mr\": 1, \"Miss\": 2, \"Mrs\": 3, \"Master\": 4, \"Other\": 5}\n",
    "train['Name'] = train['Name'].map(name_mapping)\n",
    "test['Name'] = test['Name'].map(name_mapping)"
   ]
  },
  {
   "cell_type": "markdown",
   "id": "9115de92-5042-42fe-8d39-cb8fcb4420a2",
   "metadata": {
    "tags": []
   },
   "source": [
    "#### <span style=\"color:yellow\">[2-5]</span> Sex : 성별"
   ]
  },
  {
   "cell_type": "code",
   "execution_count": 19,
   "id": "3d37ab4a-dfdf-40f0-8ec1-bf4e6be9dbf9",
   "metadata": {
    "tags": []
   },
   "outputs": [],
   "source": [
    "# Sex(성별)을 수치형으로 변환\n",
    "train['Sex'] = train['Sex'].map( {'female': 0, 'male': 1} ).astype(int)\n",
    "test['Sex'] = test['Sex'].map( {'female': 0, 'male': 1} ).astype(int)"
   ]
  },
  {
   "cell_type": "markdown",
   "id": "487051d9-1d82-4967-a2e2-33f9c84061ea",
   "metadata": {
    "jp-MarkdownHeadingCollapsed": true,
    "tags": []
   },
   "source": [
    "#### <span style=\"color:yellow\">[2-6]</span> Age : 나이\n",
    "##### 아직 못함 - 계속 오류 남"
   ]
  },
  {
   "cell_type": "code",
   "execution_count": null,
   "id": "239e427f-e5c8-45f1-99dd-614cbf6b8f06",
   "metadata": {
    "tags": []
   },
   "outputs": [],
   "source": [
    "train.describe()"
   ]
  },
  {
   "cell_type": "code",
   "execution_count": null,
   "id": "380440da-c0de-438e-a7c7-4ca44d134fa8",
   "metadata": {
    "tags": []
   },
   "outputs": [],
   "source": [
    "test.info()"
   ]
  },
  {
   "cell_type": "code",
   "execution_count": null,
   "id": "665b8aa5-c8f2-4ae8-b49c-675db2f01418",
   "metadata": {
    "tags": []
   },
   "outputs": [],
   "source": [
    "# Age(나이)를 수치형으로 변환 - 10대, 20대..60대로 나누는 방법\n",
    "# 왜 안되는지 모르겠음 - 개빡침 그만 할래\n",
    "train_test_data=[train,test]\n",
    "for train in train_test_data:\n",
    "    train.loc[ train['Age']<10, 'Age'] = 0,\n",
    "    train.loc[(train['Age']>=10)&(train['Age']<20), 'Age'] = 1,\n",
    "    train.loc[(train['Age']>=20)&(train['Age']<30), 'Age'] = 2,\n",
    "    train.loc[(train['Age']>=30)&(train['Age']<40), 'Age'] = 3,\n",
    "    train.loc[(train['Age']>=40)&(train['Age']<50), 'Age'] = 4,\n",
    "    train.loc[(train['Age']>=50)&(train['Age']<60), 'Age'] = 5,\n",
    "    train.loc[ train['Age']>=60, 'Age'] = 6"
   ]
  },
  {
   "cell_type": "markdown",
   "id": "206d0476-c4f5-4491-b237-c7f54d73ceb4",
   "metadata": {
    "tags": []
   },
   "source": [
    "#### <span style=\"color:yellow\">[2-7]</span> Sibsp : 함께 탐승한 형제자매, 아내, 남편의 수\n",
    "#### <span style=\"color:yellow\">[2-8]</span> Parch : 함께 탐승한 부모, 자식의 수"
   ]
  },
  {
   "cell_type": "code",
   "execution_count": 20,
   "id": "0da1d1a8-d155-45c2-893b-18365ae90ab0",
   "metadata": {
    "tags": []
   },
   "outputs": [],
   "source": [
    "# SibSp와 Parch로 새로운 변수 FamilySize 생성하기\n",
    "train['FamilySize'] = train['SibSp'] + train['Parch'] + 1\n",
    "test['FamilySize'] = test['SibSp'] + test['Parch'] + 1\n",
    "\n",
    "# 혼자 탑승했는지 여부를 알려줄 변수 alone 생성하기\n",
    "# loc는 locaion의 약어로 행과 열의 값을 가져옴\n",
    "# 즉, 현재 IsAlone이라는 변수가 생성되었는데, 다 0으로 초기화됨\n",
    "# 그 후에, 혼자 탑승한 사람은 그 칸(IsAlone)에 1을 두겠다는 뜻임\n",
    "train['IsAlone'] = 0\n",
    "train.loc[train['FamilySize'] == 1, 'IsAlone'] = 1\n",
    "test['IsAlone'] = 0\n",
    "test.loc[test['FamilySize'] == 1, 'IsAlone'] = 1"
   ]
  },
  {
   "cell_type": "markdown",
   "id": "e035cf8f-c9b4-4c20-bcda-7f89a336b815",
   "metadata": {
    "tags": []
   },
   "source": [
    "#### <span style=\"color:yellow\">[2-9]</span> Ticket :티켓 번호 <span style=\"color:red\">[사용안함]</span>"
   ]
  },
  {
   "cell_type": "markdown",
   "id": "1704bbc4-6147-42d2-8efe-4f965a108977",
   "metadata": {
    "tags": []
   },
   "source": [
    "#### <span style=\"color:yellow\">[2-10]</span> Fare : 티켓의 요금"
   ]
  },
  {
   "cell_type": "code",
   "execution_count": null,
   "id": "58f8f155-430b-4056-a2db-5bd9fe16bd4c",
   "metadata": {
    "tags": []
   },
   "outputs": [],
   "source": [
    "train.describe()"
   ]
  },
  {
   "cell_type": "code",
   "execution_count": null,
   "id": "96e666e2-2339-4c1a-9eab-429b267e4c0e",
   "metadata": {
    "tags": []
   },
   "outputs": [],
   "source": [
    "test.describe()"
   ]
  },
  {
   "cell_type": "code",
   "execution_count": 21,
   "id": "539de5fa-58c5-4425-95e3-52a1e1e32ca4",
   "metadata": {
    "tags": []
   },
   "outputs": [],
   "source": [
    "# Fare(요금)을 수치형으로 변환\n",
    "# 요약통계량[train.describe()]으로 확인 후 각각 분위수 값을 사용\n",
    "# 근데, test데이터는 왜 Fare변수의 요약통계량이 안나오는지 모르겠음!!??????????????????\n",
    "train.loc[train['Fare'] <= 7.91, 'Fare'] = 0\n",
    "train.loc[(train['Fare'] >= 14.454), 'Fare'] = 1\n",
    "train.loc[(train['Fare'] >= 31), 'Fare'] = 2\n",
    "train.loc[train['Fare'] > 31, 'Fare'] = 3\n",
    "train['Fare'] = train['Fare'].astype(int)"
   ]
  },
  {
   "cell_type": "markdown",
   "id": "1fd5334e-a97b-454e-ac89-3b339c438ce1",
   "metadata": {
    "tags": []
   },
   "source": [
    "#### <span style=\"color:yellow\">[2-11]</span> Cabin : 객실번호 <span style=\"color:red\">[사용안함]</span>"
   ]
  },
  {
   "cell_type": "markdown",
   "id": "fffc3e56-4a0b-44ab-ad7b-76f1db68a9b1",
   "metadata": {
    "tags": []
   },
   "source": [
    "#### <span style=\"color:yellow\">[2-12]</span> Embarked : 배에 탑승한 항구 이름"
   ]
  },
  {
   "cell_type": "code",
   "execution_count": 22,
   "id": "67e5c558-4d8b-4289-9255-7eebbba70948",
   "metadata": {},
   "outputs": [],
   "source": [
    "# Embarked(승선장소)를 수치형으로 변환\n",
    "# 원래 어떤 것을 0, 1, 2 로 둘지도 시각화해서 가장 영향력이 큰.. 그런식으로 해야하는데.. 우선 넘어감\n",
    "train['Embarked'] = train['Embarked'].map( {'S': 0, 'C': 1, 'Q': 2} ).astype(int)\n",
    "test['Embarked'] = test['Embarked'].map( {'S': 0, 'C': 1, 'Q': 2} ).astype(int)"
   ]
  },
  {
   "cell_type": "markdown",
   "id": "0b168ce5-f87c-461f-9562-7bc02283ed84",
   "metadata": {
    "jp-MarkdownHeadingCollapsed": true,
    "tags": []
   },
   "source": [
    "# <span style=\"color:Blue\">실습3</span> : 로지스틱 회귀"
   ]
  },
  {
   "cell_type": "code",
   "execution_count": 24,
   "id": "8788faa2-6365-4a35-b553-70457445a253",
   "metadata": {
    "tags": []
   },
   "outputs": [
    {
     "ename": "NameError",
     "evalue": "name 'X_train' is not defined",
     "output_type": "error",
     "traceback": [
      "\u001b[0;31m---------------------------------------------------------------------------\u001b[0m",
      "\u001b[0;31mNameError\u001b[0m                                 Traceback (most recent call last)",
      "Cell \u001b[0;32mIn[24], line 7\u001b[0m\n\u001b[1;32m      5\u001b[0m \u001b[38;5;66;03m# 기본적인 로지스틱 모델을 생성/예측합니다.\u001b[39;00m\n\u001b[1;32m      6\u001b[0m logreg \u001b[38;5;241m=\u001b[39m LogisticRegression()\n\u001b[0;32m----> 7\u001b[0m logreg\u001b[38;5;241m.\u001b[39mfit(\u001b[43mX_train\u001b[49m, Y_train)\n\u001b[1;32m      8\u001b[0m Y_pred \u001b[38;5;241m=\u001b[39m logreg\u001b[38;5;241m.\u001b[39mpredict(X_test)\n\u001b[1;32m      9\u001b[0m \u001b[38;5;66;03m# 이건 걍 복붙으로 자주 써야할 듯! [ 로지스틱 모델 사용하기 ]\u001b[39;00m\n",
      "\u001b[0;31mNameError\u001b[0m: name 'X_train' is not defined"
     ]
    }
   ],
   "source": [
    "# 로지스틱 회귀분석을 사용합니다.\n",
    "from sklearn.linear_model import LogisticRegression\n",
    "\n",
    "X_train\n",
    "Y_train\n",
    "\n",
    "# 기본적인 로지스틱 모델을 생성/예측합니다.\n",
    "logreg = LogisticRegression()\n",
    "logreg.fit(X_train, Y_train)\n",
    "Y_pred = logreg.predict(X_test)\n",
    "# 이건 걍 복붙으로 자주 써야할 듯! [ 로지스틱 모델 사용하기 ]"
   ]
  },
  {
   "cell_type": "code",
   "execution_count": null,
   "id": "f3057fdd-1d90-4e75-974c-1959a437e8c2",
   "metadata": {},
   "outputs": [],
   "source": [
    "# 예측값을 제출 양식에 맞게 저장합니다\n",
    "sample_submission['Survived'] = Y_pred\n",
    "sample_submission.to_csv('submission.csv', index = False)"
   ]
  },
  {
   "cell_type": "code",
   "execution_count": null,
   "id": "226d3f1f-56ea-474b-82cf-38061dd7239d",
   "metadata": {},
   "outputs": [],
   "source": [
    "# 서로 비교해서 True False 도출해내기 하면 좋을 듯!"
   ]
  },
  {
   "cell_type": "code",
   "execution_count": null,
   "id": "d016a351-7306-48bb-9928-0a2c7755a17c",
   "metadata": {},
   "outputs": [],
   "source": [
    "# 이렇게 하여 완성된 열 중에서 필요한 열만 독립 변수로 가져옵니다.\n",
    "data = train[['Pclass','Sex','SibSp','Parch','Embarked','Fare2','Survived']]"
   ]
  },
  {
   "cell_type": "markdown",
   "id": "bc4d4678-90a5-4bc4-a9f8-050432307214",
   "metadata": {
    "jp-MarkdownHeadingCollapsed": true,
    "tags": []
   },
   "source": [
    "# <span style=\"color:Blue\">후기</span> : *느낀점*, **배운점**"
   ]
  },
  {
   "cell_type": "markdown",
   "id": "5127c972-84c1-49ce-bd7e-75b520fb7566",
   "metadata": {
    "tags": []
   },
   "source": [
    "- EDA의 정확한 개념과 쓰임새를 이해했습니다. 저는 처음에 EDA는 데이터 분석의 첫 시작에만 사용이 되는 수단인줄 알았지만 개념 공부를 중심으로 진행하다 보니 <span style=\"color:red\">\"데이터 분석 전반에 걸쳐 자주 사용됨\"</span>을 깨닫게 되었습니다. 즉, 대회를 시작하고, 대회가 끝날 때까지 계속 이뤄져야 하는 과정이다!\n",
    "- EDA를 할 때 저만의 방법(스킬)을 만들어나가고자 첫 발걸음을 걷게 되었습니다. 왜?라는 질문으로 \"스스로 자주 사용하는 함수 등\" 제작하기 시작!\n",
    "- 우선, Jupyter lab 사용하는 것 익숙해지기!! [특히, Markdwon 메모 부분 많이 알게됨!]\n",
    "###### \n",
    "- 발표 후, 총 정리하고 데이터 전처리를 하면서 아직 많이 부족하다는 점을 느낌. 특히, 시각화, EDA 부분은 더 학습이 필요됨\n",
    "- 오류도 많이나고, 시각화는 잘 모르겠고, 뭘 먼저해야할지 모르겠고.. 현타옴 - 어디서부터 해야할지, 옳은 방법이 뭘지.. 다 모르겠네\n",
    "- \n",
    "- "
   ]
  }
 ],
 "metadata": {
  "kernelspec": {
   "display_name": "Python 3 (ipykernel)",
   "language": "python",
   "name": "python3"
  },
  "language_info": {
   "codemirror_mode": {
    "name": "ipython",
    "version": 3
   },
   "file_extension": ".py",
   "mimetype": "text/x-python",
   "name": "python",
   "nbconvert_exporter": "python",
   "pygments_lexer": "ipython3",
   "version": "3.11.2"
  }
 },
 "nbformat": 4,
 "nbformat_minor": 5
}
