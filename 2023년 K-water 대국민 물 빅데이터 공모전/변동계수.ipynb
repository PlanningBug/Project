{
 "cells": [
  {
   "cell_type": "markdown",
   "id": "6c11da5f-9e56-4c06-b166-cb836d6d11e3",
   "metadata": {
    "jp-MarkdownHeadingCollapsed": true,
    "tags": []
   },
   "source": [
    "# 다리 변동계수 파악"
   ]
  },
  {
   "cell_type": "code",
   "execution_count": 19,
   "id": "2e3ed6c1-c629-4476-b9d0-8205551990f4",
   "metadata": {
    "tags": []
   },
   "outputs": [],
   "source": [
    "import pandas as pd\n",
    "import numpy as np\n",
    "\n",
    "year=2020\n",
    "# 2020년으로 조사한다. (2019년은 계성교가 없고, 2021년은 데이터가 짤림)\n",
    "df1 = pd.read_csv(f'/Users/raekkkky/Desktop/DNA/summer 23/project3/서울특별시_하천 수위 관측 자료_20210731/계성교{year}.csv')\n",
    "df2 = pd.read_csv(f'/Users/raekkkky/Desktop/DNA/summer 23/project3/서울특별시_하천 수위 관측 자료_20210731/고척교{year}.csv')\n",
    "df3 = pd.read_csv(f'/Users/raekkkky/Desktop/DNA/summer 23/project3/서울특별시_하천 수위 관측 자료_20210731/광화교{year}.csv')\n",
    "df4 = pd.read_csv(f'/Users/raekkkky/Desktop/DNA/summer 23/project3/서울특별시_하천 수위 관측 자료_20210731/기아대교{year}.csv')\n",
    "df5 = pd.read_csv(f'/Users/raekkkky/Desktop/DNA/summer 23/project3/서울특별시_하천 수위 관측 자료_20210731/노원교{year}.csv')\n",
    "df6 = pd.read_csv(f'/Users/raekkkky/Desktop/DNA/summer 23/project3/서울특별시_하천 수위 관측 자료_20210731/도림교{year}.csv')\n",
    "df7 = pd.read_csv(f'/Users/raekkkky/Desktop/DNA/summer 23/project3/서울특별시_하천 수위 관측 자료_20210731/마장2교{year}.csv')\n",
    "df8 = pd.read_csv(f'/Users/raekkkky/Desktop/DNA/summer 23/project3/서울특별시_하천 수위 관측 자료_20210731/모래말다리{year}.csv')\n",
    "df9 = pd.read_csv(f'/Users/raekkkky/Desktop/DNA/summer 23/project3/서울특별시_하천 수위 관측 자료_20210731/봉은교{year}.csv')\n",
    "df10 = pd.read_csv(f'/Users/raekkkky/Desktop/DNA/summer 23/project3/서울특별시_하천 수위 관측 자료_20210731/성동교{year}.csv')\n",
    "df11 = pd.read_csv(f'/Users/raekkkky/Desktop/DNA/summer 23/project3/서울특별시_하천 수위 관측 자료_20210731/성산2교{year}.csv')\n",
    "df12 = pd.read_csv(f'/Users/raekkkky/Desktop/DNA/summer 23/project3/서울특별시_하천 수위 관측 자료_20210731/신대방역{year}.csv')\n",
    "df13 = pd.read_csv(f'/Users/raekkkky/Desktop/DNA/summer 23/project3/서울특별시_하천 수위 관측 자료_20210731/신의교{year}.csv')\n",
    "df14 = pd.read_csv(f'/Users/raekkkky/Desktop/DNA/summer 23/project3/서울특별시_하천 수위 관측 자료_20210731/월계1교{year}.csv')\n",
    "df15 = pd.read_csv(f'/Users/raekkkky/Desktop/DNA/summer 23/project3/서울특별시_하천 수위 관측 자료_20210731/장월교옆{year}.csv')\n",
    "df16 = pd.read_csv(f'/Users/raekkkky/Desktop/DNA/summer 23/project3/서울특별시_하천 수위 관측 자료_20210731/증산교{year}.csv')"
   ]
  },
  {
   "cell_type": "code",
   "execution_count": 20,
   "id": "5185663f-d600-44aa-94b4-bb687f897d25",
   "metadata": {
    "tags": []
   },
   "outputs": [
    {
     "data": {
      "text/html": [
       "<div>\n",
       "<style scoped>\n",
       "    .dataframe tbody tr th:only-of-type {\n",
       "        vertical-align: middle;\n",
       "    }\n",
       "\n",
       "    .dataframe tbody tr th {\n",
       "        vertical-align: top;\n",
       "    }\n",
       "\n",
       "    .dataframe thead th {\n",
       "        text-align: right;\n",
       "    }\n",
       "</style>\n",
       "<table border=\"1\" class=\"dataframe\">\n",
       "  <thead>\n",
       "    <tr style=\"text-align: right;\">\n",
       "      <th></th>\n",
       "      <th>관측소명</th>\n",
       "      <th>시간</th>\n",
       "      <th>수위</th>\n",
       "    </tr>\n",
       "  </thead>\n",
       "  <tbody>\n",
       "    <tr>\n",
       "      <th>0</th>\n",
       "      <td>계성교</td>\n",
       "      <td>2020-05-15 00:00</td>\n",
       "      <td>28.83</td>\n",
       "    </tr>\n",
       "    <tr>\n",
       "      <th>1</th>\n",
       "      <td>계성교</td>\n",
       "      <td>2020-05-15 00:10</td>\n",
       "      <td>28.83</td>\n",
       "    </tr>\n",
       "    <tr>\n",
       "      <th>2</th>\n",
       "      <td>계성교</td>\n",
       "      <td>2020-05-15 00:20</td>\n",
       "      <td>28.83</td>\n",
       "    </tr>\n",
       "    <tr>\n",
       "      <th>3</th>\n",
       "      <td>계성교</td>\n",
       "      <td>2020-05-15 00:30</td>\n",
       "      <td>28.83</td>\n",
       "    </tr>\n",
       "    <tr>\n",
       "      <th>4</th>\n",
       "      <td>계성교</td>\n",
       "      <td>2020-05-15 00:40</td>\n",
       "      <td>28.83</td>\n",
       "    </tr>\n",
       "  </tbody>\n",
       "</table>\n",
       "</div>"
      ],
      "text/plain": [
       "  관측소명                시간     수위\n",
       "0  계성교  2020-05-15 00:00  28.83\n",
       "1  계성교  2020-05-15 00:10  28.83\n",
       "2  계성교  2020-05-15 00:20  28.83\n",
       "3  계성교  2020-05-15 00:30  28.83\n",
       "4  계성교  2020-05-15 00:40  28.83"
      ]
     },
     "execution_count": 20,
     "metadata": {},
     "output_type": "execute_result"
    }
   ],
   "source": [
    "df1.head()"
   ]
  },
  {
   "cell_type": "code",
   "execution_count": 21,
   "id": "23108050-6368-4358-a693-520bebc76ab2",
   "metadata": {
    "tags": []
   },
   "outputs": [
    {
     "name": "stdout",
     "output_type": "stream",
     "text": [
      "(20661, 3)\n",
      "(20785, 3)\n",
      "(20786, 3)\n",
      "(20494, 3)\n",
      "(21185, 3)\n",
      "(20650, 3)\n",
      "(20007, 3)\n",
      "(21165, 3)\n",
      "(21378, 3)\n",
      "(20904, 3)\n",
      "(19701, 3)\n",
      "(21353, 3)\n",
      "(21070, 3)\n",
      "(20522, 3)\n",
      "(21070, 3)\n",
      "(21363, 3)\n"
     ]
    }
   ],
   "source": [
    "# 데이터프레임을 리스트에 저장한다고 가정합니다.\n",
    "dataframes = [df1, df2, df3, df4, df5, df6, df7, df8, df9, df10, df11, df12, df13, df14, df15, df16]\n",
    "\n",
    "for df in dataframes:\n",
    "    print(df.shape)"
   ]
  },
  {
   "cell_type": "code",
   "execution_count": 22,
   "id": "1f2b045c-4d8b-49cd-bbad-bf2b4a7eac6c",
   "metadata": {
    "tags": []
   },
   "outputs": [
    {
     "name": "stdout",
     "output_type": "stream",
     "text": [
      "df9의 변동계수: 0.2159\n",
      "df10의 변동계수: 0.1976\n",
      "df2의 변동계수: 0.0982\n",
      "df6의 변동계수: 0.0783\n",
      "df16의 변동계수: 0.0483\n",
      "df3의 변동계수: 0.0464\n",
      "df7의 변동계수: 0.0395\n",
      "df14의 변동계수: 0.0225\n",
      "df4의 변동계수: 0.0222\n",
      "df5의 변동계수: 0.0160\n",
      "df11의 변동계수: 0.0117\n",
      "df13의 변동계수: 0.0110\n",
      "df15의 변동계수: 0.0091\n",
      "df12의 변동계수: 0.0055\n",
      "df1의 변동계수: 0.0029\n",
      "df8의 변동계수: 0.0024\n"
     ]
    }
   ],
   "source": [
    "# 각 데이터프레임의 '수위' 컬럼의 평균과 표준편차를 저장할 리스트를 초기화합니다.\n",
    "statistics = []\n",
    "\n",
    "# 각 데이터프레임을 순회하며 '수위' 컬럼의 평균과 표준편차를 계산하고 리스트에 추가합니다.\n",
    "for idx, df in enumerate(dataframes, start=1):\n",
    "    column_mean = np.mean(df['수위'])\n",
    "    column_std = np.std(df['수위'])\n",
    "    std_deviation_ratio = column_std / column_mean\n",
    "    statistics.append((idx, column_mean, column_std, std_deviation_ratio))\n",
    "\n",
    "# 변동계수 값을 기준으로 내림차순 정렬합니다.\n",
    "sorted_statistics = sorted(statistics, key=lambda x: x[3], reverse=True)\n",
    "\n",
    "# 정렬된 결과를 출력합니다.\n",
    "for idx, (index, mean, std_deviation, ratio) in enumerate(sorted_statistics, start=1):\n",
    "    print(f\"df{index}의 변동계수: {ratio:.4f}\")"
   ]
  }
 ],
 "metadata": {
  "kernelspec": {
   "display_name": "Python 3 (ipykernel)",
   "language": "python",
   "name": "python3"
  },
  "language_info": {
   "codemirror_mode": {
    "name": "ipython",
    "version": 3
   },
   "file_extension": ".py",
   "mimetype": "text/x-python",
   "name": "python",
   "nbconvert_exporter": "python",
   "pygments_lexer": "ipython3",
   "version": "3.9.12"
  }
 },
 "nbformat": 4,
 "nbformat_minor": 5
}
