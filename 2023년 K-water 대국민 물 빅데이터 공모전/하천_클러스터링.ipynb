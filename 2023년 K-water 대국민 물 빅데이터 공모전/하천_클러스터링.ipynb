{
 "cells": [
  {
   "cell_type": "code",
   "execution_count": 1,
   "id": "31cc4dae",
   "metadata": {},
   "outputs": [],
   "source": [
    "import pandas as pd\n",
    "import numpy as np\n",
    "from sklearn.cluster import KMeans\n",
    "import matplotlib.pyplot as plt\n",
    "from sklearn.preprocessing import StandardScaler\n",
    "from sklearn.decomposition import PCA"
   ]
  },
  {
   "cell_type": "code",
   "execution_count": 2,
   "id": "a036b79e",
   "metadata": {},
   "outputs": [],
   "source": [
    "df = pd.read_csv(\"C:\\\\Users\\\\lg\\\\Desktop\\\\하천_클러스터링.csv\", encoding='cp949')"
   ]
  },
  {
   "cell_type": "code",
   "execution_count": 3,
   "id": "a2d1c4d1",
   "metadata": {},
   "outputs": [
    {
     "data": {
      "text/html": [
       "<div>\n",
       "<style scoped>\n",
       "    .dataframe tbody tr th:only-of-type {\n",
       "        vertical-align: middle;\n",
       "    }\n",
       "\n",
       "    .dataframe tbody tr th {\n",
       "        vertical-align: top;\n",
       "    }\n",
       "\n",
       "    .dataframe thead th {\n",
       "        text-align: right;\n",
       "    }\n",
       "</style>\n",
       "<table border=\"1\" class=\"dataframe\">\n",
       "  <thead>\n",
       "    <tr style=\"text-align: right;\">\n",
       "      <th></th>\n",
       "      <th>RIVERGAUGE_CODE</th>\n",
       "      <th>RIVERGAUGE_NAME</th>\n",
       "      <th>RIVER_NAME</th>\n",
       "      <th>GU_NAME</th>\n",
       "      <th>LEVEE_LEVEL</th>\n",
       "      <th>PLANFLOOD_LEVEL</th>\n",
       "      <th>ORDINARY_LEVEL</th>\n",
       "      <th>RIVERLEN</th>\n",
       "    </tr>\n",
       "  </thead>\n",
       "  <tbody>\n",
       "    <tr>\n",
       "      <th>0</th>\n",
       "      <td>301</td>\n",
       "      <td>모래말옆</td>\n",
       "      <td>방학천</td>\n",
       "      <td>도봉구</td>\n",
       "      <td>24.63</td>\n",
       "      <td>23.89</td>\n",
       "      <td>20.95</td>\n",
       "      <td>20.7</td>\n",
       "    </tr>\n",
       "    <tr>\n",
       "      <th>1</th>\n",
       "      <td>302</td>\n",
       "      <td>노원교</td>\n",
       "      <td>중랑천</td>\n",
       "      <td>도봉구</td>\n",
       "      <td>30.92</td>\n",
       "      <td>28.43</td>\n",
       "      <td>21.44</td>\n",
       "      <td>96.4</td>\n",
       "    </tr>\n",
       "    <tr>\n",
       "      <th>2</th>\n",
       "      <td>303</td>\n",
       "      <td>계성교</td>\n",
       "      <td>우이천</td>\n",
       "      <td>도봉구</td>\n",
       "      <td>33.19</td>\n",
       "      <td>32.81</td>\n",
       "      <td>29.39</td>\n",
       "      <td>32.6</td>\n",
       "    </tr>\n",
       "    <tr>\n",
       "      <th>3</th>\n",
       "      <td>401</td>\n",
       "      <td>장월교</td>\n",
       "      <td>우이천</td>\n",
       "      <td>노원구</td>\n",
       "      <td>20.20</td>\n",
       "      <td>20.12</td>\n",
       "      <td>15.20</td>\n",
       "      <td>45.2</td>\n",
       "    </tr>\n",
       "    <tr>\n",
       "      <th>4</th>\n",
       "      <td>402</td>\n",
       "      <td>신의교</td>\n",
       "      <td>중랑천</td>\n",
       "      <td>노원구</td>\n",
       "      <td>40.02</td>\n",
       "      <td>39.32</td>\n",
       "      <td>32.87</td>\n",
       "      <td>134.5</td>\n",
       "    </tr>\n",
       "  </tbody>\n",
       "</table>\n",
       "</div>"
      ],
      "text/plain": [
       "   RIVERGAUGE_CODE RIVERGAUGE_NAME       RIVER_NAME GU_NAME  LEVEE_LEVEL  \\\n",
       "0              301            모래말옆  방학천                 도봉구        24.63   \n",
       "1              302             노원교  중랑천                 도봉구        30.92   \n",
       "2              303             계성교  우이천                 도봉구        33.19   \n",
       "3              401             장월교  우이천                 노원구        20.20   \n",
       "4              402             신의교  중랑천                 노원구        40.02   \n",
       "\n",
       "   PLANFLOOD_LEVEL  ORDINARY_LEVEL  RIVERLEN  \n",
       "0            23.89           20.95      20.7  \n",
       "1            28.43           21.44      96.4  \n",
       "2            32.81           29.39      32.6  \n",
       "3            20.12           15.20      45.2  \n",
       "4            39.32           32.87     134.5  "
      ]
     },
     "execution_count": 3,
     "metadata": {},
     "output_type": "execute_result"
    }
   ],
   "source": [
    "df.head()"
   ]
  },
  {
   "cell_type": "code",
   "execution_count": null,
   "id": "42556530",
   "metadata": {},
   "outputs": [],
   "source": []
  },
  {
   "cell_type": "code",
   "execution_count": 4,
   "id": "cbb9c650",
   "metadata": {},
   "outputs": [],
   "source": [
    "features =df[['LEVEE_LEVEL','PLANFLOOD_LEVEL','ORDINARY_LEVEL','RIVERLEN']]"
   ]
  },
  {
   "cell_type": "code",
   "execution_count": 5,
   "id": "0821c0de",
   "metadata": {},
   "outputs": [
    {
     "name": "stderr",
     "output_type": "stream",
     "text": [
      "C:\\Users\\lg\\anaconda3\\lib\\site-packages\\IPython\\core\\pylabtools.py:151: UserWarning: Glyph 44400 (\\N{HANGUL SYLLABLE GUN}) missing from current font.\n",
      "  fig.canvas.print_figure(bytes_io, **kw)\n",
      "C:\\Users\\lg\\anaconda3\\lib\\site-packages\\IPython\\core\\pylabtools.py:151: UserWarning: Glyph 51665 (\\N{HANGUL SYLLABLE JIB}) missing from current font.\n",
      "  fig.canvas.print_figure(bytes_io, **kw)\n",
      "C:\\Users\\lg\\anaconda3\\lib\\site-packages\\IPython\\core\\pylabtools.py:151: UserWarning: Glyph 44060 (\\N{HANGUL SYLLABLE GAE}) missing from current font.\n",
      "  fig.canvas.print_figure(bytes_io, **kw)\n",
      "C:\\Users\\lg\\anaconda3\\lib\\site-packages\\IPython\\core\\pylabtools.py:151: UserWarning: Glyph 49688 (\\N{HANGUL SYLLABLE SU}) missing from current font.\n",
      "  fig.canvas.print_figure(bytes_io, **kw)\n",
      "C:\\Users\\lg\\anaconda3\\lib\\site-packages\\IPython\\core\\pylabtools.py:151: UserWarning: Glyph 44208 (\\N{HANGUL SYLLABLE GYEOL}) missing from current font.\n",
      "  fig.canvas.print_figure(bytes_io, **kw)\n",
      "C:\\Users\\lg\\anaconda3\\lib\\site-packages\\IPython\\core\\pylabtools.py:151: UserWarning: Glyph 51221 (\\N{HANGUL SYLLABLE JEONG}) missing from current font.\n",
      "  fig.canvas.print_figure(bytes_io, **kw)\n"
     ]
    },
    {
     "data": {
      "image/png": "[encoded data removed]",
      "text/plain": [
       "<Figure size 432x288 with 1 Axes>"
      ]
     },
     "metadata": {
      "needs_background": "light"
     },
     "output_type": "display_data"
    }
   ],
   "source": [
    "# 군집의 개수 범위를 지정합니다.\n",
    "min_clusters = 2\n",
    "max_clusters = 10\n",
    "\n",
    "# 각 군집 개수에 따른 KMeans 모델을 만들고 inertia 값을 저장합니다.\n",
    "inertia_values = []\n",
    "for num_clusters in range(min_clusters, max_clusters + 1):\n",
    "    kmeans = KMeans(n_clusters=num_clusters, random_state=42)\n",
    "    kmeans.fit(features)\n",
    "    inertia_values.append(kmeans.inertia_)\n",
    "\n",
    "# Elbow Method를 시각화하여 군집의 최적 개수를 결정합니다.\n",
    "plt.plot(range(min_clusters, max_clusters + 1), inertia_values, marker='o')\n",
    "plt.xlabel('군집 개수 (Clusters)')\n",
    "plt.ylabel('Inertia')\n",
    "plt.title('Elbow Method: 군집 개수 결정')\n",
    "plt.xticks(range(min_clusters, max_clusters + 1))\n",
    "plt.show()"
   ]
  },
  {
   "cell_type": "code",
   "execution_count": 11,
   "id": "33d2107c",
   "metadata": {},
   "outputs": [],
   "source": []
  },
  {
   "cell_type": "code",
   "execution_count": 3,
   "id": "493dc67a",
   "metadata": {},
   "outputs": [
    {
     "name": "stderr",
     "output_type": "stream",
     "text": [
      "C:\\Users\\lg\\anaconda3\\lib\\site-packages\\IPython\\core\\pylabtools.py:151: UserWarning: Glyph 44400 (\\N{HANGUL SYLLABLE GUN}) missing from current font.\n",
      "  fig.canvas.print_figure(bytes_io, **kw)\n",
      "C:\\Users\\lg\\anaconda3\\lib\\site-packages\\IPython\\core\\pylabtools.py:151: UserWarning: Glyph 51665 (\\N{HANGUL SYLLABLE JIB}) missing from current font.\n",
      "  fig.canvas.print_figure(bytes_io, **kw)\n",
      "C:\\Users\\lg\\anaconda3\\lib\\site-packages\\IPython\\core\\pylabtools.py:151: UserWarning: Glyph 54868 (\\N{HANGUL SYLLABLE HWA}) missing from current font.\n",
      "  fig.canvas.print_figure(bytes_io, **kw)\n",
      "C:\\Users\\lg\\anaconda3\\lib\\site-packages\\IPython\\core\\pylabtools.py:151: UserWarning: Glyph 44208 (\\N{HANGUL SYLLABLE GYEOL}) missing from current font.\n",
      "  fig.canvas.print_figure(bytes_io, **kw)\n",
      "C:\\Users\\lg\\anaconda3\\lib\\site-packages\\IPython\\core\\pylabtools.py:151: UserWarning: Glyph 44284 (\\N{HANGUL SYLLABLE GWA}) missing from current font.\n",
      "  fig.canvas.print_figure(bytes_io, **kw)\n"
     ]
    },
    {
     "data": {
      "image/png": "[encoded data removed]",
      "text/plain": [
       "<Figure size 432x288 with 1 Axes>"
      ]
     },
     "metadata": {
      "needs_background": "light"
     },
     "output_type": "display_data"
    }
   ],
   "source": [
    "# 데이터 불러오기\n",
    "df = pd.read_csv(\"C:\\\\Users\\\\lg\\\\Desktop\\\\하천_클_자료.csv\", encoding='cp949')\n",
    "\n",
    "# 필요한 열만 추출\n",
    "features = df[['LEVEE_LEVEL', 'PLANFLOOD_LEVEL', 'ORDINARY_LEVEL','RIVERLEN']]\n",
    "\n",
    "# 데이터 표준화\n",
    "scaler = StandardScaler()\n",
    "scaled_features = scaler.fit_transform(features)\n",
    "\n",
    "# PCA를 사용하여 차원 축소\n",
    "pca = PCA(n_components=2)  # 2개의 주성분을 사용\n",
    "pca_features = pca.fit_transform(scaled_features)\n",
    "\n",
    "# KMeans 모델 생성 및 군집 할당\n",
    "num_clusters = 3\n",
    "kmeans = KMeans(n_clusters=num_clusters, random_state=42)\n",
    "kmeans.fit(pca_features)\n",
    "cluster_labels = kmeans.labels_\n",
    "\n",
    "# 데이터프레임에 군집 결과 열 추가\n",
    "df['Cluster'] = cluster_labels\n",
    "\n",
    "# 각 군집별로 데이터프레임 생성\n",
    "df1 = df[df['Cluster'] == 0].copy()\n",
    "df2 = df[df['Cluster'] == 1].copy()\n",
    "df3 = df[df['Cluster'] == 2].copy()\n",
    "\n",
    "# 군집 결과 시각화\n",
    "plt.scatter(pca_features[:, 0], pca_features[:, 1], c=cluster_labels, cmap='viridis')\n",
    "plt.xlabel('Principal Component 1')\n",
    "plt.ylabel('Principal Component 2')\n",
    "plt.title('PCA + KMeans 군집화 결과')\n",
    "plt.show()"
   ]
  },
  {
   "cell_type": "code",
   "execution_count": 28,
   "id": "3bc44a83",
   "metadata": {},
   "outputs": [
    {
     "data": {
      "text/html": [
       "<div>\n",
       "<style scoped>\n",
       "    .dataframe tbody tr th:only-of-type {\n",
       "        vertical-align: middle;\n",
       "    }\n",
       "\n",
       "    .dataframe tbody tr th {\n",
       "        vertical-align: top;\n",
       "    }\n",
       "\n",
       "    .dataframe thead th {\n",
       "        text-align: right;\n",
       "    }\n",
       "</style>\n",
       "<table border=\"1\" class=\"dataframe\">\n",
       "  <thead>\n",
       "    <tr style=\"text-align: right;\">\n",
       "      <th></th>\n",
       "      <th>RIVERGAUGE_CODE</th>\n",
       "      <th>RIVERGAUGE_NAME</th>\n",
       "      <th>RIVER_NAME</th>\n",
       "      <th>GU_NAME</th>\n",
       "      <th>LEVEE_LEVEL</th>\n",
       "      <th>PLANFLOOD_LEVEL</th>\n",
       "      <th>ORDINARY_LEVEL</th>\n",
       "      <th>RIVERLEN</th>\n",
       "      <th>cluster_label</th>\n",
       "      <th>Cluster</th>\n",
       "    </tr>\n",
       "  </thead>\n",
       "  <tbody>\n",
       "    <tr>\n",
       "      <th>0</th>\n",
       "      <td>301</td>\n",
       "      <td>모래말옆</td>\n",
       "      <td>방학천</td>\n",
       "      <td>도봉구</td>\n",
       "      <td>24.63</td>\n",
       "      <td>23.89</td>\n",
       "      <td>20.95</td>\n",
       "      <td>20.7</td>\n",
       "      <td>0</td>\n",
       "      <td>0</td>\n",
       "    </tr>\n",
       "    <tr>\n",
       "      <th>3</th>\n",
       "      <td>401</td>\n",
       "      <td>장월교</td>\n",
       "      <td>우이천</td>\n",
       "      <td>노원구</td>\n",
       "      <td>20.20</td>\n",
       "      <td>20.12</td>\n",
       "      <td>15.20</td>\n",
       "      <td>45.2</td>\n",
       "      <td>0</td>\n",
       "      <td>0</td>\n",
       "    </tr>\n",
       "    <tr>\n",
       "      <th>6</th>\n",
       "      <td>801</td>\n",
       "      <td>용두교</td>\n",
       "      <td>정릉천</td>\n",
       "      <td>동대문구</td>\n",
       "      <td>17.12</td>\n",
       "      <td>17.05</td>\n",
       "      <td>11.92</td>\n",
       "      <td>61.6</td>\n",
       "      <td>0</td>\n",
       "      <td>0</td>\n",
       "    </tr>\n",
       "    <tr>\n",
       "      <th>9</th>\n",
       "      <td>1401</td>\n",
       "      <td>증산교</td>\n",
       "      <td>불광천</td>\n",
       "      <td>서대문구</td>\n",
       "      <td>14.28</td>\n",
       "      <td>13.54</td>\n",
       "      <td>6.70</td>\n",
       "      <td>68.6</td>\n",
       "      <td>0</td>\n",
       "      <td>0</td>\n",
       "    </tr>\n",
       "    <tr>\n",
       "      <th>10</th>\n",
       "      <td>1501</td>\n",
       "      <td>성산2교</td>\n",
       "      <td>홍제천</td>\n",
       "      <td>마포구</td>\n",
       "      <td>16.32</td>\n",
       "      <td>15.30</td>\n",
       "      <td>10.80</td>\n",
       "      <td>48.9</td>\n",
       "      <td>0</td>\n",
       "      <td>0</td>\n",
       "    </tr>\n",
       "    <tr>\n",
       "      <th>13</th>\n",
       "      <td>2003</td>\n",
       "      <td>광화교</td>\n",
       "      <td>목감천</td>\n",
       "      <td>구로구</td>\n",
       "      <td>14.30</td>\n",
       "      <td>12.76</td>\n",
       "      <td>7.59</td>\n",
       "      <td>56.3</td>\n",
       "      <td>0</td>\n",
       "      <td>0</td>\n",
       "    </tr>\n",
       "    <tr>\n",
       "      <th>15</th>\n",
       "      <td>2301</td>\n",
       "      <td>신대방역</td>\n",
       "      <td>도림천</td>\n",
       "      <td>관악구</td>\n",
       "      <td>17.55</td>\n",
       "      <td>16.36</td>\n",
       "      <td>11.95</td>\n",
       "      <td>80.0</td>\n",
       "      <td>0</td>\n",
       "      <td>0</td>\n",
       "    </tr>\n",
       "  </tbody>\n",
       "</table>\n",
       "</div>"
      ],
      "text/plain": [
       "    RIVERGAUGE_CODE RIVERGAUGE_NAME       RIVER_NAME GU_NAME  LEVEE_LEVEL  \\\n",
       "0               301            모래말옆  방학천                 도봉구        24.63   \n",
       "3               401             장월교  우이천                 노원구        20.20   \n",
       "6               801             용두교  정릉천                동대문구        17.12   \n",
       "9              1401             증산교  불광천                서대문구        14.28   \n",
       "10             1501            성산2교  홍제천                 마포구        16.32   \n",
       "13             2003             광화교  목감천                 구로구        14.30   \n",
       "15             2301            신대방역  도림천                 관악구        17.55   \n",
       "\n",
       "    PLANFLOOD_LEVEL  ORDINARY_LEVEL  RIVERLEN  cluster_label  Cluster  \n",
       "0             23.89           20.95      20.7              0        0  \n",
       "3             20.12           15.20      45.2              0        0  \n",
       "6             17.05           11.92      61.6              0        0  \n",
       "9             13.54            6.70      68.6              0        0  \n",
       "10            15.30           10.80      48.9              0        0  \n",
       "13            12.76            7.59      56.3              0        0  \n",
       "15            16.36           11.95      80.0              0        0  "
      ]
     },
     "execution_count": 28,
     "metadata": {},
     "output_type": "execute_result"
    }
   ],
   "source": [
    "df1 #노란색"
   ]
  },
  {
   "cell_type": "code",
   "execution_count": 29,
   "id": "06a029ed",
   "metadata": {},
   "outputs": [
    {
     "data": {
      "text/html": [
       "<div>\n",
       "<style scoped>\n",
       "    .dataframe tbody tr th:only-of-type {\n",
       "        vertical-align: middle;\n",
       "    }\n",
       "\n",
       "    .dataframe tbody tr th {\n",
       "        vertical-align: top;\n",
       "    }\n",
       "\n",
       "    .dataframe thead th {\n",
       "        text-align: right;\n",
       "    }\n",
       "</style>\n",
       "<table border=\"1\" class=\"dataframe\">\n",
       "  <thead>\n",
       "    <tr style=\"text-align: right;\">\n",
       "      <th></th>\n",
       "      <th>RIVERGAUGE_CODE</th>\n",
       "      <th>RIVERGAUGE_NAME</th>\n",
       "      <th>RIVER_NAME</th>\n",
       "      <th>GU_NAME</th>\n",
       "      <th>LEVEE_LEVEL</th>\n",
       "      <th>PLANFLOOD_LEVEL</th>\n",
       "      <th>ORDINARY_LEVEL</th>\n",
       "      <th>RIVERLEN</th>\n",
       "      <th>cluster_label</th>\n",
       "      <th>Cluster</th>\n",
       "    </tr>\n",
       "  </thead>\n",
       "  <tbody>\n",
       "    <tr>\n",
       "      <th>1</th>\n",
       "      <td>302</td>\n",
       "      <td>노원교</td>\n",
       "      <td>중랑천</td>\n",
       "      <td>도봉구</td>\n",
       "      <td>30.92</td>\n",
       "      <td>28.43</td>\n",
       "      <td>21.44</td>\n",
       "      <td>96.4</td>\n",
       "      <td>1</td>\n",
       "      <td>1</td>\n",
       "    </tr>\n",
       "    <tr>\n",
       "      <th>2</th>\n",
       "      <td>303</td>\n",
       "      <td>계성교</td>\n",
       "      <td>우이천</td>\n",
       "      <td>도봉구</td>\n",
       "      <td>33.19</td>\n",
       "      <td>32.81</td>\n",
       "      <td>29.39</td>\n",
       "      <td>32.6</td>\n",
       "      <td>0</td>\n",
       "      <td>1</td>\n",
       "    </tr>\n",
       "    <tr>\n",
       "      <th>4</th>\n",
       "      <td>402</td>\n",
       "      <td>신의교</td>\n",
       "      <td>중랑천</td>\n",
       "      <td>노원구</td>\n",
       "      <td>40.02</td>\n",
       "      <td>39.32</td>\n",
       "      <td>32.87</td>\n",
       "      <td>134.5</td>\n",
       "      <td>1</td>\n",
       "      <td>1</td>\n",
       "    </tr>\n",
       "    <tr>\n",
       "      <th>16</th>\n",
       "      <td>2303</td>\n",
       "      <td>양산교</td>\n",
       "      <td>도림천</td>\n",
       "      <td>관악구</td>\n",
       "      <td>35.40</td>\n",
       "      <td>34.52</td>\n",
       "      <td>31.05</td>\n",
       "      <td>32.4</td>\n",
       "      <td>0</td>\n",
       "      <td>1</td>\n",
       "    </tr>\n",
       "  </tbody>\n",
       "</table>\n",
       "</div>"
      ],
      "text/plain": [
       "    RIVERGAUGE_CODE RIVERGAUGE_NAME       RIVER_NAME GU_NAME  LEVEE_LEVEL  \\\n",
       "1               302             노원교  중랑천                 도봉구        30.92   \n",
       "2               303             계성교  우이천                 도봉구        33.19   \n",
       "4               402             신의교  중랑천                 노원구        40.02   \n",
       "16             2303             양산교  도림천                 관악구        35.40   \n",
       "\n",
       "    PLANFLOOD_LEVEL  ORDINARY_LEVEL  RIVERLEN  cluster_label  Cluster  \n",
       "1             28.43           21.44      96.4              1        1  \n",
       "2             32.81           29.39      32.6              0        1  \n",
       "4             39.32           32.87     134.5              1        1  \n",
       "16            34.52           31.05      32.4              0        1  "
      ]
     },
     "execution_count": 29,
     "metadata": {},
     "output_type": "execute_result"
    }
   ],
   "source": [
    "df2 #초록색"
   ]
  },
  {
   "cell_type": "code",
   "execution_count": 30,
   "id": "6e787b16",
   "metadata": {},
   "outputs": [
    {
     "data": {
      "text/html": [
       "<div>\n",
       "<style scoped>\n",
       "    .dataframe tbody tr th:only-of-type {\n",
       "        vertical-align: middle;\n",
       "    }\n",
       "\n",
       "    .dataframe tbody tr th {\n",
       "        vertical-align: top;\n",
       "    }\n",
       "\n",
       "    .dataframe thead th {\n",
       "        text-align: right;\n",
       "    }\n",
       "</style>\n",
       "<table border=\"1\" class=\"dataframe\">\n",
       "  <thead>\n",
       "    <tr style=\"text-align: right;\">\n",
       "      <th></th>\n",
       "      <th>RIVERGAUGE_CODE</th>\n",
       "      <th>RIVERGAUGE_NAME</th>\n",
       "      <th>RIVER_NAME</th>\n",
       "      <th>GU_NAME</th>\n",
       "      <th>LEVEE_LEVEL</th>\n",
       "      <th>PLANFLOOD_LEVEL</th>\n",
       "      <th>ORDINARY_LEVEL</th>\n",
       "      <th>RIVERLEN</th>\n",
       "      <th>cluster_label</th>\n",
       "      <th>Cluster</th>\n",
       "    </tr>\n",
       "  </thead>\n",
       "  <tbody>\n",
       "    <tr>\n",
       "      <th>5</th>\n",
       "      <td>403</td>\n",
       "      <td>월계1교</td>\n",
       "      <td>중랑천</td>\n",
       "      <td>노원구</td>\n",
       "      <td>21.16</td>\n",
       "      <td>19.95</td>\n",
       "      <td>13.17</td>\n",
       "      <td>134.4</td>\n",
       "      <td>1</td>\n",
       "      <td>2</td>\n",
       "    </tr>\n",
       "    <tr>\n",
       "      <th>7</th>\n",
       "      <td>901</td>\n",
       "      <td>성동교</td>\n",
       "      <td>중랑천</td>\n",
       "      <td>성동구</td>\n",
       "      <td>19.49</td>\n",
       "      <td>17.05</td>\n",
       "      <td>4.00</td>\n",
       "      <td>235.9</td>\n",
       "      <td>2</td>\n",
       "      <td>2</td>\n",
       "    </tr>\n",
       "    <tr>\n",
       "      <th>8</th>\n",
       "      <td>902</td>\n",
       "      <td>마장2교</td>\n",
       "      <td>청계천</td>\n",
       "      <td>성동구</td>\n",
       "      <td>18.34</td>\n",
       "      <td>17.05</td>\n",
       "      <td>7.21</td>\n",
       "      <td>156.1</td>\n",
       "      <td>1</td>\n",
       "      <td>2</td>\n",
       "    </tr>\n",
       "    <tr>\n",
       "      <th>11</th>\n",
       "      <td>2001</td>\n",
       "      <td>고척교</td>\n",
       "      <td>안양천</td>\n",
       "      <td>구로구</td>\n",
       "      <td>15.44</td>\n",
       "      <td>14.07</td>\n",
       "      <td>3.09</td>\n",
       "      <td>224.4</td>\n",
       "      <td>2</td>\n",
       "      <td>2</td>\n",
       "    </tr>\n",
       "    <tr>\n",
       "      <th>12</th>\n",
       "      <td>2002</td>\n",
       "      <td>도림교</td>\n",
       "      <td>도림천</td>\n",
       "      <td>구로구</td>\n",
       "      <td>14.36</td>\n",
       "      <td>13.95</td>\n",
       "      <td>4.64</td>\n",
       "      <td>130.6</td>\n",
       "      <td>1</td>\n",
       "      <td>2</td>\n",
       "    </tr>\n",
       "    <tr>\n",
       "      <th>14</th>\n",
       "      <td>2201</td>\n",
       "      <td>기아대교</td>\n",
       "      <td>안양천</td>\n",
       "      <td>금천구</td>\n",
       "      <td>18.35</td>\n",
       "      <td>16.18</td>\n",
       "      <td>9.70</td>\n",
       "      <td>214.4</td>\n",
       "      <td>2</td>\n",
       "      <td>2</td>\n",
       "    </tr>\n",
       "    <tr>\n",
       "      <th>17</th>\n",
       "      <td>2502</td>\n",
       "      <td>봉은교</td>\n",
       "      <td>탄천</td>\n",
       "      <td>송파구</td>\n",
       "      <td>21.43</td>\n",
       "      <td>16.00</td>\n",
       "      <td>5.20</td>\n",
       "      <td>135.7</td>\n",
       "      <td>1</td>\n",
       "      <td>2</td>\n",
       "    </tr>\n",
       "  </tbody>\n",
       "</table>\n",
       "</div>"
      ],
      "text/plain": [
       "    RIVERGAUGE_CODE RIVERGAUGE_NAME        RIVER_NAME GU_NAME  LEVEE_LEVEL  \\\n",
       "5               403            월계1교   중랑천                 노원구        21.16   \n",
       "7               901             성동교   중랑천                 성동구        19.49   \n",
       "8               902            마장2교   청계천                 성동구        18.34   \n",
       "11             2001             고척교   안양천                 구로구        15.44   \n",
       "12             2002             도림교   도림천                 구로구        14.36   \n",
       "14             2201            기아대교   안양천                 금천구        18.35   \n",
       "17             2502             봉은교  탄천                   송파구        21.43   \n",
       "\n",
       "    PLANFLOOD_LEVEL  ORDINARY_LEVEL  RIVERLEN  cluster_label  Cluster  \n",
       "5             19.95           13.17     134.4              1        2  \n",
       "7             17.05            4.00     235.9              2        2  \n",
       "8             17.05            7.21     156.1              1        2  \n",
       "11            14.07            3.09     224.4              2        2  \n",
       "12            13.95            4.64     130.6              1        2  \n",
       "14            16.18            9.70     214.4              2        2  \n",
       "17            16.00            5.20     135.7              1        2  "
      ]
     },
     "execution_count": 30,
     "metadata": {},
     "output_type": "execute_result"
    }
   ],
   "source": [
    "df3 # 제방고, 계획홍수위, 하상고, 폭\n",
    "# 남색"
   ]
  },
  {
   "cell_type": "code",
   "execution_count": null,
   "id": "9e72c72a",
   "metadata": {},
   "outputs": [],
   "source": [
    "# 제방고"
   ]
  },
  {
   "cell_type": "code",
   "execution_count": 37,
   "id": "6fb0bc0b",
   "metadata": {},
   "outputs": [
    {
     "data": {
      "text/plain": [
       "17.771428571428572"
      ]
     },
     "execution_count": 37,
     "metadata": {},
     "output_type": "execute_result"
    }
   ],
   "source": [
    "df1['LEVEE_LEVEL'].mean()"
   ]
  },
  {
   "cell_type": "code",
   "execution_count": 38,
   "id": "84d0787b",
   "metadata": {},
   "outputs": [
    {
     "data": {
      "text/plain": [
       "34.8825"
      ]
     },
     "execution_count": 38,
     "metadata": {},
     "output_type": "execute_result"
    }
   ],
   "source": [
    "df2['LEVEE_LEVEL'].mean()  # 특히 큼"
   ]
  },
  {
   "cell_type": "code",
   "execution_count": 39,
   "id": "661352e2",
   "metadata": {},
   "outputs": [
    {
     "data": {
      "text/plain": [
       "18.367142857142856"
      ]
     },
     "execution_count": 39,
     "metadata": {},
     "output_type": "execute_result"
    }
   ],
   "source": [
    "df3['LEVEE_LEVEL'].mean()"
   ]
  },
  {
   "cell_type": "code",
   "execution_count": null,
   "id": "113b6a51",
   "metadata": {},
   "outputs": [],
   "source": [
    "# 계획홍수위"
   ]
  },
  {
   "cell_type": "code",
   "execution_count": 40,
   "id": "9731f006",
   "metadata": {},
   "outputs": [
    {
     "data": {
      "text/plain": [
       "17.002857142857142"
      ]
     },
     "execution_count": 40,
     "metadata": {},
     "output_type": "execute_result"
    }
   ],
   "source": [
    "df1['PLANFLOOD_LEVEL'].mean()"
   ]
  },
  {
   "cell_type": "code",
   "execution_count": 41,
   "id": "ebbcacfb",
   "metadata": {},
   "outputs": [
    {
     "data": {
      "text/plain": [
       "33.77"
      ]
     },
     "execution_count": 41,
     "metadata": {},
     "output_type": "execute_result"
    }
   ],
   "source": [
    "df2['PLANFLOOD_LEVEL'].mean()  #특히 큼"
   ]
  },
  {
   "cell_type": "code",
   "execution_count": 42,
   "id": "ca45dd95",
   "metadata": {},
   "outputs": [
    {
     "data": {
      "text/plain": [
       "16.321428571428573"
      ]
     },
     "execution_count": 42,
     "metadata": {},
     "output_type": "execute_result"
    }
   ],
   "source": [
    "df3['PLANFLOOD_LEVEL'].mean()"
   ]
  },
  {
   "cell_type": "code",
   "execution_count": null,
   "id": "692a61b1",
   "metadata": {},
   "outputs": [],
   "source": [
    "# 하상고"
   ]
  },
  {
   "cell_type": "code",
   "execution_count": 43,
   "id": "7365ef0d",
   "metadata": {},
   "outputs": [
    {
     "data": {
      "text/plain": [
       "12.158571428571431"
      ]
     },
     "execution_count": 43,
     "metadata": {},
     "output_type": "execute_result"
    }
   ],
   "source": [
    "df1['ORDINARY_LEVEL'].mean()"
   ]
  },
  {
   "cell_type": "code",
   "execution_count": 44,
   "id": "1ce666a4",
   "metadata": {},
   "outputs": [
    {
     "data": {
      "text/plain": [
       "28.687499999999996"
      ]
     },
     "execution_count": 44,
     "metadata": {},
     "output_type": "execute_result"
    }
   ],
   "source": [
    "df2['ORDINARY_LEVEL'].mean() #특히 큼"
   ]
  },
  {
   "cell_type": "code",
   "execution_count": 45,
   "id": "1c38f7a6",
   "metadata": {},
   "outputs": [
    {
     "data": {
      "text/plain": [
       "6.715714285714286"
      ]
     },
     "execution_count": 45,
     "metadata": {},
     "output_type": "execute_result"
    }
   ],
   "source": [
    "df3['ORDINARY_LEVEL'].mean()"
   ]
  },
  {
   "cell_type": "code",
   "execution_count": null,
   "id": "ea13396e",
   "metadata": {},
   "outputs": [],
   "source": [
    "# 폭"
   ]
  },
  {
   "cell_type": "code",
   "execution_count": 46,
   "id": "02eb5415",
   "metadata": {},
   "outputs": [
    {
     "data": {
      "text/plain": [
       "54.471428571428575"
      ]
     },
     "execution_count": 46,
     "metadata": {},
     "output_type": "execute_result"
    }
   ],
   "source": [
    "df1['RIVERLEN'].mean()"
   ]
  },
  {
   "cell_type": "code",
   "execution_count": 47,
   "id": "21bb68a3",
   "metadata": {},
   "outputs": [
    {
     "data": {
      "text/plain": [
       "73.975"
      ]
     },
     "execution_count": 47,
     "metadata": {},
     "output_type": "execute_result"
    }
   ],
   "source": [
    "df2['RIVERLEN'].mean()"
   ]
  },
  {
   "cell_type": "code",
   "execution_count": 48,
   "id": "0f58a8db",
   "metadata": {},
   "outputs": [
    {
     "data": {
      "text/plain": [
       "175.92857142857142"
      ]
     },
     "execution_count": 48,
     "metadata": {},
     "output_type": "execute_result"
    }
   ],
   "source": [
    "df3['RIVERLEN'].mean() # 특히 큼"
   ]
  },
  {
   "cell_type": "code",
   "execution_count": null,
   "id": "be3f2859",
   "metadata": {},
   "outputs": [],
   "source": []
  }
 ],
 "metadata": {
  "kernelspec": {
   "display_name": "Python 3 (ipykernel)",
   "language": "python",
   "name": "python3"
  },
  "language_info": {
   "codemirror_mode": {
    "name": "ipython",
    "version": 3
   },
   "file_extension": ".py",
   "mimetype": "text/x-python",
   "name": "python",
   "nbconvert_exporter": "python",
   "pygments_lexer": "ipython3",
   "version": "3.9.12"
  }
 },
 "nbformat": 4,
 "nbformat_minor": 5
}
