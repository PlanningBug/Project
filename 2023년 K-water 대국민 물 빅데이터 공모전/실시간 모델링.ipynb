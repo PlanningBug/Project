{
 "cells": [
  {
   "cell_type": "code",
   "execution_count": 2,
   "id": "44ef9481",
   "metadata": {},
   "outputs": [],
   "source": [
    "import pandas as pd\n",
    "from pmdarima import auto_arima\n",
    "import matplotlib.pyplot as plt"
   ]
  },
  {
   "cell_type": "markdown",
   "id": "975073c8",
   "metadata": {},
   "source": [
    "# 특정 교량에서의 한 단위시간 뒤 하천수위 예측"
   ]
  },
  {
   "cell_type": "code",
   "execution_count": 8,
   "id": "7cc4dc5c",
   "metadata": {},
   "outputs": [
    {
     "name": "stdout",
     "output_type": "stream",
     "text": [
      "예측하고자 하는 교량 이름을 입력하시오 : 고척교\n",
      "예측된 하천 수위: 15.983999999956184\n",
      "전방 고척교는 범람 위험이 있으므로 주의하시길 바랍니다!\n"
     ]
    }
   ],
   "source": [
    "# 시계열 데이터 불러오기\n",
    "bridge = input(\"예측하고자 하는 교량 이름을 입력하시오 : \")\n",
    "# df = pd.read_csv(f\"실시간 {bridge}.csv\")\n",
    "df = pd.read_csv(\"C:\\\\Users\\\\lg\\\\Desktop\\\\고척교.csv\", encoding='cp949')\n",
    "\n",
    "# 피처 선택\n",
    "if bridge == '고척교':\n",
    "    df.drop('습도(%)', axis=1, inplace=True)\n",
    "elif bridge == '도림교':\n",
    "    df.drop('습도(%)', axis=1, inplace=True)\n",
    "elif bridge == '성동교':\n",
    "    df.drop(['풍속(m/s)', '강수량(mm)','습도(%)'], axis=1, inplace=True)\n",
    "elif bridge == '기아대교':\n",
    "    df.drop('습도(%)', axis=1, inplace=True)\n",
    "elif bridge == '봉은교':\n",
    "    df.drop(['풍속(m/s)','습도(%)'], axis=1, inplace=True)\n",
    "\n",
    "\n",
    "# 시간 열을 datetime 형식으로 변환\n",
    "df['시간'] = pd.to_datetime(df['시간'])\n",
    "\n",
    "# 시간 열을 인덱스로 설정\n",
    "df.set_index('시간', inplace=True)\n",
    "\n",
    "# 하천 수위 데이터 선택\n",
    "river_level_data = df['수위']\n",
    "\n",
    "# auto_arima 함수로 최적 ARIMA 모델 차수 선택\n",
    "model = auto_arima(river_level_data, seasonal=False, suppress_warnings=True)\n",
    "\n",
    "# 최적 ARIMA 모델 예측\n",
    "forecast_steps = 1\n",
    "forecast, conf_int = model.predict(n_periods=forecast_steps, return_conf_int=True)\n",
    "\n",
    "# 각 교량의 제방고 높이 정보\n",
    "banggo = {\n",
    "    \"월계1교\":21.16,\n",
    "    \"성동교\":19.49,\n",
    "    \"마장2교\":18.34,\n",
    "    \"고척교\":15.44,\n",
    "    \"도림교\":14.36,\n",
    "    \"기아대교\":18.35,\n",
    "    \"봉은교\":21.43\n",
    "}\n",
    "\n",
    "# 한 단위시간 뒤의 하천 수위 예측 결과 출력\n",
    "print(\"예측된 하천 수위:\", forecast[0])\n",
    "\n",
    "# 범람 위험 시 문자 출력\n",
    "if banggo[f\"{bridge}\"] < forecast[0]:\n",
    "    print(f\"전방 {bridge}는 범람 위험이 있으므로 주의하시길 바랍니다!\")\n"
   ]
  },
  {
   "cell_type": "markdown",
   "id": "0dffd7e1",
   "metadata": {},
   "source": [
    "# 예측 결과 시각화"
   ]
  },
  {
   "cell_type": "code",
   "execution_count": null,
   "id": "39fadeaf",
   "metadata": {},
   "outputs": [],
   "source": [
    "plt.plot(river_level_data, label='Original Data')\n",
    "plt.plot(pd.date_range(start=river_level_data.index[-1], periods=forecast_steps+1, closed='right'), forecast, label='Forecast', color='red')\n",
    "plt.fill_between(pd.date_range(start=river_level_data.index[-1], periods=forecast_steps+1, closed='right'), conf_int[:, 0], conf_int[:, 1], color='pink', alpha=0.3)\n",
    "plt.legend()\n",
    "plt.show()"
   ]
  },
  {
   "cell_type": "code",
   "execution_count": null,
   "id": "6b6c6eef",
   "metadata": {},
   "outputs": [],
   "source": []
  },
  {
   "cell_type": "code",
   "execution_count": null,
   "id": "431497d1",
   "metadata": {},
   "outputs": [],
   "source": []
  }
 ],
 "metadata": {
  "kernelspec": {
   "display_name": "Python 3 (ipykernel)",
   "language": "python",
   "name": "python3"
  },
  "language_info": {
   "codemirror_mode": {
    "name": "ipython",
    "version": 3
   },
   "file_extension": ".py",
   "mimetype": "text/x-python",
   "name": "python",
   "nbconvert_exporter": "python",
   "pygments_lexer": "ipython3",
   "version": "3.9.12"
  }
 },
 "nbformat": 4,
 "nbformat_minor": 5
}
